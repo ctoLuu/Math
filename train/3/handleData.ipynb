{
 "cells": [
  {
   "cell_type": "code",
   "execution_count": 1,
   "id": "initial_id",
   "metadata": {
    "collapsed": true,
    "ExecuteTime": {
     "end_time": "2024-07-15T14:06:47.154453600Z",
     "start_time": "2024-07-15T14:06:45.397194500Z"
    }
   },
   "outputs": [],
   "source": [
    "import pandas as pd\n",
    "import numpy as np"
   ]
  },
  {
   "cell_type": "code",
   "execution_count": 3,
   "outputs": [
    {
     "data": {
      "text/plain": "        id  y  city  mar_status  age  xaccount_age  cred_limit  \\\n0        2  0    52           0   32            10       20000   \n1       13  0    84           2   28            17        2500   \n2       17  0    35           0   34            17       28500   \n3       22  0    40           0   28            17        5000   \n4       27  0    21           2   26            19       60000   \n...    ... ..   ...         ...  ...           ...         ...   \n9995  9984  1    89           0   34            22        2000   \n9996  9989  1   104           0   53             7        2250   \n9997  9990  1    16           0   34            15       50000   \n9998  9993  1    72           0   38             7       30000   \n9999  9996  1   125           0   32            12       30000   \n\n      this_bill_rate  this_bill_mp  last_mp_days  ...  consume_num_session6  \\\n0           0.162971       1213.15            15  ...                    17   \n1           0.000000       2165.66          9999  ...                    15   \n2           0.792989      21336.18          9999  ...                    96   \n3           1.001600       4668.30          9999  ...                    37   \n4           0.990300      56447.10          9999  ...                    70   \n...              ...           ...           ...  ...                   ...   \n9995        0.449645        628.90            91  ...                     3   \n9996        0.993333       2123.25          9999  ...                    10   \n9997        0.910246      43095.68            48  ...                   574   \n9998        0.785324       1919.84            60  ...                    12   \n9999        0.331781       3471.77            30  ...                     8   \n\n      consume_num_session3  consume_num_session  consume_amt_session12  \\\n0                       12                    2               70173.00   \n1                        3                    0               19515.38   \n2                       47                   15              206655.62   \n3                       15                    5              227540.00   \n4                       57                   40              549835.93   \n...                    ...                  ...                    ...   \n9995                     1                    1                3690.00   \n9996                     3                    1                6686.40   \n9997                   316                   99              115663.39   \n9998                     6                    2               49016.98   \n9999                     3                    1               87834.88   \n\n      consume_amt_session6  consume_amt_session3  consume_amt_session  \\\n0                 29294.00              16773.00              1249.00   \n1                  3475.60               3130.88                 0.00   \n2                114284.77              78978.75             22600.20   \n3                 87870.00              14900.00              5000.00   \n4                290014.88             176430.00             59418.00   \n...                    ...                   ...                  ...   \n9995               1590.00                590.00               590.00   \n9996               6686.40               3335.00              2235.00   \n9997             106099.52              60494.63             46174.58   \n9998              41516.98              35927.68             20800.88   \n9999              29252.62              17718.00              6392.00   \n\n      month_avg_use_year  month_avg_use_month6  month_avg_use_month3  \n0               0.350865              0.244117              0.279550  \n1               0.661538              0.231707              0.417451  \n2               0.731524              0.703291              0.923728  \n3               0.948083              0.976333              0.993333  \n4               0.872755              0.878833              0.980167  \n...                  ...                   ...                   ...  \n9995            0.153750              0.132500              0.098333  \n9996            0.495289              0.495289              0.494074  \n9997            0.192772              0.353665              0.403298  \n9998            0.272317              0.259481              0.399196  \n9999            0.266166              0.162515              0.196867  \n\n[10000 rows x 33 columns]",
      "text/html": "<div>\n<style scoped>\n    .dataframe tbody tr th:only-of-type {\n        vertical-align: middle;\n    }\n\n    .dataframe tbody tr th {\n        vertical-align: top;\n    }\n\n    .dataframe thead th {\n        text-align: right;\n    }\n</style>\n<table border=\"1\" class=\"dataframe\">\n  <thead>\n    <tr style=\"text-align: right;\">\n      <th></th>\n      <th>id</th>\n      <th>y</th>\n      <th>city</th>\n      <th>mar_status</th>\n      <th>age</th>\n      <th>xaccount_age</th>\n      <th>cred_limit</th>\n      <th>this_bill_rate</th>\n      <th>this_bill_mp</th>\n      <th>last_mp_days</th>\n      <th>...</th>\n      <th>consume_num_session6</th>\n      <th>consume_num_session3</th>\n      <th>consume_num_session</th>\n      <th>consume_amt_session12</th>\n      <th>consume_amt_session6</th>\n      <th>consume_amt_session3</th>\n      <th>consume_amt_session</th>\n      <th>month_avg_use_year</th>\n      <th>month_avg_use_month6</th>\n      <th>month_avg_use_month3</th>\n    </tr>\n  </thead>\n  <tbody>\n    <tr>\n      <th>0</th>\n      <td>2</td>\n      <td>0</td>\n      <td>52</td>\n      <td>0</td>\n      <td>32</td>\n      <td>10</td>\n      <td>20000</td>\n      <td>0.162971</td>\n      <td>1213.15</td>\n      <td>15</td>\n      <td>...</td>\n      <td>17</td>\n      <td>12</td>\n      <td>2</td>\n      <td>70173.00</td>\n      <td>29294.00</td>\n      <td>16773.00</td>\n      <td>1249.00</td>\n      <td>0.350865</td>\n      <td>0.244117</td>\n      <td>0.279550</td>\n    </tr>\n    <tr>\n      <th>1</th>\n      <td>13</td>\n      <td>0</td>\n      <td>84</td>\n      <td>2</td>\n      <td>28</td>\n      <td>17</td>\n      <td>2500</td>\n      <td>0.000000</td>\n      <td>2165.66</td>\n      <td>9999</td>\n      <td>...</td>\n      <td>15</td>\n      <td>3</td>\n      <td>0</td>\n      <td>19515.38</td>\n      <td>3475.60</td>\n      <td>3130.88</td>\n      <td>0.00</td>\n      <td>0.661538</td>\n      <td>0.231707</td>\n      <td>0.417451</td>\n    </tr>\n    <tr>\n      <th>2</th>\n      <td>17</td>\n      <td>0</td>\n      <td>35</td>\n      <td>0</td>\n      <td>34</td>\n      <td>17</td>\n      <td>28500</td>\n      <td>0.792989</td>\n      <td>21336.18</td>\n      <td>9999</td>\n      <td>...</td>\n      <td>96</td>\n      <td>47</td>\n      <td>15</td>\n      <td>206655.62</td>\n      <td>114284.77</td>\n      <td>78978.75</td>\n      <td>22600.20</td>\n      <td>0.731524</td>\n      <td>0.703291</td>\n      <td>0.923728</td>\n    </tr>\n    <tr>\n      <th>3</th>\n      <td>22</td>\n      <td>0</td>\n      <td>40</td>\n      <td>0</td>\n      <td>28</td>\n      <td>17</td>\n      <td>5000</td>\n      <td>1.001600</td>\n      <td>4668.30</td>\n      <td>9999</td>\n      <td>...</td>\n      <td>37</td>\n      <td>15</td>\n      <td>5</td>\n      <td>227540.00</td>\n      <td>87870.00</td>\n      <td>14900.00</td>\n      <td>5000.00</td>\n      <td>0.948083</td>\n      <td>0.976333</td>\n      <td>0.993333</td>\n    </tr>\n    <tr>\n      <th>4</th>\n      <td>27</td>\n      <td>0</td>\n      <td>21</td>\n      <td>2</td>\n      <td>26</td>\n      <td>19</td>\n      <td>60000</td>\n      <td>0.990300</td>\n      <td>56447.10</td>\n      <td>9999</td>\n      <td>...</td>\n      <td>70</td>\n      <td>57</td>\n      <td>40</td>\n      <td>549835.93</td>\n      <td>290014.88</td>\n      <td>176430.00</td>\n      <td>59418.00</td>\n      <td>0.872755</td>\n      <td>0.878833</td>\n      <td>0.980167</td>\n    </tr>\n    <tr>\n      <th>...</th>\n      <td>...</td>\n      <td>...</td>\n      <td>...</td>\n      <td>...</td>\n      <td>...</td>\n      <td>...</td>\n      <td>...</td>\n      <td>...</td>\n      <td>...</td>\n      <td>...</td>\n      <td>...</td>\n      <td>...</td>\n      <td>...</td>\n      <td>...</td>\n      <td>...</td>\n      <td>...</td>\n      <td>...</td>\n      <td>...</td>\n      <td>...</td>\n      <td>...</td>\n      <td>...</td>\n    </tr>\n    <tr>\n      <th>9995</th>\n      <td>9984</td>\n      <td>1</td>\n      <td>89</td>\n      <td>0</td>\n      <td>34</td>\n      <td>22</td>\n      <td>2000</td>\n      <td>0.449645</td>\n      <td>628.90</td>\n      <td>91</td>\n      <td>...</td>\n      <td>3</td>\n      <td>1</td>\n      <td>1</td>\n      <td>3690.00</td>\n      <td>1590.00</td>\n      <td>590.00</td>\n      <td>590.00</td>\n      <td>0.153750</td>\n      <td>0.132500</td>\n      <td>0.098333</td>\n    </tr>\n    <tr>\n      <th>9996</th>\n      <td>9989</td>\n      <td>1</td>\n      <td>104</td>\n      <td>0</td>\n      <td>53</td>\n      <td>7</td>\n      <td>2250</td>\n      <td>0.993333</td>\n      <td>2123.25</td>\n      <td>9999</td>\n      <td>...</td>\n      <td>10</td>\n      <td>3</td>\n      <td>1</td>\n      <td>6686.40</td>\n      <td>6686.40</td>\n      <td>3335.00</td>\n      <td>2235.00</td>\n      <td>0.495289</td>\n      <td>0.495289</td>\n      <td>0.494074</td>\n    </tr>\n    <tr>\n      <th>9997</th>\n      <td>9990</td>\n      <td>1</td>\n      <td>16</td>\n      <td>0</td>\n      <td>34</td>\n      <td>15</td>\n      <td>50000</td>\n      <td>0.910246</td>\n      <td>43095.68</td>\n      <td>48</td>\n      <td>...</td>\n      <td>574</td>\n      <td>316</td>\n      <td>99</td>\n      <td>115663.39</td>\n      <td>106099.52</td>\n      <td>60494.63</td>\n      <td>46174.58</td>\n      <td>0.192772</td>\n      <td>0.353665</td>\n      <td>0.403298</td>\n    </tr>\n    <tr>\n      <th>9998</th>\n      <td>9993</td>\n      <td>1</td>\n      <td>72</td>\n      <td>0</td>\n      <td>38</td>\n      <td>7</td>\n      <td>30000</td>\n      <td>0.785324</td>\n      <td>1919.84</td>\n      <td>60</td>\n      <td>...</td>\n      <td>12</td>\n      <td>6</td>\n      <td>2</td>\n      <td>49016.98</td>\n      <td>41516.98</td>\n      <td>35927.68</td>\n      <td>20800.88</td>\n      <td>0.272317</td>\n      <td>0.259481</td>\n      <td>0.399196</td>\n    </tr>\n    <tr>\n      <th>9999</th>\n      <td>9996</td>\n      <td>1</td>\n      <td>125</td>\n      <td>0</td>\n      <td>32</td>\n      <td>12</td>\n      <td>30000</td>\n      <td>0.331781</td>\n      <td>3471.77</td>\n      <td>30</td>\n      <td>...</td>\n      <td>8</td>\n      <td>3</td>\n      <td>1</td>\n      <td>87834.88</td>\n      <td>29252.62</td>\n      <td>17718.00</td>\n      <td>6392.00</td>\n      <td>0.266166</td>\n      <td>0.162515</td>\n      <td>0.196867</td>\n    </tr>\n  </tbody>\n</table>\n<p>10000 rows × 33 columns</p>\n</div>"
     },
     "execution_count": 3,
     "metadata": {},
     "output_type": "execute_result"
    }
   ],
   "source": [
    "df = pd.read_excel('./数据.xlsx')\n",
    "df"
   ],
   "metadata": {
    "collapsed": false,
    "ExecuteTime": {
     "end_time": "2024-07-15T14:10:41.812312800Z",
     "start_time": "2024-07-15T14:10:40.082193600Z"
    }
   },
   "id": "74b88f453bc2fa6a"
  },
  {
   "cell_type": "code",
   "execution_count": 5,
   "outputs": [
    {
     "data": {
      "text/plain": "                      字段名称                  字段解释\n0                       id                    id\n1                        y         是否办理交易分期（1=是）\n2          city                               城市\n3               mar_status  婚姻状况（0=未知，1=已婚，2=未婚）\n4   age                                       年龄\n5    xaccount_age                       账龄（开户月数）\n6               cred_limit                    额度\n7   this_bill_rate                     本期账单额度使用率\n8   this_bill_mp                     本期账单可账单分期金额\n9   last_mp_days                   上一次账单分期距离现在天数\n10  six_bill_num                     近六个月的所有账单次数\n11  six_bill_avg_amt                  近六个月平均账单金额\n12  six_cycle_mp_num                  近六个月账单分期次数\n13  six_cycle_mp_avg_amt              近六个月账单分期金额\n14  six_bill_avg_debt_rate             近六个月平均负债率\n15  six_bill_low_repay_num      近六个月还款金额为最低还款的次数\n16  six_optial_mp_num                近六个月办理万用金次数\n17  six_optial_mp_avg_amt            近六个月办理万用金金额\n18  epp_nbr_12m                      近一年办理账单分期次数\n19  alop_nbr_12m                     近一年办理alop次数\n20  epp_avg_amt_12m                   近一年办理epp均值\n21  alop_avg_amt_12m                 近一年办理alop均值\n22  consume_num_session12            近一年账单累计消费次数\n23  consume_num_session6            近六个月账单累计消费次数\n24  consume_num_session3            近三个月账单累计消费次数\n25  consume_num_session               本期账单累计消费次数\n26  consume_amt_session12            近一年账单累计消费金额\n27  consume_amt_session6            近六个月账单累计消费金额\n28  consume_amt_session3            近三个月账单累计消费金额\n29  consume_amt_session               本期账单累计消费金额\n30  month_avg_use_year                近一年月均额度使用率\n31  month_avg_use_month6              近半年月均额度使用率\n32  month_avg_use_month3             近三个月月均额度使用率",
      "text/html": "<div>\n<style scoped>\n    .dataframe tbody tr th:only-of-type {\n        vertical-align: middle;\n    }\n\n    .dataframe tbody tr th {\n        vertical-align: top;\n    }\n\n    .dataframe thead th {\n        text-align: right;\n    }\n</style>\n<table border=\"1\" class=\"dataframe\">\n  <thead>\n    <tr style=\"text-align: right;\">\n      <th></th>\n      <th>字段名称</th>\n      <th>字段解释</th>\n    </tr>\n  </thead>\n  <tbody>\n    <tr>\n      <th>0</th>\n      <td>id</td>\n      <td>id</td>\n    </tr>\n    <tr>\n      <th>1</th>\n      <td>y</td>\n      <td>是否办理交易分期（1=是）</td>\n    </tr>\n    <tr>\n      <th>2</th>\n      <td>city</td>\n      <td>城市</td>\n    </tr>\n    <tr>\n      <th>3</th>\n      <td>mar_status</td>\n      <td>婚姻状况（0=未知，1=已婚，2=未婚）</td>\n    </tr>\n    <tr>\n      <th>4</th>\n      <td>age</td>\n      <td>年龄</td>\n    </tr>\n    <tr>\n      <th>5</th>\n      <td>xaccount_age</td>\n      <td>账龄（开户月数）</td>\n    </tr>\n    <tr>\n      <th>6</th>\n      <td>cred_limit</td>\n      <td>额度</td>\n    </tr>\n    <tr>\n      <th>7</th>\n      <td>this_bill_rate</td>\n      <td>本期账单额度使用率</td>\n    </tr>\n    <tr>\n      <th>8</th>\n      <td>this_bill_mp</td>\n      <td>本期账单可账单分期金额</td>\n    </tr>\n    <tr>\n      <th>9</th>\n      <td>last_mp_days</td>\n      <td>上一次账单分期距离现在天数</td>\n    </tr>\n    <tr>\n      <th>10</th>\n      <td>six_bill_num</td>\n      <td>近六个月的所有账单次数</td>\n    </tr>\n    <tr>\n      <th>11</th>\n      <td>six_bill_avg_amt</td>\n      <td>近六个月平均账单金额</td>\n    </tr>\n    <tr>\n      <th>12</th>\n      <td>six_cycle_mp_num</td>\n      <td>近六个月账单分期次数</td>\n    </tr>\n    <tr>\n      <th>13</th>\n      <td>six_cycle_mp_avg_amt</td>\n      <td>近六个月账单分期金额</td>\n    </tr>\n    <tr>\n      <th>14</th>\n      <td>six_bill_avg_debt_rate</td>\n      <td>近六个月平均负债率</td>\n    </tr>\n    <tr>\n      <th>15</th>\n      <td>six_bill_low_repay_num</td>\n      <td>近六个月还款金额为最低还款的次数</td>\n    </tr>\n    <tr>\n      <th>16</th>\n      <td>six_optial_mp_num</td>\n      <td>近六个月办理万用金次数</td>\n    </tr>\n    <tr>\n      <th>17</th>\n      <td>six_optial_mp_avg_amt</td>\n      <td>近六个月办理万用金金额</td>\n    </tr>\n    <tr>\n      <th>18</th>\n      <td>epp_nbr_12m</td>\n      <td>近一年办理账单分期次数</td>\n    </tr>\n    <tr>\n      <th>19</th>\n      <td>alop_nbr_12m</td>\n      <td>近一年办理alop次数</td>\n    </tr>\n    <tr>\n      <th>20</th>\n      <td>epp_avg_amt_12m</td>\n      <td>近一年办理epp均值</td>\n    </tr>\n    <tr>\n      <th>21</th>\n      <td>alop_avg_amt_12m</td>\n      <td>近一年办理alop均值</td>\n    </tr>\n    <tr>\n      <th>22</th>\n      <td>consume_num_session12</td>\n      <td>近一年账单累计消费次数</td>\n    </tr>\n    <tr>\n      <th>23</th>\n      <td>consume_num_session6</td>\n      <td>近六个月账单累计消费次数</td>\n    </tr>\n    <tr>\n      <th>24</th>\n      <td>consume_num_session3</td>\n      <td>近三个月账单累计消费次数</td>\n    </tr>\n    <tr>\n      <th>25</th>\n      <td>consume_num_session</td>\n      <td>本期账单累计消费次数</td>\n    </tr>\n    <tr>\n      <th>26</th>\n      <td>consume_amt_session12</td>\n      <td>近一年账单累计消费金额</td>\n    </tr>\n    <tr>\n      <th>27</th>\n      <td>consume_amt_session6</td>\n      <td>近六个月账单累计消费金额</td>\n    </tr>\n    <tr>\n      <th>28</th>\n      <td>consume_amt_session3</td>\n      <td>近三个月账单累计消费金额</td>\n    </tr>\n    <tr>\n      <th>29</th>\n      <td>consume_amt_session</td>\n      <td>本期账单累计消费金额</td>\n    </tr>\n    <tr>\n      <th>30</th>\n      <td>month_avg_use_year</td>\n      <td>近一年月均额度使用率</td>\n    </tr>\n    <tr>\n      <th>31</th>\n      <td>month_avg_use_month6</td>\n      <td>近半年月均额度使用率</td>\n    </tr>\n    <tr>\n      <th>32</th>\n      <td>month_avg_use_month3</td>\n      <td>近三个月月均额度使用率</td>\n    </tr>\n  </tbody>\n</table>\n</div>"
     },
     "execution_count": 5,
     "metadata": {},
     "output_type": "execute_result"
    }
   ],
   "source": [
    "name = pd.read_excel('./数据字典.xlsx')\n",
    "name"
   ],
   "metadata": {
    "collapsed": false,
    "ExecuteTime": {
     "end_time": "2024-07-15T14:11:37.081106600Z",
     "start_time": "2024-07-15T14:11:37.063638100Z"
    }
   },
   "id": "5b57fffd89d39182"
  },
  {
   "cell_type": "code",
   "execution_count": 8,
   "outputs": [
    {
     "name": "stdout",
     "output_type": "stream",
     "text": [
      "8004\n"
     ]
    }
   ],
   "source": [
    "for i in range(len(df)-1):\n",
    "    if df.loc[i, 'id'] < df.loc[i + 1, 'id']:\n",
    "        continue\n",
    "    else:\n",
    "        print(i)\n",
    "    "
   ],
   "metadata": {
    "collapsed": false,
    "ExecuteTime": {
     "end_time": "2024-07-15T14:16:43.336343100Z",
     "start_time": "2024-07-15T14:16:43.257381300Z"
    }
   },
   "id": "1edf6e89344d6e20"
  },
  {
   "cell_type": "code",
   "execution_count": 9,
   "outputs": [
    {
     "data": {
      "text/plain": "[2,\n 13,\n 17,\n 22,\n 27,\n 29,\n 32,\n 41,\n 42,\n 49,\n 53,\n 58,\n 63,\n 64,\n 67,\n 71,\n 75,\n 83,\n 91,\n 98,\n 110,\n 111,\n 117,\n 125,\n 127,\n 131,\n 132,\n 137,\n 147,\n 148,\n 153,\n 160,\n 171,\n 172,\n 174,\n 190,\n 192,\n 193,\n 197,\n 201,\n 204,\n 206,\n 211,\n 213,\n 220,\n 224,\n 233,\n 234,\n 237,\n 241,\n 244,\n 245,\n 255,\n 257,\n 259,\n 263,\n 274,\n 277,\n 278,\n 279,\n 281,\n 282,\n 284,\n 287,\n 289,\n 291,\n 303,\n 316,\n 335,\n 337,\n 338,\n 340,\n 341,\n 345,\n 349,\n 350,\n 352,\n 355,\n 356,\n 360,\n 364,\n 369,\n 371,\n 375,\n 376,\n 377,\n 378,\n 402,\n 403,\n 405,\n 407,\n 413,\n 416,\n 420,\n 429,\n 430,\n 447,\n 455,\n 464,\n 467,\n 468,\n 476,\n 478,\n 482,\n 499,\n 500,\n 503,\n 505,\n 507,\n 510,\n 514,\n 518,\n 528,\n 529,\n 532,\n 534,\n 538,\n 539,\n 556,\n 557,\n 558,\n 559,\n 564,\n 565,\n 571,\n 574,\n 575,\n 576,\n 586,\n 591,\n 596,\n 604,\n 610,\n 614,\n 629,\n 632,\n 637,\n 644,\n 654,\n 665,\n 666,\n 669,\n 676,\n 678,\n 679,\n 683,\n 690,\n 694,\n 698,\n 699,\n 704,\n 705,\n 706,\n 711,\n 717,\n 718,\n 728,\n 733,\n 735,\n 736,\n 738,\n 740,\n 742,\n 743,\n 744,\n 749,\n 756,\n 760,\n 761,\n 769,\n 770,\n 775,\n 778,\n 781,\n 787,\n 798,\n 811,\n 815,\n 819,\n 824,\n 825,\n 828,\n 829,\n 830,\n 836,\n 837,\n 840,\n 846,\n 849,\n 851,\n 856,\n 862,\n 864,\n 867,\n 871,\n 872,\n 878,\n 882,\n 892,\n 902,\n 905,\n 906,\n 909,\n 911,\n 915,\n 917,\n 922,\n 925,\n 926,\n 931,\n 934,\n 936,\n 938,\n 945,\n 951,\n 952,\n 954,\n 958,\n 968,\n 976,\n 977,\n 979,\n 985,\n 987,\n 990,\n 992,\n 995,\n 1000,\n 1001,\n 1004,\n 1005,\n 1009,\n 1010,\n 1011,\n 1012,\n 1013,\n 1016,\n 1023,\n 1031,\n 1037,\n 1039,\n 1048,\n 1054,\n 1058,\n 1060,\n 1070,\n 1074,\n 1076,\n 1096,\n 1099,\n 1101,\n 1102,\n 1111,\n 1124,\n 1130,\n 1137,\n 1138,\n 1141,\n 1150,\n 1151,\n 1152,\n 1153,\n 1154,\n 1157,\n 1162,\n 1172,\n 1174,\n 1179,\n 1180,\n 1183,\n 1196,\n 1198,\n 1199,\n 1219,\n 1222,\n 1224,\n 1228,\n 1230,\n 1235,\n 1243,\n 1246,\n 1247,\n 1251,\n 1253,\n 1271,\n 1283,\n 1285,\n 1290,\n 1301,\n 1305,\n 1308,\n 1315,\n 1316,\n 1317,\n 1321,\n 1331,\n 1335,\n 1346,\n 1353,\n 1356,\n 1368,\n 1374,\n 1378,\n 1380,\n 1382,\n 1391,\n 1393,\n 1399,\n 1405,\n 1414,\n 1419,\n 1421,\n 1429,\n 1437,\n 1444,\n 1457,\n 1459,\n 1478,\n 1481,\n 1485,\n 1501,\n 1502,\n 1506,\n 1507,\n 1509,\n 1511,\n 1515,\n 1517,\n 1523,\n 1532,\n 1536,\n 1537,\n 1559,\n 1560,\n 1561,\n 1566,\n 1567,\n 1569,\n 1572,\n 1580,\n 1582,\n 1586,\n 1587,\n 1590,\n 1594,\n 1606,\n 1609,\n 1615,\n 1619,\n 1623,\n 1629,\n 1631,\n 1633,\n 1634,\n 1643,\n 1644,\n 1650,\n 1662,\n 1663,\n 1664,\n 1665,\n 1679,\n 1683,\n 1684,\n 1688,\n 1689,\n 1694,\n 1698,\n 1699,\n 1705,\n 1706,\n 1716,\n 1717,\n 1719,\n 1727,\n 1728,\n 1736,\n 1737,\n 1741,\n 1743,\n 1754,\n 1762,\n 1769,\n 1776,\n 1786,\n 1789,\n 1792,\n 1793,\n 1805,\n 1815,\n 1817,\n 1840,\n 1841,\n 1843,\n 1846,\n 1847,\n 1853,\n 1856,\n 1876,\n 1880,\n 1885,\n 1886,\n 1887,\n 1888,\n 1890,\n 1895,\n 1896,\n 1901,\n 1902,\n 1905,\n 1921,\n 1924,\n 1925,\n 1930,\n 1931,\n 1939,\n 1940,\n 1954,\n 1958,\n 1968,\n 1971,\n 1973,\n 1976,\n 1978,\n 1979,\n 1984,\n 1985,\n 1993,\n 1994,\n 1997,\n 2001,\n 2013,\n 2018,\n 2026,\n 2029,\n 2045,\n 2046,\n 2050,\n 2052,\n 2055,\n 2057,\n 2058,\n 2059,\n 2063,\n 2066,\n 2070,\n 2079,\n 2088,\n 2089,\n 2092,\n 2096,\n 2100,\n 2104,\n 2107,\n 2108,\n 2110,\n 2121,\n 2125,\n 2128,\n 2134,\n 2139,\n 2143,\n 2147,\n 2156,\n 2188,\n 2196,\n 2198,\n 2201,\n 2211,\n 2216,\n 2219,\n 2227,\n 2230,\n 2231,\n 2236,\n 2238,\n 2242,\n 2243,\n 2248,\n 2250,\n 2252,\n 2255,\n 2257,\n 2270,\n 2281,\n 2286,\n 2287,\n 2293,\n 2302,\n 2306,\n 2308,\n 2312,\n 2322,\n 2323,\n 2326,\n 2333,\n 2338,\n 2340,\n 2343,\n 2353,\n 2360,\n 2362,\n 2368,\n 2370,\n 2373,\n 2380,\n 2386,\n 2389,\n 2403,\n 2426,\n 2429,\n 2430,\n 2434,\n 2436,\n 2444,\n 2451,\n 2459,\n 2469,\n 2473,\n 2477,\n 2480,\n 2481,\n 2482,\n 2483,\n 2484,\n 2490,\n 2498,\n 2506,\n 2507,\n 2511,\n 2512,\n 2513,\n 2518,\n 2526,\n 2532,\n 2540,\n 2547,\n 2556,\n 2560,\n 2563,\n 2564,\n 2568,\n 2569,\n 2571,\n 2572,\n 2576,\n 2591,\n 2597,\n 2603,\n 2611,\n 2613,\n 2616,\n 2617,\n 2629,\n 2639,\n 2641,\n 2644,\n 2665,\n 2667,\n 2669,\n 2670,\n 2688,\n 2694,\n 2695,\n 2698,\n 2702,\n 2710,\n 2717,\n 2719,\n 2732,\n 2738,\n 2740,\n 2741,\n 2744,\n 2748,\n 2753,\n 2757,\n 2758,\n 2782,\n 2783,\n 2791,\n 2797,\n 2805,\n 2815,\n 2816,\n 2818,\n 2819,\n 2824,\n 2828,\n 2835,\n 2839,\n 2840,\n 2847,\n 2849,\n 2859,\n 2863,\n 2865,\n 2867,\n 2869,\n 2879,\n 2883,\n 2888,\n 2895,\n 2898,\n 2900,\n 2905,\n 2917,\n 2923,\n 2926,\n 2927,\n 2940,\n 2944,\n 2945,\n 2951,\n 2954,\n 2957,\n 2969,\n 2971,\n 2972,\n 2977,\n 2978,\n 2979,\n 2981,\n 2984,\n 2985,\n 2994,\n 3000,\n 3010,\n 3011,\n 3016,\n 3019,\n 3023,\n 3028,\n 3047,\n 3048,\n 3052,\n 3092,\n 3097,\n 3101,\n 3102,\n 3111,\n 3113,\n 3120,\n 3122,\n 3123,\n 3127,\n 3131,\n 3132,\n 3133,\n 3138,\n 3144,\n 3149,\n 3154,\n 3158,\n 3159,\n 3163,\n 3165,\n 3166,\n 3171,\n 3176,\n 3177,\n 3184,\n 3189,\n 3198,\n 3199,\n 3204,\n 3207,\n 3211,\n 3213,\n 3215,\n 3216,\n 3218,\n 3221,\n 3223,\n 3228,\n 3231,\n 3234,\n 3244,\n 3255,\n 3256,\n 3258,\n 3262,\n 3265,\n 3269,\n 3276,\n 3285,\n 3291,\n 3297,\n 3302,\n 3309,\n 3318,\n 3320,\n 3324,\n 3338,\n 3342,\n 3364,\n 3365,\n 3374,\n 3381,\n 3390,\n 3391,\n 3402,\n 3403,\n 3404,\n 3410,\n 3416,\n 3429,\n 3433,\n 3435,\n 3443,\n 3444,\n 3452,\n 3458,\n 3469,\n 3473,\n 3480,\n 3483,\n 3487,\n 3490,\n 3494,\n 3499,\n 3502,\n 3520,\n 3522,\n 3524,\n 3525,\n 3541,\n 3550,\n 3556,\n 3567,\n 3578,\n 3582,\n 3601,\n 3610,\n 3612,\n 3616,\n 3620,\n 3627,\n 3629,\n 3634,\n 3636,\n 3642,\n 3647,\n 3656,\n 3661,\n 3663,\n 3669,\n 3678,\n 3692,\n 3700,\n 3709,\n 3711,\n 3715,\n 3718,\n 3720,\n 3721,\n 3730,\n 3732,\n 3737,\n 3738,\n 3747,\n 3749,\n 3755,\n 3762,\n 3764,\n 3769,\n 3772,\n 3774,\n 3782,\n 3783,\n 3784,\n 3790,\n 3794,\n 3800,\n 3804,\n 3816,\n 3820,\n 3830,\n 3831,\n 3832,\n 3842,\n 3846,\n 3854,\n 3869,\n 3875,\n 3884,\n 3889,\n 3904,\n 3906,\n 3914,\n 3928,\n 3930,\n 3944,\n 3947,\n 3968,\n 3970,\n 3974,\n 3979,\n 3985,\n 3995,\n 3997,\n 4003,\n 4005,\n 4010,\n 4011,\n 4012,\n 4015,\n 4017,\n 4018,\n 4019,\n 4025,\n 4031,\n 4035,\n 4037,\n 4045,\n 4057,\n 4061,\n 4062,\n 4065,\n 4067,\n 4068,\n 4073,\n 4077,\n 4083,\n 4084,\n 4088,\n 4093,\n 4102,\n 4106,\n 4111,\n 4113,\n 4128,\n 4132,\n 4136,\n 4138,\n 4141,\n 4144,\n 4154,\n 4158,\n 4164,\n 4166,\n 4170,\n 4174,\n 4179,\n 4183,\n 4186,\n 4190,\n 4196,\n 4200,\n 4204,\n 4205,\n 4209,\n 4213,\n 4214,\n 4222,\n 4224,\n 4225,\n 4233,\n 4241,\n 4243,\n 4245,\n 4247,\n 4254,\n 4256,\n 4258,\n 4264,\n 4267,\n 4279,\n 4280,\n 4284,\n 4288,\n 4292,\n 4296,\n 4308,\n 4313,\n 4314,\n 4316,\n 4326,\n 4335,\n 4336,\n 4339,\n 4340,\n 4344,\n 4350,\n 4352,\n 4354,\n 4366,\n 4380,\n 4387,\n 4393,\n 4395,\n 4404,\n 4423,\n 4429,\n 4431,\n 4436,\n 4437,\n 4441,\n 4445,\n 4450,\n 4454,\n 4456,\n 4461,\n 4470,\n 4487,\n 4488,\n 4498,\n 4527,\n 4531,\n 4532,\n 4534,\n 4543,\n 4547,\n 4553,\n 4561,\n 4563,\n 4565,\n 4567,\n 4568,\n 4582,\n 4584,\n 4585,\n 4588,\n 4590,\n 4594,\n 4595,\n 4596,\n 4603,\n 4614,\n 4621,\n 4622,\n 4629,\n 4637,\n 4642,\n 4643,\n 4645,\n 4650,\n 4658,\n 4661,\n 4662,\n 4664,\n 4665,\n 4669,\n 4673,\n 4674,\n 4675,\n 4676,\n 4677,\n 4695,\n 4696,\n 4734,\n 4735,\n 4736,\n 4738,\n 4748,\n 4751,\n 4754,\n 4755,\n 4762,\n 4776,\n 4779,\n 4786,\n 4797,\n 4809,\n 4812,\n 4813,\n 4819,\n 4833,\n 4835,\n 4836,\n 4841,\n 4845,\n 4849,\n 4853,\n 4862,\n 4877,\n 4880,\n 4888,\n 4893,\n 4904,\n 4906,\n 4918,\n 4919,\n 4927,\n 4930,\n 4932,\n 4933,\n 4938,\n 4939,\n 4944,\n 4956,\n 4965,\n 4967,\n 4968,\n 4977,\n 4981,\n 4985,\n 4993,\n 4994,\n 5000,\n ...]"
     },
     "execution_count": 9,
     "metadata": {},
     "output_type": "execute_result"
    }
   ],
   "source": [
    "list = []\n",
    "for i in range(8005):\n",
    "    list.append(df.loc[i, 'id'])\n",
    "list"
   ],
   "metadata": {
    "collapsed": false,
    "ExecuteTime": {
     "end_time": "2024-07-15T14:25:16.184635100Z",
     "start_time": "2024-07-15T14:25:16.141151600Z"
    }
   },
   "id": "8a4da5c31aca49da"
  },
  {
   "cell_type": "code",
   "execution_count": 10,
   "outputs": [
    {
     "data": {
      "text/plain": "[13,\n 32,\n 63,\n 67,\n 125,\n 147,\n 241,\n 257,\n 277,\n 287,\n 316,\n 338,\n 341,\n 369,\n 371,\n 376,\n 447,\n 455,\n 514,\n 532,\n 571,\n 586,\n 604,\n 665,\n 690,\n 699,\n 718,\n 738,\n 749,\n 756,\n 760,\n 761,\n 769,\n 770,\n 825,\n 828,\n 846,\n 871,\n 951,\n 979,\n 992,\n 1004,\n 1011,\n 1012,\n 1037,\n 1054,\n 1060,\n 1102,\n 1124,\n 1130,\n 1150,\n 1152,\n 1157,\n 1172,\n 1180,\n 1199,\n 1235,\n 1243,\n 1251,\n 1271,\n 1301,\n 1315,\n 1380,\n 1391,\n 1399,\n 1405,\n 1481,\n 1509,\n 1517,\n 1582,\n 1609,\n 1619,\n 1683,\n 1684,\n 1706,\n 1716,\n 1719,\n 1728,\n 1841,\n 1888,\n 1902,\n 1925,\n 1958,\n 1973,\n 1978,\n 1979,\n 1993,\n 2018,\n 2059,\n 2066,\n 2100,\n 2134,\n 2147,\n 2201,\n 2216,\n 2227,\n 2236,\n 2238,\n 2243,\n 2248,\n 2281,\n 2302,\n 2322,\n 2389,\n 2426,\n 2430,\n 2436,\n 2444,\n 2451,\n 2459,\n 2473,\n 2480,\n 2484,\n 2498,\n 2507,\n 2513,\n 2540,\n 2560,\n 2564,\n 2597,\n 2639,\n 2665,\n 2710,\n 2782,\n 2791,\n 2805,\n 2815,\n 2839,\n 2883,\n 2917,\n 2971,\n 2972,\n 3011,\n 3048,\n 3111,\n 3113,\n 3163,\n 3198,\n 3228,\n 3255,\n 3256,\n 3309,\n 3320,\n 3342,\n 3381,\n 3390,\n 3429,\n 3443,\n 3473,\n 3525,\n 3612,\n 3627,\n 3629,\n 3709,\n 3715,\n 3747,\n 3769,\n 3782,\n 3790,\n 3794,\n 3875,\n 3930,\n 3968,\n 4011,\n 4018,\n 4035,\n 4037,\n 4068,\n 4093,\n 4106,\n 4141,\n 4144,\n 4205,\n 4209,\n 4258,\n 4308,\n 4313,\n 4316,\n 4380,\n 4404,\n 4441,\n 4532,\n 4534,\n 4565,\n 4588,\n 4594,\n 4603,\n 4643,\n 4645,\n 4658,\n 4665,\n 4669,\n 4674,\n 4779,\n 4809,\n 4819,\n 4833,\n 4904,\n 4919,\n 4938,\n 4968,\n 4985,\n 4994,\n 5120,\n 5126,\n 5155,\n 5162,\n 5190,\n 5205,\n 5231,\n 5232,\n 5276,\n 5278,\n 5305,\n 5378,\n 5412,\n 5438,\n 5449,\n 5464,\n 5494,\n 5505,\n 5507,\n 5511,\n 5519,\n 5548,\n 5551,\n 5556,\n 5600,\n 5610,\n 5736,\n 5743,\n 5752,\n 5766,\n 5782,\n 5800,\n 5804,\n 5808,\n 5839,\n 5841,\n 5886,\n 5896,\n 5913,\n 5960,\n 5968,\n 6000,\n 6016,\n 6027,\n 6032,\n 6035,\n 6045,\n 6115,\n 6134,\n 6187,\n 6188,\n 6203,\n 6249,\n 6252,\n 6259,\n 6282,\n 6294,\n 6305,\n 6324,\n 6449,\n 6493,\n 6523,\n 6525,\n 6540,\n 6555,\n 6625,\n 6639,\n 6723,\n 6742,\n 6770,\n 6772,\n 6773,\n 6789,\n 6819,\n 6834,\n 6850,\n 6853,\n 6892,\n 6928,\n 6952,\n 6956,\n 6965,\n 6973,\n 6978,\n 6984,\n 7026,\n 7044,\n 7090,\n 7118,\n 7141,\n 7144,\n 7146,\n 7148,\n 7193,\n 7199,\n 7259,\n 7266,\n 7287,\n 7289,\n 7354,\n 7375,\n 7396,\n 7412,\n 7466,\n 7475,\n 7487,\n 7510,\n 7544,\n 7571,\n 7572,\n 7574,\n 7575,\n 7612,\n 7636,\n 7656,\n 7663,\n 7693,\n 7697,\n 7715,\n 7722,\n 7732,\n 7751,\n 7800,\n 7802,\n 7823,\n 7867,\n 7870,\n 7886,\n 7894,\n 7897,\n 7898,\n 7906,\n 7907,\n 7908,\n 7950,\n 7970,\n 7989,\n 8028,\n 8053,\n 8091,\n 8094,\n 8096,\n 8122,\n 8131,\n 8164,\n 8192,\n 8211,\n 8236,\n 8239,\n 8247,\n 8281,\n 8300,\n 8318,\n 8319,\n 8338,\n 8412,\n 8441,\n 8451,\n 8458,\n 8460,\n 8461,\n 8466,\n 8476,\n 8518,\n 8535,\n 8581,\n 8604,\n 8633,\n 8684,\n 8712,\n 8743,\n 8758,\n 8769,\n 8780,\n 8857,\n 8867,\n 8876,\n 8922,\n 8942,\n 8944,\n 8950,\n 8975,\n 8985,\n 9062,\n 9150,\n 9187,\n 9191,\n 9195,\n 9218,\n 9238,\n 9264,\n 9265,\n 9273,\n 9296,\n 9299,\n 9340,\n 9376,\n 9442,\n 9469,\n 9556,\n 9661,\n 9759,\n 9799,\n 9833,\n 9837,\n 9850,\n 9876,\n 9938,\n 9962,\n 9972,\n 9989]"
     },
     "execution_count": 10,
     "metadata": {},
     "output_type": "execute_result"
    }
   ],
   "source": [
    "list2 = []\n",
    "for i in range(8005, 10000):\n",
    "    if df.loc[i, 'id'] in list:\n",
    "        list2.append(df.loc[i, 'id'])\n",
    "list2"
   ],
   "metadata": {
    "collapsed": false,
    "ExecuteTime": {
     "end_time": "2024-07-15T14:26:46.079765500Z",
     "start_time": "2024-07-15T14:26:45.944118100Z"
    }
   },
   "id": "4ef0079b1c40c733"
  },
  {
   "cell_type": "code",
   "execution_count": 11,
   "outputs": [
    {
     "data": {
      "text/plain": "414"
     },
     "execution_count": 11,
     "metadata": {},
     "output_type": "execute_result"
    }
   ],
   "source": [
    "len(list2)"
   ],
   "metadata": {
    "collapsed": false,
    "ExecuteTime": {
     "end_time": "2024-07-15T14:27:44.561005300Z",
     "start_time": "2024-07-15T14:27:44.523201300Z"
    }
   },
   "id": "3a3ba0f3bd36a4fe"
  },
  {
   "cell_type": "code",
   "execution_count": 18,
   "outputs": [
    {
     "data": {
      "text/plain": "        id  y  city  mar_status  age  xaccount_age  cred_limit  \\\n0        2  0    52           0   32            10       20000   \n2       17  0    35           0   34            17       28500   \n3       22  0    40           0   28            17        5000   \n4       27  0    21           2   26            19       60000   \n5       29  0     1           1   36           138       46000   \n...    ... ..   ...         ...  ...           ...         ...   \n9995  9984  1    89           0   34            22        2000   \n9996  9989  1   104           0   53             7        2250   \n9997  9990  1    16           0   34            15       50000   \n9998  9993  1    72           0   38             7       30000   \n9999  9996  1   125           0   32            12       30000   \n\n      this_bill_rate  this_bill_mp  last_mp_days  ...  consume_num_session6  \\\n0           0.162971       1213.15            15  ...                    17   \n2           0.792989      21336.18          9999  ...                    96   \n3           1.001600       4668.30          9999  ...                    37   \n4           0.990300      56447.10          9999  ...                    70   \n5           0.418607      12171.30            17  ...                    50   \n...              ...           ...           ...  ...                   ...   \n9995        0.449645        628.90            91  ...                     3   \n9996        0.993333       2123.25          9999  ...                    10   \n9997        0.910246      43095.68            48  ...                   574   \n9998        0.785324       1919.84            60  ...                    12   \n9999        0.331781       3471.77            30  ...                     8   \n\n      consume_num_session3  consume_num_session  consume_amt_session12  \\\n0                       12                    2               70173.00   \n2                       47                   15              206655.62   \n3                       15                    5              227540.00   \n4                       57                   40              549835.93   \n5                        9                    4              361647.76   \n...                    ...                  ...                    ...   \n9995                     1                    1                3690.00   \n9996                     3                    1                6686.40   \n9997                   316                   99              115663.39   \n9998                     6                    2               49016.98   \n9999                     3                    1               87834.88   \n\n      consume_amt_session6  consume_amt_session3  consume_amt_session  \\\n0                 29294.00              16773.00              1249.00   \n2                114284.77              78978.75             22600.20   \n3                 87870.00              14900.00              5000.00   \n4                290014.88             176430.00             59418.00   \n5                197082.29             106119.00             28091.00   \n...                    ...                   ...                  ...   \n9995               1590.00                590.00               590.00   \n9996               6686.40               3335.00              2235.00   \n9997             106099.52              60494.63             46174.58   \n9998              41516.98              35927.68             20800.88   \n9999              29252.62              17718.00              6392.00   \n\n      month_avg_use_year  month_avg_use_month6  month_avg_use_month3  \n0               0.350865              0.244117              0.279550  \n2               0.731524              0.703291              0.923728  \n3               0.948083              0.976333              0.993333  \n4               0.872755              0.878833              0.980167  \n5               0.655159              0.714066              0.768978  \n...                  ...                   ...                   ...  \n9995            0.153750              0.132500              0.098333  \n9996            0.495289              0.495289              0.494074  \n9997            0.192772              0.353665              0.403298  \n9998            0.272317              0.259481              0.399196  \n9999            0.266166              0.162515              0.196867  \n\n[9586 rows x 33 columns]",
      "text/html": "<div>\n<style scoped>\n    .dataframe tbody tr th:only-of-type {\n        vertical-align: middle;\n    }\n\n    .dataframe tbody tr th {\n        vertical-align: top;\n    }\n\n    .dataframe thead th {\n        text-align: right;\n    }\n</style>\n<table border=\"1\" class=\"dataframe\">\n  <thead>\n    <tr style=\"text-align: right;\">\n      <th></th>\n      <th>id</th>\n      <th>y</th>\n      <th>city</th>\n      <th>mar_status</th>\n      <th>age</th>\n      <th>xaccount_age</th>\n      <th>cred_limit</th>\n      <th>this_bill_rate</th>\n      <th>this_bill_mp</th>\n      <th>last_mp_days</th>\n      <th>...</th>\n      <th>consume_num_session6</th>\n      <th>consume_num_session3</th>\n      <th>consume_num_session</th>\n      <th>consume_amt_session12</th>\n      <th>consume_amt_session6</th>\n      <th>consume_amt_session3</th>\n      <th>consume_amt_session</th>\n      <th>month_avg_use_year</th>\n      <th>month_avg_use_month6</th>\n      <th>month_avg_use_month3</th>\n    </tr>\n  </thead>\n  <tbody>\n    <tr>\n      <th>0</th>\n      <td>2</td>\n      <td>0</td>\n      <td>52</td>\n      <td>0</td>\n      <td>32</td>\n      <td>10</td>\n      <td>20000</td>\n      <td>0.162971</td>\n      <td>1213.15</td>\n      <td>15</td>\n      <td>...</td>\n      <td>17</td>\n      <td>12</td>\n      <td>2</td>\n      <td>70173.00</td>\n      <td>29294.00</td>\n      <td>16773.00</td>\n      <td>1249.00</td>\n      <td>0.350865</td>\n      <td>0.244117</td>\n      <td>0.279550</td>\n    </tr>\n    <tr>\n      <th>2</th>\n      <td>17</td>\n      <td>0</td>\n      <td>35</td>\n      <td>0</td>\n      <td>34</td>\n      <td>17</td>\n      <td>28500</td>\n      <td>0.792989</td>\n      <td>21336.18</td>\n      <td>9999</td>\n      <td>...</td>\n      <td>96</td>\n      <td>47</td>\n      <td>15</td>\n      <td>206655.62</td>\n      <td>114284.77</td>\n      <td>78978.75</td>\n      <td>22600.20</td>\n      <td>0.731524</td>\n      <td>0.703291</td>\n      <td>0.923728</td>\n    </tr>\n    <tr>\n      <th>3</th>\n      <td>22</td>\n      <td>0</td>\n      <td>40</td>\n      <td>0</td>\n      <td>28</td>\n      <td>17</td>\n      <td>5000</td>\n      <td>1.001600</td>\n      <td>4668.30</td>\n      <td>9999</td>\n      <td>...</td>\n      <td>37</td>\n      <td>15</td>\n      <td>5</td>\n      <td>227540.00</td>\n      <td>87870.00</td>\n      <td>14900.00</td>\n      <td>5000.00</td>\n      <td>0.948083</td>\n      <td>0.976333</td>\n      <td>0.993333</td>\n    </tr>\n    <tr>\n      <th>4</th>\n      <td>27</td>\n      <td>0</td>\n      <td>21</td>\n      <td>2</td>\n      <td>26</td>\n      <td>19</td>\n      <td>60000</td>\n      <td>0.990300</td>\n      <td>56447.10</td>\n      <td>9999</td>\n      <td>...</td>\n      <td>70</td>\n      <td>57</td>\n      <td>40</td>\n      <td>549835.93</td>\n      <td>290014.88</td>\n      <td>176430.00</td>\n      <td>59418.00</td>\n      <td>0.872755</td>\n      <td>0.878833</td>\n      <td>0.980167</td>\n    </tr>\n    <tr>\n      <th>5</th>\n      <td>29</td>\n      <td>0</td>\n      <td>1</td>\n      <td>1</td>\n      <td>36</td>\n      <td>138</td>\n      <td>46000</td>\n      <td>0.418607</td>\n      <td>12171.30</td>\n      <td>17</td>\n      <td>...</td>\n      <td>50</td>\n      <td>9</td>\n      <td>4</td>\n      <td>361647.76</td>\n      <td>197082.29</td>\n      <td>106119.00</td>\n      <td>28091.00</td>\n      <td>0.655159</td>\n      <td>0.714066</td>\n      <td>0.768978</td>\n    </tr>\n    <tr>\n      <th>...</th>\n      <td>...</td>\n      <td>...</td>\n      <td>...</td>\n      <td>...</td>\n      <td>...</td>\n      <td>...</td>\n      <td>...</td>\n      <td>...</td>\n      <td>...</td>\n      <td>...</td>\n      <td>...</td>\n      <td>...</td>\n      <td>...</td>\n      <td>...</td>\n      <td>...</td>\n      <td>...</td>\n      <td>...</td>\n      <td>...</td>\n      <td>...</td>\n      <td>...</td>\n      <td>...</td>\n    </tr>\n    <tr>\n      <th>9995</th>\n      <td>9984</td>\n      <td>1</td>\n      <td>89</td>\n      <td>0</td>\n      <td>34</td>\n      <td>22</td>\n      <td>2000</td>\n      <td>0.449645</td>\n      <td>628.90</td>\n      <td>91</td>\n      <td>...</td>\n      <td>3</td>\n      <td>1</td>\n      <td>1</td>\n      <td>3690.00</td>\n      <td>1590.00</td>\n      <td>590.00</td>\n      <td>590.00</td>\n      <td>0.153750</td>\n      <td>0.132500</td>\n      <td>0.098333</td>\n    </tr>\n    <tr>\n      <th>9996</th>\n      <td>9989</td>\n      <td>1</td>\n      <td>104</td>\n      <td>0</td>\n      <td>53</td>\n      <td>7</td>\n      <td>2250</td>\n      <td>0.993333</td>\n      <td>2123.25</td>\n      <td>9999</td>\n      <td>...</td>\n      <td>10</td>\n      <td>3</td>\n      <td>1</td>\n      <td>6686.40</td>\n      <td>6686.40</td>\n      <td>3335.00</td>\n      <td>2235.00</td>\n      <td>0.495289</td>\n      <td>0.495289</td>\n      <td>0.494074</td>\n    </tr>\n    <tr>\n      <th>9997</th>\n      <td>9990</td>\n      <td>1</td>\n      <td>16</td>\n      <td>0</td>\n      <td>34</td>\n      <td>15</td>\n      <td>50000</td>\n      <td>0.910246</td>\n      <td>43095.68</td>\n      <td>48</td>\n      <td>...</td>\n      <td>574</td>\n      <td>316</td>\n      <td>99</td>\n      <td>115663.39</td>\n      <td>106099.52</td>\n      <td>60494.63</td>\n      <td>46174.58</td>\n      <td>0.192772</td>\n      <td>0.353665</td>\n      <td>0.403298</td>\n    </tr>\n    <tr>\n      <th>9998</th>\n      <td>9993</td>\n      <td>1</td>\n      <td>72</td>\n      <td>0</td>\n      <td>38</td>\n      <td>7</td>\n      <td>30000</td>\n      <td>0.785324</td>\n      <td>1919.84</td>\n      <td>60</td>\n      <td>...</td>\n      <td>12</td>\n      <td>6</td>\n      <td>2</td>\n      <td>49016.98</td>\n      <td>41516.98</td>\n      <td>35927.68</td>\n      <td>20800.88</td>\n      <td>0.272317</td>\n      <td>0.259481</td>\n      <td>0.399196</td>\n    </tr>\n    <tr>\n      <th>9999</th>\n      <td>9996</td>\n      <td>1</td>\n      <td>125</td>\n      <td>0</td>\n      <td>32</td>\n      <td>12</td>\n      <td>30000</td>\n      <td>0.331781</td>\n      <td>3471.77</td>\n      <td>30</td>\n      <td>...</td>\n      <td>8</td>\n      <td>3</td>\n      <td>1</td>\n      <td>87834.88</td>\n      <td>29252.62</td>\n      <td>17718.00</td>\n      <td>6392.00</td>\n      <td>0.266166</td>\n      <td>0.162515</td>\n      <td>0.196867</td>\n    </tr>\n  </tbody>\n</table>\n<p>9586 rows × 33 columns</p>\n</div>"
     },
     "execution_count": 18,
     "metadata": {},
     "output_type": "execute_result"
    }
   ],
   "source": [
    "filt = ((df['y'] == 0) & (df['id'].isin(list2)))\n",
    "df.drop(index=df[filt].index, inplace=True)\n",
    "df"
   ],
   "metadata": {
    "collapsed": false,
    "ExecuteTime": {
     "end_time": "2024-07-15T14:36:25.920894600Z",
     "start_time": "2024-07-15T14:36:25.888124500Z"
    }
   },
   "id": "6af1e5cfaa8ae885"
  },
  {
   "cell_type": "code",
   "execution_count": 19,
   "outputs": [
    {
     "data": {
      "text/plain": "9586"
     },
     "execution_count": 19,
     "metadata": {},
     "output_type": "execute_result"
    }
   ],
   "source": [
    "len(df)"
   ],
   "metadata": {
    "collapsed": false,
    "ExecuteTime": {
     "end_time": "2024-07-15T14:36:28.066009200Z",
     "start_time": "2024-07-15T14:36:28.047806100Z"
    }
   },
   "id": "62424f139f06264f"
  },
  {
   "cell_type": "code",
   "execution_count": 22,
   "outputs": [],
   "source": [
    "df.reset_index(inplace=True)"
   ],
   "metadata": {
    "collapsed": false,
    "ExecuteTime": {
     "end_time": "2024-07-15T14:42:51.493071100Z",
     "start_time": "2024-07-15T14:42:51.451257400Z"
    }
   },
   "id": "8c54f6fbf3ee8e69"
  },
  {
   "cell_type": "code",
   "execution_count": 24,
   "outputs": [
    {
     "data": {
      "text/plain": "      index    id  y  city  mar_status  age  xaccount_age  cred_limit  \\\n0         0     2  0    52           0   32            10       20000   \n1         2    17  0    35           0   34            17       28500   \n2         3    22  0    40           0   28            17        5000   \n3         4    27  0    21           2   26            19       60000   \n4         5    29  0     1           1   36           138       46000   \n...     ...   ... ..   ...         ...  ...           ...         ...   \n9581   9995  9984  1    89           0   34            22        2000   \n9582   9996  9989  1   104           0   53             7        2250   \n9583   9997  9990  1    16           0   34            15       50000   \n9584   9998  9993  1    72           0   38             7       30000   \n9585   9999  9996  1   125           0   32            12       30000   \n\n      this_bill_rate  this_bill_mp  ...  consume_num_session6  \\\n0           0.162971       1213.15  ...                    17   \n1           0.792989      21336.18  ...                    96   \n2           1.001600       4668.30  ...                    37   \n3           0.990300      56447.10  ...                    70   \n4           0.418607      12171.30  ...                    50   \n...              ...           ...  ...                   ...   \n9581        0.449645        628.90  ...                     3   \n9582        0.993333       2123.25  ...                    10   \n9583        0.910246      43095.68  ...                   574   \n9584        0.785324       1919.84  ...                    12   \n9585        0.331781       3471.77  ...                     8   \n\n      consume_num_session3  consume_num_session  consume_amt_session12  \\\n0                       12                    2               70173.00   \n1                       47                   15              206655.62   \n2                       15                    5              227540.00   \n3                       57                   40              549835.93   \n4                        9                    4              361647.76   \n...                    ...                  ...                    ...   \n9581                     1                    1                3690.00   \n9582                     3                    1                6686.40   \n9583                   316                   99              115663.39   \n9584                     6                    2               49016.98   \n9585                     3                    1               87834.88   \n\n      consume_amt_session6  consume_amt_session3  consume_amt_session  \\\n0                 29294.00              16773.00              1249.00   \n1                114284.77              78978.75             22600.20   \n2                 87870.00              14900.00              5000.00   \n3                290014.88             176430.00             59418.00   \n4                197082.29             106119.00             28091.00   \n...                    ...                   ...                  ...   \n9581               1590.00                590.00               590.00   \n9582               6686.40               3335.00              2235.00   \n9583             106099.52              60494.63             46174.58   \n9584              41516.98              35927.68             20800.88   \n9585              29252.62              17718.00              6392.00   \n\n      month_avg_use_year  month_avg_use_month6  month_avg_use_month3  \n0               0.350865              0.244117              0.279550  \n1               0.731524              0.703291              0.923728  \n2               0.948083              0.976333              0.993333  \n3               0.872755              0.878833              0.980167  \n4               0.655159              0.714066              0.768978  \n...                  ...                   ...                   ...  \n9581            0.153750              0.132500              0.098333  \n9582            0.495289              0.495289              0.494074  \n9583            0.192772              0.353665              0.403298  \n9584            0.272317              0.259481              0.399196  \n9585            0.266166              0.162515              0.196867  \n\n[9586 rows x 34 columns]",
      "text/html": "<div>\n<style scoped>\n    .dataframe tbody tr th:only-of-type {\n        vertical-align: middle;\n    }\n\n    .dataframe tbody tr th {\n        vertical-align: top;\n    }\n\n    .dataframe thead th {\n        text-align: right;\n    }\n</style>\n<table border=\"1\" class=\"dataframe\">\n  <thead>\n    <tr style=\"text-align: right;\">\n      <th></th>\n      <th>index</th>\n      <th>id</th>\n      <th>y</th>\n      <th>city</th>\n      <th>mar_status</th>\n      <th>age</th>\n      <th>xaccount_age</th>\n      <th>cred_limit</th>\n      <th>this_bill_rate</th>\n      <th>this_bill_mp</th>\n      <th>...</th>\n      <th>consume_num_session6</th>\n      <th>consume_num_session3</th>\n      <th>consume_num_session</th>\n      <th>consume_amt_session12</th>\n      <th>consume_amt_session6</th>\n      <th>consume_amt_session3</th>\n      <th>consume_amt_session</th>\n      <th>month_avg_use_year</th>\n      <th>month_avg_use_month6</th>\n      <th>month_avg_use_month3</th>\n    </tr>\n  </thead>\n  <tbody>\n    <tr>\n      <th>0</th>\n      <td>0</td>\n      <td>2</td>\n      <td>0</td>\n      <td>52</td>\n      <td>0</td>\n      <td>32</td>\n      <td>10</td>\n      <td>20000</td>\n      <td>0.162971</td>\n      <td>1213.15</td>\n      <td>...</td>\n      <td>17</td>\n      <td>12</td>\n      <td>2</td>\n      <td>70173.00</td>\n      <td>29294.00</td>\n      <td>16773.00</td>\n      <td>1249.00</td>\n      <td>0.350865</td>\n      <td>0.244117</td>\n      <td>0.279550</td>\n    </tr>\n    <tr>\n      <th>1</th>\n      <td>2</td>\n      <td>17</td>\n      <td>0</td>\n      <td>35</td>\n      <td>0</td>\n      <td>34</td>\n      <td>17</td>\n      <td>28500</td>\n      <td>0.792989</td>\n      <td>21336.18</td>\n      <td>...</td>\n      <td>96</td>\n      <td>47</td>\n      <td>15</td>\n      <td>206655.62</td>\n      <td>114284.77</td>\n      <td>78978.75</td>\n      <td>22600.20</td>\n      <td>0.731524</td>\n      <td>0.703291</td>\n      <td>0.923728</td>\n    </tr>\n    <tr>\n      <th>2</th>\n      <td>3</td>\n      <td>22</td>\n      <td>0</td>\n      <td>40</td>\n      <td>0</td>\n      <td>28</td>\n      <td>17</td>\n      <td>5000</td>\n      <td>1.001600</td>\n      <td>4668.30</td>\n      <td>...</td>\n      <td>37</td>\n      <td>15</td>\n      <td>5</td>\n      <td>227540.00</td>\n      <td>87870.00</td>\n      <td>14900.00</td>\n      <td>5000.00</td>\n      <td>0.948083</td>\n      <td>0.976333</td>\n      <td>0.993333</td>\n    </tr>\n    <tr>\n      <th>3</th>\n      <td>4</td>\n      <td>27</td>\n      <td>0</td>\n      <td>21</td>\n      <td>2</td>\n      <td>26</td>\n      <td>19</td>\n      <td>60000</td>\n      <td>0.990300</td>\n      <td>56447.10</td>\n      <td>...</td>\n      <td>70</td>\n      <td>57</td>\n      <td>40</td>\n      <td>549835.93</td>\n      <td>290014.88</td>\n      <td>176430.00</td>\n      <td>59418.00</td>\n      <td>0.872755</td>\n      <td>0.878833</td>\n      <td>0.980167</td>\n    </tr>\n    <tr>\n      <th>4</th>\n      <td>5</td>\n      <td>29</td>\n      <td>0</td>\n      <td>1</td>\n      <td>1</td>\n      <td>36</td>\n      <td>138</td>\n      <td>46000</td>\n      <td>0.418607</td>\n      <td>12171.30</td>\n      <td>...</td>\n      <td>50</td>\n      <td>9</td>\n      <td>4</td>\n      <td>361647.76</td>\n      <td>197082.29</td>\n      <td>106119.00</td>\n      <td>28091.00</td>\n      <td>0.655159</td>\n      <td>0.714066</td>\n      <td>0.768978</td>\n    </tr>\n    <tr>\n      <th>...</th>\n      <td>...</td>\n      <td>...</td>\n      <td>...</td>\n      <td>...</td>\n      <td>...</td>\n      <td>...</td>\n      <td>...</td>\n      <td>...</td>\n      <td>...</td>\n      <td>...</td>\n      <td>...</td>\n      <td>...</td>\n      <td>...</td>\n      <td>...</td>\n      <td>...</td>\n      <td>...</td>\n      <td>...</td>\n      <td>...</td>\n      <td>...</td>\n      <td>...</td>\n      <td>...</td>\n    </tr>\n    <tr>\n      <th>9581</th>\n      <td>9995</td>\n      <td>9984</td>\n      <td>1</td>\n      <td>89</td>\n      <td>0</td>\n      <td>34</td>\n      <td>22</td>\n      <td>2000</td>\n      <td>0.449645</td>\n      <td>628.90</td>\n      <td>...</td>\n      <td>3</td>\n      <td>1</td>\n      <td>1</td>\n      <td>3690.00</td>\n      <td>1590.00</td>\n      <td>590.00</td>\n      <td>590.00</td>\n      <td>0.153750</td>\n      <td>0.132500</td>\n      <td>0.098333</td>\n    </tr>\n    <tr>\n      <th>9582</th>\n      <td>9996</td>\n      <td>9989</td>\n      <td>1</td>\n      <td>104</td>\n      <td>0</td>\n      <td>53</td>\n      <td>7</td>\n      <td>2250</td>\n      <td>0.993333</td>\n      <td>2123.25</td>\n      <td>...</td>\n      <td>10</td>\n      <td>3</td>\n      <td>1</td>\n      <td>6686.40</td>\n      <td>6686.40</td>\n      <td>3335.00</td>\n      <td>2235.00</td>\n      <td>0.495289</td>\n      <td>0.495289</td>\n      <td>0.494074</td>\n    </tr>\n    <tr>\n      <th>9583</th>\n      <td>9997</td>\n      <td>9990</td>\n      <td>1</td>\n      <td>16</td>\n      <td>0</td>\n      <td>34</td>\n      <td>15</td>\n      <td>50000</td>\n      <td>0.910246</td>\n      <td>43095.68</td>\n      <td>...</td>\n      <td>574</td>\n      <td>316</td>\n      <td>99</td>\n      <td>115663.39</td>\n      <td>106099.52</td>\n      <td>60494.63</td>\n      <td>46174.58</td>\n      <td>0.192772</td>\n      <td>0.353665</td>\n      <td>0.403298</td>\n    </tr>\n    <tr>\n      <th>9584</th>\n      <td>9998</td>\n      <td>9993</td>\n      <td>1</td>\n      <td>72</td>\n      <td>0</td>\n      <td>38</td>\n      <td>7</td>\n      <td>30000</td>\n      <td>0.785324</td>\n      <td>1919.84</td>\n      <td>...</td>\n      <td>12</td>\n      <td>6</td>\n      <td>2</td>\n      <td>49016.98</td>\n      <td>41516.98</td>\n      <td>35927.68</td>\n      <td>20800.88</td>\n      <td>0.272317</td>\n      <td>0.259481</td>\n      <td>0.399196</td>\n    </tr>\n    <tr>\n      <th>9585</th>\n      <td>9999</td>\n      <td>9996</td>\n      <td>1</td>\n      <td>125</td>\n      <td>0</td>\n      <td>32</td>\n      <td>12</td>\n      <td>30000</td>\n      <td>0.331781</td>\n      <td>3471.77</td>\n      <td>...</td>\n      <td>8</td>\n      <td>3</td>\n      <td>1</td>\n      <td>87834.88</td>\n      <td>29252.62</td>\n      <td>17718.00</td>\n      <td>6392.00</td>\n      <td>0.266166</td>\n      <td>0.162515</td>\n      <td>0.196867</td>\n    </tr>\n  </tbody>\n</table>\n<p>9586 rows × 34 columns</p>\n</div>"
     },
     "execution_count": 24,
     "metadata": {},
     "output_type": "execute_result"
    }
   ],
   "source": [
    "df"
   ],
   "metadata": {
    "collapsed": false,
    "ExecuteTime": {
     "end_time": "2024-07-15T14:43:14.758379800Z",
     "start_time": "2024-07-15T14:43:14.734077Z"
    }
   },
   "id": "9cc003d76439707"
  },
  {
   "cell_type": "code",
   "execution_count": 25,
   "outputs": [
    {
     "data": {
      "text/plain": "        id  y  city  mar_status  age  xaccount_age  cred_limit  \\\n0        2  0    52           0   32            10       20000   \n1       17  0    35           0   34            17       28500   \n2       22  0    40           0   28            17        5000   \n3       27  0    21           2   26            19       60000   \n4       29  0     1           1   36           138       46000   \n...    ... ..   ...         ...  ...           ...         ...   \n9581  9984  1    89           0   34            22        2000   \n9582  9989  1   104           0   53             7        2250   \n9583  9990  1    16           0   34            15       50000   \n9584  9993  1    72           0   38             7       30000   \n9585  9996  1   125           0   32            12       30000   \n\n      this_bill_rate  this_bill_mp  last_mp_days  ...  consume_num_session6  \\\n0           0.162971       1213.15            15  ...                    17   \n1           0.792989      21336.18          9999  ...                    96   \n2           1.001600       4668.30          9999  ...                    37   \n3           0.990300      56447.10          9999  ...                    70   \n4           0.418607      12171.30            17  ...                    50   \n...              ...           ...           ...  ...                   ...   \n9581        0.449645        628.90            91  ...                     3   \n9582        0.993333       2123.25          9999  ...                    10   \n9583        0.910246      43095.68            48  ...                   574   \n9584        0.785324       1919.84            60  ...                    12   \n9585        0.331781       3471.77            30  ...                     8   \n\n      consume_num_session3  consume_num_session  consume_amt_session12  \\\n0                       12                    2               70173.00   \n1                       47                   15              206655.62   \n2                       15                    5              227540.00   \n3                       57                   40              549835.93   \n4                        9                    4              361647.76   \n...                    ...                  ...                    ...   \n9581                     1                    1                3690.00   \n9582                     3                    1                6686.40   \n9583                   316                   99              115663.39   \n9584                     6                    2               49016.98   \n9585                     3                    1               87834.88   \n\n      consume_amt_session6  consume_amt_session3  consume_amt_session  \\\n0                 29294.00              16773.00              1249.00   \n1                114284.77              78978.75             22600.20   \n2                 87870.00              14900.00              5000.00   \n3                290014.88             176430.00             59418.00   \n4                197082.29             106119.00             28091.00   \n...                    ...                   ...                  ...   \n9581               1590.00                590.00               590.00   \n9582               6686.40               3335.00              2235.00   \n9583             106099.52              60494.63             46174.58   \n9584              41516.98              35927.68             20800.88   \n9585              29252.62              17718.00              6392.00   \n\n      month_avg_use_year  month_avg_use_month6  month_avg_use_month3  \n0               0.350865              0.244117              0.279550  \n1               0.731524              0.703291              0.923728  \n2               0.948083              0.976333              0.993333  \n3               0.872755              0.878833              0.980167  \n4               0.655159              0.714066              0.768978  \n...                  ...                   ...                   ...  \n9581            0.153750              0.132500              0.098333  \n9582            0.495289              0.495289              0.494074  \n9583            0.192772              0.353665              0.403298  \n9584            0.272317              0.259481              0.399196  \n9585            0.266166              0.162515              0.196867  \n\n[9586 rows x 33 columns]",
      "text/html": "<div>\n<style scoped>\n    .dataframe tbody tr th:only-of-type {\n        vertical-align: middle;\n    }\n\n    .dataframe tbody tr th {\n        vertical-align: top;\n    }\n\n    .dataframe thead th {\n        text-align: right;\n    }\n</style>\n<table border=\"1\" class=\"dataframe\">\n  <thead>\n    <tr style=\"text-align: right;\">\n      <th></th>\n      <th>id</th>\n      <th>y</th>\n      <th>city</th>\n      <th>mar_status</th>\n      <th>age</th>\n      <th>xaccount_age</th>\n      <th>cred_limit</th>\n      <th>this_bill_rate</th>\n      <th>this_bill_mp</th>\n      <th>last_mp_days</th>\n      <th>...</th>\n      <th>consume_num_session6</th>\n      <th>consume_num_session3</th>\n      <th>consume_num_session</th>\n      <th>consume_amt_session12</th>\n      <th>consume_amt_session6</th>\n      <th>consume_amt_session3</th>\n      <th>consume_amt_session</th>\n      <th>month_avg_use_year</th>\n      <th>month_avg_use_month6</th>\n      <th>month_avg_use_month3</th>\n    </tr>\n  </thead>\n  <tbody>\n    <tr>\n      <th>0</th>\n      <td>2</td>\n      <td>0</td>\n      <td>52</td>\n      <td>0</td>\n      <td>32</td>\n      <td>10</td>\n      <td>20000</td>\n      <td>0.162971</td>\n      <td>1213.15</td>\n      <td>15</td>\n      <td>...</td>\n      <td>17</td>\n      <td>12</td>\n      <td>2</td>\n      <td>70173.00</td>\n      <td>29294.00</td>\n      <td>16773.00</td>\n      <td>1249.00</td>\n      <td>0.350865</td>\n      <td>0.244117</td>\n      <td>0.279550</td>\n    </tr>\n    <tr>\n      <th>1</th>\n      <td>17</td>\n      <td>0</td>\n      <td>35</td>\n      <td>0</td>\n      <td>34</td>\n      <td>17</td>\n      <td>28500</td>\n      <td>0.792989</td>\n      <td>21336.18</td>\n      <td>9999</td>\n      <td>...</td>\n      <td>96</td>\n      <td>47</td>\n      <td>15</td>\n      <td>206655.62</td>\n      <td>114284.77</td>\n      <td>78978.75</td>\n      <td>22600.20</td>\n      <td>0.731524</td>\n      <td>0.703291</td>\n      <td>0.923728</td>\n    </tr>\n    <tr>\n      <th>2</th>\n      <td>22</td>\n      <td>0</td>\n      <td>40</td>\n      <td>0</td>\n      <td>28</td>\n      <td>17</td>\n      <td>5000</td>\n      <td>1.001600</td>\n      <td>4668.30</td>\n      <td>9999</td>\n      <td>...</td>\n      <td>37</td>\n      <td>15</td>\n      <td>5</td>\n      <td>227540.00</td>\n      <td>87870.00</td>\n      <td>14900.00</td>\n      <td>5000.00</td>\n      <td>0.948083</td>\n      <td>0.976333</td>\n      <td>0.993333</td>\n    </tr>\n    <tr>\n      <th>3</th>\n      <td>27</td>\n      <td>0</td>\n      <td>21</td>\n      <td>2</td>\n      <td>26</td>\n      <td>19</td>\n      <td>60000</td>\n      <td>0.990300</td>\n      <td>56447.10</td>\n      <td>9999</td>\n      <td>...</td>\n      <td>70</td>\n      <td>57</td>\n      <td>40</td>\n      <td>549835.93</td>\n      <td>290014.88</td>\n      <td>176430.00</td>\n      <td>59418.00</td>\n      <td>0.872755</td>\n      <td>0.878833</td>\n      <td>0.980167</td>\n    </tr>\n    <tr>\n      <th>4</th>\n      <td>29</td>\n      <td>0</td>\n      <td>1</td>\n      <td>1</td>\n      <td>36</td>\n      <td>138</td>\n      <td>46000</td>\n      <td>0.418607</td>\n      <td>12171.30</td>\n      <td>17</td>\n      <td>...</td>\n      <td>50</td>\n      <td>9</td>\n      <td>4</td>\n      <td>361647.76</td>\n      <td>197082.29</td>\n      <td>106119.00</td>\n      <td>28091.00</td>\n      <td>0.655159</td>\n      <td>0.714066</td>\n      <td>0.768978</td>\n    </tr>\n    <tr>\n      <th>...</th>\n      <td>...</td>\n      <td>...</td>\n      <td>...</td>\n      <td>...</td>\n      <td>...</td>\n      <td>...</td>\n      <td>...</td>\n      <td>...</td>\n      <td>...</td>\n      <td>...</td>\n      <td>...</td>\n      <td>...</td>\n      <td>...</td>\n      <td>...</td>\n      <td>...</td>\n      <td>...</td>\n      <td>...</td>\n      <td>...</td>\n      <td>...</td>\n      <td>...</td>\n      <td>...</td>\n    </tr>\n    <tr>\n      <th>9581</th>\n      <td>9984</td>\n      <td>1</td>\n      <td>89</td>\n      <td>0</td>\n      <td>34</td>\n      <td>22</td>\n      <td>2000</td>\n      <td>0.449645</td>\n      <td>628.90</td>\n      <td>91</td>\n      <td>...</td>\n      <td>3</td>\n      <td>1</td>\n      <td>1</td>\n      <td>3690.00</td>\n      <td>1590.00</td>\n      <td>590.00</td>\n      <td>590.00</td>\n      <td>0.153750</td>\n      <td>0.132500</td>\n      <td>0.098333</td>\n    </tr>\n    <tr>\n      <th>9582</th>\n      <td>9989</td>\n      <td>1</td>\n      <td>104</td>\n      <td>0</td>\n      <td>53</td>\n      <td>7</td>\n      <td>2250</td>\n      <td>0.993333</td>\n      <td>2123.25</td>\n      <td>9999</td>\n      <td>...</td>\n      <td>10</td>\n      <td>3</td>\n      <td>1</td>\n      <td>6686.40</td>\n      <td>6686.40</td>\n      <td>3335.00</td>\n      <td>2235.00</td>\n      <td>0.495289</td>\n      <td>0.495289</td>\n      <td>0.494074</td>\n    </tr>\n    <tr>\n      <th>9583</th>\n      <td>9990</td>\n      <td>1</td>\n      <td>16</td>\n      <td>0</td>\n      <td>34</td>\n      <td>15</td>\n      <td>50000</td>\n      <td>0.910246</td>\n      <td>43095.68</td>\n      <td>48</td>\n      <td>...</td>\n      <td>574</td>\n      <td>316</td>\n      <td>99</td>\n      <td>115663.39</td>\n      <td>106099.52</td>\n      <td>60494.63</td>\n      <td>46174.58</td>\n      <td>0.192772</td>\n      <td>0.353665</td>\n      <td>0.403298</td>\n    </tr>\n    <tr>\n      <th>9584</th>\n      <td>9993</td>\n      <td>1</td>\n      <td>72</td>\n      <td>0</td>\n      <td>38</td>\n      <td>7</td>\n      <td>30000</td>\n      <td>0.785324</td>\n      <td>1919.84</td>\n      <td>60</td>\n      <td>...</td>\n      <td>12</td>\n      <td>6</td>\n      <td>2</td>\n      <td>49016.98</td>\n      <td>41516.98</td>\n      <td>35927.68</td>\n      <td>20800.88</td>\n      <td>0.272317</td>\n      <td>0.259481</td>\n      <td>0.399196</td>\n    </tr>\n    <tr>\n      <th>9585</th>\n      <td>9996</td>\n      <td>1</td>\n      <td>125</td>\n      <td>0</td>\n      <td>32</td>\n      <td>12</td>\n      <td>30000</td>\n      <td>0.331781</td>\n      <td>3471.77</td>\n      <td>30</td>\n      <td>...</td>\n      <td>8</td>\n      <td>3</td>\n      <td>1</td>\n      <td>87834.88</td>\n      <td>29252.62</td>\n      <td>17718.00</td>\n      <td>6392.00</td>\n      <td>0.266166</td>\n      <td>0.162515</td>\n      <td>0.196867</td>\n    </tr>\n  </tbody>\n</table>\n<p>9586 rows × 33 columns</p>\n</div>"
     },
     "execution_count": 25,
     "metadata": {},
     "output_type": "execute_result"
    }
   ],
   "source": [
    "df.drop(columns='index', inplace=True)\n",
    "df"
   ],
   "metadata": {
    "collapsed": false,
    "ExecuteTime": {
     "end_time": "2024-07-15T14:43:34.251105100Z",
     "start_time": "2024-07-15T14:43:34.205451400Z"
    }
   },
   "id": "f92ad0c037ae9d79"
  },
  {
   "cell_type": "code",
   "execution_count": 26,
   "outputs": [
    {
     "data": {
      "text/plain": "city\n1      633\n16     417\n84     372\n46     331\n121    330\n      ... \n123      6\n31       4\n134      3\n137      2\n82       2\nName: count, Length: 140, dtype: int64"
     },
     "execution_count": 26,
     "metadata": {},
     "output_type": "execute_result"
    }
   ],
   "source": [
    "value_counts = df['city'].value_counts()\n",
    "value_counts"
   ],
   "metadata": {
    "collapsed": false,
    "ExecuteTime": {
     "end_time": "2024-07-15T14:52:26.409507100Z",
     "start_time": "2024-07-15T14:52:26.370439300Z"
    }
   },
   "id": "4f920c56a4f77d89"
  },
  {
   "cell_type": "code",
   "execution_count": 28,
   "outputs": [],
   "source": [
    "value_counts_df = value_counts.reset_index()\n",
    "value_counts_df.to_excel('./city_data.xlsx')"
   ],
   "metadata": {
    "collapsed": false,
    "ExecuteTime": {
     "end_time": "2024-07-15T14:54:09.367217200Z",
     "start_time": "2024-07-15T14:54:09.330957600Z"
    }
   },
   "id": "eb8b0ec1fee3c8c4"
  },
  {
   "cell_type": "code",
   "execution_count": 29,
   "outputs": [
    {
     "data": {
      "text/plain": "                 id            y         city   mar_status          age  \\\ncount   9586.000000  9586.000000  9586.000000  9586.000000  9586.000000   \nmean   17407.288963     0.208116    60.835802     0.674630    33.783851   \nstd    11896.746376     0.405981    42.870351     0.929445     7.970801   \nmin        0.000000     0.000000     0.000000     0.000000    19.000000   \n25%     6723.750000     0.000000    18.000000     0.000000    28.000000   \n50%    15955.000000     0.000000    58.000000     0.000000    32.000000   \n75%    27667.750000     0.000000    96.000000     2.000000    38.000000   \nmax    39992.000000     1.000000   139.000000     2.000000    74.000000   \n\n       xaccount_age     cred_limit  this_bill_rate   this_bill_mp  \\\ncount   9586.000000    9586.000000     9586.000000    9586.000000   \nmean      23.319424   28207.754747        0.484072   10350.697837   \nstd       25.992535   36281.621857        0.478917   16465.242573   \nmin        1.000000       1.000000        0.000000       0.000000   \n25%        7.000000    6500.000000        0.113380    1615.095000   \n50%       14.000000   18250.000000        0.390353    4710.905000   \n75%       23.000000   35000.000000        0.836714   13337.100000   \nmax      145.000000  500000.000000       16.979243  466918.000000   \n\n       last_mp_days  ...  consume_num_session6  consume_num_session3  \\\ncount   9586.000000  ...           9586.000000           9586.000000   \nmean    6481.344982  ...             39.090653             22.223138   \nstd     4675.804474  ...             80.137408             45.614732   \nmin        1.000000  ...              0.000000              0.000000   \n25%      270.000000  ...              6.000000              3.000000   \n50%     9999.000000  ...             15.000000              8.000000   \n75%     9999.000000  ...             38.000000             21.000000   \nmax     9999.000000  ...           1689.000000            904.000000   \n\n       consume_num_session  consume_amt_session12  consume_amt_session6  \\\ncount          9586.000000           9.586000e+03          9.586000e+03   \nmean              8.500104           7.787253e+04          4.657089e+04   \nstd              17.471797           1.487754e+05          8.368861e+04   \nmin               0.000000           0.000000e+00          0.000000e+00   \n25%               1.000000           9.968250e+03          6.503918e+03   \n50%               3.000000           3.118528e+04          2.000000e+04   \n75%               8.000000           8.679100e+04          5.400607e+04   \nmax             271.000000           3.956771e+06          2.655518e+06   \n\n       consume_amt_session3  consume_amt_session  month_avg_use_year  \\\ncount          9.586000e+03          9586.000000         9586.000000   \nmean           2.609166e+04         10028.609751            0.417999   \nstd            4.586500e+04         17378.208793            0.666362   \nmin            0.000000e+00             0.000000            0.000000   \n25%            3.540875e+03           980.000000            0.149661   \n50%            1.164859e+04          4007.855000            0.333157   \n75%            3.174997e+04         12500.000000            0.611760   \nmax            1.451518e+06        492018.000000           48.107143   \n\n       month_avg_use_month6  month_avg_use_month3  \ncount           9586.000000           9586.000000  \nmean               0.419241              0.423327  \nstd                0.733740              0.498816  \nmin                0.000000              0.000000  \n25%                0.135103              0.109368  \n50%                0.328164              0.331909  \n75%                0.628964              0.662721  \nmax               56.125000             25.833333  \n\n[8 rows x 33 columns]",
      "text/html": "<div>\n<style scoped>\n    .dataframe tbody tr th:only-of-type {\n        vertical-align: middle;\n    }\n\n    .dataframe tbody tr th {\n        vertical-align: top;\n    }\n\n    .dataframe thead th {\n        text-align: right;\n    }\n</style>\n<table border=\"1\" class=\"dataframe\">\n  <thead>\n    <tr style=\"text-align: right;\">\n      <th></th>\n      <th>id</th>\n      <th>y</th>\n      <th>city</th>\n      <th>mar_status</th>\n      <th>age</th>\n      <th>xaccount_age</th>\n      <th>cred_limit</th>\n      <th>this_bill_rate</th>\n      <th>this_bill_mp</th>\n      <th>last_mp_days</th>\n      <th>...</th>\n      <th>consume_num_session6</th>\n      <th>consume_num_session3</th>\n      <th>consume_num_session</th>\n      <th>consume_amt_session12</th>\n      <th>consume_amt_session6</th>\n      <th>consume_amt_session3</th>\n      <th>consume_amt_session</th>\n      <th>month_avg_use_year</th>\n      <th>month_avg_use_month6</th>\n      <th>month_avg_use_month3</th>\n    </tr>\n  </thead>\n  <tbody>\n    <tr>\n      <th>count</th>\n      <td>9586.000000</td>\n      <td>9586.000000</td>\n      <td>9586.000000</td>\n      <td>9586.000000</td>\n      <td>9586.000000</td>\n      <td>9586.000000</td>\n      <td>9586.000000</td>\n      <td>9586.000000</td>\n      <td>9586.000000</td>\n      <td>9586.000000</td>\n      <td>...</td>\n      <td>9586.000000</td>\n      <td>9586.000000</td>\n      <td>9586.000000</td>\n      <td>9.586000e+03</td>\n      <td>9.586000e+03</td>\n      <td>9.586000e+03</td>\n      <td>9586.000000</td>\n      <td>9586.000000</td>\n      <td>9586.000000</td>\n      <td>9586.000000</td>\n    </tr>\n    <tr>\n      <th>mean</th>\n      <td>17407.288963</td>\n      <td>0.208116</td>\n      <td>60.835802</td>\n      <td>0.674630</td>\n      <td>33.783851</td>\n      <td>23.319424</td>\n      <td>28207.754747</td>\n      <td>0.484072</td>\n      <td>10350.697837</td>\n      <td>6481.344982</td>\n      <td>...</td>\n      <td>39.090653</td>\n      <td>22.223138</td>\n      <td>8.500104</td>\n      <td>7.787253e+04</td>\n      <td>4.657089e+04</td>\n      <td>2.609166e+04</td>\n      <td>10028.609751</td>\n      <td>0.417999</td>\n      <td>0.419241</td>\n      <td>0.423327</td>\n    </tr>\n    <tr>\n      <th>std</th>\n      <td>11896.746376</td>\n      <td>0.405981</td>\n      <td>42.870351</td>\n      <td>0.929445</td>\n      <td>7.970801</td>\n      <td>25.992535</td>\n      <td>36281.621857</td>\n      <td>0.478917</td>\n      <td>16465.242573</td>\n      <td>4675.804474</td>\n      <td>...</td>\n      <td>80.137408</td>\n      <td>45.614732</td>\n      <td>17.471797</td>\n      <td>1.487754e+05</td>\n      <td>8.368861e+04</td>\n      <td>4.586500e+04</td>\n      <td>17378.208793</td>\n      <td>0.666362</td>\n      <td>0.733740</td>\n      <td>0.498816</td>\n    </tr>\n    <tr>\n      <th>min</th>\n      <td>0.000000</td>\n      <td>0.000000</td>\n      <td>0.000000</td>\n      <td>0.000000</td>\n      <td>19.000000</td>\n      <td>1.000000</td>\n      <td>1.000000</td>\n      <td>0.000000</td>\n      <td>0.000000</td>\n      <td>1.000000</td>\n      <td>...</td>\n      <td>0.000000</td>\n      <td>0.000000</td>\n      <td>0.000000</td>\n      <td>0.000000e+00</td>\n      <td>0.000000e+00</td>\n      <td>0.000000e+00</td>\n      <td>0.000000</td>\n      <td>0.000000</td>\n      <td>0.000000</td>\n      <td>0.000000</td>\n    </tr>\n    <tr>\n      <th>25%</th>\n      <td>6723.750000</td>\n      <td>0.000000</td>\n      <td>18.000000</td>\n      <td>0.000000</td>\n      <td>28.000000</td>\n      <td>7.000000</td>\n      <td>6500.000000</td>\n      <td>0.113380</td>\n      <td>1615.095000</td>\n      <td>270.000000</td>\n      <td>...</td>\n      <td>6.000000</td>\n      <td>3.000000</td>\n      <td>1.000000</td>\n      <td>9.968250e+03</td>\n      <td>6.503918e+03</td>\n      <td>3.540875e+03</td>\n      <td>980.000000</td>\n      <td>0.149661</td>\n      <td>0.135103</td>\n      <td>0.109368</td>\n    </tr>\n    <tr>\n      <th>50%</th>\n      <td>15955.000000</td>\n      <td>0.000000</td>\n      <td>58.000000</td>\n      <td>0.000000</td>\n      <td>32.000000</td>\n      <td>14.000000</td>\n      <td>18250.000000</td>\n      <td>0.390353</td>\n      <td>4710.905000</td>\n      <td>9999.000000</td>\n      <td>...</td>\n      <td>15.000000</td>\n      <td>8.000000</td>\n      <td>3.000000</td>\n      <td>3.118528e+04</td>\n      <td>2.000000e+04</td>\n      <td>1.164859e+04</td>\n      <td>4007.855000</td>\n      <td>0.333157</td>\n      <td>0.328164</td>\n      <td>0.331909</td>\n    </tr>\n    <tr>\n      <th>75%</th>\n      <td>27667.750000</td>\n      <td>0.000000</td>\n      <td>96.000000</td>\n      <td>2.000000</td>\n      <td>38.000000</td>\n      <td>23.000000</td>\n      <td>35000.000000</td>\n      <td>0.836714</td>\n      <td>13337.100000</td>\n      <td>9999.000000</td>\n      <td>...</td>\n      <td>38.000000</td>\n      <td>21.000000</td>\n      <td>8.000000</td>\n      <td>8.679100e+04</td>\n      <td>5.400607e+04</td>\n      <td>3.174997e+04</td>\n      <td>12500.000000</td>\n      <td>0.611760</td>\n      <td>0.628964</td>\n      <td>0.662721</td>\n    </tr>\n    <tr>\n      <th>max</th>\n      <td>39992.000000</td>\n      <td>1.000000</td>\n      <td>139.000000</td>\n      <td>2.000000</td>\n      <td>74.000000</td>\n      <td>145.000000</td>\n      <td>500000.000000</td>\n      <td>16.979243</td>\n      <td>466918.000000</td>\n      <td>9999.000000</td>\n      <td>...</td>\n      <td>1689.000000</td>\n      <td>904.000000</td>\n      <td>271.000000</td>\n      <td>3.956771e+06</td>\n      <td>2.655518e+06</td>\n      <td>1.451518e+06</td>\n      <td>492018.000000</td>\n      <td>48.107143</td>\n      <td>56.125000</td>\n      <td>25.833333</td>\n    </tr>\n  </tbody>\n</table>\n<p>8 rows × 33 columns</p>\n</div>"
     },
     "execution_count": 29,
     "metadata": {},
     "output_type": "execute_result"
    }
   ],
   "source": [
    "df.describe()"
   ],
   "metadata": {
    "collapsed": false,
    "ExecuteTime": {
     "end_time": "2024-07-15T14:56:58.363350900Z",
     "start_time": "2024-07-15T14:56:58.309002200Z"
    }
   },
   "id": "e56b063eef736e75"
  },
  {
   "cell_type": "code",
   "execution_count": 30,
   "outputs": [
    {
     "data": {
      "text/plain": "mar_status\n0    6207\n2    3088\n1     291\nName: count, dtype: int64"
     },
     "execution_count": 30,
     "metadata": {},
     "output_type": "execute_result"
    }
   ],
   "source": [
    "mar_status = df['mar_status'].value_counts()\n",
    "mar_status"
   ],
   "metadata": {
    "collapsed": false,
    "ExecuteTime": {
     "end_time": "2024-07-15T15:00:33.371040200Z",
     "start_time": "2024-07-15T15:00:33.328390Z"
    }
   },
   "id": "9e1c94d41a53254b"
  },
  {
   "cell_type": "code",
   "execution_count": 32,
   "outputs": [],
   "source": [
    "df.to_excel('./handledData.xlsx')"
   ],
   "metadata": {
    "collapsed": false,
    "ExecuteTime": {
     "end_time": "2024-07-15T15:09:50.653398900Z",
     "start_time": "2024-07-15T15:09:47.159533200Z"
    }
   },
   "id": "226488c835de30bd"
  },
  {
   "cell_type": "code",
   "execution_count": 33,
   "outputs": [
    {
     "data": {
      "text/plain": "last_mp_days\n9999    6115\n30       431\n60       195\n91       108\n119       97\n        ... \n522        1\n1058       1\n776        1\n1572       1\n1053       1\nName: count, Length: 752, dtype: int64"
     },
     "execution_count": 33,
     "metadata": {},
     "output_type": "execute_result"
    }
   ],
   "source": [
    "last_mp_days = df['last_mp_days'].value_counts()\n",
    "last_mp_days"
   ],
   "metadata": {
    "collapsed": false,
    "ExecuteTime": {
     "end_time": "2024-07-15T15:43:46.544105200Z",
     "start_time": "2024-07-15T15:43:46.504888900Z"
    }
   },
   "id": "27e2955410326baf"
  },
  {
   "cell_type": "code",
   "execution_count": 34,
   "outputs": [
    {
     "data": {
      "text/plain": "         id  y  city  mar_status  age  xaccount_age  cred_limit  \\\n0         2  0    52           0   32            10       20000   \n1        17  0    35           0   34            17       28500   \n2        22  0    40           0   28            17        5000   \n3        27  0    21           2   26            19       60000   \n4        29  0     1           1   36           138       46000   \n...     ... ..   ...         ...  ...           ...         ...   \n7586  39944  0    33           0   26             7        9500   \n7587  39959  0     1           2   35            95       14000   \n7588  39961  0     4           0   30            20       35000   \n7589  39989  0   126           2   24            10        2000   \n7590  39992  0    18           0   29             2       20000   \n\n      this_bill_rate  this_bill_mp  last_mp_days  ...  consume_num_session6  \\\n0           0.162971       1213.15            15  ...                    17   \n1           0.792989      21336.18          9999  ...                    96   \n2           1.001600       4668.30          9999  ...                    37   \n3           0.990300      56447.10          9999  ...                    70   \n4           0.418607      12171.30            17  ...                    50   \n...              ...           ...           ...  ...                   ...   \n7586        0.972316       8774.88          9999  ...                    14   \n7587        0.061124       1859.08          2388  ...                     0   \n7588        0.068721       2284.98           207  ...                    74   \n7589        0.000000       1628.52          9999  ...                     1   \n7590        0.986600      18745.40          9999  ...                     5   \n\n      consume_num_session3  consume_num_session  consume_amt_session12  \\\n0                       12                    2               70173.00   \n1                       47                   15              206655.62   \n2                       15                    5              227540.00   \n3                       57                   40              549835.93   \n4                        9                    4              361647.76   \n...                    ...                  ...                    ...   \n7586                     8                    1               35835.72   \n7587                     0                    0                   0.00   \n7588                    34                   16              111842.38   \n7589                     0                    0                3999.00   \n7590                     5                    4               19753.88   \n\n      consume_amt_session6  consume_amt_session3  consume_amt_session  \\\n0                 29294.00              16773.00              1249.00   \n1                114284.77              78978.75             22600.20   \n2                 87870.00              14900.00              5000.00   \n3                290014.88             176430.00             59418.00   \n4                197082.29             106119.00             28091.00   \n...                    ...                   ...                  ...   \n7586              32724.21              16218.00              9237.00   \n7587                  0.00                  0.00                 0.00   \n7588              72254.87              31895.10              2385.24   \n7589               2000.00                  0.00                 0.00   \n7590              19753.88              19753.88             19724.00   \n\n      month_avg_use_year  month_avg_use_month6  month_avg_use_month3  \n0               0.350865              0.244117              0.279550  \n1               0.731524              0.703291              0.923728  \n2               0.948083              0.976333              0.993333  \n3               0.872755              0.878833              0.980167  \n4               0.655159              0.714066              0.768978  \n...                  ...                   ...                   ...  \n7586            0.731341              0.761028              0.648720  \n7587            0.000000              0.000000              0.000000  \n7588            0.319550              0.361274              0.303763  \n7589            0.249938              0.166667              0.000000  \n7590            0.493847              0.493847              0.493847  \n\n[7591 rows x 33 columns]",
      "text/html": "<div>\n<style scoped>\n    .dataframe tbody tr th:only-of-type {\n        vertical-align: middle;\n    }\n\n    .dataframe tbody tr th {\n        vertical-align: top;\n    }\n\n    .dataframe thead th {\n        text-align: right;\n    }\n</style>\n<table border=\"1\" class=\"dataframe\">\n  <thead>\n    <tr style=\"text-align: right;\">\n      <th></th>\n      <th>id</th>\n      <th>y</th>\n      <th>city</th>\n      <th>mar_status</th>\n      <th>age</th>\n      <th>xaccount_age</th>\n      <th>cred_limit</th>\n      <th>this_bill_rate</th>\n      <th>this_bill_mp</th>\n      <th>last_mp_days</th>\n      <th>...</th>\n      <th>consume_num_session6</th>\n      <th>consume_num_session3</th>\n      <th>consume_num_session</th>\n      <th>consume_amt_session12</th>\n      <th>consume_amt_session6</th>\n      <th>consume_amt_session3</th>\n      <th>consume_amt_session</th>\n      <th>month_avg_use_year</th>\n      <th>month_avg_use_month6</th>\n      <th>month_avg_use_month3</th>\n    </tr>\n  </thead>\n  <tbody>\n    <tr>\n      <th>0</th>\n      <td>2</td>\n      <td>0</td>\n      <td>52</td>\n      <td>0</td>\n      <td>32</td>\n      <td>10</td>\n      <td>20000</td>\n      <td>0.162971</td>\n      <td>1213.15</td>\n      <td>15</td>\n      <td>...</td>\n      <td>17</td>\n      <td>12</td>\n      <td>2</td>\n      <td>70173.00</td>\n      <td>29294.00</td>\n      <td>16773.00</td>\n      <td>1249.00</td>\n      <td>0.350865</td>\n      <td>0.244117</td>\n      <td>0.279550</td>\n    </tr>\n    <tr>\n      <th>1</th>\n      <td>17</td>\n      <td>0</td>\n      <td>35</td>\n      <td>0</td>\n      <td>34</td>\n      <td>17</td>\n      <td>28500</td>\n      <td>0.792989</td>\n      <td>21336.18</td>\n      <td>9999</td>\n      <td>...</td>\n      <td>96</td>\n      <td>47</td>\n      <td>15</td>\n      <td>206655.62</td>\n      <td>114284.77</td>\n      <td>78978.75</td>\n      <td>22600.20</td>\n      <td>0.731524</td>\n      <td>0.703291</td>\n      <td>0.923728</td>\n    </tr>\n    <tr>\n      <th>2</th>\n      <td>22</td>\n      <td>0</td>\n      <td>40</td>\n      <td>0</td>\n      <td>28</td>\n      <td>17</td>\n      <td>5000</td>\n      <td>1.001600</td>\n      <td>4668.30</td>\n      <td>9999</td>\n      <td>...</td>\n      <td>37</td>\n      <td>15</td>\n      <td>5</td>\n      <td>227540.00</td>\n      <td>87870.00</td>\n      <td>14900.00</td>\n      <td>5000.00</td>\n      <td>0.948083</td>\n      <td>0.976333</td>\n      <td>0.993333</td>\n    </tr>\n    <tr>\n      <th>3</th>\n      <td>27</td>\n      <td>0</td>\n      <td>21</td>\n      <td>2</td>\n      <td>26</td>\n      <td>19</td>\n      <td>60000</td>\n      <td>0.990300</td>\n      <td>56447.10</td>\n      <td>9999</td>\n      <td>...</td>\n      <td>70</td>\n      <td>57</td>\n      <td>40</td>\n      <td>549835.93</td>\n      <td>290014.88</td>\n      <td>176430.00</td>\n      <td>59418.00</td>\n      <td>0.872755</td>\n      <td>0.878833</td>\n      <td>0.980167</td>\n    </tr>\n    <tr>\n      <th>4</th>\n      <td>29</td>\n      <td>0</td>\n      <td>1</td>\n      <td>1</td>\n      <td>36</td>\n      <td>138</td>\n      <td>46000</td>\n      <td>0.418607</td>\n      <td>12171.30</td>\n      <td>17</td>\n      <td>...</td>\n      <td>50</td>\n      <td>9</td>\n      <td>4</td>\n      <td>361647.76</td>\n      <td>197082.29</td>\n      <td>106119.00</td>\n      <td>28091.00</td>\n      <td>0.655159</td>\n      <td>0.714066</td>\n      <td>0.768978</td>\n    </tr>\n    <tr>\n      <th>...</th>\n      <td>...</td>\n      <td>...</td>\n      <td>...</td>\n      <td>...</td>\n      <td>...</td>\n      <td>...</td>\n      <td>...</td>\n      <td>...</td>\n      <td>...</td>\n      <td>...</td>\n      <td>...</td>\n      <td>...</td>\n      <td>...</td>\n      <td>...</td>\n      <td>...</td>\n      <td>...</td>\n      <td>...</td>\n      <td>...</td>\n      <td>...</td>\n      <td>...</td>\n      <td>...</td>\n    </tr>\n    <tr>\n      <th>7586</th>\n      <td>39944</td>\n      <td>0</td>\n      <td>33</td>\n      <td>0</td>\n      <td>26</td>\n      <td>7</td>\n      <td>9500</td>\n      <td>0.972316</td>\n      <td>8774.88</td>\n      <td>9999</td>\n      <td>...</td>\n      <td>14</td>\n      <td>8</td>\n      <td>1</td>\n      <td>35835.72</td>\n      <td>32724.21</td>\n      <td>16218.00</td>\n      <td>9237.00</td>\n      <td>0.731341</td>\n      <td>0.761028</td>\n      <td>0.648720</td>\n    </tr>\n    <tr>\n      <th>7587</th>\n      <td>39959</td>\n      <td>0</td>\n      <td>1</td>\n      <td>2</td>\n      <td>35</td>\n      <td>95</td>\n      <td>14000</td>\n      <td>0.061124</td>\n      <td>1859.08</td>\n      <td>2388</td>\n      <td>...</td>\n      <td>0</td>\n      <td>0</td>\n      <td>0</td>\n      <td>0.00</td>\n      <td>0.00</td>\n      <td>0.00</td>\n      <td>0.00</td>\n      <td>0.000000</td>\n      <td>0.000000</td>\n      <td>0.000000</td>\n    </tr>\n    <tr>\n      <th>7588</th>\n      <td>39961</td>\n      <td>0</td>\n      <td>4</td>\n      <td>0</td>\n      <td>30</td>\n      <td>20</td>\n      <td>35000</td>\n      <td>0.068721</td>\n      <td>2284.98</td>\n      <td>207</td>\n      <td>...</td>\n      <td>74</td>\n      <td>34</td>\n      <td>16</td>\n      <td>111842.38</td>\n      <td>72254.87</td>\n      <td>31895.10</td>\n      <td>2385.24</td>\n      <td>0.319550</td>\n      <td>0.361274</td>\n      <td>0.303763</td>\n    </tr>\n    <tr>\n      <th>7589</th>\n      <td>39989</td>\n      <td>0</td>\n      <td>126</td>\n      <td>2</td>\n      <td>24</td>\n      <td>10</td>\n      <td>2000</td>\n      <td>0.000000</td>\n      <td>1628.52</td>\n      <td>9999</td>\n      <td>...</td>\n      <td>1</td>\n      <td>0</td>\n      <td>0</td>\n      <td>3999.00</td>\n      <td>2000.00</td>\n      <td>0.00</td>\n      <td>0.00</td>\n      <td>0.249938</td>\n      <td>0.166667</td>\n      <td>0.000000</td>\n    </tr>\n    <tr>\n      <th>7590</th>\n      <td>39992</td>\n      <td>0</td>\n      <td>18</td>\n      <td>0</td>\n      <td>29</td>\n      <td>2</td>\n      <td>20000</td>\n      <td>0.986600</td>\n      <td>18745.40</td>\n      <td>9999</td>\n      <td>...</td>\n      <td>5</td>\n      <td>5</td>\n      <td>4</td>\n      <td>19753.88</td>\n      <td>19753.88</td>\n      <td>19753.88</td>\n      <td>19724.00</td>\n      <td>0.493847</td>\n      <td>0.493847</td>\n      <td>0.493847</td>\n    </tr>\n  </tbody>\n</table>\n<p>7591 rows × 33 columns</p>\n</div>"
     },
     "execution_count": 34,
     "metadata": {},
     "output_type": "execute_result"
    }
   ],
   "source": [
    "filt = (df['y'] == 0)\n",
    "df1 = df.loc[filt]\n",
    "df1"
   ],
   "metadata": {
    "collapsed": false,
    "ExecuteTime": {
     "end_time": "2024-07-15T16:06:15.113593900Z",
     "start_time": "2024-07-15T16:06:15.016880500Z"
    }
   },
   "id": "1a3ef91d5750105c"
  },
  {
   "cell_type": "code",
   "execution_count": 35,
   "outputs": [
    {
     "data": {
      "text/plain": "                 id       y         city   mar_status          age  \\\ncount   7591.000000  7591.0  7591.000000  7591.000000  7591.000000   \nmean   20659.067448     0.0    60.598867     0.655908    33.881570   \nstd    11214.197328     0.0    42.869363     0.922364     7.875418   \nmin        2.000000     0.0     0.000000     0.000000    19.000000   \n25%    11406.000000     0.0    18.000000     0.000000    28.000000   \n50%    20999.000000     0.0    58.000000     0.000000    32.000000   \n75%    30095.000000     0.0    96.000000     2.000000    38.000000   \nmax    39992.000000     0.0   139.000000     2.000000    74.000000   \n\n       xaccount_age     cred_limit  this_bill_rate   this_bill_mp  \\\ncount   7591.000000    7591.000000     7591.000000    7591.000000   \nmean      23.757081   27302.889870        0.472998    9927.900399   \nstd       26.304325   35736.394115        0.501338   15833.908068   \nmin        1.000000       1.000000        0.000000       0.000000   \n25%        7.000000    6000.000000        0.088655    1450.890000   \n50%       14.000000   16500.000000        0.362090    4493.500000   \n75%       23.000000   33500.000000        0.850000   13112.855000   \nmax      145.000000  500000.000000       16.979243  466918.000000   \n\n       last_mp_days  ...  consume_num_session6  consume_num_session3  \\\ncount   7591.000000  ...           7591.000000           7591.000000   \nmean    7232.467923  ...             39.619945             22.480174   \nstd     4361.920909  ...             84.091175             47.707120   \nmin        4.000000  ...              0.000000              0.000000   \n25%      865.000000  ...              6.000000              3.000000   \n50%     9999.000000  ...             15.000000              8.000000   \n75%     9999.000000  ...             37.000000             20.000000   \nmax     9999.000000  ...           1689.000000            904.000000   \n\n       consume_num_session  consume_amt_session12  consume_amt_session6  \\\ncount          7591.000000           7.591000e+03          7.591000e+03   \nmean              8.430905           7.699536e+04          4.572183e+04   \nstd              17.853324           1.484236e+05          8.299047e+04   \nmin               0.000000           0.000000e+00          0.000000e+00   \n25%               1.000000           9.269000e+03          6.010400e+03   \n50%               3.000000           3.035949e+04          1.949324e+04   \n75%               8.000000           8.579302e+04          5.368400e+04   \nmax             271.000000           3.956771e+06          2.655518e+06   \n\n       consume_amt_session3  consume_amt_session  month_avg_use_year  \\\ncount          7.591000e+03          7591.000000         7591.000000   \nmean           2.550844e+04          9495.398193            0.427863   \nstd            4.530956e+04         16784.082700            0.733577   \nmin            0.000000e+00             0.000000            0.000000   \n25%            3.157770e+03           697.975000            0.146049   \n50%            1.115585e+04          3686.860000            0.341267   \n75%            3.168698e+04         11998.500000            0.640959   \nmax            1.451518e+06        492018.000000           48.107143   \n\n       month_avg_use_month6  month_avg_use_month3  \ncount           7591.000000           7591.000000  \nmean               0.428822              0.431147  \nstd                0.809599              0.535563  \nmin                0.000000              0.000000  \n25%                0.128511              0.094988  \n50%                0.337389              0.339176  \n75%                0.661208              0.677645  \nmax               56.125000             25.833333  \n\n[8 rows x 33 columns]",
      "text/html": "<div>\n<style scoped>\n    .dataframe tbody tr th:only-of-type {\n        vertical-align: middle;\n    }\n\n    .dataframe tbody tr th {\n        vertical-align: top;\n    }\n\n    .dataframe thead th {\n        text-align: right;\n    }\n</style>\n<table border=\"1\" class=\"dataframe\">\n  <thead>\n    <tr style=\"text-align: right;\">\n      <th></th>\n      <th>id</th>\n      <th>y</th>\n      <th>city</th>\n      <th>mar_status</th>\n      <th>age</th>\n      <th>xaccount_age</th>\n      <th>cred_limit</th>\n      <th>this_bill_rate</th>\n      <th>this_bill_mp</th>\n      <th>last_mp_days</th>\n      <th>...</th>\n      <th>consume_num_session6</th>\n      <th>consume_num_session3</th>\n      <th>consume_num_session</th>\n      <th>consume_amt_session12</th>\n      <th>consume_amt_session6</th>\n      <th>consume_amt_session3</th>\n      <th>consume_amt_session</th>\n      <th>month_avg_use_year</th>\n      <th>month_avg_use_month6</th>\n      <th>month_avg_use_month3</th>\n    </tr>\n  </thead>\n  <tbody>\n    <tr>\n      <th>count</th>\n      <td>7591.000000</td>\n      <td>7591.0</td>\n      <td>7591.000000</td>\n      <td>7591.000000</td>\n      <td>7591.000000</td>\n      <td>7591.000000</td>\n      <td>7591.000000</td>\n      <td>7591.000000</td>\n      <td>7591.000000</td>\n      <td>7591.000000</td>\n      <td>...</td>\n      <td>7591.000000</td>\n      <td>7591.000000</td>\n      <td>7591.000000</td>\n      <td>7.591000e+03</td>\n      <td>7.591000e+03</td>\n      <td>7.591000e+03</td>\n      <td>7591.000000</td>\n      <td>7591.000000</td>\n      <td>7591.000000</td>\n      <td>7591.000000</td>\n    </tr>\n    <tr>\n      <th>mean</th>\n      <td>20659.067448</td>\n      <td>0.0</td>\n      <td>60.598867</td>\n      <td>0.655908</td>\n      <td>33.881570</td>\n      <td>23.757081</td>\n      <td>27302.889870</td>\n      <td>0.472998</td>\n      <td>9927.900399</td>\n      <td>7232.467923</td>\n      <td>...</td>\n      <td>39.619945</td>\n      <td>22.480174</td>\n      <td>8.430905</td>\n      <td>7.699536e+04</td>\n      <td>4.572183e+04</td>\n      <td>2.550844e+04</td>\n      <td>9495.398193</td>\n      <td>0.427863</td>\n      <td>0.428822</td>\n      <td>0.431147</td>\n    </tr>\n    <tr>\n      <th>std</th>\n      <td>11214.197328</td>\n      <td>0.0</td>\n      <td>42.869363</td>\n      <td>0.922364</td>\n      <td>7.875418</td>\n      <td>26.304325</td>\n      <td>35736.394115</td>\n      <td>0.501338</td>\n      <td>15833.908068</td>\n      <td>4361.920909</td>\n      <td>...</td>\n      <td>84.091175</td>\n      <td>47.707120</td>\n      <td>17.853324</td>\n      <td>1.484236e+05</td>\n      <td>8.299047e+04</td>\n      <td>4.530956e+04</td>\n      <td>16784.082700</td>\n      <td>0.733577</td>\n      <td>0.809599</td>\n      <td>0.535563</td>\n    </tr>\n    <tr>\n      <th>min</th>\n      <td>2.000000</td>\n      <td>0.0</td>\n      <td>0.000000</td>\n      <td>0.000000</td>\n      <td>19.000000</td>\n      <td>1.000000</td>\n      <td>1.000000</td>\n      <td>0.000000</td>\n      <td>0.000000</td>\n      <td>4.000000</td>\n      <td>...</td>\n      <td>0.000000</td>\n      <td>0.000000</td>\n      <td>0.000000</td>\n      <td>0.000000e+00</td>\n      <td>0.000000e+00</td>\n      <td>0.000000e+00</td>\n      <td>0.000000</td>\n      <td>0.000000</td>\n      <td>0.000000</td>\n      <td>0.000000</td>\n    </tr>\n    <tr>\n      <th>25%</th>\n      <td>11406.000000</td>\n      <td>0.0</td>\n      <td>18.000000</td>\n      <td>0.000000</td>\n      <td>28.000000</td>\n      <td>7.000000</td>\n      <td>6000.000000</td>\n      <td>0.088655</td>\n      <td>1450.890000</td>\n      <td>865.000000</td>\n      <td>...</td>\n      <td>6.000000</td>\n      <td>3.000000</td>\n      <td>1.000000</td>\n      <td>9.269000e+03</td>\n      <td>6.010400e+03</td>\n      <td>3.157770e+03</td>\n      <td>697.975000</td>\n      <td>0.146049</td>\n      <td>0.128511</td>\n      <td>0.094988</td>\n    </tr>\n    <tr>\n      <th>50%</th>\n      <td>20999.000000</td>\n      <td>0.0</td>\n      <td>58.000000</td>\n      <td>0.000000</td>\n      <td>32.000000</td>\n      <td>14.000000</td>\n      <td>16500.000000</td>\n      <td>0.362090</td>\n      <td>4493.500000</td>\n      <td>9999.000000</td>\n      <td>...</td>\n      <td>15.000000</td>\n      <td>8.000000</td>\n      <td>3.000000</td>\n      <td>3.035949e+04</td>\n      <td>1.949324e+04</td>\n      <td>1.115585e+04</td>\n      <td>3686.860000</td>\n      <td>0.341267</td>\n      <td>0.337389</td>\n      <td>0.339176</td>\n    </tr>\n    <tr>\n      <th>75%</th>\n      <td>30095.000000</td>\n      <td>0.0</td>\n      <td>96.000000</td>\n      <td>2.000000</td>\n      <td>38.000000</td>\n      <td>23.000000</td>\n      <td>33500.000000</td>\n      <td>0.850000</td>\n      <td>13112.855000</td>\n      <td>9999.000000</td>\n      <td>...</td>\n      <td>37.000000</td>\n      <td>20.000000</td>\n      <td>8.000000</td>\n      <td>8.579302e+04</td>\n      <td>5.368400e+04</td>\n      <td>3.168698e+04</td>\n      <td>11998.500000</td>\n      <td>0.640959</td>\n      <td>0.661208</td>\n      <td>0.677645</td>\n    </tr>\n    <tr>\n      <th>max</th>\n      <td>39992.000000</td>\n      <td>0.0</td>\n      <td>139.000000</td>\n      <td>2.000000</td>\n      <td>74.000000</td>\n      <td>145.000000</td>\n      <td>500000.000000</td>\n      <td>16.979243</td>\n      <td>466918.000000</td>\n      <td>9999.000000</td>\n      <td>...</td>\n      <td>1689.000000</td>\n      <td>904.000000</td>\n      <td>271.000000</td>\n      <td>3.956771e+06</td>\n      <td>2.655518e+06</td>\n      <td>1.451518e+06</td>\n      <td>492018.000000</td>\n      <td>48.107143</td>\n      <td>56.125000</td>\n      <td>25.833333</td>\n    </tr>\n  </tbody>\n</table>\n<p>8 rows × 33 columns</p>\n</div>"
     },
     "execution_count": 35,
     "metadata": {},
     "output_type": "execute_result"
    }
   ],
   "source": [
    "df1.describe()"
   ],
   "metadata": {
    "collapsed": false,
    "ExecuteTime": {
     "end_time": "2024-07-15T16:07:41.060722800Z",
     "start_time": "2024-07-15T16:07:41.006321100Z"
    }
   },
   "id": "217209c5da2c9142"
  },
  {
   "cell_type": "code",
   "execution_count": 36,
   "outputs": [
    {
     "data": {
      "text/plain": "        id  y  city  mar_status  age  xaccount_age  cred_limit  \\\n7591     0  1    26           0   54             4        6000   \n7592     8  1    70           0   34             6       20000   \n7593     9  1   115           0   30            15       15000   \n7594    13  1    46           0   50            10       15000   \n7595    31  1    88           0   31            15       30000   \n...    ... ..   ...         ...  ...           ...         ...   \n9581  9984  1    89           0   34            22        2000   \n9582  9989  1   104           0   53             7        2250   \n9583  9990  1    16           0   34            15       50000   \n9584  9993  1    72           0   38             7       30000   \n9585  9996  1   125           0   32            12       30000   \n\n      this_bill_rate  this_bill_mp  last_mp_days  ...  consume_num_session6  \\\n7591        0.286285       1145.66            30  ...                     5   \n7592        0.727625      10685.60          9999  ...                     8   \n7593        0.455937       4047.43            60  ...                    31   \n7594        0.275994       1842.62            15  ...                    22   \n7595        0.831862       9199.06            30  ...                    40   \n...              ...           ...           ...  ...                   ...   \n9581        0.449645        628.90            91  ...                     3   \n9582        0.993333       2123.25          9999  ...                    10   \n9583        0.910246      43095.68            48  ...                   574   \n9584        0.785324       1919.84            60  ...                    12   \n9585        0.331781       3471.77            30  ...                     8   \n\n      consume_num_session3  consume_num_session  consume_amt_session12  \\\n7591                     2                    1                7380.50   \n7592                     5                    2               45413.00   \n7593                    15                    4               41302.65   \n7594                    15                    4               47115.60   \n7595                    19                    9              157826.20   \n...                    ...                  ...                    ...   \n9581                     1                    1                3690.00   \n9582                     3                    1                6686.40   \n9583                   316                   99              115663.39   \n9584                     6                    2               49016.98   \n9585                     3                    1               87834.88   \n\n      consume_amt_session6  consume_amt_session3  consume_amt_session  \\\n7591               7380.50               1710.00              1198.00   \n7592              45413.00              25586.00             11240.00   \n7593              21854.58              10647.00              5555.00   \n7594              20640.87              10144.59              1915.60   \n7595              89330.00              41330.00             23230.00   \n...                    ...                   ...                  ...   \n9581               1590.00                590.00               590.00   \n9582               6686.40               3335.00              2235.00   \n9583             106099.52              60494.63             46174.58   \n9584              41516.98              35927.68             20800.88   \n9585              29252.62              17718.00              6392.00   \n\n      month_avg_use_year  month_avg_use_month6  month_avg_use_month3  \n7591            0.307521              0.307521              0.095000  \n7592            0.378442              0.378442              0.426433  \n7593            0.229459              0.242829              0.236600  \n7594            0.314104              0.229343              0.225435  \n7595            0.493207              0.496278              0.459222  \n...                  ...                   ...                   ...  \n9581            0.153750              0.132500              0.098333  \n9582            0.495289              0.495289              0.494074  \n9583            0.192772              0.353665              0.403298  \n9584            0.272317              0.259481              0.399196  \n9585            0.266166              0.162515              0.196867  \n\n[1995 rows x 33 columns]",
      "text/html": "<div>\n<style scoped>\n    .dataframe tbody tr th:only-of-type {\n        vertical-align: middle;\n    }\n\n    .dataframe tbody tr th {\n        vertical-align: top;\n    }\n\n    .dataframe thead th {\n        text-align: right;\n    }\n</style>\n<table border=\"1\" class=\"dataframe\">\n  <thead>\n    <tr style=\"text-align: right;\">\n      <th></th>\n      <th>id</th>\n      <th>y</th>\n      <th>city</th>\n      <th>mar_status</th>\n      <th>age</th>\n      <th>xaccount_age</th>\n      <th>cred_limit</th>\n      <th>this_bill_rate</th>\n      <th>this_bill_mp</th>\n      <th>last_mp_days</th>\n      <th>...</th>\n      <th>consume_num_session6</th>\n      <th>consume_num_session3</th>\n      <th>consume_num_session</th>\n      <th>consume_amt_session12</th>\n      <th>consume_amt_session6</th>\n      <th>consume_amt_session3</th>\n      <th>consume_amt_session</th>\n      <th>month_avg_use_year</th>\n      <th>month_avg_use_month6</th>\n      <th>month_avg_use_month3</th>\n    </tr>\n  </thead>\n  <tbody>\n    <tr>\n      <th>7591</th>\n      <td>0</td>\n      <td>1</td>\n      <td>26</td>\n      <td>0</td>\n      <td>54</td>\n      <td>4</td>\n      <td>6000</td>\n      <td>0.286285</td>\n      <td>1145.66</td>\n      <td>30</td>\n      <td>...</td>\n      <td>5</td>\n      <td>2</td>\n      <td>1</td>\n      <td>7380.50</td>\n      <td>7380.50</td>\n      <td>1710.00</td>\n      <td>1198.00</td>\n      <td>0.307521</td>\n      <td>0.307521</td>\n      <td>0.095000</td>\n    </tr>\n    <tr>\n      <th>7592</th>\n      <td>8</td>\n      <td>1</td>\n      <td>70</td>\n      <td>0</td>\n      <td>34</td>\n      <td>6</td>\n      <td>20000</td>\n      <td>0.727625</td>\n      <td>10685.60</td>\n      <td>9999</td>\n      <td>...</td>\n      <td>8</td>\n      <td>5</td>\n      <td>2</td>\n      <td>45413.00</td>\n      <td>45413.00</td>\n      <td>25586.00</td>\n      <td>11240.00</td>\n      <td>0.378442</td>\n      <td>0.378442</td>\n      <td>0.426433</td>\n    </tr>\n    <tr>\n      <th>7593</th>\n      <td>9</td>\n      <td>1</td>\n      <td>115</td>\n      <td>0</td>\n      <td>30</td>\n      <td>15</td>\n      <td>15000</td>\n      <td>0.455937</td>\n      <td>4047.43</td>\n      <td>60</td>\n      <td>...</td>\n      <td>31</td>\n      <td>15</td>\n      <td>4</td>\n      <td>41302.65</td>\n      <td>21854.58</td>\n      <td>10647.00</td>\n      <td>5555.00</td>\n      <td>0.229459</td>\n      <td>0.242829</td>\n      <td>0.236600</td>\n    </tr>\n    <tr>\n      <th>7594</th>\n      <td>13</td>\n      <td>1</td>\n      <td>46</td>\n      <td>0</td>\n      <td>50</td>\n      <td>10</td>\n      <td>15000</td>\n      <td>0.275994</td>\n      <td>1842.62</td>\n      <td>15</td>\n      <td>...</td>\n      <td>22</td>\n      <td>15</td>\n      <td>4</td>\n      <td>47115.60</td>\n      <td>20640.87</td>\n      <td>10144.59</td>\n      <td>1915.60</td>\n      <td>0.314104</td>\n      <td>0.229343</td>\n      <td>0.225435</td>\n    </tr>\n    <tr>\n      <th>7595</th>\n      <td>31</td>\n      <td>1</td>\n      <td>88</td>\n      <td>0</td>\n      <td>31</td>\n      <td>15</td>\n      <td>30000</td>\n      <td>0.831862</td>\n      <td>9199.06</td>\n      <td>30</td>\n      <td>...</td>\n      <td>40</td>\n      <td>19</td>\n      <td>9</td>\n      <td>157826.20</td>\n      <td>89330.00</td>\n      <td>41330.00</td>\n      <td>23230.00</td>\n      <td>0.493207</td>\n      <td>0.496278</td>\n      <td>0.459222</td>\n    </tr>\n    <tr>\n      <th>...</th>\n      <td>...</td>\n      <td>...</td>\n      <td>...</td>\n      <td>...</td>\n      <td>...</td>\n      <td>...</td>\n      <td>...</td>\n      <td>...</td>\n      <td>...</td>\n      <td>...</td>\n      <td>...</td>\n      <td>...</td>\n      <td>...</td>\n      <td>...</td>\n      <td>...</td>\n      <td>...</td>\n      <td>...</td>\n      <td>...</td>\n      <td>...</td>\n      <td>...</td>\n      <td>...</td>\n    </tr>\n    <tr>\n      <th>9581</th>\n      <td>9984</td>\n      <td>1</td>\n      <td>89</td>\n      <td>0</td>\n      <td>34</td>\n      <td>22</td>\n      <td>2000</td>\n      <td>0.449645</td>\n      <td>628.90</td>\n      <td>91</td>\n      <td>...</td>\n      <td>3</td>\n      <td>1</td>\n      <td>1</td>\n      <td>3690.00</td>\n      <td>1590.00</td>\n      <td>590.00</td>\n      <td>590.00</td>\n      <td>0.153750</td>\n      <td>0.132500</td>\n      <td>0.098333</td>\n    </tr>\n    <tr>\n      <th>9582</th>\n      <td>9989</td>\n      <td>1</td>\n      <td>104</td>\n      <td>0</td>\n      <td>53</td>\n      <td>7</td>\n      <td>2250</td>\n      <td>0.993333</td>\n      <td>2123.25</td>\n      <td>9999</td>\n      <td>...</td>\n      <td>10</td>\n      <td>3</td>\n      <td>1</td>\n      <td>6686.40</td>\n      <td>6686.40</td>\n      <td>3335.00</td>\n      <td>2235.00</td>\n      <td>0.495289</td>\n      <td>0.495289</td>\n      <td>0.494074</td>\n    </tr>\n    <tr>\n      <th>9583</th>\n      <td>9990</td>\n      <td>1</td>\n      <td>16</td>\n      <td>0</td>\n      <td>34</td>\n      <td>15</td>\n      <td>50000</td>\n      <td>0.910246</td>\n      <td>43095.68</td>\n      <td>48</td>\n      <td>...</td>\n      <td>574</td>\n      <td>316</td>\n      <td>99</td>\n      <td>115663.39</td>\n      <td>106099.52</td>\n      <td>60494.63</td>\n      <td>46174.58</td>\n      <td>0.192772</td>\n      <td>0.353665</td>\n      <td>0.403298</td>\n    </tr>\n    <tr>\n      <th>9584</th>\n      <td>9993</td>\n      <td>1</td>\n      <td>72</td>\n      <td>0</td>\n      <td>38</td>\n      <td>7</td>\n      <td>30000</td>\n      <td>0.785324</td>\n      <td>1919.84</td>\n      <td>60</td>\n      <td>...</td>\n      <td>12</td>\n      <td>6</td>\n      <td>2</td>\n      <td>49016.98</td>\n      <td>41516.98</td>\n      <td>35927.68</td>\n      <td>20800.88</td>\n      <td>0.272317</td>\n      <td>0.259481</td>\n      <td>0.399196</td>\n    </tr>\n    <tr>\n      <th>9585</th>\n      <td>9996</td>\n      <td>1</td>\n      <td>125</td>\n      <td>0</td>\n      <td>32</td>\n      <td>12</td>\n      <td>30000</td>\n      <td>0.331781</td>\n      <td>3471.77</td>\n      <td>30</td>\n      <td>...</td>\n      <td>8</td>\n      <td>3</td>\n      <td>1</td>\n      <td>87834.88</td>\n      <td>29252.62</td>\n      <td>17718.00</td>\n      <td>6392.00</td>\n      <td>0.266166</td>\n      <td>0.162515</td>\n      <td>0.196867</td>\n    </tr>\n  </tbody>\n</table>\n<p>1995 rows × 33 columns</p>\n</div>"
     },
     "execution_count": 36,
     "metadata": {},
     "output_type": "execute_result"
    }
   ],
   "source": [
    "filt = (df['y'] == 1)\n",
    "df2 = df.loc[filt]\n",
    "df2"
   ],
   "metadata": {
    "collapsed": false,
    "ExecuteTime": {
     "end_time": "2024-07-15T16:08:32.621290300Z",
     "start_time": "2024-07-15T16:08:32.532708300Z"
    }
   },
   "id": "77198a94399a80ff"
  },
  {
   "cell_type": "code",
   "execution_count": 38,
   "outputs": [
    {
     "data": {
      "text/plain": "                id       y         city   mar_status          age  \\\ncount  1995.000000  1995.0  1995.000000  1995.000000  1995.000000   \nmean   5034.231078     1.0    61.737343     0.745865    33.412030   \nstd    2867.646064     0.0    42.872887     0.952785     8.315292   \nmin       0.000000     1.0     0.000000     0.000000    19.000000   \n25%    2507.500000     1.0    19.000000     0.000000    27.000000   \n50%    5171.000000     1.0    59.000000     0.000000    32.000000   \n75%    7522.500000     1.0    96.000000     2.000000    38.000000   \nmax    9996.000000     1.0   139.000000     2.000000    62.000000   \n\n       xaccount_age     cred_limit  this_bill_rate   this_bill_mp  \\\ncount   1995.000000    1995.000000     1995.000000    1995.000000   \nmean      21.654135   31650.776942        0.526210   11959.447388   \nstd       24.705886   38098.590011        0.378908   18590.028022   \nmin        1.000000    2000.000000        0.000000     450.000000   \n25%        6.000000    8000.000000        0.233150    1974.420000   \n50%       12.000000   20000.000000        0.443801    5451.160000   \n75%       22.000000   40500.000000        0.804148   14208.095000   \nmax      121.000000  300000.000000        4.369665  189947.160000   \n\n       last_mp_days  ...  consume_num_session6  consume_num_session3  \\\ncount   1995.000000  ...           1995.000000           1995.000000   \nmean    3623.312782  ...             37.076692             21.245113   \nstd     4727.777760  ...             62.837172             36.568790   \nmin        1.000000  ...              0.000000              0.000000   \n25%       30.000000  ...              8.000000              4.000000   \n50%      150.000000  ...             18.000000              9.000000   \n75%     9999.000000  ...             40.000000             22.000000   \nmax     9999.000000  ...            835.000000            424.000000   \n\n       consume_num_session  consume_amt_session12  consume_amt_session6  \\\ncount          1995.000000           1.995000e+03          1.995000e+03   \nmean              8.763409           8.121016e+04          4.980159e+04   \nstd              15.938264           1.500971e+05          8.623831e+04   \nmin               0.000000           0.000000e+00          0.000000e+00   \n25%               2.000000           1.223865e+04          8.324050e+03   \n50%               4.000000           3.351713e+04          2.182310e+04   \n75%               9.000000           9.027444e+04          5.482775e+04   \nmax             257.000000           2.303081e+06          1.191000e+06   \n\n       consume_amt_session3  consume_amt_session  month_avg_use_year  \\\ncount           1995.000000          1995.000000         1995.000000   \nmean           28310.812030         12057.486411            0.380464   \nstd            47866.410124         19344.524070            0.290359   \nmin                0.000000             0.000000            0.000000   \n25%             4916.920000          2000.000000            0.159040   \n50%            12872.480000          5500.000000            0.306112   \n75%            32138.650000         14066.630000            0.517112   \nmax           597053.150000        199598.000000            2.559054   \n\n       month_avg_use_month6  month_avg_use_month3  \ncount           1995.000000           1995.000000  \nmean               0.382783              0.393571  \nstd                0.302197              0.321155  \nmin                0.000000              0.000000  \n25%                0.150011              0.143480  \n50%                0.298056              0.301500  \n75%                0.524563              0.561955  \nmax                2.913479              2.512912  \n\n[8 rows x 33 columns]",
      "text/html": "<div>\n<style scoped>\n    .dataframe tbody tr th:only-of-type {\n        vertical-align: middle;\n    }\n\n    .dataframe tbody tr th {\n        vertical-align: top;\n    }\n\n    .dataframe thead th {\n        text-align: right;\n    }\n</style>\n<table border=\"1\" class=\"dataframe\">\n  <thead>\n    <tr style=\"text-align: right;\">\n      <th></th>\n      <th>id</th>\n      <th>y</th>\n      <th>city</th>\n      <th>mar_status</th>\n      <th>age</th>\n      <th>xaccount_age</th>\n      <th>cred_limit</th>\n      <th>this_bill_rate</th>\n      <th>this_bill_mp</th>\n      <th>last_mp_days</th>\n      <th>...</th>\n      <th>consume_num_session6</th>\n      <th>consume_num_session3</th>\n      <th>consume_num_session</th>\n      <th>consume_amt_session12</th>\n      <th>consume_amt_session6</th>\n      <th>consume_amt_session3</th>\n      <th>consume_amt_session</th>\n      <th>month_avg_use_year</th>\n      <th>month_avg_use_month6</th>\n      <th>month_avg_use_month3</th>\n    </tr>\n  </thead>\n  <tbody>\n    <tr>\n      <th>count</th>\n      <td>1995.000000</td>\n      <td>1995.0</td>\n      <td>1995.000000</td>\n      <td>1995.000000</td>\n      <td>1995.000000</td>\n      <td>1995.000000</td>\n      <td>1995.000000</td>\n      <td>1995.000000</td>\n      <td>1995.000000</td>\n      <td>1995.000000</td>\n      <td>...</td>\n      <td>1995.000000</td>\n      <td>1995.000000</td>\n      <td>1995.000000</td>\n      <td>1.995000e+03</td>\n      <td>1.995000e+03</td>\n      <td>1995.000000</td>\n      <td>1995.000000</td>\n      <td>1995.000000</td>\n      <td>1995.000000</td>\n      <td>1995.000000</td>\n    </tr>\n    <tr>\n      <th>mean</th>\n      <td>5034.231078</td>\n      <td>1.0</td>\n      <td>61.737343</td>\n      <td>0.745865</td>\n      <td>33.412030</td>\n      <td>21.654135</td>\n      <td>31650.776942</td>\n      <td>0.526210</td>\n      <td>11959.447388</td>\n      <td>3623.312782</td>\n      <td>...</td>\n      <td>37.076692</td>\n      <td>21.245113</td>\n      <td>8.763409</td>\n      <td>8.121016e+04</td>\n      <td>4.980159e+04</td>\n      <td>28310.812030</td>\n      <td>12057.486411</td>\n      <td>0.380464</td>\n      <td>0.382783</td>\n      <td>0.393571</td>\n    </tr>\n    <tr>\n      <th>std</th>\n      <td>2867.646064</td>\n      <td>0.0</td>\n      <td>42.872887</td>\n      <td>0.952785</td>\n      <td>8.315292</td>\n      <td>24.705886</td>\n      <td>38098.590011</td>\n      <td>0.378908</td>\n      <td>18590.028022</td>\n      <td>4727.777760</td>\n      <td>...</td>\n      <td>62.837172</td>\n      <td>36.568790</td>\n      <td>15.938264</td>\n      <td>1.500971e+05</td>\n      <td>8.623831e+04</td>\n      <td>47866.410124</td>\n      <td>19344.524070</td>\n      <td>0.290359</td>\n      <td>0.302197</td>\n      <td>0.321155</td>\n    </tr>\n    <tr>\n      <th>min</th>\n      <td>0.000000</td>\n      <td>1.0</td>\n      <td>0.000000</td>\n      <td>0.000000</td>\n      <td>19.000000</td>\n      <td>1.000000</td>\n      <td>2000.000000</td>\n      <td>0.000000</td>\n      <td>450.000000</td>\n      <td>1.000000</td>\n      <td>...</td>\n      <td>0.000000</td>\n      <td>0.000000</td>\n      <td>0.000000</td>\n      <td>0.000000e+00</td>\n      <td>0.000000e+00</td>\n      <td>0.000000</td>\n      <td>0.000000</td>\n      <td>0.000000</td>\n      <td>0.000000</td>\n      <td>0.000000</td>\n    </tr>\n    <tr>\n      <th>25%</th>\n      <td>2507.500000</td>\n      <td>1.0</td>\n      <td>19.000000</td>\n      <td>0.000000</td>\n      <td>27.000000</td>\n      <td>6.000000</td>\n      <td>8000.000000</td>\n      <td>0.233150</td>\n      <td>1974.420000</td>\n      <td>30.000000</td>\n      <td>...</td>\n      <td>8.000000</td>\n      <td>4.000000</td>\n      <td>2.000000</td>\n      <td>1.223865e+04</td>\n      <td>8.324050e+03</td>\n      <td>4916.920000</td>\n      <td>2000.000000</td>\n      <td>0.159040</td>\n      <td>0.150011</td>\n      <td>0.143480</td>\n    </tr>\n    <tr>\n      <th>50%</th>\n      <td>5171.000000</td>\n      <td>1.0</td>\n      <td>59.000000</td>\n      <td>0.000000</td>\n      <td>32.000000</td>\n      <td>12.000000</td>\n      <td>20000.000000</td>\n      <td>0.443801</td>\n      <td>5451.160000</td>\n      <td>150.000000</td>\n      <td>...</td>\n      <td>18.000000</td>\n      <td>9.000000</td>\n      <td>4.000000</td>\n      <td>3.351713e+04</td>\n      <td>2.182310e+04</td>\n      <td>12872.480000</td>\n      <td>5500.000000</td>\n      <td>0.306112</td>\n      <td>0.298056</td>\n      <td>0.301500</td>\n    </tr>\n    <tr>\n      <th>75%</th>\n      <td>7522.500000</td>\n      <td>1.0</td>\n      <td>96.000000</td>\n      <td>2.000000</td>\n      <td>38.000000</td>\n      <td>22.000000</td>\n      <td>40500.000000</td>\n      <td>0.804148</td>\n      <td>14208.095000</td>\n      <td>9999.000000</td>\n      <td>...</td>\n      <td>40.000000</td>\n      <td>22.000000</td>\n      <td>9.000000</td>\n      <td>9.027444e+04</td>\n      <td>5.482775e+04</td>\n      <td>32138.650000</td>\n      <td>14066.630000</td>\n      <td>0.517112</td>\n      <td>0.524563</td>\n      <td>0.561955</td>\n    </tr>\n    <tr>\n      <th>max</th>\n      <td>9996.000000</td>\n      <td>1.0</td>\n      <td>139.000000</td>\n      <td>2.000000</td>\n      <td>62.000000</td>\n      <td>121.000000</td>\n      <td>300000.000000</td>\n      <td>4.369665</td>\n      <td>189947.160000</td>\n      <td>9999.000000</td>\n      <td>...</td>\n      <td>835.000000</td>\n      <td>424.000000</td>\n      <td>257.000000</td>\n      <td>2.303081e+06</td>\n      <td>1.191000e+06</td>\n      <td>597053.150000</td>\n      <td>199598.000000</td>\n      <td>2.559054</td>\n      <td>2.913479</td>\n      <td>2.512912</td>\n    </tr>\n  </tbody>\n</table>\n<p>8 rows × 33 columns</p>\n</div>"
     },
     "execution_count": 38,
     "metadata": {},
     "output_type": "execute_result"
    }
   ],
   "source": [
    "df2.describe()"
   ],
   "metadata": {
    "collapsed": false,
    "ExecuteTime": {
     "end_time": "2024-07-15T16:08:45.887410600Z",
     "start_time": "2024-07-15T16:08:45.805121800Z"
    }
   },
   "id": "bd3f7325ed0d2b"
  },
  {
   "cell_type": "code",
   "outputs": [],
   "source": [
    "import random"
   ],
   "metadata": {
    "collapsed": false
   },
   "id": "b92a94c386e06d02",
   "execution_count": null
  },
  {
   "cell_type": "code",
   "outputs": [],
   "source": [
    "random.randint(0, 4)"
   ],
   "metadata": {
    "collapsed": false
   },
   "id": "c4841f6f78e223bb",
   "execution_count": null
  },
  {
   "cell_type": "code",
   "outputs": [
    {
     "ename": "NameError",
     "evalue": "name 'np' is not defined",
     "output_type": "error",
     "traceback": [
      "\u001B[0;31m---------------------------------------------------------------------------\u001B[0m",
      "\u001B[0;31mNameError\u001B[0m                                 Traceback (most recent call last)",
      "Cell \u001B[0;32mIn[1], line 4\u001B[0m\n\u001B[1;32m      1\u001B[0m \u001B[38;5;28;01mimport\u001B[39;00m \u001B[38;5;21;01mrandom\u001B[39;00m\n\u001B[1;32m      3\u001B[0m random\u001B[38;5;241m.\u001B[39mrandint(\u001B[38;5;241m0\u001B[39m, \u001B[38;5;241m4\u001B[39m)\n\u001B[0;32m----> 4\u001B[0m part1 \u001B[38;5;241m=\u001B[39m \u001B[43mnp\u001B[49m\u001B[38;5;241m.\u001B[39marray([i \u001B[38;5;28;01mfor\u001B[39;00m i \u001B[38;5;129;01min\u001B[39;00m \u001B[38;5;28mrange\u001B[39m(\u001B[38;5;241m1\u001B[39m, \u001B[38;5;241m21\u001B[39m)])\n\u001B[1;32m      5\u001B[0m part1\n",
      "\u001B[0;31mNameError\u001B[0m: name 'np' is not defined"
     ]
    }
   ],
   "source": [
    "part1 = np.array([i for i in range(1, 21)])\n",
    "part1"
   ],
   "metadata": {
    "collapsed": false
   },
   "id": "ba5d91da54d23509",
   "execution_count": 1
  },
  {
   "cell_type": "code",
   "outputs": [],
   "source": [],
   "metadata": {
    "collapsed": false
   },
   "id": "72f33ba6e69e8954"
  }
 ],
 "metadata": {
  "kernelspec": {
   "display_name": "Python 3",
   "language": "python",
   "name": "python3"
  },
  "language_info": {
   "codemirror_mode": {
    "name": "ipython",
    "version": 2
   },
   "file_extension": ".py",
   "mimetype": "text/x-python",
   "name": "python",
   "nbconvert_exporter": "python",
   "pygments_lexer": "ipython2",
   "version": "2.7.6"
  }
 },
 "nbformat": 4,
 "nbformat_minor": 5
}
