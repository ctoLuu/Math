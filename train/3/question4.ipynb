{
 "cells": [
  {
   "cell_type": "code",
   "execution_count": 354,
   "id": "initial_id",
   "metadata": {
    "collapsed": true,
    "ExecuteTime": {
     "end_time": "2024-07-18T00:32:48.840814Z",
     "start_time": "2024-07-18T00:32:48.837472Z"
    }
   },
   "outputs": [],
   "source": [
    "import pandas as pd\n",
    "import numpy as np\n",
    "from sklearn.decomposition import PCA\n",
    "from sklearn.preprocessing import StandardScaler, MinMaxScaler"
   ]
  },
  {
   "cell_type": "code",
   "outputs": [],
   "source": [
    "def getFeatures(factor):\n",
    "    scaler = StandardScaler(with_mean=False, with_std=True)\n",
    "    df_scaled = scaler.fit_transform(factor)\n",
    "    pca = PCA(n_components=1)\n",
    "    transformed_data = pca.fit_transform(df_scaled)\n",
    "    print(pca.explained_variance_ratio_)\n",
    "    return transformed_data"
   ],
   "metadata": {
    "collapsed": false,
    "ExecuteTime": {
     "end_time": "2024-07-18T00:32:48.862241Z",
     "start_time": "2024-07-18T00:32:48.859483Z"
    }
   },
   "id": "fa87708dd17123b9",
   "execution_count": 355
  },
  {
   "cell_type": "code",
   "outputs": [
    {
     "name": "stdout",
     "output_type": "stream",
     "text": [
      "      Unnamed: 0    id  y  city  mar_status  age  xaccount_age  cred_limit  \\\n",
      "0              0     2  0    52           0   32            10       20000   \n",
      "1              1    17  0    35           0   34            17       28500   \n",
      "2              2    22  0    40           0   28            17        5000   \n",
      "3              3    27  0    21           2   26            19       60000   \n",
      "4              4    29  0     1           1   36           138       46000   \n",
      "...          ...   ... ..   ...         ...  ...           ...         ...   \n",
      "9581        9581  9984  1    89           0   34            22        2000   \n",
      "9582        9582  9989  1   104           0   53             7        2250   \n",
      "9583        9583  9990  1    16           0   34            15       50000   \n",
      "9584        9584  9993  1    72           0   38             7       30000   \n",
      "9585        9585  9996  1   125           0   32            12       30000   \n",
      "\n",
      "      this_bill_rate  this_bill_mp  ...  consume_num_session6  \\\n",
      "0           0.162971       1213.15  ...                    17   \n",
      "1           0.792989      21336.18  ...                    96   \n",
      "2           1.001600       4668.30  ...                    37   \n",
      "3           0.990300      56447.10  ...                    70   \n",
      "4           0.418607      12171.30  ...                    50   \n",
      "...              ...           ...  ...                   ...   \n",
      "9581        0.449645        628.90  ...                     3   \n",
      "9582        0.993333       2123.25  ...                    10   \n",
      "9583        0.910246      43095.68  ...                   574   \n",
      "9584        0.785324       1919.84  ...                    12   \n",
      "9585        0.331781       3471.77  ...                     8   \n",
      "\n",
      "      consume_num_session3  consume_num_session  consume_amt_session12  \\\n",
      "0                       12                    2               70173.00   \n",
      "1                       47                   15              206655.62   \n",
      "2                       15                    5              227540.00   \n",
      "3                       57                   40              549835.93   \n",
      "4                        9                    4              361647.76   \n",
      "...                    ...                  ...                    ...   \n",
      "9581                     1                    1                3690.00   \n",
      "9582                     3                    1                6686.40   \n",
      "9583                   316                   99              115663.39   \n",
      "9584                     6                    2               49016.98   \n",
      "9585                     3                    1               87834.88   \n",
      "\n",
      "      consume_amt_session6  consume_amt_session3  consume_amt_session  \\\n",
      "0                 29294.00              16773.00              1249.00   \n",
      "1                114284.77              78978.75             22600.20   \n",
      "2                 87870.00              14900.00              5000.00   \n",
      "3                290014.88             176430.00             59418.00   \n",
      "4                197082.29             106119.00             28091.00   \n",
      "...                    ...                   ...                  ...   \n",
      "9581               1590.00                590.00               590.00   \n",
      "9582               6686.40               3335.00              2235.00   \n",
      "9583             106099.52              60494.63             46174.58   \n",
      "9584              41516.98              35927.68             20800.88   \n",
      "9585              29252.62              17718.00              6392.00   \n",
      "\n",
      "      month_avg_use_year  month_avg_use_month6  month_avg_use_month3  \n",
      "0               0.350865              0.244117              0.279550  \n",
      "1               0.731524              0.703291              0.923728  \n",
      "2               0.948083              0.976333              0.993333  \n",
      "3               0.872755              0.878833              0.980167  \n",
      "4               0.655159              0.714066              0.768978  \n",
      "...                  ...                   ...                   ...  \n",
      "9581            0.153750              0.132500              0.098333  \n",
      "9582            0.495289              0.495289              0.494074  \n",
      "9583            0.192772              0.353665              0.403298  \n",
      "9584            0.272317              0.259481              0.399196  \n",
      "9585            0.266166              0.162515              0.196867  \n",
      "\n",
      "[9586 rows x 34 columns]\n"
     ]
    }
   ],
   "source": [
    "df = pd.read_excel('./handledData.xlsx')\n",
    "print(df)\n",
    "\n",
    "factor_R = df[[\"last_mp_days\"]]\n",
    "factor_F = df[['consume_num_session12', 'consume_num_session6', 'consume_num_session3',\n",
    "               'consume_num_session', 'six_bill_num', 'six_cycle_mp_num', 'epp_nbr_12m'\n",
    "               ]]\n",
    "factor_M = df[['six_bill_avg_amt', 'consume_amt_session12', 'consume_amt_session6',\n",
    "               'consume_amt_session3', 'consume_amt_session', 'six_cycle_mp_avg_amt'\n",
    "               ]]\n",
    "factor_N = df[['six_bill_low_repay_num', 'six_bill_avg_debt_rate']]"
   ],
   "metadata": {
    "collapsed": false,
    "ExecuteTime": {
     "end_time": "2024-07-18T00:32:50.732445Z",
     "start_time": "2024-07-18T00:32:48.905938Z"
    }
   },
   "id": "187714fea0eedf06",
   "execution_count": 356
  },
  {
   "cell_type": "code",
   "outputs": [
    {
     "name": "stdout",
     "output_type": "stream",
     "text": [
      "[1.]\n",
      "[0.53292194]\n",
      "[0.71817122]\n",
      "[0.51816634]\n"
     ]
    }
   ],
   "source": [
    "feature_R = getFeatures(factor_R)\n",
    "feature_F = getFeatures(factor_F)\n",
    "feature_M = getFeatures(factor_M)\n",
    "feature_N = getFeatures(factor_N)"
   ],
   "metadata": {
    "collapsed": false,
    "ExecuteTime": {
     "end_time": "2024-07-18T00:32:50.744481Z",
     "start_time": "2024-07-18T00:32:50.733370Z"
    }
   },
   "id": "972e7a192dec01ce",
   "execution_count": 357
  },
  {
   "cell_type": "code",
   "outputs": [],
   "source": [
    "feature1 = pd.DataFrame(feature_R, columns=['feature'])\n",
    "feature2 = pd.DataFrame(feature_F, columns=['feature'])\n",
    "feature3 = pd.DataFrame(feature_M, columns=['feature'])\n",
    "feature4 = pd.DataFrame(feature_N, columns=['feature'])"
   ],
   "metadata": {
    "collapsed": false,
    "ExecuteTime": {
     "end_time": "2024-07-18T00:32:50.754734Z",
     "start_time": "2024-07-18T00:32:50.745360Z"
    }
   },
   "id": "a7303f8534296134",
   "execution_count": 358
  },
  {
   "cell_type": "code",
   "outputs": [
    {
     "data": {
      "text/plain": "0.0   -1.386004\n0.2   -1.351356\n0.4    0.752349\n0.6    0.752349\n0.8    0.752349\n1.0    0.752349\nName: feature, dtype: float64"
     },
     "execution_count": 359,
     "metadata": {},
     "output_type": "execute_result"
    }
   ],
   "source": [
    "quantiles = feature1['feature'].quantile([0, 0.2, 0.4, 0.6, 0.8, 1])\n",
    "quantiles"
   ],
   "metadata": {
    "collapsed": false,
    "ExecuteTime": {
     "end_time": "2024-07-18T00:32:50.766901Z",
     "start_time": "2024-07-18T00:32:50.756145Z"
    }
   },
   "id": "df2c9789b128ac3b",
   "execution_count": 359
  },
  {
   "cell_type": "code",
   "outputs": [
    {
     "data": {
      "text/plain": "       feature  quintile\n0    -1.383010         5\n1     0.752349         1\n2     0.752349         1\n3     0.752349         1\n4    -1.382582         5\n...        ...       ...\n9581 -1.366755         5\n9582  0.752349         1\n9583 -1.375952         5\n9584 -1.373385         5\n9585 -1.379801         5\n\n[9586 rows x 2 columns]",
      "text/html": "<div>\n<style scoped>\n    .dataframe tbody tr th:only-of-type {\n        vertical-align: middle;\n    }\n\n    .dataframe tbody tr th {\n        vertical-align: top;\n    }\n\n    .dataframe thead th {\n        text-align: right;\n    }\n</style>\n<table border=\"1\" class=\"dataframe\">\n  <thead>\n    <tr style=\"text-align: right;\">\n      <th></th>\n      <th>feature</th>\n      <th>quintile</th>\n    </tr>\n  </thead>\n  <tbody>\n    <tr>\n      <th>0</th>\n      <td>-1.383010</td>\n      <td>5</td>\n    </tr>\n    <tr>\n      <th>1</th>\n      <td>0.752349</td>\n      <td>1</td>\n    </tr>\n    <tr>\n      <th>2</th>\n      <td>0.752349</td>\n      <td>1</td>\n    </tr>\n    <tr>\n      <th>3</th>\n      <td>0.752349</td>\n      <td>1</td>\n    </tr>\n    <tr>\n      <th>4</th>\n      <td>-1.382582</td>\n      <td>5</td>\n    </tr>\n    <tr>\n      <th>...</th>\n      <td>...</td>\n      <td>...</td>\n    </tr>\n    <tr>\n      <th>9581</th>\n      <td>-1.366755</td>\n      <td>5</td>\n    </tr>\n    <tr>\n      <th>9582</th>\n      <td>0.752349</td>\n      <td>1</td>\n    </tr>\n    <tr>\n      <th>9583</th>\n      <td>-1.375952</td>\n      <td>5</td>\n    </tr>\n    <tr>\n      <th>9584</th>\n      <td>-1.373385</td>\n      <td>5</td>\n    </tr>\n    <tr>\n      <th>9585</th>\n      <td>-1.379801</td>\n      <td>5</td>\n    </tr>\n  </tbody>\n</table>\n<p>9586 rows × 2 columns</p>\n</div>"
     },
     "execution_count": 360,
     "metadata": {},
     "output_type": "execute_result"
    }
   ],
   "source": [
    "bins = [-np.inf, quantiles[0.2], quantiles[0.4], quantiles[0.6], quantiles[0.8], np.inf]\n",
    "feature1['quintile'] = np.digitize(feature1['feature'], bins)\n",
    "feature1['quintile'] = feature1['quintile'].map({1: 5, 2: 4, 3: 3, 4: 2, 5: 1})\n",
    "feature1"
   ],
   "metadata": {
    "collapsed": false,
    "ExecuteTime": {
     "end_time": "2024-07-18T00:32:50.779036Z",
     "start_time": "2024-07-18T00:32:50.767726Z"
    }
   },
   "id": "465dc911cd2fc38f",
   "execution_count": 360
  },
  {
   "cell_type": "code",
   "outputs": [
    {
     "data": {
      "text/plain": "        feature  quintile\n0     -0.497415         3\n1      1.074445         5\n2     -0.150728         4\n3      2.111500         5\n4      0.565410         5\n...         ...       ...\n9581  -0.781247         2\n9582  -0.786455         2\n9583  11.664120         5\n9584  -0.602576         3\n9585  -0.400584         4\n\n[9586 rows x 2 columns]",
      "text/html": "<div>\n<style scoped>\n    .dataframe tbody tr th:only-of-type {\n        vertical-align: middle;\n    }\n\n    .dataframe tbody tr th {\n        vertical-align: top;\n    }\n\n    .dataframe thead th {\n        text-align: right;\n    }\n</style>\n<table border=\"1\" class=\"dataframe\">\n  <thead>\n    <tr style=\"text-align: right;\">\n      <th></th>\n      <th>feature</th>\n      <th>quintile</th>\n    </tr>\n  </thead>\n  <tbody>\n    <tr>\n      <th>0</th>\n      <td>-0.497415</td>\n      <td>3</td>\n    </tr>\n    <tr>\n      <th>1</th>\n      <td>1.074445</td>\n      <td>5</td>\n    </tr>\n    <tr>\n      <th>2</th>\n      <td>-0.150728</td>\n      <td>4</td>\n    </tr>\n    <tr>\n      <th>3</th>\n      <td>2.111500</td>\n      <td>5</td>\n    </tr>\n    <tr>\n      <th>4</th>\n      <td>0.565410</td>\n      <td>5</td>\n    </tr>\n    <tr>\n      <th>...</th>\n      <td>...</td>\n      <td>...</td>\n    </tr>\n    <tr>\n      <th>9581</th>\n      <td>-0.781247</td>\n      <td>2</td>\n    </tr>\n    <tr>\n      <th>9582</th>\n      <td>-0.786455</td>\n      <td>2</td>\n    </tr>\n    <tr>\n      <th>9583</th>\n      <td>11.664120</td>\n      <td>5</td>\n    </tr>\n    <tr>\n      <th>9584</th>\n      <td>-0.602576</td>\n      <td>3</td>\n    </tr>\n    <tr>\n      <th>9585</th>\n      <td>-0.400584</td>\n      <td>4</td>\n    </tr>\n  </tbody>\n</table>\n<p>9586 rows × 2 columns</p>\n</div>"
     },
     "execution_count": 361,
     "metadata": {},
     "output_type": "execute_result"
    }
   ],
   "source": [
    "quantiles = feature2['feature'].quantile([0, 0.2, 0.4, 0.6, 0.8, 1])\n",
    "bins = [-np.inf, quantiles[0.2], quantiles[0.4], quantiles[0.6], quantiles[0.8], np.inf]\n",
    "feature2['quintile'] = np.digitize(feature2['feature'], bins)\n",
    "feature2"
   ],
   "metadata": {
    "collapsed": false,
    "ExecuteTime": {
     "end_time": "2024-07-18T00:32:50.792344Z",
     "start_time": "2024-07-18T00:32:50.779900Z"
    }
   },
   "id": "6561e0b3b19c1751",
   "execution_count": 361
  },
  {
   "cell_type": "code",
   "outputs": [
    {
     "data": {
      "text/plain": "       feature  quintile\n0    -0.473913         3\n1     1.711420         5\n2     0.473500         4\n3     6.229929         5\n4     3.616218         5\n...        ...       ...\n9581 -1.243306         1\n9582 -1.122359         1\n9583  2.013792         5\n9584  0.317023         4\n9585 -0.367902         4\n\n[9586 rows x 2 columns]",
      "text/html": "<div>\n<style scoped>\n    .dataframe tbody tr th:only-of-type {\n        vertical-align: middle;\n    }\n\n    .dataframe tbody tr th {\n        vertical-align: top;\n    }\n\n    .dataframe thead th {\n        text-align: right;\n    }\n</style>\n<table border=\"1\" class=\"dataframe\">\n  <thead>\n    <tr style=\"text-align: right;\">\n      <th></th>\n      <th>feature</th>\n      <th>quintile</th>\n    </tr>\n  </thead>\n  <tbody>\n    <tr>\n      <th>0</th>\n      <td>-0.473913</td>\n      <td>3</td>\n    </tr>\n    <tr>\n      <th>1</th>\n      <td>1.711420</td>\n      <td>5</td>\n    </tr>\n    <tr>\n      <th>2</th>\n      <td>0.473500</td>\n      <td>4</td>\n    </tr>\n    <tr>\n      <th>3</th>\n      <td>6.229929</td>\n      <td>5</td>\n    </tr>\n    <tr>\n      <th>4</th>\n      <td>3.616218</td>\n      <td>5</td>\n    </tr>\n    <tr>\n      <th>...</th>\n      <td>...</td>\n      <td>...</td>\n    </tr>\n    <tr>\n      <th>9581</th>\n      <td>-1.243306</td>\n      <td>1</td>\n    </tr>\n    <tr>\n      <th>9582</th>\n      <td>-1.122359</td>\n      <td>1</td>\n    </tr>\n    <tr>\n      <th>9583</th>\n      <td>2.013792</td>\n      <td>5</td>\n    </tr>\n    <tr>\n      <th>9584</th>\n      <td>0.317023</td>\n      <td>4</td>\n    </tr>\n    <tr>\n      <th>9585</th>\n      <td>-0.367902</td>\n      <td>4</td>\n    </tr>\n  </tbody>\n</table>\n<p>9586 rows × 2 columns</p>\n</div>"
     },
     "execution_count": 362,
     "metadata": {},
     "output_type": "execute_result"
    }
   ],
   "source": [
    "quantiles = feature3['feature'].quantile([0, 0.2, 0.4, 0.6, 0.8, 1])\n",
    "bins = [-np.inf, quantiles[0.2], quantiles[0.4], quantiles[0.6], quantiles[0.8], np.inf]\n",
    "feature3['quintile'] = np.digitize(feature3['feature'], bins)\n",
    "feature3"
   ],
   "metadata": {
    "collapsed": false,
    "ExecuteTime": {
     "end_time": "2024-07-18T00:32:50.812401Z",
     "start_time": "2024-07-18T00:32:50.793454Z"
    }
   },
   "id": "3ce1d88a4ca7ad76",
   "execution_count": 362
  },
  {
   "cell_type": "code",
   "outputs": [
    {
     "data": {
      "text/plain": "       feature  quintile\n0    -0.056785         2\n1    -0.491470         4\n2    -0.282813         3\n3    -0.130009         3\n4    -0.280136         3\n...        ...       ...\n9581 -0.374761         3\n9582 -0.446775         3\n9583 -0.194359         3\n9584  1.127066         1\n9585  0.614897         2\n\n[9586 rows x 2 columns]",
      "text/html": "<div>\n<style scoped>\n    .dataframe tbody tr th:only-of-type {\n        vertical-align: middle;\n    }\n\n    .dataframe tbody tr th {\n        vertical-align: top;\n    }\n\n    .dataframe thead th {\n        text-align: right;\n    }\n</style>\n<table border=\"1\" class=\"dataframe\">\n  <thead>\n    <tr style=\"text-align: right;\">\n      <th></th>\n      <th>feature</th>\n      <th>quintile</th>\n    </tr>\n  </thead>\n  <tbody>\n    <tr>\n      <th>0</th>\n      <td>-0.056785</td>\n      <td>2</td>\n    </tr>\n    <tr>\n      <th>1</th>\n      <td>-0.491470</td>\n      <td>4</td>\n    </tr>\n    <tr>\n      <th>2</th>\n      <td>-0.282813</td>\n      <td>3</td>\n    </tr>\n    <tr>\n      <th>3</th>\n      <td>-0.130009</td>\n      <td>3</td>\n    </tr>\n    <tr>\n      <th>4</th>\n      <td>-0.280136</td>\n      <td>3</td>\n    </tr>\n    <tr>\n      <th>...</th>\n      <td>...</td>\n      <td>...</td>\n    </tr>\n    <tr>\n      <th>9581</th>\n      <td>-0.374761</td>\n      <td>3</td>\n    </tr>\n    <tr>\n      <th>9582</th>\n      <td>-0.446775</td>\n      <td>3</td>\n    </tr>\n    <tr>\n      <th>9583</th>\n      <td>-0.194359</td>\n      <td>3</td>\n    </tr>\n    <tr>\n      <th>9584</th>\n      <td>1.127066</td>\n      <td>1</td>\n    </tr>\n    <tr>\n      <th>9585</th>\n      <td>0.614897</td>\n      <td>2</td>\n    </tr>\n  </tbody>\n</table>\n<p>9586 rows × 2 columns</p>\n</div>"
     },
     "execution_count": 363,
     "metadata": {},
     "output_type": "execute_result"
    }
   ],
   "source": [
    "quantiles = feature4['feature'].quantile([0, 0.2, 0.4, 0.6, 0.8, 1])\n",
    "bins = [-np.inf, quantiles[0.2], quantiles[0.4], quantiles[0.6], quantiles[0.8], np.inf]\n",
    "feature4['quintile'] = np.digitize(feature4['feature'], bins)\n",
    "feature4['quintile'] = feature4['quintile'].map({1: 5, 2: 4, 3: 3, 4: 2, 5: 1})\n",
    "feature4"
   ],
   "metadata": {
    "collapsed": false,
    "ExecuteTime": {
     "end_time": "2024-07-18T00:32:50.828619Z",
     "start_time": "2024-07-18T00:32:50.813462Z"
    }
   },
   "id": "4312d99ce30c888f",
   "execution_count": 363
  },
  {
   "cell_type": "code",
   "outputs": [],
   "source": [
    "# 计算各指标的熵值\n",
    "def calculate_entropy(series):\n",
    "    n = len(series)\n",
    "    probabilities = series / series.sum(axis=0)\n",
    "    entropy = -sum(probabilities * np.log(probabilities + 1e-10)) / np.log(n) # 避免对数为负无穷\n",
    "    return entropy"
   ],
   "metadata": {
    "collapsed": false,
    "ExecuteTime": {
     "end_time": "2024-07-18T00:32:50.832103Z",
     "start_time": "2024-07-18T00:32:50.829611Z"
    }
   },
   "id": "29f97448387aa029",
   "execution_count": 364
  },
  {
   "cell_type": "code",
   "outputs": [
    {
     "data": {
      "text/plain": "       feature  quintile\n0     0.001400         5\n1     1.000000         1\n2     1.000000         1\n3     1.000000         1\n4     0.001600         5\n...        ...       ...\n9581  0.009002         5\n9582  1.000000         1\n9583  0.004701         5\n9584  0.005901         5\n9585  0.002901         5\n\n[9586 rows x 2 columns]",
      "text/html": "<div>\n<style scoped>\n    .dataframe tbody tr th:only-of-type {\n        vertical-align: middle;\n    }\n\n    .dataframe tbody tr th {\n        vertical-align: top;\n    }\n\n    .dataframe thead th {\n        text-align: right;\n    }\n</style>\n<table border=\"1\" class=\"dataframe\">\n  <thead>\n    <tr style=\"text-align: right;\">\n      <th></th>\n      <th>feature</th>\n      <th>quintile</th>\n    </tr>\n  </thead>\n  <tbody>\n    <tr>\n      <th>0</th>\n      <td>0.001400</td>\n      <td>5</td>\n    </tr>\n    <tr>\n      <th>1</th>\n      <td>1.000000</td>\n      <td>1</td>\n    </tr>\n    <tr>\n      <th>2</th>\n      <td>1.000000</td>\n      <td>1</td>\n    </tr>\n    <tr>\n      <th>3</th>\n      <td>1.000000</td>\n      <td>1</td>\n    </tr>\n    <tr>\n      <th>4</th>\n      <td>0.001600</td>\n      <td>5</td>\n    </tr>\n    <tr>\n      <th>...</th>\n      <td>...</td>\n      <td>...</td>\n    </tr>\n    <tr>\n      <th>9581</th>\n      <td>0.009002</td>\n      <td>5</td>\n    </tr>\n    <tr>\n      <th>9582</th>\n      <td>1.000000</td>\n      <td>1</td>\n    </tr>\n    <tr>\n      <th>9583</th>\n      <td>0.004701</td>\n      <td>5</td>\n    </tr>\n    <tr>\n      <th>9584</th>\n      <td>0.005901</td>\n      <td>5</td>\n    </tr>\n    <tr>\n      <th>9585</th>\n      <td>0.002901</td>\n      <td>5</td>\n    </tr>\n  </tbody>\n</table>\n<p>9586 rows × 2 columns</p>\n</div>"
     },
     "execution_count": 365,
     "metadata": {},
     "output_type": "execute_result"
    }
   ],
   "source": [
    "scaler = MinMaxScaler()\n",
    "feature1['feature'] = scaler.fit_transform(feature1['feature'].to_numpy().reshape(-1, 1))\n",
    "feature2['feature'] = scaler.fit_transform(feature2['feature'].to_numpy().reshape(-1, 1))\n",
    "feature3['feature'] = scaler.fit_transform(feature3['feature'].to_numpy().reshape(-1, 1))\n",
    "feature4['feature'] = scaler.fit_transform(feature4['feature'].to_numpy().reshape(-1, 1))\n",
    "feature1"
   ],
   "metadata": {
    "collapsed": false,
    "ExecuteTime": {
     "end_time": "2024-07-18T00:32:50.844858Z",
     "start_time": "2024-07-18T00:32:50.833551Z"
    }
   },
   "id": "3cb276fe6517df03",
   "execution_count": 365
  },
  {
   "cell_type": "code",
   "outputs": [],
   "source": [
    "entropies_R = calculate_entropy(feature1['feature'])\n",
    "entropies_F = calculate_entropy(feature2['feature'])\n",
    "entropies_M = calculate_entropy(feature3['feature'])\n",
    "entropies_N = calculate_entropy(feature4['feature'])"
   ],
   "metadata": {
    "collapsed": false,
    "ExecuteTime": {
     "end_time": "2024-07-18T00:32:50.850656Z",
     "start_time": "2024-07-18T00:32:50.845569Z"
    }
   },
   "id": "648c3b51d4ec5820",
   "execution_count": 366
  },
  {
   "cell_type": "code",
   "outputs": [],
   "source": [
    "difference_coefficients = 1 - entropies_R + 1 - entropies_F + 1 - entropies_M + 1 - entropies_N\n",
    "weights_R = (1 - entropies_R) / difference_coefficients\n",
    "weights_F = (1 - entropies_F) / difference_coefficients\n",
    "weights_M = (1 - entropies_M) / difference_coefficients\n",
    "weights_N = (1 - entropies_N) / difference_coefficients"
   ],
   "metadata": {
    "collapsed": false,
    "ExecuteTime": {
     "end_time": "2024-07-18T00:32:50.858277Z",
     "start_time": "2024-07-18T00:32:50.852681Z"
    }
   },
   "id": "4489a4d1faaaa1a3",
   "execution_count": 367
  },
  {
   "cell_type": "code",
   "outputs": [
    {
     "data": {
      "text/plain": "(0.21665431968107726,\n 0.3256325238762889,\n 0.3648982601513716,\n 0.09281489629126166)"
     },
     "execution_count": 368,
     "metadata": {},
     "output_type": "execute_result"
    }
   ],
   "source": [
    "weights_R, weights_F, weights_M, weights_N"
   ],
   "metadata": {
    "collapsed": false,
    "ExecuteTime": {
     "end_time": "2024-07-18T00:32:50.867213Z",
     "start_time": "2024-07-18T00:32:50.859114Z"
    }
   },
   "id": "cfcbb4c0c99d0840",
   "execution_count": 368
  },
  {
   "cell_type": "code",
   "outputs": [],
   "source": [],
   "metadata": {
    "collapsed": false,
    "ExecuteTime": {
     "end_time": "2024-07-18T00:32:50.869460Z",
     "start_time": "2024-07-18T00:32:50.867897Z"
    }
   },
   "id": "abe65ff03abd3f8a",
   "execution_count": 368
  },
  {
   "cell_type": "code",
   "outputs": [],
   "source": [],
   "metadata": {
    "collapsed": false,
    "ExecuteTime": {
     "end_time": "2024-07-18T00:32:50.871840Z",
     "start_time": "2024-07-18T00:32:50.870204Z"
    }
   },
   "id": "7ba215d8496fc7fd",
   "execution_count": 368
  },
  {
   "cell_type": "code",
   "outputs": [],
   "source": [],
   "metadata": {
    "collapsed": false,
    "ExecuteTime": {
     "end_time": "2024-07-18T00:32:50.874460Z",
     "start_time": "2024-07-18T00:32:50.872767Z"
    }
   },
   "id": "1d99551c2903009c",
   "execution_count": 368
  },
  {
   "cell_type": "code",
   "outputs": [],
   "source": [],
   "metadata": {
    "collapsed": false,
    "ExecuteTime": {
     "end_time": "2024-07-18T00:32:50.876991Z",
     "start_time": "2024-07-18T00:32:50.875397Z"
    }
   },
   "id": "aef391c44dc8084e",
   "execution_count": 368
  },
  {
   "cell_type": "code",
   "outputs": [],
   "source": [],
   "metadata": {
    "collapsed": false,
    "ExecuteTime": {
     "end_time": "2024-07-18T00:32:50.879135Z",
     "start_time": "2024-07-18T00:32:50.877667Z"
    }
   },
   "id": "c6402048a7166f",
   "execution_count": 368
  }
 ],
 "metadata": {
  "kernelspec": {
   "display_name": "Python 3",
   "language": "python",
   "name": "python3"
  },
  "language_info": {
   "codemirror_mode": {
    "name": "ipython",
    "version": 2
   },
   "file_extension": ".py",
   "mimetype": "text/x-python",
   "name": "python",
   "nbconvert_exporter": "python",
   "pygments_lexer": "ipython2",
   "version": "2.7.6"
  }
 },
 "nbformat": 4,
 "nbformat_minor": 5
}
