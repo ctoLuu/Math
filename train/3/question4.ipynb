{
 "cells": [
  {
   "cell_type": "code",
   "execution_count": 689,
   "id": "initial_id",
   "metadata": {
    "collapsed": true,
    "ExecuteTime": {
     "end_time": "2024-07-18T03:38:27.113410Z",
     "start_time": "2024-07-18T03:38:27.109936Z"
    }
   },
   "outputs": [],
   "source": [
    "import pandas as pd\n",
    "import numpy as np\n",
    "from sklearn.decomposition import PCA\n",
    "from sklearn.preprocessing import StandardScaler, MinMaxScaler"
   ]
  },
  {
   "cell_type": "code",
   "outputs": [],
   "source": [
    "def getFeatures(factor):\n",
    "    scaler = StandardScaler(with_mean=False, with_std=True)\n",
    "    df_scaled = scaler.fit_transform(factor)\n",
    "    pca = PCA(n_components=1)\n",
    "    transformed_data = pca.fit_transform(df_scaled)\n",
    "    print(pca.explained_variance_ratio_)\n",
    "    return transformed_data"
   ],
   "metadata": {
    "collapsed": false,
    "ExecuteTime": {
     "end_time": "2024-07-18T03:38:27.149914Z",
     "start_time": "2024-07-18T03:38:27.147279Z"
    }
   },
   "id": "fa87708dd17123b9",
   "execution_count": 690
  },
  {
   "cell_type": "code",
   "outputs": [
    {
     "name": "stdout",
     "output_type": "stream",
     "text": [
      "      Unnamed: 0    id  y  city  mar_status  age  xaccount_age  cred_limit  \\\n",
      "0              0     2  0    52           0   32            10       20000   \n",
      "1              1    17  0    35           0   34            17       28500   \n",
      "2              2    22  0    40           0   28            17        5000   \n",
      "3              3    27  0    21           2   26            19       60000   \n",
      "4              4    29  0     1           1   36           138       46000   \n",
      "...          ...   ... ..   ...         ...  ...           ...         ...   \n",
      "9581        9581  9984  1    89           0   34            22        2000   \n",
      "9582        9582  9989  1   104           0   53             7        2250   \n",
      "9583        9583  9990  1    16           0   34            15       50000   \n",
      "9584        9584  9993  1    72           0   38             7       30000   \n",
      "9585        9585  9996  1   125           0   32            12       30000   \n",
      "\n",
      "      this_bill_rate  this_bill_mp  ...  consume_num_session6  \\\n",
      "0           0.162971       1213.15  ...                    17   \n",
      "1           0.792989      21336.18  ...                    96   \n",
      "2           1.001600       4668.30  ...                    37   \n",
      "3           0.990300      56447.10  ...                    70   \n",
      "4           0.418607      12171.30  ...                    50   \n",
      "...              ...           ...  ...                   ...   \n",
      "9581        0.449645        628.90  ...                     3   \n",
      "9582        0.993333       2123.25  ...                    10   \n",
      "9583        0.910246      43095.68  ...                   574   \n",
      "9584        0.785324       1919.84  ...                    12   \n",
      "9585        0.331781       3471.77  ...                     8   \n",
      "\n",
      "      consume_num_session3  consume_num_session  consume_amt_session12  \\\n",
      "0                       12                    2               70173.00   \n",
      "1                       47                   15              206655.62   \n",
      "2                       15                    5              227540.00   \n",
      "3                       57                   40              549835.93   \n",
      "4                        9                    4              361647.76   \n",
      "...                    ...                  ...                    ...   \n",
      "9581                     1                    1                3690.00   \n",
      "9582                     3                    1                6686.40   \n",
      "9583                   316                   99              115663.39   \n",
      "9584                     6                    2               49016.98   \n",
      "9585                     3                    1               87834.88   \n",
      "\n",
      "      consume_amt_session6  consume_amt_session3  consume_amt_session  \\\n",
      "0                 29294.00              16773.00              1249.00   \n",
      "1                114284.77              78978.75             22600.20   \n",
      "2                 87870.00              14900.00              5000.00   \n",
      "3                290014.88             176430.00             59418.00   \n",
      "4                197082.29             106119.00             28091.00   \n",
      "...                    ...                   ...                  ...   \n",
      "9581               1590.00                590.00               590.00   \n",
      "9582               6686.40               3335.00              2235.00   \n",
      "9583             106099.52              60494.63             46174.58   \n",
      "9584              41516.98              35927.68             20800.88   \n",
      "9585              29252.62              17718.00              6392.00   \n",
      "\n",
      "      month_avg_use_year  month_avg_use_month6  month_avg_use_month3  \n",
      "0               0.350865              0.244117              0.279550  \n",
      "1               0.731524              0.703291              0.923728  \n",
      "2               0.948083              0.976333              0.993333  \n",
      "3               0.872755              0.878833              0.980167  \n",
      "4               0.655159              0.714066              0.768978  \n",
      "...                  ...                   ...                   ...  \n",
      "9581            0.153750              0.132500              0.098333  \n",
      "9582            0.495289              0.495289              0.494074  \n",
      "9583            0.192772              0.353665              0.403298  \n",
      "9584            0.272317              0.259481              0.399196  \n",
      "9585            0.266166              0.162515              0.196867  \n",
      "\n",
      "[9586 rows x 34 columns]\n"
     ]
    }
   ],
   "source": [
    "df = pd.read_excel('./handledData.xlsx')\n",
    "print(df)"
   ],
   "metadata": {
    "collapsed": false,
    "ExecuteTime": {
     "end_time": "2024-07-18T03:38:28.812026Z",
     "start_time": "2024-07-18T03:38:27.152974Z"
    }
   },
   "id": "a300a3edb286e27f",
   "execution_count": 691
  },
  {
   "cell_type": "code",
   "outputs": [],
   "source": [
    "df['last_mp_days'] = 9999 - df['last_mp_days']"
   ],
   "metadata": {
    "collapsed": false,
    "ExecuteTime": {
     "end_time": "2024-07-18T03:38:28.815991Z",
     "start_time": "2024-07-18T03:38:28.813231Z"
    }
   },
   "id": "76278e2467ad3e69",
   "execution_count": 692
  },
  {
   "cell_type": "code",
   "outputs": [],
   "source": [
    "\n",
    "factor_R = df[[\"last_mp_days\",'xaccount_age']]\n",
    "factor_F = df[['consume_num_session12', 'consume_num_session6', 'consume_num_session3',\n",
    "               'consume_num_session', 'six_bill_num', 'six_cycle_mp_num', 'epp_nbr_12m'\n",
    "               ]]\n",
    "factor_M = df[['six_bill_avg_amt', 'consume_amt_session12', 'consume_amt_session6',\n",
    "               'consume_amt_session3', 'consume_amt_session', 'six_cycle_mp_avg_amt'\n",
    "               ]]\n",
    "factor_N = df[['six_bill_low_repay_num', 'six_bill_avg_debt_rate']]"
   ],
   "metadata": {
    "collapsed": false,
    "ExecuteTime": {
     "end_time": "2024-07-18T03:38:28.835556Z",
     "start_time": "2024-07-18T03:38:28.816756Z"
    }
   },
   "id": "187714fea0eedf06",
   "execution_count": 693
  },
  {
   "cell_type": "code",
   "outputs": [
    {
     "name": "stdout",
     "output_type": "stream",
     "text": [
      "[0.63047127]\n",
      "[0.53292194]\n",
      "[0.71817122]\n",
      "[0.51816634]\n"
     ]
    }
   ],
   "source": [
    "feature_R = getFeatures(factor_R)\n",
    "feature_F = getFeatures(factor_F)\n",
    "feature_M = getFeatures(factor_M)\n",
    "feature_N = getFeatures(factor_N)"
   ],
   "metadata": {
    "collapsed": false,
    "ExecuteTime": {
     "end_time": "2024-07-18T03:38:28.860622Z",
     "start_time": "2024-07-18T03:38:28.836589Z"
    }
   },
   "id": "972e7a192dec01ce",
   "execution_count": 694
  },
  {
   "cell_type": "code",
   "outputs": [],
   "source": [
    "feature1 = pd.DataFrame(feature_R, columns=['feature'])\n",
    "feature2 = pd.DataFrame(feature_F, columns=['feature'])\n",
    "feature3 = pd.DataFrame(feature_M, columns=['feature'])\n",
    "feature4 = pd.DataFrame(feature_N, columns=['feature'])"
   ],
   "metadata": {
    "collapsed": false,
    "ExecuteTime": {
     "end_time": "2024-07-18T03:38:28.869575Z",
     "start_time": "2024-07-18T03:38:28.863248Z"
    }
   },
   "id": "a7303f8534296134",
   "execution_count": 695
  },
  {
   "cell_type": "code",
   "outputs": [
    {
     "data": {
      "text/plain": "0.0   -1.139206\n0.2   -1.003177\n0.4   -0.785532\n0.6    0.476973\n0.8    0.873984\n1.0    4.181142\nName: feature, dtype: float64"
     },
     "execution_count": 696,
     "metadata": {},
     "output_type": "execute_result"
    }
   ],
   "source": [
    "quantiles = feature1['feature'].quantile([0, 0.2, 0.4, 0.6, 0.8, 1])\n",
    "quantiles"
   ],
   "metadata": {
    "collapsed": false,
    "ExecuteTime": {
     "end_time": "2024-07-18T03:38:28.884786Z",
     "start_time": "2024-07-18T03:38:28.873307Z"
    }
   },
   "id": "df2c9789b128ac3b",
   "execution_count": 696
  },
  {
   "cell_type": "code",
   "outputs": [
    {
     "data": {
      "text/plain": "       feature  quintile\n0     0.615572         4\n1    -0.703915         3\n2    -0.703915         3\n3    -0.649504         3\n4     4.097592         5\n...        ...       ...\n9581  0.930546         5\n9582 -0.975972         2\n9583  0.746609         4\n9584  0.527149         4\n9585  0.667715         4\n\n[9586 rows x 2 columns]",
      "text/html": "<div>\n<style scoped>\n    .dataframe tbody tr th:only-of-type {\n        vertical-align: middle;\n    }\n\n    .dataframe tbody tr th {\n        vertical-align: top;\n    }\n\n    .dataframe thead th {\n        text-align: right;\n    }\n</style>\n<table border=\"1\" class=\"dataframe\">\n  <thead>\n    <tr style=\"text-align: right;\">\n      <th></th>\n      <th>feature</th>\n      <th>quintile</th>\n    </tr>\n  </thead>\n  <tbody>\n    <tr>\n      <th>0</th>\n      <td>0.615572</td>\n      <td>4</td>\n    </tr>\n    <tr>\n      <th>1</th>\n      <td>-0.703915</td>\n      <td>3</td>\n    </tr>\n    <tr>\n      <th>2</th>\n      <td>-0.703915</td>\n      <td>3</td>\n    </tr>\n    <tr>\n      <th>3</th>\n      <td>-0.649504</td>\n      <td>3</td>\n    </tr>\n    <tr>\n      <th>4</th>\n      <td>4.097592</td>\n      <td>5</td>\n    </tr>\n    <tr>\n      <th>...</th>\n      <td>...</td>\n      <td>...</td>\n    </tr>\n    <tr>\n      <th>9581</th>\n      <td>0.930546</td>\n      <td>5</td>\n    </tr>\n    <tr>\n      <th>9582</th>\n      <td>-0.975972</td>\n      <td>2</td>\n    </tr>\n    <tr>\n      <th>9583</th>\n      <td>0.746609</td>\n      <td>4</td>\n    </tr>\n    <tr>\n      <th>9584</th>\n      <td>0.527149</td>\n      <td>4</td>\n    </tr>\n    <tr>\n      <th>9585</th>\n      <td>0.667715</td>\n      <td>4</td>\n    </tr>\n  </tbody>\n</table>\n<p>9586 rows × 2 columns</p>\n</div>"
     },
     "execution_count": 697,
     "metadata": {},
     "output_type": "execute_result"
    }
   ],
   "source": [
    "bins = [-np.inf, quantiles[0.2], quantiles[0.4], quantiles[0.6], quantiles[0.8], np.inf]\n",
    "feature1['quintile'] = np.digitize(feature1['feature'], bins)\n",
    "feature1"
   ],
   "metadata": {
    "collapsed": false,
    "ExecuteTime": {
     "end_time": "2024-07-18T03:38:28.896729Z",
     "start_time": "2024-07-18T03:38:28.887213Z"
    }
   },
   "id": "465dc911cd2fc38f",
   "execution_count": 697
  },
  {
   "cell_type": "code",
   "outputs": [
    {
     "data": {
      "text/plain": "        feature  quintile\n0     -0.497415         3\n1      1.074445         5\n2     -0.150728         4\n3      2.111500         5\n4      0.565410         5\n...         ...       ...\n9581  -0.781247         2\n9582  -0.786455         2\n9583  11.664120         5\n9584  -0.602576         3\n9585  -0.400584         4\n\n[9586 rows x 2 columns]",
      "text/html": "<div>\n<style scoped>\n    .dataframe tbody tr th:only-of-type {\n        vertical-align: middle;\n    }\n\n    .dataframe tbody tr th {\n        vertical-align: top;\n    }\n\n    .dataframe thead th {\n        text-align: right;\n    }\n</style>\n<table border=\"1\" class=\"dataframe\">\n  <thead>\n    <tr style=\"text-align: right;\">\n      <th></th>\n      <th>feature</th>\n      <th>quintile</th>\n    </tr>\n  </thead>\n  <tbody>\n    <tr>\n      <th>0</th>\n      <td>-0.497415</td>\n      <td>3</td>\n    </tr>\n    <tr>\n      <th>1</th>\n      <td>1.074445</td>\n      <td>5</td>\n    </tr>\n    <tr>\n      <th>2</th>\n      <td>-0.150728</td>\n      <td>4</td>\n    </tr>\n    <tr>\n      <th>3</th>\n      <td>2.111500</td>\n      <td>5</td>\n    </tr>\n    <tr>\n      <th>4</th>\n      <td>0.565410</td>\n      <td>5</td>\n    </tr>\n    <tr>\n      <th>...</th>\n      <td>...</td>\n      <td>...</td>\n    </tr>\n    <tr>\n      <th>9581</th>\n      <td>-0.781247</td>\n      <td>2</td>\n    </tr>\n    <tr>\n      <th>9582</th>\n      <td>-0.786455</td>\n      <td>2</td>\n    </tr>\n    <tr>\n      <th>9583</th>\n      <td>11.664120</td>\n      <td>5</td>\n    </tr>\n    <tr>\n      <th>9584</th>\n      <td>-0.602576</td>\n      <td>3</td>\n    </tr>\n    <tr>\n      <th>9585</th>\n      <td>-0.400584</td>\n      <td>4</td>\n    </tr>\n  </tbody>\n</table>\n<p>9586 rows × 2 columns</p>\n</div>"
     },
     "execution_count": 698,
     "metadata": {},
     "output_type": "execute_result"
    }
   ],
   "source": [
    "quantiles = feature2['feature'].quantile([0, 0.2, 0.4, 0.6, 0.8, 1])\n",
    "bins = [-np.inf, quantiles[0.2], quantiles[0.4], quantiles[0.6], quantiles[0.8], np.inf]\n",
    "feature2['quintile'] = np.digitize(feature2['feature'], bins)\n",
    "feature2"
   ],
   "metadata": {
    "collapsed": false,
    "ExecuteTime": {
     "end_time": "2024-07-18T03:38:28.910596Z",
     "start_time": "2024-07-18T03:38:28.898235Z"
    }
   },
   "id": "6561e0b3b19c1751",
   "execution_count": 698
  },
  {
   "cell_type": "code",
   "outputs": [
    {
     "data": {
      "text/plain": "       feature  quintile\n0    -0.473913         3\n1     1.711420         5\n2     0.473500         4\n3     6.229929         5\n4     3.616218         5\n...        ...       ...\n9581 -1.243306         1\n9582 -1.122359         1\n9583  2.013792         5\n9584  0.317023         4\n9585 -0.367902         4\n\n[9586 rows x 2 columns]",
      "text/html": "<div>\n<style scoped>\n    .dataframe tbody tr th:only-of-type {\n        vertical-align: middle;\n    }\n\n    .dataframe tbody tr th {\n        vertical-align: top;\n    }\n\n    .dataframe thead th {\n        text-align: right;\n    }\n</style>\n<table border=\"1\" class=\"dataframe\">\n  <thead>\n    <tr style=\"text-align: right;\">\n      <th></th>\n      <th>feature</th>\n      <th>quintile</th>\n    </tr>\n  </thead>\n  <tbody>\n    <tr>\n      <th>0</th>\n      <td>-0.473913</td>\n      <td>3</td>\n    </tr>\n    <tr>\n      <th>1</th>\n      <td>1.711420</td>\n      <td>5</td>\n    </tr>\n    <tr>\n      <th>2</th>\n      <td>0.473500</td>\n      <td>4</td>\n    </tr>\n    <tr>\n      <th>3</th>\n      <td>6.229929</td>\n      <td>5</td>\n    </tr>\n    <tr>\n      <th>4</th>\n      <td>3.616218</td>\n      <td>5</td>\n    </tr>\n    <tr>\n      <th>...</th>\n      <td>...</td>\n      <td>...</td>\n    </tr>\n    <tr>\n      <th>9581</th>\n      <td>-1.243306</td>\n      <td>1</td>\n    </tr>\n    <tr>\n      <th>9582</th>\n      <td>-1.122359</td>\n      <td>1</td>\n    </tr>\n    <tr>\n      <th>9583</th>\n      <td>2.013792</td>\n      <td>5</td>\n    </tr>\n    <tr>\n      <th>9584</th>\n      <td>0.317023</td>\n      <td>4</td>\n    </tr>\n    <tr>\n      <th>9585</th>\n      <td>-0.367902</td>\n      <td>4</td>\n    </tr>\n  </tbody>\n</table>\n<p>9586 rows × 2 columns</p>\n</div>"
     },
     "execution_count": 699,
     "metadata": {},
     "output_type": "execute_result"
    }
   ],
   "source": [
    "quantiles = feature3['feature'].quantile([0, 0.2, 0.4, 0.6, 0.8, 1])\n",
    "bins = [-np.inf, quantiles[0.2], quantiles[0.4], quantiles[0.6], quantiles[0.8], np.inf]\n",
    "feature3['quintile'] = np.digitize(feature3['feature'], bins)\n",
    "feature3"
   ],
   "metadata": {
    "collapsed": false,
    "ExecuteTime": {
     "end_time": "2024-07-18T03:38:28.928387Z",
     "start_time": "2024-07-18T03:38:28.912062Z"
    }
   },
   "id": "3ce1d88a4ca7ad76",
   "execution_count": 699
  },
  {
   "cell_type": "code",
   "outputs": [
    {
     "data": {
      "text/plain": "       feature  quintile\n0    -0.056785         2\n1    -0.491470         4\n2    -0.282813         3\n3    -0.130009         3\n4    -0.280136         3\n...        ...       ...\n9581 -0.374761         3\n9582 -0.446775         3\n9583 -0.194359         3\n9584  1.127066         1\n9585  0.614897         2\n\n[9586 rows x 2 columns]",
      "text/html": "<div>\n<style scoped>\n    .dataframe tbody tr th:only-of-type {\n        vertical-align: middle;\n    }\n\n    .dataframe tbody tr th {\n        vertical-align: top;\n    }\n\n    .dataframe thead th {\n        text-align: right;\n    }\n</style>\n<table border=\"1\" class=\"dataframe\">\n  <thead>\n    <tr style=\"text-align: right;\">\n      <th></th>\n      <th>feature</th>\n      <th>quintile</th>\n    </tr>\n  </thead>\n  <tbody>\n    <tr>\n      <th>0</th>\n      <td>-0.056785</td>\n      <td>2</td>\n    </tr>\n    <tr>\n      <th>1</th>\n      <td>-0.491470</td>\n      <td>4</td>\n    </tr>\n    <tr>\n      <th>2</th>\n      <td>-0.282813</td>\n      <td>3</td>\n    </tr>\n    <tr>\n      <th>3</th>\n      <td>-0.130009</td>\n      <td>3</td>\n    </tr>\n    <tr>\n      <th>4</th>\n      <td>-0.280136</td>\n      <td>3</td>\n    </tr>\n    <tr>\n      <th>...</th>\n      <td>...</td>\n      <td>...</td>\n    </tr>\n    <tr>\n      <th>9581</th>\n      <td>-0.374761</td>\n      <td>3</td>\n    </tr>\n    <tr>\n      <th>9582</th>\n      <td>-0.446775</td>\n      <td>3</td>\n    </tr>\n    <tr>\n      <th>9583</th>\n      <td>-0.194359</td>\n      <td>3</td>\n    </tr>\n    <tr>\n      <th>9584</th>\n      <td>1.127066</td>\n      <td>1</td>\n    </tr>\n    <tr>\n      <th>9585</th>\n      <td>0.614897</td>\n      <td>2</td>\n    </tr>\n  </tbody>\n</table>\n<p>9586 rows × 2 columns</p>\n</div>"
     },
     "execution_count": 700,
     "metadata": {},
     "output_type": "execute_result"
    }
   ],
   "source": [
    "quantiles = feature4['feature'].quantile([0, 0.2, 0.4, 0.6, 0.8, 1])\n",
    "bins = [-np.inf, quantiles[0.2], quantiles[0.4], quantiles[0.6], quantiles[0.8], np.inf]\n",
    "feature4['quintile'] = np.digitize(feature4['feature'], bins)\n",
    "feature4['quintile'] = feature4['quintile'].map({1: 5, 2: 4,3:3, 4: 2, 5: 1})\n",
    "feature4"
   ],
   "metadata": {
    "collapsed": false,
    "ExecuteTime": {
     "end_time": "2024-07-18T03:38:28.942770Z",
     "start_time": "2024-07-18T03:38:28.931113Z"
    }
   },
   "id": "4312d99ce30c888f",
   "execution_count": 700
  },
  {
   "cell_type": "code",
   "outputs": [],
   "source": [
    "# 计算各指标的熵值\n",
    "def calculate_entropy(series):\n",
    "    n = len(series)\n",
    "    probabilities = series / series.sum(axis=0)\n",
    "    entropy = -sum(probabilities * np.log(probabilities + 1e-10)) / np.log(n) # 避免对数为负无穷\n",
    "    return entropy"
   ],
   "metadata": {
    "collapsed": false,
    "ExecuteTime": {
     "end_time": "2024-07-18T03:38:28.947634Z",
     "start_time": "2024-07-18T03:38:28.944260Z"
    }
   },
   "id": "29f97448387aa029",
   "execution_count": 701
  },
  {
   "cell_type": "code",
   "outputs": [
    {
     "data": {
      "text/plain": "       feature  quintile\n0     0.329824         4\n1     0.081816         3\n2     0.081816         3\n3     0.092043         3\n4     0.984296         5\n...        ...       ...\n9581  0.389026         5\n9582  0.030681         2\n9583  0.354453         4\n9584  0.313204         4\n9585  0.339625         4\n\n[9586 rows x 2 columns]",
      "text/html": "<div>\n<style scoped>\n    .dataframe tbody tr th:only-of-type {\n        vertical-align: middle;\n    }\n\n    .dataframe tbody tr th {\n        vertical-align: top;\n    }\n\n    .dataframe thead th {\n        text-align: right;\n    }\n</style>\n<table border=\"1\" class=\"dataframe\">\n  <thead>\n    <tr style=\"text-align: right;\">\n      <th></th>\n      <th>feature</th>\n      <th>quintile</th>\n    </tr>\n  </thead>\n  <tbody>\n    <tr>\n      <th>0</th>\n      <td>0.329824</td>\n      <td>4</td>\n    </tr>\n    <tr>\n      <th>1</th>\n      <td>0.081816</td>\n      <td>3</td>\n    </tr>\n    <tr>\n      <th>2</th>\n      <td>0.081816</td>\n      <td>3</td>\n    </tr>\n    <tr>\n      <th>3</th>\n      <td>0.092043</td>\n      <td>3</td>\n    </tr>\n    <tr>\n      <th>4</th>\n      <td>0.984296</td>\n      <td>5</td>\n    </tr>\n    <tr>\n      <th>...</th>\n      <td>...</td>\n      <td>...</td>\n    </tr>\n    <tr>\n      <th>9581</th>\n      <td>0.389026</td>\n      <td>5</td>\n    </tr>\n    <tr>\n      <th>9582</th>\n      <td>0.030681</td>\n      <td>2</td>\n    </tr>\n    <tr>\n      <th>9583</th>\n      <td>0.354453</td>\n      <td>4</td>\n    </tr>\n    <tr>\n      <th>9584</th>\n      <td>0.313204</td>\n      <td>4</td>\n    </tr>\n    <tr>\n      <th>9585</th>\n      <td>0.339625</td>\n      <td>4</td>\n    </tr>\n  </tbody>\n</table>\n<p>9586 rows × 2 columns</p>\n</div>"
     },
     "execution_count": 702,
     "metadata": {},
     "output_type": "execute_result"
    }
   ],
   "source": [
    "scaler = MinMaxScaler()\n",
    "feature1['feature'] = scaler.fit_transform(feature1['feature'].to_numpy().reshape(-1, 1))\n",
    "feature2['feature'] = scaler.fit_transform(feature2['feature'].to_numpy().reshape(-1, 1))\n",
    "feature3['feature'] = scaler.fit_transform(feature3['feature'].to_numpy().reshape(-1, 1))\n",
    "feature4['feature'] = scaler.fit_transform(feature4['feature'].to_numpy().reshape(-1, 1))\n",
    "feature1"
   ],
   "metadata": {
    "collapsed": false,
    "ExecuteTime": {
     "end_time": "2024-07-18T03:38:28.964414Z",
     "start_time": "2024-07-18T03:38:28.948650Z"
    }
   },
   "id": "3cb276fe6517df03",
   "execution_count": 702
  },
  {
   "cell_type": "code",
   "outputs": [],
   "source": [
    "entropies_R = calculate_entropy(feature1['feature'])\n",
    "entropies_F = calculate_entropy(feature2['feature'])\n",
    "entropies_M = calculate_entropy(feature3['feature'])\n",
    "entropies_N = calculate_entropy(feature4['feature'])"
   ],
   "metadata": {
    "collapsed": false,
    "ExecuteTime": {
     "end_time": "2024-07-18T03:38:28.970026Z",
     "start_time": "2024-07-18T03:38:28.965236Z"
    }
   },
   "id": "648c3b51d4ec5820",
   "execution_count": 703
  },
  {
   "cell_type": "code",
   "outputs": [],
   "source": [
    "difference_coefficients = 1 - entropies_R + 1 - entropies_F + 1 - entropies_M + 1 - entropies_N\n",
    "weights_R = (1 - entropies_R) / difference_coefficients\n",
    "weights_F = (1 - entropies_F) / difference_coefficients\n",
    "weights_M = (1 - entropies_M) / difference_coefficients\n",
    "weights_N = (1 - entropies_N) / difference_coefficients"
   ],
   "metadata": {
    "collapsed": false,
    "ExecuteTime": {
     "end_time": "2024-07-18T03:38:28.976974Z",
     "start_time": "2024-07-18T03:38:28.971601Z"
    }
   },
   "id": "4489a4d1faaaa1a3",
   "execution_count": 704
  },
  {
   "cell_type": "code",
   "outputs": [
    {
     "data": {
      "text/plain": "(0.262731436572098,\n 0.3064785178695703,\n 0.34343460724722924,\n 0.08735543831110246)"
     },
     "execution_count": 705,
     "metadata": {},
     "output_type": "execute_result"
    }
   ],
   "source": [
    "weights_R, weights_F, weights_M, weights_N"
   ],
   "metadata": {
    "collapsed": false,
    "ExecuteTime": {
     "end_time": "2024-07-18T03:38:28.990162Z",
     "start_time": "2024-07-18T03:38:28.977631Z"
    }
   },
   "id": "cfcbb4c0c99d0840",
   "execution_count": 705
  },
  {
   "cell_type": "code",
   "outputs": [],
   "source": [
    "weights2_R, weights2_F, weights2_M, weights2_N = 0.099, 0.345, 0.370, 0.185"
   ],
   "metadata": {
    "collapsed": false,
    "ExecuteTime": {
     "end_time": "2024-07-18T03:38:28.999177Z",
     "start_time": "2024-07-18T03:38:28.991194Z"
    }
   },
   "id": "abe65ff03abd3f8a",
   "execution_count": 706
  },
  {
   "cell_type": "code",
   "outputs": [],
   "source": [
    "part1_R = feature1['feature'].sum() * weights_R\n",
    "part1_F = feature2['feature'].sum() * weights_F\n",
    "part1_M = feature3['feature'].sum() * weights_M\n",
    "part1_N = feature4['feature'].sum() * weights_N\n",
    "part1 = part1_R + part1_F + part1_M + part1_N"
   ],
   "metadata": {
    "collapsed": false,
    "ExecuteTime": {
     "end_time": "2024-07-18T03:38:29.007664Z",
     "start_time": "2024-07-18T03:38:29.002228Z"
    }
   },
   "id": "7ba215d8496fc7fd",
   "execution_count": 707
  },
  {
   "cell_type": "code",
   "outputs": [],
   "source": [
    "part2_R = feature1['feature'].sum() * weights2_R\n",
    "part2_F = feature2['feature'].sum() * weights2_F\n",
    "part2_M = feature3['feature'].sum() * weights2_M\n",
    "part2_N = feature4['feature'].sum() * weights2_N\n",
    "part2 = part2_R + part2_F + part2_M + part2_N"
   ],
   "metadata": {
    "collapsed": false,
    "ExecuteTime": {
     "end_time": "2024-07-18T03:38:29.017544Z",
     "start_time": "2024-07-18T03:38:29.008587Z"
    }
   },
   "id": "1d99551c2903009c",
   "execution_count": 708
  },
  {
   "cell_type": "code",
   "outputs": [
    {
     "data": {
      "text/plain": "0.354310134937163"
     },
     "execution_count": 709,
     "metadata": {},
     "output_type": "execute_result"
    }
   ],
   "source": [
    "T = part2 / (part1 + part2)\n",
    "U = part1 / (part1 + part2)\n",
    "weights3_R = weights2_R * T + weights_R * U\n",
    "weights3_F = weights2_F * T + weights_R * U\n",
    "weights3_M = weights2_M * T + weights_M * U\n",
    "weights3_N = weights2_N * T + weights_N * U\n",
    "weights3_M"
   ],
   "metadata": {
    "collapsed": false,
    "ExecuteTime": {
     "end_time": "2024-07-18T03:38:29.026099Z",
     "start_time": "2024-07-18T03:38:29.018586Z"
    }
   },
   "id": "aef391c44dc8084e",
   "execution_count": 709
  },
  {
   "cell_type": "code",
   "outputs": [],
   "source": [
    "feature1['R_S'] = feature1['quintile'] * weights3_R\n",
    "feature2['F_S'] = feature2['quintile'] * weights3_F\n",
    "feature3['M_S'] = feature3['quintile'] * weights3_M\n",
    "feature4['N_S'] = feature4['quintile'] * weights3_N"
   ],
   "metadata": {
    "collapsed": false,
    "ExecuteTime": {
     "end_time": "2024-07-18T03:38:29.038838Z",
     "start_time": "2024-07-18T03:38:29.026915Z"
    }
   },
   "id": "c6402048a7166f",
   "execution_count": 710
  },
  {
   "cell_type": "code",
   "outputs": [],
   "source": [
    "feature = pd.concat([feature1['R_S'], feature2['F_S'], feature3['M_S'], feature4['N_S']], axis=1)"
   ],
   "metadata": {
    "collapsed": false,
    "ExecuteTime": {
     "end_time": "2024-07-18T03:38:29.048196Z",
     "start_time": "2024-07-18T03:38:29.039782Z"
    }
   },
   "id": "4239937ed87af114",
   "execution_count": 711
  },
  {
   "cell_type": "code",
   "outputs": [],
   "source": [
    "feature['S'] = feature['R_S'] + feature['F_S'] + feature['M_S'] + feature['N_S']"
   ],
   "metadata": {
    "collapsed": false,
    "ExecuteTime": {
     "end_time": "2024-07-18T03:38:29.058126Z",
     "start_time": "2024-07-18T03:38:29.049176Z"
    }
   },
   "id": "e346befa46a33f7f",
   "execution_count": 712
  },
  {
   "cell_type": "code",
   "outputs": [
    {
     "data": {
      "text/plain": "           R_S       F_S       M_S       N_S         S\n0     0.782808  0.889233  1.062930  0.254660  2.989631\n1     0.587106  1.482056  1.771551  0.509319  4.350031\n2     0.587106  1.185644  1.417241  0.381990  3.571980\n3     0.587106  1.482056  1.771551  0.381990  4.222702\n4     0.978510  1.482056  1.771551  0.381990  4.614105\n...        ...       ...       ...       ...       ...\n9581  0.978510  0.592822  0.354310  0.381990  2.307631\n9582  0.391404  0.592822  0.354310  0.381990  1.720526\n9583  0.782808  1.482056  1.771551  0.381990  4.418403\n9584  0.782808  0.889233  1.417241  0.127330  3.216611\n9585  0.782808  1.185644  1.417241  0.254660  3.640352\n\n[9586 rows x 5 columns]",
      "text/html": "<div>\n<style scoped>\n    .dataframe tbody tr th:only-of-type {\n        vertical-align: middle;\n    }\n\n    .dataframe tbody tr th {\n        vertical-align: top;\n    }\n\n    .dataframe thead th {\n        text-align: right;\n    }\n</style>\n<table border=\"1\" class=\"dataframe\">\n  <thead>\n    <tr style=\"text-align: right;\">\n      <th></th>\n      <th>R_S</th>\n      <th>F_S</th>\n      <th>M_S</th>\n      <th>N_S</th>\n      <th>S</th>\n    </tr>\n  </thead>\n  <tbody>\n    <tr>\n      <th>0</th>\n      <td>0.782808</td>\n      <td>0.889233</td>\n      <td>1.062930</td>\n      <td>0.254660</td>\n      <td>2.989631</td>\n    </tr>\n    <tr>\n      <th>1</th>\n      <td>0.587106</td>\n      <td>1.482056</td>\n      <td>1.771551</td>\n      <td>0.509319</td>\n      <td>4.350031</td>\n    </tr>\n    <tr>\n      <th>2</th>\n      <td>0.587106</td>\n      <td>1.185644</td>\n      <td>1.417241</td>\n      <td>0.381990</td>\n      <td>3.571980</td>\n    </tr>\n    <tr>\n      <th>3</th>\n      <td>0.587106</td>\n      <td>1.482056</td>\n      <td>1.771551</td>\n      <td>0.381990</td>\n      <td>4.222702</td>\n    </tr>\n    <tr>\n      <th>4</th>\n      <td>0.978510</td>\n      <td>1.482056</td>\n      <td>1.771551</td>\n      <td>0.381990</td>\n      <td>4.614105</td>\n    </tr>\n    <tr>\n      <th>...</th>\n      <td>...</td>\n      <td>...</td>\n      <td>...</td>\n      <td>...</td>\n      <td>...</td>\n    </tr>\n    <tr>\n      <th>9581</th>\n      <td>0.978510</td>\n      <td>0.592822</td>\n      <td>0.354310</td>\n      <td>0.381990</td>\n      <td>2.307631</td>\n    </tr>\n    <tr>\n      <th>9582</th>\n      <td>0.391404</td>\n      <td>0.592822</td>\n      <td>0.354310</td>\n      <td>0.381990</td>\n      <td>1.720526</td>\n    </tr>\n    <tr>\n      <th>9583</th>\n      <td>0.782808</td>\n      <td>1.482056</td>\n      <td>1.771551</td>\n      <td>0.381990</td>\n      <td>4.418403</td>\n    </tr>\n    <tr>\n      <th>9584</th>\n      <td>0.782808</td>\n      <td>0.889233</td>\n      <td>1.417241</td>\n      <td>0.127330</td>\n      <td>3.216611</td>\n    </tr>\n    <tr>\n      <th>9585</th>\n      <td>0.782808</td>\n      <td>1.185644</td>\n      <td>1.417241</td>\n      <td>0.254660</td>\n      <td>3.640352</td>\n    </tr>\n  </tbody>\n</table>\n<p>9586 rows × 5 columns</p>\n</div>"
     },
     "execution_count": 713,
     "metadata": {},
     "output_type": "execute_result"
    }
   ],
   "source": [
    "feature"
   ],
   "metadata": {
    "collapsed": false,
    "ExecuteTime": {
     "end_time": "2024-07-18T03:38:29.075261Z",
     "start_time": "2024-07-18T03:38:29.059063Z"
    }
   },
   "id": "5319ac05f8ba82e5",
   "execution_count": 713
  },
  {
   "cell_type": "code",
   "outputs": [],
   "source": [
    "from sklearn.cluster import KMeans\n",
    "import matplotlib.pyplot as plt"
   ],
   "metadata": {
    "collapsed": false,
    "ExecuteTime": {
     "end_time": "2024-07-18T03:38:29.085191Z",
     "start_time": "2024-07-18T03:38:29.078237Z"
    }
   },
   "id": "a8721701803c7c92",
   "execution_count": 714
  },
  {
   "cell_type": "code",
   "outputs": [
    {
     "data": {
      "text/plain": "<Figure size 640x480 with 1 Axes>",
      "image/png": "[encoded data removed]"
     },
     "metadata": {},
     "output_type": "display_data"
    }
   ],
   "source": [
    "k_values = range(2,9)\n",
    "sse_scores = []\n",
    "\n",
    "for k in k_values:\n",
    "    kmeans = KMeans(n_clusters=k, random_state=42)\n",
    "    kmeans.fit(feature)\n",
    "    sse_scores.append(kmeans.inertia_)\n",
    "\n",
    "# 绘制Elbow图\n",
    "plt.plot(k_values, sse_scores, marker='o', label='SSE')\n",
    "plt.xlabel('Number of clusters')\n",
    "plt.ylabel('SSE')\n",
    "plt.title('Elbow Method For Optimal k')\n",
    "plt.legend()\n",
    "plt.show()"
   ],
   "metadata": {
    "collapsed": false,
    "ExecuteTime": {
     "end_time": "2024-07-18T03:38:29.849605Z",
     "start_time": "2024-07-18T03:38:29.086157Z"
    }
   },
   "id": "2ae3a8a3e2290d74",
   "execution_count": 715
  },
  {
   "cell_type": "code",
   "outputs": [
    {
     "data": {
      "text/plain": "array([[0.79458005, 1.35582931, 1.62953119, 0.34308533, 4.12302588],\n       [0.44878514, 0.52146032, 1.24354041, 0.35561594, 2.56940181],\n       [0.62418995, 0.89683365, 1.57478557, 0.31621442, 3.41202359],\n       [0.3949746 , 0.37648923, 0.50466776, 0.39960141, 1.675733  ],\n       [0.61195252, 0.87426106, 0.54271122, 0.41788529, 2.44681009],\n       [0.67934663, 1.27848538, 0.86556875, 0.45860265, 3.28200342]])"
     },
     "execution_count": 716,
     "metadata": {},
     "output_type": "execute_result"
    }
   ],
   "source": [
    "kmeans = KMeans(n_clusters=6, random_state=42)\n",
    "kmeans.fit(feature)\n",
    "cluster_centers = kmeans.cluster_centers_\n",
    "cluster_centers"
   ],
   "metadata": {
    "collapsed": false,
    "ExecuteTime": {
     "end_time": "2024-07-18T03:38:29.948046Z",
     "start_time": "2024-07-18T03:38:29.850789Z"
    }
   },
   "id": "7b846f71f672a499",
   "execution_count": 716
  },
  {
   "cell_type": "code",
   "outputs": [],
   "source": [
    "# 1 1 1 2  5   重要价值用户 1679\n",
    "# 5 5 3 3  16  重要挽留用户 1487\n",
    "# 3 3 2 1  9   重要保持用户 1599\n",
    "# 6 6 5 4  21  一般挽留用户 1699\n",
    "# 4 4 6 5  19  一般保持用户 1465\n",
    "# 2 2 4 6  14  重要发展用户 1657"
   ],
   "metadata": {
    "collapsed": false,
    "ExecuteTime": {
     "end_time": "2024-07-18T03:38:29.951137Z",
     "start_time": "2024-07-18T03:38:29.949060Z"
    }
   },
   "id": "98f778bc6eff8429",
   "execution_count": 717
  },
  {
   "cell_type": "code",
   "outputs": [
    {
     "name": "stdout",
     "output_type": "stream",
     "text": [
      "\n",
      "Cluster 0:\n",
      "Index([   1,    3,    4,    7,   13,   14,   16,   21,   24,   32,\n",
      "       ...\n",
      "       9532, 9536, 9542, 9543, 9548, 9559, 9561, 9564, 9577, 9583],\n",
      "      dtype='int64', length=1679)\n",
      "        Unnamed: 0            id            y         city   mar_status  \\\n",
      "count  1679.000000   1679.000000  1679.000000  1679.000000  1679.000000   \n",
      "mean   5033.254318  16472.107207     0.262061    57.362120     0.616438   \n",
      "std    2816.590673  11900.973506     0.439887    43.081262     0.907191   \n",
      "min       1.000000     17.000000     0.000000     0.000000     0.000000   \n",
      "25%    2657.500000   5728.000000     0.000000    16.000000     0.000000   \n",
      "50%    5127.000000  14568.000000     0.000000    52.000000     0.000000   \n",
      "75%    7691.500000  26478.000000     1.000000    94.000000     2.000000   \n",
      "max    9583.000000  39961.000000     1.000000   139.000000     2.000000   \n",
      "\n",
      "               age  xaccount_age     cred_limit  this_bill_rate  \\\n",
      "count  1679.000000   1679.000000    1679.000000     1679.000000   \n",
      "mean     35.490173     41.424658   61965.917213        0.578462   \n",
      "std       7.506516     30.334235   55249.347691        0.609982   \n",
      "min      20.000000      1.000000    2000.000000        0.000000   \n",
      "25%      30.000000     15.000000   27000.000000        0.220753   \n",
      "50%      34.000000     23.000000   45000.000000        0.501906   \n",
      "75%      39.000000     67.000000   80000.000000        0.890284   \n",
      "max      64.000000    145.000000  500000.000000       16.979243   \n",
      "\n",
      "        this_bill_mp  ...  consume_num_session6  consume_num_session3  \\\n",
      "count    1679.000000  ...           1679.000000           1679.000000   \n",
      "mean    23198.691989  ...            111.755211             62.618225   \n",
      "std     26927.294928  ...            148.770989             84.127890   \n",
      "min         0.000000  ...              6.000000              2.000000   \n",
      "25%      7531.835000  ...             33.000000             16.000000   \n",
      "50%     16579.630000  ...             59.000000             32.000000   \n",
      "75%     28628.570000  ...            114.000000             65.000000   \n",
      "max    466918.000000  ...           1689.000000            904.000000   \n",
      "\n",
      "       consume_num_session  consume_amt_session12  consume_amt_session6  \\\n",
      "count          1679.000000           1.679000e+03          1.679000e+03   \n",
      "mean             22.625372           2.331721e+05          1.316088e+05   \n",
      "std              31.311722           2.662382e+05          1.490646e+05   \n",
      "min               0.000000           9.161720e+03          4.394640e+03   \n",
      "25%               5.000000           9.090714e+04          5.273665e+04   \n",
      "50%              10.000000           1.560812e+05          9.126504e+04   \n",
      "75%              25.000000           2.760378e+05          1.582018e+05   \n",
      "max             271.000000           3.956771e+06          2.655518e+06   \n",
      "\n",
      "       consume_amt_session3  consume_amt_session  month_avg_use_year  \\\n",
      "count          1.679000e+03          1679.000000         1679.000000   \n",
      "mean           7.091918e+04         25643.863574            0.482986   \n",
      "std            8.142167e+04         30030.766415            0.813638   \n",
      "min            4.742000e+02             0.000000            0.011323   \n",
      "25%            2.807850e+04          8791.130000            0.212137   \n",
      "50%            4.941150e+04         18154.000000            0.393729   \n",
      "75%            8.538196e+04         30442.280000            0.640784   \n",
      "max            1.451518e+06        492018.000000           29.613537   \n",
      "\n",
      "       month_avg_use_month6  month_avg_use_month3  \n",
      "count           1679.000000           1679.000000  \n",
      "mean               0.503654              0.521412  \n",
      "std                0.817468              0.636549  \n",
      "min                0.009766              0.002165  \n",
      "25%                0.211790              0.222444  \n",
      "50%                0.407508              0.433304  \n",
      "75%                0.700025              0.758043  \n",
      "max               29.613537             20.130968  \n",
      "\n",
      "[8 rows x 34 columns]\n",
      "\n",
      "Cluster 1:\n",
      "Index([  10,   12,   18,   34,   39,   45,   59,   69,   70,   71,\n",
      "       ...\n",
      "       9512, 9519, 9521, 9539, 9544, 9551, 9554, 9563, 9569, 9575],\n",
      "      dtype='int64', length=1487)\n",
      "        Unnamed: 0            id            y         city   mar_status  \\\n",
      "count  1487.000000   1487.000000  1487.000000  1487.000000  1487.000000   \n",
      "mean   4530.457969  17699.840619     0.167451    65.591796     0.535306   \n",
      "std    2714.314793  11868.721698     0.373504    42.759738     0.869669   \n",
      "min      10.000000      8.000000     0.000000     0.000000     0.000000   \n",
      "25%    2185.500000   6966.500000     0.000000    26.000000     0.000000   \n",
      "50%    4429.000000  16234.000000     0.000000    66.000000     0.000000   \n",
      "75%    6853.500000  27654.500000     0.000000   102.000000     2.000000   \n",
      "max    9575.000000  39992.000000     1.000000   139.000000     2.000000   \n",
      "\n",
      "               age  xaccount_age     cred_limit  this_bill_rate  this_bill_mp  \\\n",
      "count  1487.000000   1487.000000    1487.000000     1487.000000   1487.000000   \n",
      "mean     33.926026     14.503699   23899.008070        0.577115  11186.239751   \n",
      "std       7.792042     19.683220   20085.438308        0.463258   9949.228045   \n",
      "min      20.000000      1.000000    1000.000000        0.000000      0.000000   \n",
      "25%      28.000000      4.000000   10000.000000        0.172540   4716.750000   \n",
      "50%      32.000000      7.000000   20000.000000        0.588715   8856.400000   \n",
      "75%      39.000000     15.000000   30000.000000        0.947156  15410.240000   \n",
      "max      66.000000    102.000000  221000.000000        8.913930  81225.000000   \n",
      "\n",
      "       ...  consume_num_session6  consume_num_session3  consume_num_session  \\\n",
      "count  ...           1487.000000           1487.000000          1487.000000   \n",
      "mean   ...              7.672495              4.869536             2.121722   \n",
      "std    ...              5.657420              3.990289             2.215960   \n",
      "min    ...              0.000000              0.000000             0.000000   \n",
      "25%    ...              3.000000              2.000000             1.000000   \n",
      "50%    ...              7.000000              4.000000             1.000000   \n",
      "75%    ...             11.000000              7.000000             3.000000   \n",
      "max    ...             33.000000             28.000000            18.000000   \n",
      "\n",
      "       consume_amt_session12  consume_amt_session6  consume_amt_session3  \\\n",
      "count            1487.000000           1487.000000           1487.000000   \n",
      "mean            39857.037108          30243.838527          21011.728668   \n",
      "std             31444.055671          23444.639407          18690.453832   \n",
      "min                 0.000000              0.000000              0.000000   \n",
      "25%             19285.000000          15123.550000          10142.000000   \n",
      "50%             33554.480000          24651.230000          16044.200000   \n",
      "75%             51592.245000          39693.500000          27212.630000   \n",
      "max            333474.300000         205010.000000         149945.000000   \n",
      "\n",
      "       consume_amt_session  month_avg_use_year  month_avg_use_month6  \\\n",
      "count          1487.000000         1487.000000           1487.000000   \n",
      "mean          10094.779180            0.504727              0.504095   \n",
      "std           10323.431132            0.368922              0.376152   \n",
      "min               0.000000            0.000000              0.000000   \n",
      "25%            2983.500000            0.223283              0.211370   \n",
      "50%            7661.000000            0.455349              0.464628   \n",
      "75%           14509.000000            0.761493              0.782834   \n",
      "max           77300.000000            5.722965              5.722965   \n",
      "\n",
      "       month_avg_use_month3  \n",
      "count           1487.000000  \n",
      "mean               0.508916  \n",
      "std                0.389526  \n",
      "min                0.000000  \n",
      "25%                0.198884  \n",
      "50%                0.471127  \n",
      "75%                0.810552  \n",
      "max                5.722965  \n",
      "\n",
      "[8 rows x 34 columns]\n",
      "\n",
      "Cluster 2:\n",
      "Index([   2,    6,    8,    9,   20,   22,   23,   28,   36,   38,\n",
      "       ...\n",
      "       9557, 9558, 9560, 9570, 9573, 9574, 9579, 9580, 9584, 9585],\n",
      "      dtype='int64', length=1599)\n",
      "        Unnamed: 0            id            y         city   mar_status  \\\n",
      "count  1599.000000   1599.000000  1599.000000  1599.000000  1599.000000   \n",
      "mean   4806.900563  17651.654784     0.203877    62.675422     0.475297   \n",
      "std    2748.048941  11934.514936     0.403005    42.000809     0.836725   \n",
      "min       2.000000     22.000000     0.000000     0.000000     0.000000   \n",
      "25%    2455.500000   6724.500000     0.000000    22.000000     0.000000   \n",
      "50%    4788.000000  16835.000000     0.000000    62.000000     0.000000   \n",
      "75%    7177.500000  28015.500000     0.000000    96.000000     0.500000   \n",
      "max    9585.000000  39930.000000     1.000000   139.000000     2.000000   \n",
      "\n",
      "               age  xaccount_age     cred_limit  this_bill_rate  this_bill_mp  \\\n",
      "count  1599.000000   1599.000000    1599.000000     1599.000000    1599.00000   \n",
      "mean     35.248906     23.741714   38508.724203        0.615833   18445.89379   \n",
      "std       8.030407     23.792179   35119.151786        0.385455   18304.50899   \n",
      "min      19.000000      1.000000    2500.000000        0.000000       0.00000   \n",
      "25%      29.000000      8.000000   20000.000000        0.283923    7992.86000   \n",
      "50%      34.000000     15.000000   30000.000000        0.633333   14209.27000   \n",
      "75%      40.000000     23.000000   50000.000000        0.964250   23212.36000   \n",
      "max      64.000000    117.000000  500000.000000        3.092100  189947.16000   \n",
      "\n",
      "       ...  consume_num_session6  consume_num_session3  consume_num_session  \\\n",
      "count  ...           1599.000000           1599.000000          1599.000000   \n",
      "mean   ...             19.672295             10.971857             4.246404   \n",
      "std    ...             18.807141             14.052372             7.330262   \n",
      "min    ...              0.000000              0.000000             0.000000   \n",
      "25%    ...             10.000000              4.000000             1.000000   \n",
      "50%    ...             16.000000              8.000000             3.000000   \n",
      "75%    ...             24.000000             13.000000             5.000000   \n",
      "max    ...            340.000000            265.000000           142.000000   \n",
      "\n",
      "       consume_amt_session12  consume_amt_session6  consume_amt_session3  \\\n",
      "count           1.599000e+03           1599.000000           1599.000000   \n",
      "mean            1.336626e+05          82938.149231          45732.311920   \n",
      "std             1.243868e+05          68449.450100          38089.169333   \n",
      "min             0.000000e+00              0.000000              0.000000   \n",
      "25%             6.588045e+04          43994.390000          23936.600000   \n",
      "50%             1.001330e+05          64540.000000          36236.460000   \n",
      "75%             1.580497e+05          99990.800000          57877.350000   \n",
      "max             1.447325e+06         828000.000000         528000.000000   \n",
      "\n",
      "       consume_amt_session  month_avg_use_year  month_avg_use_month6  \\\n",
      "count          1599.000000         1599.000000           1599.000000   \n",
      "mean          17138.057154            0.509323              0.525409   \n",
      "std           15994.535978            0.294289              0.308405   \n",
      "min               0.000000            0.000000              0.000000   \n",
      "25%            7821.400000            0.270829              0.270032   \n",
      "50%           14000.000000            0.467654              0.477889   \n",
      "75%           21958.950000            0.742356              0.780467   \n",
      "max          202000.000000            2.512912              2.512912   \n",
      "\n",
      "       month_avg_use_month3  \n",
      "count           1599.000000  \n",
      "mean               0.550727  \n",
      "std                0.336123  \n",
      "min                0.000000  \n",
      "25%                0.276593  \n",
      "50%                0.507822  \n",
      "75%                0.857487  \n",
      "max                2.512912  \n",
      "\n",
      "[8 rows x 34 columns]\n",
      "\n",
      "Cluster 3:\n",
      "Index([   5,   19,   25,   30,   33,   37,   42,   47,   48,   49,\n",
      "       ...\n",
      "       9492, 9503, 9508, 9509, 9513, 9518, 9553, 9571, 9572, 9582],\n",
      "      dtype='int64', length=1699)\n",
      "        Unnamed: 0            id            y         city   mar_status  \\\n",
      "count  1699.000000   1699.000000  1699.000000  1699.000000  1699.000000   \n",
      "mean   4528.564450  18831.161860     0.138905    62.603296     0.734550   \n",
      "std    2637.642364  11899.241974     0.345949    42.314005     0.947777   \n",
      "min       5.000000      0.000000     0.000000     0.000000     0.000000   \n",
      "25%    2206.500000   8061.000000     0.000000    23.000000     0.000000   \n",
      "50%    4585.000000  18261.000000     0.000000    60.000000     0.000000   \n",
      "75%    6655.500000  29327.000000     0.000000    99.000000     2.000000   \n",
      "max    9582.000000  39989.000000     1.000000   139.000000     2.000000   \n",
      "\n",
      "               age  xaccount_age     cred_limit  this_bill_rate  this_bill_mp  \\\n",
      "count  1699.000000   1699.000000    1699.000000     1699.000000   1699.000000   \n",
      "mean     32.952325     12.152443   11353.906416        0.377725   2567.226881   \n",
      "std       8.417588     17.873781   16505.797322        0.531685   2879.706776   \n",
      "min      19.000000      1.000000       1.000000        0.000000      0.000000   \n",
      "25%      27.000000      3.000000    2250.000000        0.028074    695.305000   \n",
      "50%      31.000000      6.000000    5500.000000        0.200000   1794.260000   \n",
      "75%      37.000000     14.000000   15000.000000        0.666933   3687.430000   \n",
      "max      62.000000    103.000000  200000.000000        8.000000  20821.000000   \n",
      "\n",
      "       ...  consume_num_session6  consume_num_session3  consume_num_session  \\\n",
      "count  ...           1699.000000           1699.000000          1699.000000   \n",
      "mean   ...              4.098882              2.785168             1.436727   \n",
      "std    ...              4.114626              2.968086             1.964339   \n",
      "min    ...              0.000000              0.000000             0.000000   \n",
      "25%    ...              1.000000              0.500000             0.000000   \n",
      "50%    ...              3.000000              2.000000             1.000000   \n",
      "75%    ...              6.000000              4.000000             2.000000   \n",
      "max    ...             40.000000             18.000000            16.000000   \n",
      "\n",
      "       consume_amt_session12  consume_amt_session6  consume_amt_session3  \\\n",
      "count            1699.000000           1699.000000           1699.000000   \n",
      "mean             6830.163773           4773.825091           3256.512613   \n",
      "std              8626.956162           5454.616168           3954.836025   \n",
      "min                 0.000000              0.000000              0.000000   \n",
      "25%              1479.835000            871.345000              2.000000   \n",
      "50%              4231.440000           3045.000000           2000.000000   \n",
      "75%              9000.000000           6608.400000           4839.380000   \n",
      "max             75486.780000          40000.000000          28499.000000   \n",
      "\n",
      "       consume_amt_session  month_avg_use_year  month_avg_use_month6  \\\n",
      "count          1699.000000         1699.000000           1699.000000   \n",
      "mean           1648.693325            0.354030              0.345226   \n",
      "std            2319.762508            1.203803              1.393899   \n",
      "min               0.000000            0.000000              0.000000   \n",
      "25%               0.000000            0.054785              0.027528   \n",
      "50%             747.400000            0.220889              0.195992   \n",
      "75%            2319.425000            0.500000              0.499507   \n",
      "max           19850.000000           48.107143             56.125000   \n",
      "\n",
      "       month_avg_use_month3  \n",
      "count           1699.000000  \n",
      "mean               0.318545  \n",
      "std                0.709713  \n",
      "min                0.000000  \n",
      "25%                0.000058  \n",
      "50%                0.166840  \n",
      "75%                0.497933  \n",
      "max               25.833333  \n",
      "\n",
      "[8 rows x 34 columns]\n",
      "\n",
      "Cluster 4:\n",
      "Index([  17,   29,   44,   54,   55,   57,   62,   75,   88,   89,\n",
      "       ...\n",
      "       9530, 9534, 9535, 9537, 9538, 9541, 9546, 9568, 9576, 9581],\n",
      "      dtype='int64', length=1465)\n",
      "        Unnamed: 0            id            y         city   mar_status  \\\n",
      "count  1465.000000   1465.000000  1465.000000  1465.000000  1465.000000   \n",
      "mean   4759.158362  17777.144710     0.194539    62.194539     0.848464   \n",
      "std    2755.855066  11854.285418     0.395981    43.182242     0.971014   \n",
      "min      17.000000     63.000000     0.000000     0.000000     0.000000   \n",
      "25%    2393.000000   7009.000000     0.000000    19.000000     0.000000   \n",
      "50%    4847.000000  16743.000000     0.000000    62.000000     0.000000   \n",
      "75%    7062.000000  27783.000000     0.000000   102.000000     2.000000   \n",
      "max    9581.000000  39959.000000     1.000000   139.000000     2.000000   \n",
      "\n",
      "               age  xaccount_age     cred_limit  this_bill_rate  this_bill_mp  \\\n",
      "count  1465.000000   1465.000000    1465.000000     1465.000000   1465.000000   \n",
      "mean     32.156314     20.277816   10786.962457        0.361709   2352.709106   \n",
      "std       7.939543     23.101817   14974.093315        0.362159   2341.333628   \n",
      "min      19.000000      1.000000    1000.000000        0.000000      0.000000   \n",
      "25%      26.000000      7.000000    3000.000000        0.076450    852.150000   \n",
      "50%      30.000000     12.000000    6000.000000        0.231135   1773.050000   \n",
      "75%      36.000000     21.000000   12000.000000        0.571244   2905.620000   \n",
      "max      74.000000    130.000000  200000.000000        2.430000  15566.670000   \n",
      "\n",
      "       ...  consume_num_session6  consume_num_session3  consume_num_session  \\\n",
      "count  ...           1465.000000           1465.000000          1465.000000   \n",
      "mean   ...             18.350171             11.012287             4.770648   \n",
      "std    ...             15.969818             12.005116             6.775626   \n",
      "min    ...              0.000000              0.000000             0.000000   \n",
      "25%    ...              8.000000              3.000000             1.000000   \n",
      "50%    ...             14.000000              7.000000             2.000000   \n",
      "75%    ...             24.000000             14.000000             5.000000   \n",
      "max    ...            148.000000            104.000000            67.000000   \n",
      "\n",
      "       consume_amt_session12  consume_amt_session6  consume_amt_session3  \\\n",
      "count            1465.000000           1465.000000           1465.000000   \n",
      "mean            12700.154184           7061.605570           3807.838362   \n",
      "std             11244.318348           5232.585439           2999.224795   \n",
      "min                 0.000000              0.000000              0.000000   \n",
      "25%              4772.630000           3124.960000           1409.770000   \n",
      "50%              9808.950000           5845.000000           3181.060000   \n",
      "75%             17525.000000          10178.000000           5800.000000   \n",
      "max            104241.210000          37077.740000          16381.000000   \n",
      "\n",
      "       consume_amt_session  month_avg_use_year  month_avg_use_month6  \\\n",
      "count          1465.000000         1465.000000           1465.000000   \n",
      "mean           1489.088655            0.319169              0.302032   \n",
      "std            1488.868488            0.294918              0.304646   \n",
      "min               0.000000            0.000000              0.000000   \n",
      "25%             280.000000            0.099979              0.071846   \n",
      "50%            1030.660000            0.232378              0.203567   \n",
      "75%            2110.790000            0.458471              0.430787   \n",
      "max            8998.000000            2.258640              2.258640   \n",
      "\n",
      "       month_avg_use_month3  \n",
      "count           1465.000000  \n",
      "mean               0.300416  \n",
      "std                0.327266  \n",
      "min                0.000000  \n",
      "25%                0.060240  \n",
      "50%                0.177310  \n",
      "75%                0.438630  \n",
      "max                2.258640  \n",
      "\n",
      "[8 rows x 34 columns]\n",
      "\n",
      "Cluster 5:\n",
      "Index([   0,   11,   15,   26,   27,   31,   40,   43,   46,   52,\n",
      "       ...\n",
      "       9545, 9549, 9550, 9552, 9556, 9562, 9565, 9566, 9567, 9578],\n",
      "      dtype='int64', length=1657)\n",
      "        Unnamed: 0            id            y         city   mar_status  \\\n",
      "count  1657.000000   1657.000000  1657.000000  1657.000000  1657.000000   \n",
      "mean   5069.914303  16069.573929     0.277007    55.298733     0.835848   \n",
      "std    2876.165239  11721.983144     0.447655    43.107992     0.970380   \n",
      "min       0.000000      2.000000     0.000000     0.000000     0.000000   \n",
      "25%    2549.000000   5993.000000     0.000000    16.000000     0.000000   \n",
      "50%    5083.000000  13412.000000     0.000000    48.000000     0.000000   \n",
      "75%    7784.000000  25821.000000     1.000000    91.000000     2.000000   \n",
      "max    9578.000000  39931.000000     1.000000   139.000000     2.000000   \n",
      "\n",
      "               age  xaccount_age     cred_limit  this_bill_rate  this_bill_mp  \\\n",
      "count  1657.000000   1657.000000    1657.000000     1657.000000   1657.000000   \n",
      "mean     32.805069     26.616777   20610.923355        0.395011   3822.465679   \n",
      "std       7.516168     27.119699   24578.701585        0.377380   4037.364481   \n",
      "min      19.000000      1.000000    1000.000000        0.000000      0.000000   \n",
      "25%      27.000000      9.000000    6000.000000        0.099976   1173.170000   \n",
      "50%      31.000000     15.000000   14000.000000        0.259719   2666.150000   \n",
      "75%      37.000000     24.000000   26000.000000        0.601932   5129.110000   \n",
      "max      63.000000    141.000000  300000.000000        2.507705  44290.830000   \n",
      "\n",
      "       ...  consume_num_session6  consume_num_session3  consume_num_session  \\\n",
      "count  ...           1657.000000           1657.000000          1657.000000   \n",
      "mean   ...             66.610742             37.564876            14.555824   \n",
      "std    ...             71.642286             41.820710            17.780551   \n",
      "min    ...              0.000000              0.000000             0.000000   \n",
      "25%    ...             24.000000             12.000000             3.000000   \n",
      "50%    ...             42.000000             24.000000             8.000000   \n",
      "75%    ...             81.000000             48.000000            19.000000   \n",
      "max    ...            898.000000            455.000000           152.000000   \n",
      "\n",
      "       consume_amt_session12  consume_amt_session6  consume_amt_session3  \\\n",
      "count            1657.000000           1657.000000           1657.000000   \n",
      "mean            31252.873072          17749.424556           9390.259191   \n",
      "std             20419.206131          10040.492657           5854.174939   \n",
      "min                 0.000000              0.000000              0.000000   \n",
      "25%             16103.350000           9794.750000           4574.670000   \n",
      "50%             26523.360000          16103.350000           8274.750000   \n",
      "75%             41689.430000          23993.900000          13384.850000   \n",
      "max            148628.700000          68367.860000          31527.200000   \n",
      "\n",
      "       consume_amt_session  month_avg_use_year  month_avg_use_month6  \\\n",
      "count          1657.000000         1657.000000           1657.000000   \n",
      "mean           3428.407520            0.339160              0.334623   \n",
      "std            2831.786616            0.304413              0.310584   \n",
      "min               0.000000            0.000000              0.000000   \n",
      "25%            1188.250000            0.118412              0.106986   \n",
      "50%            2660.000000            0.252621              0.239450   \n",
      "75%            5016.890000            0.468042              0.462796   \n",
      "max           17078.000000            2.814124              2.532438   \n",
      "\n",
      "       month_avg_use_month3  \n",
      "count           1657.000000  \n",
      "mean               0.340296  \n",
      "std                0.331256  \n",
      "min                0.000000  \n",
      "25%                0.088452  \n",
      "50%                0.226633  \n",
      "75%                0.497647  \n",
      "max                2.547533  \n",
      "\n",
      "[8 rows x 34 columns]\n"
     ]
    }
   ],
   "source": [
    "clustered_data = {}\n",
    "for i in range(6):  # 假设有6个簇\n",
    "    clustered_data[i] = feature[kmeans.labels_ == i]\n",
    "for i, cluster in clustered_data.items():\n",
    "    print(f\"\\nCluster {i}:\")\n",
    "    print(cluster.index)\n",
    "    print(df.loc[cluster.index, :].describe())"
   ],
   "metadata": {
    "collapsed": false,
    "ExecuteTime": {
     "end_time": "2024-07-18T03:38:30.281483Z",
     "start_time": "2024-07-18T03:38:29.951943Z"
    }
   },
   "id": "957cd5b75ed148ab",
   "execution_count": 718
  },
  {
   "cell_type": "code",
   "outputs": [],
   "source": [],
   "metadata": {
    "collapsed": false,
    "ExecuteTime": {
     "end_time": "2024-07-18T03:38:30.284664Z",
     "start_time": "2024-07-18T03:38:30.282679Z"
    }
   },
   "id": "7f3c5f6c06a64080",
   "execution_count": 718
  }
 ],
 "metadata": {
  "kernelspec": {
   "display_name": "Python 3",
   "language": "python",
   "name": "python3"
  },
  "language_info": {
   "codemirror_mode": {
    "name": "ipython",
    "version": 2
   },
   "file_extension": ".py",
   "mimetype": "text/x-python",
   "name": "python",
   "nbconvert_exporter": "python",
   "pygments_lexer": "ipython2",
   "version": "2.7.6"
  }
 },
 "nbformat": 4,
 "nbformat_minor": 5
}
