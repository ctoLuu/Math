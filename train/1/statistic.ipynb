{
 "cells": [
  {
   "cell_type": "code",
   "execution_count": 26,
   "id": "initial_id",
   "metadata": {
    "collapsed": true,
    "ExecuteTime": {
     "end_time": "2024-07-14T11:01:04.972840Z",
     "start_time": "2024-07-14T11:01:04.970304Z"
    }
   },
   "outputs": [],
   "source": [
    "import pandas as pd\n",
    "import numpy as np"
   ]
  },
  {
   "cell_type": "code",
   "outputs": [
    {
     "data": {
      "text/plain": "           Date      Time  CO(GT)  PT08.S1(CO)    NMHC(GT)   C6H6(GT)  \\\n0    2004-03-10  18:00:00     2.6      1360.00  150.000000  11.881723   \n1    2004-03-10  19:00:00     2.0      1292.25  112.000000   9.397165   \n2    2004-03-10  20:00:00     2.2      1402.00   88.000000   8.997817   \n3    2004-03-10  21:00:00     2.2      1375.50   80.000000   9.228796   \n4    2004-03-10  22:00:00     1.6      1272.25   51.000000   6.518224   \n...         ...       ...     ...          ...         ...        ...   \n9356 2005-04-04  14:00:00     2.2      1070.75 -200.000000  11.932060   \n9357        NaT       NaN     NaN          NaN         NaN        NaN   \n9358        NaT       NaN     NaN          NaN         NaN        NaN   \n9359        NaT       NaN     NaN          NaN         NaN        NaN   \n9360        NaT       NaN     NaN          NaN    0.946394        NaN   \n\n      PT08.S2(NMHC)  NOx(GT)  PT08.S3(NOx)  NO2(GT)  PT08.S4(NO2)  \\\n0           1045.50    166.0       1056.25    113.0       1692.00   \n1            954.75    103.0       1173.75     92.0       1558.75   \n2            939.25    131.0       1140.00    114.0       1554.50   \n3            948.25    172.0       1092.00    122.0       1583.75   \n4            835.50    131.0       1205.00    116.0       1490.00   \n...             ...      ...           ...      ...           ...   \n9356        1047.25    265.2        654.00    167.7       1128.50   \n9357            NaN      NaN           NaN      NaN           NaN   \n9358            NaN      NaN           NaN      NaN           NaN   \n9359            NaN      NaN           NaN      NaN           NaN   \n9360            NaN      NaN           NaN      NaN           NaN   \n\n      PT08.S5(O3)      T         RH        AH  \n0         1267.50  13.60  48.875001  0.757754  \n1          972.25  13.30  47.700000  0.725487  \n2         1074.00  11.90  53.975000  0.750239  \n3         1203.25  11.00  60.000000  0.786713  \n4         1110.00  11.15  59.575001  0.788794  \n...           ...    ...        ...       ...  \n9356       816.00  28.50  13.125000  0.502804  \n9357          NaN    NaN        NaN       NaN  \n9358          NaN    NaN        NaN       NaN  \n9359          NaN    NaN        NaN       NaN  \n9360          NaN    NaN        NaN       NaN  \n\n[9361 rows x 15 columns]",
      "text/html": "<div>\n<style scoped>\n    .dataframe tbody tr th:only-of-type {\n        vertical-align: middle;\n    }\n\n    .dataframe tbody tr th {\n        vertical-align: top;\n    }\n\n    .dataframe thead th {\n        text-align: right;\n    }\n</style>\n<table border=\"1\" class=\"dataframe\">\n  <thead>\n    <tr style=\"text-align: right;\">\n      <th></th>\n      <th>Date</th>\n      <th>Time</th>\n      <th>CO(GT)</th>\n      <th>PT08.S1(CO)</th>\n      <th>NMHC(GT)</th>\n      <th>C6H6(GT)</th>\n      <th>PT08.S2(NMHC)</th>\n      <th>NOx(GT)</th>\n      <th>PT08.S3(NOx)</th>\n      <th>NO2(GT)</th>\n      <th>PT08.S4(NO2)</th>\n      <th>PT08.S5(O3)</th>\n      <th>T</th>\n      <th>RH</th>\n      <th>AH</th>\n    </tr>\n  </thead>\n  <tbody>\n    <tr>\n      <th>0</th>\n      <td>2004-03-10</td>\n      <td>18:00:00</td>\n      <td>2.6</td>\n      <td>1360.00</td>\n      <td>150.000000</td>\n      <td>11.881723</td>\n      <td>1045.50</td>\n      <td>166.0</td>\n      <td>1056.25</td>\n      <td>113.0</td>\n      <td>1692.00</td>\n      <td>1267.50</td>\n      <td>13.60</td>\n      <td>48.875001</td>\n      <td>0.757754</td>\n    </tr>\n    <tr>\n      <th>1</th>\n      <td>2004-03-10</td>\n      <td>19:00:00</td>\n      <td>2.0</td>\n      <td>1292.25</td>\n      <td>112.000000</td>\n      <td>9.397165</td>\n      <td>954.75</td>\n      <td>103.0</td>\n      <td>1173.75</td>\n      <td>92.0</td>\n      <td>1558.75</td>\n      <td>972.25</td>\n      <td>13.30</td>\n      <td>47.700000</td>\n      <td>0.725487</td>\n    </tr>\n    <tr>\n      <th>2</th>\n      <td>2004-03-10</td>\n      <td>20:00:00</td>\n      <td>2.2</td>\n      <td>1402.00</td>\n      <td>88.000000</td>\n      <td>8.997817</td>\n      <td>939.25</td>\n      <td>131.0</td>\n      <td>1140.00</td>\n      <td>114.0</td>\n      <td>1554.50</td>\n      <td>1074.00</td>\n      <td>11.90</td>\n      <td>53.975000</td>\n      <td>0.750239</td>\n    </tr>\n    <tr>\n      <th>3</th>\n      <td>2004-03-10</td>\n      <td>21:00:00</td>\n      <td>2.2</td>\n      <td>1375.50</td>\n      <td>80.000000</td>\n      <td>9.228796</td>\n      <td>948.25</td>\n      <td>172.0</td>\n      <td>1092.00</td>\n      <td>122.0</td>\n      <td>1583.75</td>\n      <td>1203.25</td>\n      <td>11.00</td>\n      <td>60.000000</td>\n      <td>0.786713</td>\n    </tr>\n    <tr>\n      <th>4</th>\n      <td>2004-03-10</td>\n      <td>22:00:00</td>\n      <td>1.6</td>\n      <td>1272.25</td>\n      <td>51.000000</td>\n      <td>6.518224</td>\n      <td>835.50</td>\n      <td>131.0</td>\n      <td>1205.00</td>\n      <td>116.0</td>\n      <td>1490.00</td>\n      <td>1110.00</td>\n      <td>11.15</td>\n      <td>59.575001</td>\n      <td>0.788794</td>\n    </tr>\n    <tr>\n      <th>...</th>\n      <td>...</td>\n      <td>...</td>\n      <td>...</td>\n      <td>...</td>\n      <td>...</td>\n      <td>...</td>\n      <td>...</td>\n      <td>...</td>\n      <td>...</td>\n      <td>...</td>\n      <td>...</td>\n      <td>...</td>\n      <td>...</td>\n      <td>...</td>\n      <td>...</td>\n    </tr>\n    <tr>\n      <th>9356</th>\n      <td>2005-04-04</td>\n      <td>14:00:00</td>\n      <td>2.2</td>\n      <td>1070.75</td>\n      <td>-200.000000</td>\n      <td>11.932060</td>\n      <td>1047.25</td>\n      <td>265.2</td>\n      <td>654.00</td>\n      <td>167.7</td>\n      <td>1128.50</td>\n      <td>816.00</td>\n      <td>28.50</td>\n      <td>13.125000</td>\n      <td>0.502804</td>\n    </tr>\n    <tr>\n      <th>9357</th>\n      <td>NaT</td>\n      <td>NaN</td>\n      <td>NaN</td>\n      <td>NaN</td>\n      <td>NaN</td>\n      <td>NaN</td>\n      <td>NaN</td>\n      <td>NaN</td>\n      <td>NaN</td>\n      <td>NaN</td>\n      <td>NaN</td>\n      <td>NaN</td>\n      <td>NaN</td>\n      <td>NaN</td>\n      <td>NaN</td>\n    </tr>\n    <tr>\n      <th>9358</th>\n      <td>NaT</td>\n      <td>NaN</td>\n      <td>NaN</td>\n      <td>NaN</td>\n      <td>NaN</td>\n      <td>NaN</td>\n      <td>NaN</td>\n      <td>NaN</td>\n      <td>NaN</td>\n      <td>NaN</td>\n      <td>NaN</td>\n      <td>NaN</td>\n      <td>NaN</td>\n      <td>NaN</td>\n      <td>NaN</td>\n    </tr>\n    <tr>\n      <th>9359</th>\n      <td>NaT</td>\n      <td>NaN</td>\n      <td>NaN</td>\n      <td>NaN</td>\n      <td>NaN</td>\n      <td>NaN</td>\n      <td>NaN</td>\n      <td>NaN</td>\n      <td>NaN</td>\n      <td>NaN</td>\n      <td>NaN</td>\n      <td>NaN</td>\n      <td>NaN</td>\n      <td>NaN</td>\n      <td>NaN</td>\n    </tr>\n    <tr>\n      <th>9360</th>\n      <td>NaT</td>\n      <td>NaN</td>\n      <td>NaN</td>\n      <td>NaN</td>\n      <td>0.946394</td>\n      <td>NaN</td>\n      <td>NaN</td>\n      <td>NaN</td>\n      <td>NaN</td>\n      <td>NaN</td>\n      <td>NaN</td>\n      <td>NaN</td>\n      <td>NaN</td>\n      <td>NaN</td>\n      <td>NaN</td>\n    </tr>\n  </tbody>\n</table>\n<p>9361 rows × 15 columns</p>\n</div>"
     },
     "execution_count": 27,
     "metadata": {},
     "output_type": "execute_result"
    }
   ],
   "source": [
    "df = pd.read_excel('./AirQualityUCI.xlsx')\n",
    "df"
   ],
   "metadata": {
    "collapsed": false,
    "ExecuteTime": {
     "end_time": "2024-07-14T11:01:05.891597Z",
     "start_time": "2024-07-14T11:01:04.979269Z"
    }
   },
   "id": "a42065b985d6da73",
   "execution_count": 27
  },
  {
   "cell_type": "code",
   "outputs": [
    {
     "data": {
      "text/plain": "['CO(GT)',\n 'PT08.S1(CO)',\n 'NMHC(GT)',\n 'C6H6(GT)',\n 'PT08.S2(NMHC)',\n 'NOx(GT)',\n 'PT08.S3(NOx)',\n 'NO2(GT)',\n 'PT08.S4(NO2)',\n 'PT08.S5(O3)',\n 'T',\n 'RH',\n 'AH']"
     },
     "execution_count": 28,
     "metadata": {},
     "output_type": "execute_result"
    }
   ],
   "source": [
    "columns = list(df)[2:]\n",
    "columns"
   ],
   "metadata": {
    "collapsed": false,
    "ExecuteTime": {
     "end_time": "2024-07-14T11:01:05.895900Z",
     "start_time": "2024-07-14T11:01:05.892920Z"
    }
   },
   "id": "317182beef9a881b",
   "execution_count": 28
  },
  {
   "cell_type": "code",
   "outputs": [
    {
     "name": "stdout",
     "output_type": "stream",
     "text": [
      "1683\n",
      "366\n",
      "8443\n",
      "366\n",
      "366\n",
      "1639\n",
      "366\n",
      "1642\n",
      "366\n",
      "366\n",
      "366\n",
      "366\n",
      "366\n"
     ]
    }
   ],
   "source": [
    "for column in columns:\n",
    "    count = 0\n",
    "    for i in range(9357):\n",
    "        if df.loc[i, column] == -200:\n",
    "            count += 1\n",
    "    print(count)"
   ],
   "metadata": {
    "collapsed": false,
    "ExecuteTime": {
     "end_time": "2024-07-14T11:01:06.540618Z",
     "start_time": "2024-07-14T11:01:05.897047Z"
    }
   },
   "id": "669cb6b019790d78",
   "execution_count": 29
  },
  {
   "cell_type": "code",
   "outputs": [
    {
     "data": {
      "text/plain": "           Date      Time  CO(GT)  PT08.S1(CO)    NMHC(GT)   C6H6(GT)  \\\n0    2004-03-10  18:00:00     2.6      1360.00  150.000000  11.881723   \n1    2004-03-10  19:00:00     2.0      1292.25  112.000000   9.397165   \n2    2004-03-10  20:00:00     2.2      1402.00   88.000000   8.997817   \n3    2004-03-10  21:00:00     2.2      1375.50   80.000000   9.228796   \n4    2004-03-10  22:00:00     1.6      1272.25   51.000000   6.518224   \n...         ...       ...     ...          ...         ...        ...   \n9356 2005-04-04  14:00:00     2.2      1070.75 -200.000000  11.932060   \n9357        NaT       NaN     NaN          NaN         NaN        NaN   \n9358        NaT       NaN     NaN          NaN         NaN        NaN   \n9359        NaT       NaN     NaN          NaN         NaN        NaN   \n9360        NaT       NaN     NaN          NaN    0.946394        NaN   \n\n      PT08.S2(NMHC)  NOx(GT)  PT08.S3(NOx)  NO2(GT)  PT08.S4(NO2)  \\\n0           1045.50    166.0       1056.25    113.0       1692.00   \n1            954.75    103.0       1173.75     92.0       1558.75   \n2            939.25    131.0       1140.00    114.0       1554.50   \n3            948.25    172.0       1092.00    122.0       1583.75   \n4            835.50    131.0       1205.00    116.0       1490.00   \n...             ...      ...           ...      ...           ...   \n9356        1047.25    265.2        654.00    167.7       1128.50   \n9357            NaN      NaN           NaN      NaN           NaN   \n9358            NaN      NaN           NaN      NaN           NaN   \n9359            NaN      NaN           NaN      NaN           NaN   \n9360            NaN      NaN           NaN      NaN           NaN   \n\n      PT08.S5(O3)      T         RH        AH  \n0         1267.50  13.60  48.875001  0.757754  \n1          972.25  13.30  47.700000  0.725487  \n2         1074.00  11.90  53.975000  0.750239  \n3         1203.25  11.00  60.000000  0.786713  \n4         1110.00  11.15  59.575001  0.788794  \n...           ...    ...        ...       ...  \n9356       816.00  28.50  13.125000  0.502804  \n9357          NaN    NaN        NaN       NaN  \n9358          NaN    NaN        NaN       NaN  \n9359          NaN    NaN        NaN       NaN  \n9360          NaN    NaN        NaN       NaN  \n\n[9361 rows x 15 columns]",
      "text/html": "<div>\n<style scoped>\n    .dataframe tbody tr th:only-of-type {\n        vertical-align: middle;\n    }\n\n    .dataframe tbody tr th {\n        vertical-align: top;\n    }\n\n    .dataframe thead th {\n        text-align: right;\n    }\n</style>\n<table border=\"1\" class=\"dataframe\">\n  <thead>\n    <tr style=\"text-align: right;\">\n      <th></th>\n      <th>Date</th>\n      <th>Time</th>\n      <th>CO(GT)</th>\n      <th>PT08.S1(CO)</th>\n      <th>NMHC(GT)</th>\n      <th>C6H6(GT)</th>\n      <th>PT08.S2(NMHC)</th>\n      <th>NOx(GT)</th>\n      <th>PT08.S3(NOx)</th>\n      <th>NO2(GT)</th>\n      <th>PT08.S4(NO2)</th>\n      <th>PT08.S5(O3)</th>\n      <th>T</th>\n      <th>RH</th>\n      <th>AH</th>\n    </tr>\n  </thead>\n  <tbody>\n    <tr>\n      <th>0</th>\n      <td>2004-03-10</td>\n      <td>18:00:00</td>\n      <td>2.6</td>\n      <td>1360.00</td>\n      <td>150.000000</td>\n      <td>11.881723</td>\n      <td>1045.50</td>\n      <td>166.0</td>\n      <td>1056.25</td>\n      <td>113.0</td>\n      <td>1692.00</td>\n      <td>1267.50</td>\n      <td>13.60</td>\n      <td>48.875001</td>\n      <td>0.757754</td>\n    </tr>\n    <tr>\n      <th>1</th>\n      <td>2004-03-10</td>\n      <td>19:00:00</td>\n      <td>2.0</td>\n      <td>1292.25</td>\n      <td>112.000000</td>\n      <td>9.397165</td>\n      <td>954.75</td>\n      <td>103.0</td>\n      <td>1173.75</td>\n      <td>92.0</td>\n      <td>1558.75</td>\n      <td>972.25</td>\n      <td>13.30</td>\n      <td>47.700000</td>\n      <td>0.725487</td>\n    </tr>\n    <tr>\n      <th>2</th>\n      <td>2004-03-10</td>\n      <td>20:00:00</td>\n      <td>2.2</td>\n      <td>1402.00</td>\n      <td>88.000000</td>\n      <td>8.997817</td>\n      <td>939.25</td>\n      <td>131.0</td>\n      <td>1140.00</td>\n      <td>114.0</td>\n      <td>1554.50</td>\n      <td>1074.00</td>\n      <td>11.90</td>\n      <td>53.975000</td>\n      <td>0.750239</td>\n    </tr>\n    <tr>\n      <th>3</th>\n      <td>2004-03-10</td>\n      <td>21:00:00</td>\n      <td>2.2</td>\n      <td>1375.50</td>\n      <td>80.000000</td>\n      <td>9.228796</td>\n      <td>948.25</td>\n      <td>172.0</td>\n      <td>1092.00</td>\n      <td>122.0</td>\n      <td>1583.75</td>\n      <td>1203.25</td>\n      <td>11.00</td>\n      <td>60.000000</td>\n      <td>0.786713</td>\n    </tr>\n    <tr>\n      <th>4</th>\n      <td>2004-03-10</td>\n      <td>22:00:00</td>\n      <td>1.6</td>\n      <td>1272.25</td>\n      <td>51.000000</td>\n      <td>6.518224</td>\n      <td>835.50</td>\n      <td>131.0</td>\n      <td>1205.00</td>\n      <td>116.0</td>\n      <td>1490.00</td>\n      <td>1110.00</td>\n      <td>11.15</td>\n      <td>59.575001</td>\n      <td>0.788794</td>\n    </tr>\n    <tr>\n      <th>...</th>\n      <td>...</td>\n      <td>...</td>\n      <td>...</td>\n      <td>...</td>\n      <td>...</td>\n      <td>...</td>\n      <td>...</td>\n      <td>...</td>\n      <td>...</td>\n      <td>...</td>\n      <td>...</td>\n      <td>...</td>\n      <td>...</td>\n      <td>...</td>\n      <td>...</td>\n    </tr>\n    <tr>\n      <th>9356</th>\n      <td>2005-04-04</td>\n      <td>14:00:00</td>\n      <td>2.2</td>\n      <td>1070.75</td>\n      <td>-200.000000</td>\n      <td>11.932060</td>\n      <td>1047.25</td>\n      <td>265.2</td>\n      <td>654.00</td>\n      <td>167.7</td>\n      <td>1128.50</td>\n      <td>816.00</td>\n      <td>28.50</td>\n      <td>13.125000</td>\n      <td>0.502804</td>\n    </tr>\n    <tr>\n      <th>9357</th>\n      <td>NaT</td>\n      <td>NaN</td>\n      <td>NaN</td>\n      <td>NaN</td>\n      <td>NaN</td>\n      <td>NaN</td>\n      <td>NaN</td>\n      <td>NaN</td>\n      <td>NaN</td>\n      <td>NaN</td>\n      <td>NaN</td>\n      <td>NaN</td>\n      <td>NaN</td>\n      <td>NaN</td>\n      <td>NaN</td>\n    </tr>\n    <tr>\n      <th>9358</th>\n      <td>NaT</td>\n      <td>NaN</td>\n      <td>NaN</td>\n      <td>NaN</td>\n      <td>NaN</td>\n      <td>NaN</td>\n      <td>NaN</td>\n      <td>NaN</td>\n      <td>NaN</td>\n      <td>NaN</td>\n      <td>NaN</td>\n      <td>NaN</td>\n      <td>NaN</td>\n      <td>NaN</td>\n      <td>NaN</td>\n    </tr>\n    <tr>\n      <th>9359</th>\n      <td>NaT</td>\n      <td>NaN</td>\n      <td>NaN</td>\n      <td>NaN</td>\n      <td>NaN</td>\n      <td>NaN</td>\n      <td>NaN</td>\n      <td>NaN</td>\n      <td>NaN</td>\n      <td>NaN</td>\n      <td>NaN</td>\n      <td>NaN</td>\n      <td>NaN</td>\n      <td>NaN</td>\n      <td>NaN</td>\n    </tr>\n    <tr>\n      <th>9360</th>\n      <td>NaT</td>\n      <td>NaN</td>\n      <td>NaN</td>\n      <td>NaN</td>\n      <td>0.946394</td>\n      <td>NaN</td>\n      <td>NaN</td>\n      <td>NaN</td>\n      <td>NaN</td>\n      <td>NaN</td>\n      <td>NaN</td>\n      <td>NaN</td>\n      <td>NaN</td>\n      <td>NaN</td>\n      <td>NaN</td>\n    </tr>\n  </tbody>\n</table>\n<p>9361 rows × 15 columns</p>\n</div>"
     },
     "execution_count": 30,
     "metadata": {},
     "output_type": "execute_result"
    }
   ],
   "source": [
    "df['Date'] = pd.to_datetime(df['Date'])\n",
    "df\n"
   ],
   "metadata": {
    "collapsed": false,
    "ExecuteTime": {
     "end_time": "2024-07-14T11:01:06.567075Z",
     "start_time": "2024-07-14T11:01:06.541732Z"
    }
   },
   "id": "dad42cec36025722",
   "execution_count": 30
  },
  {
   "cell_type": "code",
   "outputs": [],
   "source": [
    "df.set_index('Date', inplace=True)"
   ],
   "metadata": {
    "collapsed": false,
    "ExecuteTime": {
     "end_time": "2024-07-14T11:01:21.227927Z",
     "start_time": "2024-07-14T11:01:21.222653Z"
    }
   },
   "id": "737b81f51a966ccc",
   "execution_count": 32
  },
  {
   "cell_type": "code",
   "outputs": [
    {
     "ename": "KeyError",
     "evalue": "'Value based partial slicing on non-monotonic DatetimeIndexes with non-existing keys is not allowed.'",
     "output_type": "error",
     "traceback": [
      "\u001B[0;31m---------------------------------------------------------------------------\u001B[0m",
      "\u001B[0;31mKeyError\u001B[0m                                  Traceback (most recent call last)",
      "Cell \u001B[0;32mIn[33], line 3\u001B[0m\n\u001B[1;32m      1\u001B[0m \u001B[38;5;28;01mimport\u001B[39;00m \u001B[38;5;21;01mmatplotlib\u001B[39;00m\u001B[38;5;21;01m.\u001B[39;00m\u001B[38;5;21;01mpyplot\u001B[39;00m \u001B[38;5;28;01mas\u001B[39;00m \u001B[38;5;21;01mplt\u001B[39;00m\n\u001B[1;32m      2\u001B[0m plt\u001B[38;5;241m.\u001B[39mfigure()\n\u001B[0;32m----> 3\u001B[0m \u001B[43mdf\u001B[49m\u001B[43m[\u001B[49m\u001B[38;5;124;43m'\u001B[39;49m\u001B[38;5;124;43m2004-03-10\u001B[39;49m\u001B[38;5;124;43m'\u001B[39;49m\u001B[43m:\u001B[49m\u001B[38;5;124;43m'\u001B[39;49m\u001B[38;5;124;43m2005-01-01\u001B[39;49m\u001B[38;5;124;43m'\u001B[39;49m\u001B[43m]\u001B[49m\u001B[38;5;241m.\u001B[39mplot(subplots\u001B[38;5;241m=\u001B[39m\u001B[38;5;28;01mTrue\u001B[39;00m, figsize\u001B[38;5;241m=\u001B[39m(\u001B[38;5;241m10\u001B[39m,\u001B[38;5;241m12\u001B[39m))\n\u001B[1;32m      4\u001B[0m plt\u001B[38;5;241m.\u001B[39mtitle(\u001B[38;5;124m'\u001B[39m\u001B[38;5;124m2008年至2010年Google股票各个属性的表现\u001B[39m\u001B[38;5;124m'\u001B[39m)\n\u001B[1;32m      5\u001B[0m plt\u001B[38;5;241m.\u001B[39mshow()\n",
      "File \u001B[0;32m~/anaconda3/envs/math/lib/python3.9/site-packages/pandas/core/frame.py:4085\u001B[0m, in \u001B[0;36mDataFrame.__getitem__\u001B[0;34m(self, key)\u001B[0m\n\u001B[1;32m   4083\u001B[0m \u001B[38;5;66;03m# Do we have a slicer (on rows)?\u001B[39;00m\n\u001B[1;32m   4084\u001B[0m \u001B[38;5;28;01mif\u001B[39;00m \u001B[38;5;28misinstance\u001B[39m(key, \u001B[38;5;28mslice\u001B[39m):\n\u001B[0;32m-> 4085\u001B[0m     \u001B[38;5;28;01mreturn\u001B[39;00m \u001B[38;5;28;43mself\u001B[39;49m\u001B[38;5;241;43m.\u001B[39;49m\u001B[43m_getitem_slice\u001B[49m\u001B[43m(\u001B[49m\u001B[43mkey\u001B[49m\u001B[43m)\u001B[49m\n\u001B[1;32m   4087\u001B[0m \u001B[38;5;66;03m# Do we have a (boolean) DataFrame?\u001B[39;00m\n\u001B[1;32m   4088\u001B[0m \u001B[38;5;28;01mif\u001B[39;00m \u001B[38;5;28misinstance\u001B[39m(key, DataFrame):\n",
      "File \u001B[0;32m~/anaconda3/envs/math/lib/python3.9/site-packages/pandas/core/generic.py:4349\u001B[0m, in \u001B[0;36mNDFrame._getitem_slice\u001B[0;34m(self, key)\u001B[0m\n\u001B[1;32m   4344\u001B[0m \u001B[38;5;250m\u001B[39m\u001B[38;5;124;03m\"\"\"\u001B[39;00m\n\u001B[1;32m   4345\u001B[0m \u001B[38;5;124;03m__getitem__ for the case where the key is a slice object.\u001B[39;00m\n\u001B[1;32m   4346\u001B[0m \u001B[38;5;124;03m\"\"\"\u001B[39;00m\n\u001B[1;32m   4347\u001B[0m \u001B[38;5;66;03m# _convert_slice_indexer to determine if this slice is positional\u001B[39;00m\n\u001B[1;32m   4348\u001B[0m \u001B[38;5;66;03m#  or label based, and if the latter, convert to positional\u001B[39;00m\n\u001B[0;32m-> 4349\u001B[0m slobj \u001B[38;5;241m=\u001B[39m \u001B[38;5;28;43mself\u001B[39;49m\u001B[38;5;241;43m.\u001B[39;49m\u001B[43mindex\u001B[49m\u001B[38;5;241;43m.\u001B[39;49m\u001B[43m_convert_slice_indexer\u001B[49m\u001B[43m(\u001B[49m\u001B[43mkey\u001B[49m\u001B[43m,\u001B[49m\u001B[43m \u001B[49m\u001B[43mkind\u001B[49m\u001B[38;5;241;43m=\u001B[39;49m\u001B[38;5;124;43m\"\u001B[39;49m\u001B[38;5;124;43mgetitem\u001B[39;49m\u001B[38;5;124;43m\"\u001B[39;49m\u001B[43m)\u001B[49m\n\u001B[1;32m   4350\u001B[0m \u001B[38;5;28;01mif\u001B[39;00m \u001B[38;5;28misinstance\u001B[39m(slobj, np\u001B[38;5;241m.\u001B[39mndarray):\n\u001B[1;32m   4351\u001B[0m     \u001B[38;5;66;03m# reachable with DatetimeIndex\u001B[39;00m\n\u001B[1;32m   4352\u001B[0m     indexer \u001B[38;5;241m=\u001B[39m lib\u001B[38;5;241m.\u001B[39mmaybe_indices_to_slice(\n\u001B[1;32m   4353\u001B[0m         slobj\u001B[38;5;241m.\u001B[39mastype(np\u001B[38;5;241m.\u001B[39mintp, copy\u001B[38;5;241m=\u001B[39m\u001B[38;5;28;01mFalse\u001B[39;00m), \u001B[38;5;28mlen\u001B[39m(\u001B[38;5;28mself\u001B[39m)\n\u001B[1;32m   4354\u001B[0m     )\n",
      "File \u001B[0;32m~/anaconda3/envs/math/lib/python3.9/site-packages/pandas/core/indexes/base.py:4281\u001B[0m, in \u001B[0;36mIndex._convert_slice_indexer\u001B[0;34m(self, key, kind)\u001B[0m\n\u001B[1;32m   4279\u001B[0m     indexer \u001B[38;5;241m=\u001B[39m key\n\u001B[1;32m   4280\u001B[0m \u001B[38;5;28;01melse\u001B[39;00m:\n\u001B[0;32m-> 4281\u001B[0m     indexer \u001B[38;5;241m=\u001B[39m \u001B[38;5;28;43mself\u001B[39;49m\u001B[38;5;241;43m.\u001B[39;49m\u001B[43mslice_indexer\u001B[49m\u001B[43m(\u001B[49m\u001B[43mstart\u001B[49m\u001B[43m,\u001B[49m\u001B[43m \u001B[49m\u001B[43mstop\u001B[49m\u001B[43m,\u001B[49m\u001B[43m \u001B[49m\u001B[43mstep\u001B[49m\u001B[43m)\u001B[49m\n\u001B[1;32m   4283\u001B[0m \u001B[38;5;28;01mreturn\u001B[39;00m indexer\n",
      "File \u001B[0;32m~/anaconda3/envs/math/lib/python3.9/site-packages/pandas/core/indexes/datetimes.py:697\u001B[0m, in \u001B[0;36mDatetimeIndex.slice_indexer\u001B[0;34m(self, start, end, step)\u001B[0m\n\u001B[1;32m    694\u001B[0m     in_index \u001B[38;5;241m&\u001B[39m\u001B[38;5;241m=\u001B[39m (end_casted \u001B[38;5;241m==\u001B[39m \u001B[38;5;28mself\u001B[39m)\u001B[38;5;241m.\u001B[39many()\n\u001B[1;32m    696\u001B[0m \u001B[38;5;28;01mif\u001B[39;00m \u001B[38;5;129;01mnot\u001B[39;00m in_index:\n\u001B[0;32m--> 697\u001B[0m     \u001B[38;5;28;01mraise\u001B[39;00m \u001B[38;5;167;01mKeyError\u001B[39;00m(\n\u001B[1;32m    698\u001B[0m         \u001B[38;5;124m\"\u001B[39m\u001B[38;5;124mValue based partial slicing on non-monotonic DatetimeIndexes \u001B[39m\u001B[38;5;124m\"\u001B[39m\n\u001B[1;32m    699\u001B[0m         \u001B[38;5;124m\"\u001B[39m\u001B[38;5;124mwith non-existing keys is not allowed.\u001B[39m\u001B[38;5;124m\"\u001B[39m,\n\u001B[1;32m    700\u001B[0m     )\n\u001B[1;32m    701\u001B[0m indexer \u001B[38;5;241m=\u001B[39m mask\u001B[38;5;241m.\u001B[39mnonzero()[\u001B[38;5;241m0\u001B[39m][::step]\n\u001B[1;32m    702\u001B[0m \u001B[38;5;28;01mif\u001B[39;00m \u001B[38;5;28mlen\u001B[39m(indexer) \u001B[38;5;241m==\u001B[39m \u001B[38;5;28mlen\u001B[39m(\u001B[38;5;28mself\u001B[39m):\n",
      "\u001B[0;31mKeyError\u001B[0m: 'Value based partial slicing on non-monotonic DatetimeIndexes with non-existing keys is not allowed.'"
     ]
    },
    {
     "data": {
      "text/plain": "<Figure size 640x480 with 0 Axes>"
     },
     "metadata": {},
     "output_type": "display_data"
    }
   ],
   "source": [
    "import matplotlib.pyplot as plt\n",
    "plt.figure()\n",
    "df['2004-03-10':'2005-01-01'].plot(subplots=True, figsize=(10,12))\n",
    "plt.title('2008年至2010年Google股票各个属性的表现')\n",
    "plt.show()"
   ],
   "metadata": {
    "collapsed": false,
    "ExecuteTime": {
     "end_time": "2024-07-14T11:01:22.490889Z",
     "start_time": "2024-07-14T11:01:22.434528Z"
    }
   },
   "id": "94f1eb35ffcb7e9b",
   "execution_count": 33
  },
  {
   "cell_type": "code",
   "outputs": [],
   "source": [],
   "metadata": {
    "collapsed": false,
    "ExecuteTime": {
     "end_time": "2024-07-14T11:01:06.627549Z",
     "start_time": "2024-07-14T11:01:06.627447Z"
    }
   },
   "id": "9c34cd875bbfb9ba"
  }
 ],
 "metadata": {
  "kernelspec": {
   "display_name": "Python 3",
   "language": "python",
   "name": "python3"
  },
  "language_info": {
   "codemirror_mode": {
    "name": "ipython",
    "version": 2
   },
   "file_extension": ".py",
   "mimetype": "text/x-python",
   "name": "python",
   "nbconvert_exporter": "python",
   "pygments_lexer": "ipython2",
   "version": "2.7.6"
  }
 },
 "nbformat": 4,
 "nbformat_minor": 5
}
