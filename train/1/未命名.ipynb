{
 "cells": [
  {
   "cell_type": "code",
   "execution_count": 2,
   "id": "b1583e12-afca-47fa-9a43-76a205aa2b9f",
   "metadata": {
    "tags": [],
    "ExecuteTime": {
     "end_time": "2024-07-06T18:11:45.001897112Z",
     "start_time": "2024-07-06T18:11:44.749503010Z"
    }
   },
   "outputs": [],
   "source": [
    "import pandas as pd\n",
    "import numpy as np"
   ]
  },
  {
   "cell_type": "code",
   "execution_count": 3,
   "id": "1ded9a67-244e-4cca-ade4-6d6f6819e7e7",
   "metadata": {
    "tags": [],
    "ExecuteTime": {
     "end_time": "2024-07-06T18:11:46.086195969Z",
     "start_time": "2024-07-06T18:11:45.994995754Z"
    }
   },
   "outputs": [
    {
     "data": {
      "text/plain": "                     Date      Time CO(GT) PT08.S1(CO)      NMHC(GT)  \\\n0     2004-03-10 00:00:00  18:00:00    2.6        1360           150   \n1     2004-03-10 00:00:00  19:00:00      2     1292.25           112   \n2     2004-03-10 00:00:00  20:00:00    2.2        1402            88   \n3     2004-03-10 00:00:00  21:00:00    2.2      1375.5            80   \n4     2004-03-10 00:00:00  22:00:00    1.6     1272.25            51   \n...                   ...       ...    ...         ...           ...   \n9356  2005-04-04 00:00:00  14:00:00    2.2     1070.75           NaN   \n9357                  NaN       NaN    2.2     1070.75  -149.7634015   \n9358                  NaN       NaN    2.2     1070.75  -99.52680309   \n9359                  NaN       NaN    2.2     1070.75  -49.29020464   \n9360                  NaN       NaN    2.2     1070.75   0.946393816   \n\n         C6H6(GT) PT08.S2(NMHC) NOx(GT) PT08.S3(NOx) NO2(GT) PT08.S4(NO2)  \\\n0     11.88172349        1045.5     166      1056.25     113         1692   \n1      9.39716489        954.75     103      1173.75      92      1558.75   \n2     8.997816871        939.25     131         1140     114       1554.5   \n3     9.228796421        948.25     172         1092     122      1583.75   \n4     6.518223669         835.5     131         1205     116         1490   \n...           ...           ...     ...          ...     ...          ...   \n9356   11.9320599       1047.25   265.2          654   167.7       1128.5   \n9357   11.9320599       1047.25   265.2          654   167.7       1128.5   \n9358   11.9320599       1047.25   265.2          654   167.7       1128.5   \n9359   11.9320599       1047.25   265.2          654   167.7       1128.5   \n9360   11.9320599       1047.25   265.2          654   167.7       1128.5   \n\n     PT08.S5(O3)            T           RH           AH  \n0         1267.5   13.5999999  48.87500095  0.757753825  \n1         972.25  13.29999995  47.69999981  0.725487449  \n2           1074   11.9000001  53.97500038  0.750239067  \n3        1203.25           11           60  0.786712533  \n4           1110   11.1500001  59.57500076  0.788794232  \n...          ...          ...          ...          ...  \n9356         816  28.50000048       13.125  0.502803706  \n9357         816  28.50000048       13.125  0.502803706  \n9358         816  28.50000048       13.125  0.502803706  \n9359         816  28.50000048       13.125  0.502803706  \n9360         816  28.50000048       13.125  0.502803706  \n\n[9361 rows x 15 columns]",
      "text/html": "<div>\n<style scoped>\n    .dataframe tbody tr th:only-of-type {\n        vertical-align: middle;\n    }\n\n    .dataframe tbody tr th {\n        vertical-align: top;\n    }\n\n    .dataframe thead th {\n        text-align: right;\n    }\n</style>\n<table border=\"1\" class=\"dataframe\">\n  <thead>\n    <tr style=\"text-align: right;\">\n      <th></th>\n      <th>Date</th>\n      <th>Time</th>\n      <th>CO(GT)</th>\n      <th>PT08.S1(CO)</th>\n      <th>NMHC(GT)</th>\n      <th>C6H6(GT)</th>\n      <th>PT08.S2(NMHC)</th>\n      <th>NOx(GT)</th>\n      <th>PT08.S3(NOx)</th>\n      <th>NO2(GT)</th>\n      <th>PT08.S4(NO2)</th>\n      <th>PT08.S5(O3)</th>\n      <th>T</th>\n      <th>RH</th>\n      <th>AH</th>\n    </tr>\n  </thead>\n  <tbody>\n    <tr>\n      <th>0</th>\n      <td>2004-03-10 00:00:00</td>\n      <td>18:00:00</td>\n      <td>2.6</td>\n      <td>1360</td>\n      <td>150</td>\n      <td>11.88172349</td>\n      <td>1045.5</td>\n      <td>166</td>\n      <td>1056.25</td>\n      <td>113</td>\n      <td>1692</td>\n      <td>1267.5</td>\n      <td>13.5999999</td>\n      <td>48.87500095</td>\n      <td>0.757753825</td>\n    </tr>\n    <tr>\n      <th>1</th>\n      <td>2004-03-10 00:00:00</td>\n      <td>19:00:00</td>\n      <td>2</td>\n      <td>1292.25</td>\n      <td>112</td>\n      <td>9.39716489</td>\n      <td>954.75</td>\n      <td>103</td>\n      <td>1173.75</td>\n      <td>92</td>\n      <td>1558.75</td>\n      <td>972.25</td>\n      <td>13.29999995</td>\n      <td>47.69999981</td>\n      <td>0.725487449</td>\n    </tr>\n    <tr>\n      <th>2</th>\n      <td>2004-03-10 00:00:00</td>\n      <td>20:00:00</td>\n      <td>2.2</td>\n      <td>1402</td>\n      <td>88</td>\n      <td>8.997816871</td>\n      <td>939.25</td>\n      <td>131</td>\n      <td>1140</td>\n      <td>114</td>\n      <td>1554.5</td>\n      <td>1074</td>\n      <td>11.9000001</td>\n      <td>53.97500038</td>\n      <td>0.750239067</td>\n    </tr>\n    <tr>\n      <th>3</th>\n      <td>2004-03-10 00:00:00</td>\n      <td>21:00:00</td>\n      <td>2.2</td>\n      <td>1375.5</td>\n      <td>80</td>\n      <td>9.228796421</td>\n      <td>948.25</td>\n      <td>172</td>\n      <td>1092</td>\n      <td>122</td>\n      <td>1583.75</td>\n      <td>1203.25</td>\n      <td>11</td>\n      <td>60</td>\n      <td>0.786712533</td>\n    </tr>\n    <tr>\n      <th>4</th>\n      <td>2004-03-10 00:00:00</td>\n      <td>22:00:00</td>\n      <td>1.6</td>\n      <td>1272.25</td>\n      <td>51</td>\n      <td>6.518223669</td>\n      <td>835.5</td>\n      <td>131</td>\n      <td>1205</td>\n      <td>116</td>\n      <td>1490</td>\n      <td>1110</td>\n      <td>11.1500001</td>\n      <td>59.57500076</td>\n      <td>0.788794232</td>\n    </tr>\n    <tr>\n      <th>...</th>\n      <td>...</td>\n      <td>...</td>\n      <td>...</td>\n      <td>...</td>\n      <td>...</td>\n      <td>...</td>\n      <td>...</td>\n      <td>...</td>\n      <td>...</td>\n      <td>...</td>\n      <td>...</td>\n      <td>...</td>\n      <td>...</td>\n      <td>...</td>\n      <td>...</td>\n    </tr>\n    <tr>\n      <th>9356</th>\n      <td>2005-04-04 00:00:00</td>\n      <td>14:00:00</td>\n      <td>2.2</td>\n      <td>1070.75</td>\n      <td>NaN</td>\n      <td>11.9320599</td>\n      <td>1047.25</td>\n      <td>265.2</td>\n      <td>654</td>\n      <td>167.7</td>\n      <td>1128.5</td>\n      <td>816</td>\n      <td>28.50000048</td>\n      <td>13.125</td>\n      <td>0.502803706</td>\n    </tr>\n    <tr>\n      <th>9357</th>\n      <td>NaN</td>\n      <td>NaN</td>\n      <td>2.2</td>\n      <td>1070.75</td>\n      <td>-149.7634015</td>\n      <td>11.9320599</td>\n      <td>1047.25</td>\n      <td>265.2</td>\n      <td>654</td>\n      <td>167.7</td>\n      <td>1128.5</td>\n      <td>816</td>\n      <td>28.50000048</td>\n      <td>13.125</td>\n      <td>0.502803706</td>\n    </tr>\n    <tr>\n      <th>9358</th>\n      <td>NaN</td>\n      <td>NaN</td>\n      <td>2.2</td>\n      <td>1070.75</td>\n      <td>-99.52680309</td>\n      <td>11.9320599</td>\n      <td>1047.25</td>\n      <td>265.2</td>\n      <td>654</td>\n      <td>167.7</td>\n      <td>1128.5</td>\n      <td>816</td>\n      <td>28.50000048</td>\n      <td>13.125</td>\n      <td>0.502803706</td>\n    </tr>\n    <tr>\n      <th>9359</th>\n      <td>NaN</td>\n      <td>NaN</td>\n      <td>2.2</td>\n      <td>1070.75</td>\n      <td>-49.29020464</td>\n      <td>11.9320599</td>\n      <td>1047.25</td>\n      <td>265.2</td>\n      <td>654</td>\n      <td>167.7</td>\n      <td>1128.5</td>\n      <td>816</td>\n      <td>28.50000048</td>\n      <td>13.125</td>\n      <td>0.502803706</td>\n    </tr>\n    <tr>\n      <th>9360</th>\n      <td>NaN</td>\n      <td>NaN</td>\n      <td>2.2</td>\n      <td>1070.75</td>\n      <td>0.946393816</td>\n      <td>11.9320599</td>\n      <td>1047.25</td>\n      <td>265.2</td>\n      <td>654</td>\n      <td>167.7</td>\n      <td>1128.5</td>\n      <td>816</td>\n      <td>28.50000048</td>\n      <td>13.125</td>\n      <td>0.502803706</td>\n    </tr>\n  </tbody>\n</table>\n<p>9361 rows × 15 columns</p>\n</div>"
     },
     "execution_count": 3,
     "metadata": {},
     "output_type": "execute_result"
    }
   ],
   "source": [
    "file_path = './handledData3.csv'  # 根据你的实际文件路径修改\n",
    "df = pd.read_csv(file_path, delimiter=';', decimal=',')\n",
    "df"
   ]
  },
  {
   "cell_type": "code",
   "execution_count": 5,
   "id": "eee36362-a273-4683-9e5e-cff75dbb7aa4",
   "metadata": {
    "tags": [],
    "ExecuteTime": {
     "end_time": "2024-07-06T18:13:08.566579426Z",
     "start_time": "2024-07-06T18:13:08.543700611Z"
    }
   },
   "outputs": [
    {
     "data": {
      "text/plain": "                     Date      Time CO(GT) PT08.S1(CO)      NMHC(GT)  \\\n0     2004-03-10 00:00:00  18:00:00    2.6        1360           150   \n1     2004-03-10 00:00:00  19:00:00      2     1292.25           112   \n2     2004-03-10 00:00:00  20:00:00    2.2        1402            88   \n3     2004-03-10 00:00:00  21:00:00    2.2      1375.5            80   \n4     2004-03-10 00:00:00  22:00:00    1.6     1272.25            51   \n...                   ...       ...    ...         ...           ...   \n9356  2005-04-04 00:00:00  14:00:00    2.2     1070.75           NaN   \n9357                  NaN       NaN    2.2     1070.75  -149.7634015   \n9358                  NaN       NaN    2.2     1070.75  -99.52680309   \n9359                  NaN       NaN    2.2     1070.75  -49.29020464   \n9360                  NaN       NaN    2.2     1070.75   0.946393816   \n\n         C6H6(GT) PT08.S2(NMHC) NOx(GT) PT08.S3(NOx) NO2(GT) PT08.S4(NO2)  \\\n0     11.88172349        1045.5     166      1056.25     113         1692   \n1      9.39716489        954.75     103      1173.75      92      1558.75   \n2     8.997816871        939.25     131         1140     114       1554.5   \n3     9.228796421        948.25     172         1092     122      1583.75   \n4     6.518223669         835.5     131         1205     116         1490   \n...           ...           ...     ...          ...     ...          ...   \n9356   11.9320599       1047.25   265.2          654   167.7       1128.5   \n9357   11.9320599       1047.25   265.2          654   167.7       1128.5   \n9358   11.9320599       1047.25   265.2          654   167.7       1128.5   \n9359   11.9320599       1047.25   265.2          654   167.7       1128.5   \n9360   11.9320599       1047.25   265.2          654   167.7       1128.5   \n\n     PT08.S5(O3)            T           RH           AH  \n0         1267.5   13.5999999  48.87500095  0.757753825  \n1         972.25  13.29999995  47.69999981  0.725487449  \n2           1074   11.9000001  53.97500038  0.750239067  \n3        1203.25           11           60  0.786712533  \n4           1110   11.1500001  59.57500076  0.788794232  \n...          ...          ...          ...          ...  \n9356         816  28.50000048       13.125  0.502803706  \n9357         816  28.50000048       13.125  0.502803706  \n9358         816  28.50000048       13.125  0.502803706  \n9359         816  28.50000048       13.125  0.502803706  \n9360         816  28.50000048       13.125  0.502803706  \n\n[9361 rows x 15 columns]",
      "text/html": "<div>\n<style scoped>\n    .dataframe tbody tr th:only-of-type {\n        vertical-align: middle;\n    }\n\n    .dataframe tbody tr th {\n        vertical-align: top;\n    }\n\n    .dataframe thead th {\n        text-align: right;\n    }\n</style>\n<table border=\"1\" class=\"dataframe\">\n  <thead>\n    <tr style=\"text-align: right;\">\n      <th></th>\n      <th>Date</th>\n      <th>Time</th>\n      <th>CO(GT)</th>\n      <th>PT08.S1(CO)</th>\n      <th>NMHC(GT)</th>\n      <th>C6H6(GT)</th>\n      <th>PT08.S2(NMHC)</th>\n      <th>NOx(GT)</th>\n      <th>PT08.S3(NOx)</th>\n      <th>NO2(GT)</th>\n      <th>PT08.S4(NO2)</th>\n      <th>PT08.S5(O3)</th>\n      <th>T</th>\n      <th>RH</th>\n      <th>AH</th>\n    </tr>\n  </thead>\n  <tbody>\n    <tr>\n      <th>0</th>\n      <td>2004-03-10 00:00:00</td>\n      <td>18:00:00</td>\n      <td>2.6</td>\n      <td>1360</td>\n      <td>150</td>\n      <td>11.88172349</td>\n      <td>1045.5</td>\n      <td>166</td>\n      <td>1056.25</td>\n      <td>113</td>\n      <td>1692</td>\n      <td>1267.5</td>\n      <td>13.5999999</td>\n      <td>48.87500095</td>\n      <td>0.757753825</td>\n    </tr>\n    <tr>\n      <th>1</th>\n      <td>2004-03-10 00:00:00</td>\n      <td>19:00:00</td>\n      <td>2</td>\n      <td>1292.25</td>\n      <td>112</td>\n      <td>9.39716489</td>\n      <td>954.75</td>\n      <td>103</td>\n      <td>1173.75</td>\n      <td>92</td>\n      <td>1558.75</td>\n      <td>972.25</td>\n      <td>13.29999995</td>\n      <td>47.69999981</td>\n      <td>0.725487449</td>\n    </tr>\n    <tr>\n      <th>2</th>\n      <td>2004-03-10 00:00:00</td>\n      <td>20:00:00</td>\n      <td>2.2</td>\n      <td>1402</td>\n      <td>88</td>\n      <td>8.997816871</td>\n      <td>939.25</td>\n      <td>131</td>\n      <td>1140</td>\n      <td>114</td>\n      <td>1554.5</td>\n      <td>1074</td>\n      <td>11.9000001</td>\n      <td>53.97500038</td>\n      <td>0.750239067</td>\n    </tr>\n    <tr>\n      <th>3</th>\n      <td>2004-03-10 00:00:00</td>\n      <td>21:00:00</td>\n      <td>2.2</td>\n      <td>1375.5</td>\n      <td>80</td>\n      <td>9.228796421</td>\n      <td>948.25</td>\n      <td>172</td>\n      <td>1092</td>\n      <td>122</td>\n      <td>1583.75</td>\n      <td>1203.25</td>\n      <td>11</td>\n      <td>60</td>\n      <td>0.786712533</td>\n    </tr>\n    <tr>\n      <th>4</th>\n      <td>2004-03-10 00:00:00</td>\n      <td>22:00:00</td>\n      <td>1.6</td>\n      <td>1272.25</td>\n      <td>51</td>\n      <td>6.518223669</td>\n      <td>835.5</td>\n      <td>131</td>\n      <td>1205</td>\n      <td>116</td>\n      <td>1490</td>\n      <td>1110</td>\n      <td>11.1500001</td>\n      <td>59.57500076</td>\n      <td>0.788794232</td>\n    </tr>\n    <tr>\n      <th>...</th>\n      <td>...</td>\n      <td>...</td>\n      <td>...</td>\n      <td>...</td>\n      <td>...</td>\n      <td>...</td>\n      <td>...</td>\n      <td>...</td>\n      <td>...</td>\n      <td>...</td>\n      <td>...</td>\n      <td>...</td>\n      <td>...</td>\n      <td>...</td>\n      <td>...</td>\n    </tr>\n    <tr>\n      <th>9356</th>\n      <td>2005-04-04 00:00:00</td>\n      <td>14:00:00</td>\n      <td>2.2</td>\n      <td>1070.75</td>\n      <td>NaN</td>\n      <td>11.9320599</td>\n      <td>1047.25</td>\n      <td>265.2</td>\n      <td>654</td>\n      <td>167.7</td>\n      <td>1128.5</td>\n      <td>816</td>\n      <td>28.50000048</td>\n      <td>13.125</td>\n      <td>0.502803706</td>\n    </tr>\n    <tr>\n      <th>9357</th>\n      <td>NaN</td>\n      <td>NaN</td>\n      <td>2.2</td>\n      <td>1070.75</td>\n      <td>-149.7634015</td>\n      <td>11.9320599</td>\n      <td>1047.25</td>\n      <td>265.2</td>\n      <td>654</td>\n      <td>167.7</td>\n      <td>1128.5</td>\n      <td>816</td>\n      <td>28.50000048</td>\n      <td>13.125</td>\n      <td>0.502803706</td>\n    </tr>\n    <tr>\n      <th>9358</th>\n      <td>NaN</td>\n      <td>NaN</td>\n      <td>2.2</td>\n      <td>1070.75</td>\n      <td>-99.52680309</td>\n      <td>11.9320599</td>\n      <td>1047.25</td>\n      <td>265.2</td>\n      <td>654</td>\n      <td>167.7</td>\n      <td>1128.5</td>\n      <td>816</td>\n      <td>28.50000048</td>\n      <td>13.125</td>\n      <td>0.502803706</td>\n    </tr>\n    <tr>\n      <th>9359</th>\n      <td>NaN</td>\n      <td>NaN</td>\n      <td>2.2</td>\n      <td>1070.75</td>\n      <td>-49.29020464</td>\n      <td>11.9320599</td>\n      <td>1047.25</td>\n      <td>265.2</td>\n      <td>654</td>\n      <td>167.7</td>\n      <td>1128.5</td>\n      <td>816</td>\n      <td>28.50000048</td>\n      <td>13.125</td>\n      <td>0.502803706</td>\n    </tr>\n    <tr>\n      <th>9360</th>\n      <td>NaN</td>\n      <td>NaN</td>\n      <td>2.2</td>\n      <td>1070.75</td>\n      <td>0.946393816</td>\n      <td>11.9320599</td>\n      <td>1047.25</td>\n      <td>265.2</td>\n      <td>654</td>\n      <td>167.7</td>\n      <td>1128.5</td>\n      <td>816</td>\n      <td>28.50000048</td>\n      <td>13.125</td>\n      <td>0.502803706</td>\n    </tr>\n  </tbody>\n</table>\n<p>9361 rows × 15 columns</p>\n</div>"
     },
     "execution_count": 5,
     "metadata": {},
     "output_type": "execute_result"
    }
   ],
   "source": [
    "columns_to_drop = ['Unnamed: 15', 'Unnamed: 16']\n",
    "df.drop(columns=columns_to_drop, errors='ignore', inplace=True)\n",
    "df"
   ]
  },
  {
   "cell_type": "code",
   "execution_count": 6,
   "id": "f3f44194-79e4-40eb-a283-778c285c9eec",
   "metadata": {
    "ExecuteTime": {
     "end_time": "2024-07-06T18:14:06.656656403Z",
     "start_time": "2024-07-06T18:14:06.645042545Z"
    }
   },
   "outputs": [],
   "source": [
    "for col in df.columns:\n",
    "    df[col] = pd.to_numeric(df[col], errors='coerce')"
   ]
  },
  {
   "cell_type": "code",
   "outputs": [
    {
     "data": {
      "text/plain": "      Date  Time  CO(GT)  PT08.S1(CO)    NMHC(GT)   C6H6(GT)  PT08.S2(NMHC)  \\\n0      NaN   NaN     2.6      1360.00  150.000000  11.881723        1045.50   \n1      NaN   NaN     2.0      1292.25  112.000000   9.397165         954.75   \n2      NaN   NaN     2.2      1402.00   88.000000   8.997817         939.25   \n3      NaN   NaN     2.2      1375.50   80.000000   9.228796         948.25   \n4      NaN   NaN     1.6      1272.25   51.000000   6.518224         835.50   \n...    ...   ...     ...          ...         ...        ...            ...   \n9356   NaN   NaN     2.2      1070.75         NaN  11.932060        1047.25   \n9357   NaN   NaN     2.2      1070.75 -149.763401  11.932060        1047.25   \n9358   NaN   NaN     2.2      1070.75  -99.526803  11.932060        1047.25   \n9359   NaN   NaN     2.2      1070.75  -49.290205  11.932060        1047.25   \n9360   NaN   NaN     2.2      1070.75    0.946394  11.932060        1047.25   \n\n      NOx(GT)  PT08.S3(NOx)  NO2(GT)  PT08.S4(NO2)  PT08.S5(O3)      T  \\\n0       166.0       1056.25    113.0       1692.00      1267.50  13.60   \n1       103.0       1173.75     92.0       1558.75       972.25  13.30   \n2       131.0       1140.00    114.0       1554.50      1074.00  11.90   \n3       172.0       1092.00    122.0       1583.75      1203.25  11.00   \n4       131.0       1205.00    116.0       1490.00      1110.00  11.15   \n...       ...           ...      ...           ...          ...    ...   \n9356    265.2        654.00    167.7       1128.50       816.00  28.50   \n9357    265.2        654.00    167.7       1128.50       816.00  28.50   \n9358    265.2        654.00    167.7       1128.50       816.00  28.50   \n9359    265.2        654.00    167.7       1128.50       816.00  28.50   \n9360    265.2        654.00    167.7       1128.50       816.00  28.50   \n\n             RH        AH  \n0     48.875001  0.757754  \n1     47.700000  0.725487  \n2     53.975000  0.750239  \n3     60.000000  0.786713  \n4     59.575001  0.788794  \n...         ...       ...  \n9356  13.125000  0.502804  \n9357  13.125000  0.502804  \n9358  13.125000  0.502804  \n9359  13.125000  0.502804  \n9360  13.125000  0.502804  \n\n[9361 rows x 15 columns]",
      "text/html": "<div>\n<style scoped>\n    .dataframe tbody tr th:only-of-type {\n        vertical-align: middle;\n    }\n\n    .dataframe tbody tr th {\n        vertical-align: top;\n    }\n\n    .dataframe thead th {\n        text-align: right;\n    }\n</style>\n<table border=\"1\" class=\"dataframe\">\n  <thead>\n    <tr style=\"text-align: right;\">\n      <th></th>\n      <th>Date</th>\n      <th>Time</th>\n      <th>CO(GT)</th>\n      <th>PT08.S1(CO)</th>\n      <th>NMHC(GT)</th>\n      <th>C6H6(GT)</th>\n      <th>PT08.S2(NMHC)</th>\n      <th>NOx(GT)</th>\n      <th>PT08.S3(NOx)</th>\n      <th>NO2(GT)</th>\n      <th>PT08.S4(NO2)</th>\n      <th>PT08.S5(O3)</th>\n      <th>T</th>\n      <th>RH</th>\n      <th>AH</th>\n    </tr>\n  </thead>\n  <tbody>\n    <tr>\n      <th>0</th>\n      <td>NaN</td>\n      <td>NaN</td>\n      <td>2.6</td>\n      <td>1360.00</td>\n      <td>150.000000</td>\n      <td>11.881723</td>\n      <td>1045.50</td>\n      <td>166.0</td>\n      <td>1056.25</td>\n      <td>113.0</td>\n      <td>1692.00</td>\n      <td>1267.50</td>\n      <td>13.60</td>\n      <td>48.875001</td>\n      <td>0.757754</td>\n    </tr>\n    <tr>\n      <th>1</th>\n      <td>NaN</td>\n      <td>NaN</td>\n      <td>2.0</td>\n      <td>1292.25</td>\n      <td>112.000000</td>\n      <td>9.397165</td>\n      <td>954.75</td>\n      <td>103.0</td>\n      <td>1173.75</td>\n      <td>92.0</td>\n      <td>1558.75</td>\n      <td>972.25</td>\n      <td>13.30</td>\n      <td>47.700000</td>\n      <td>0.725487</td>\n    </tr>\n    <tr>\n      <th>2</th>\n      <td>NaN</td>\n      <td>NaN</td>\n      <td>2.2</td>\n      <td>1402.00</td>\n      <td>88.000000</td>\n      <td>8.997817</td>\n      <td>939.25</td>\n      <td>131.0</td>\n      <td>1140.00</td>\n      <td>114.0</td>\n      <td>1554.50</td>\n      <td>1074.00</td>\n      <td>11.90</td>\n      <td>53.975000</td>\n      <td>0.750239</td>\n    </tr>\n    <tr>\n      <th>3</th>\n      <td>NaN</td>\n      <td>NaN</td>\n      <td>2.2</td>\n      <td>1375.50</td>\n      <td>80.000000</td>\n      <td>9.228796</td>\n      <td>948.25</td>\n      <td>172.0</td>\n      <td>1092.00</td>\n      <td>122.0</td>\n      <td>1583.75</td>\n      <td>1203.25</td>\n      <td>11.00</td>\n      <td>60.000000</td>\n      <td>0.786713</td>\n    </tr>\n    <tr>\n      <th>4</th>\n      <td>NaN</td>\n      <td>NaN</td>\n      <td>1.6</td>\n      <td>1272.25</td>\n      <td>51.000000</td>\n      <td>6.518224</td>\n      <td>835.50</td>\n      <td>131.0</td>\n      <td>1205.00</td>\n      <td>116.0</td>\n      <td>1490.00</td>\n      <td>1110.00</td>\n      <td>11.15</td>\n      <td>59.575001</td>\n      <td>0.788794</td>\n    </tr>\n    <tr>\n      <th>...</th>\n      <td>...</td>\n      <td>...</td>\n      <td>...</td>\n      <td>...</td>\n      <td>...</td>\n      <td>...</td>\n      <td>...</td>\n      <td>...</td>\n      <td>...</td>\n      <td>...</td>\n      <td>...</td>\n      <td>...</td>\n      <td>...</td>\n      <td>...</td>\n      <td>...</td>\n    </tr>\n    <tr>\n      <th>9356</th>\n      <td>NaN</td>\n      <td>NaN</td>\n      <td>2.2</td>\n      <td>1070.75</td>\n      <td>NaN</td>\n      <td>11.932060</td>\n      <td>1047.25</td>\n      <td>265.2</td>\n      <td>654.00</td>\n      <td>167.7</td>\n      <td>1128.50</td>\n      <td>816.00</td>\n      <td>28.50</td>\n      <td>13.125000</td>\n      <td>0.502804</td>\n    </tr>\n    <tr>\n      <th>9357</th>\n      <td>NaN</td>\n      <td>NaN</td>\n      <td>2.2</td>\n      <td>1070.75</td>\n      <td>-149.763401</td>\n      <td>11.932060</td>\n      <td>1047.25</td>\n      <td>265.2</td>\n      <td>654.00</td>\n      <td>167.7</td>\n      <td>1128.50</td>\n      <td>816.00</td>\n      <td>28.50</td>\n      <td>13.125000</td>\n      <td>0.502804</td>\n    </tr>\n    <tr>\n      <th>9358</th>\n      <td>NaN</td>\n      <td>NaN</td>\n      <td>2.2</td>\n      <td>1070.75</td>\n      <td>-99.526803</td>\n      <td>11.932060</td>\n      <td>1047.25</td>\n      <td>265.2</td>\n      <td>654.00</td>\n      <td>167.7</td>\n      <td>1128.50</td>\n      <td>816.00</td>\n      <td>28.50</td>\n      <td>13.125000</td>\n      <td>0.502804</td>\n    </tr>\n    <tr>\n      <th>9359</th>\n      <td>NaN</td>\n      <td>NaN</td>\n      <td>2.2</td>\n      <td>1070.75</td>\n      <td>-49.290205</td>\n      <td>11.932060</td>\n      <td>1047.25</td>\n      <td>265.2</td>\n      <td>654.00</td>\n      <td>167.7</td>\n      <td>1128.50</td>\n      <td>816.00</td>\n      <td>28.50</td>\n      <td>13.125000</td>\n      <td>0.502804</td>\n    </tr>\n    <tr>\n      <th>9360</th>\n      <td>NaN</td>\n      <td>NaN</td>\n      <td>2.2</td>\n      <td>1070.75</td>\n      <td>0.946394</td>\n      <td>11.932060</td>\n      <td>1047.25</td>\n      <td>265.2</td>\n      <td>654.00</td>\n      <td>167.7</td>\n      <td>1128.50</td>\n      <td>816.00</td>\n      <td>28.50</td>\n      <td>13.125000</td>\n      <td>0.502804</td>\n    </tr>\n  </tbody>\n</table>\n<p>9361 rows × 15 columns</p>\n</div>"
     },
     "execution_count": 7,
     "metadata": {},
     "output_type": "execute_result"
    }
   ],
   "source": [
    "df"
   ],
   "metadata": {
    "collapsed": false,
    "ExecuteTime": {
     "end_time": "2024-07-06T18:14:09.009995103Z",
     "start_time": "2024-07-06T18:14:09.004442064Z"
    }
   },
   "id": "7da8a7497d665dbf",
   "execution_count": 7
  },
  {
   "cell_type": "code",
   "outputs": [],
   "source": [],
   "metadata": {
    "collapsed": false
   },
   "id": "34fd81ac24d9cf21"
  }
 ],
 "metadata": {
  "kernelspec": {
   "display_name": "Python 3 (ipykernel)",
   "language": "python",
   "name": "python3"
  },
  "language_info": {
   "codemirror_mode": {
    "name": "ipython",
    "version": 3
   },
   "file_extension": ".py",
   "mimetype": "text/x-python",
   "name": "python",
   "nbconvert_exporter": "python",
   "pygments_lexer": "ipython3",
   "version": "3.11.5"
  }
 },
 "nbformat": 4,
 "nbformat_minor": 5
}
