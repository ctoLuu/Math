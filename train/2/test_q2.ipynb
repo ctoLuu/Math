{
 "cells": [
  {
   "cell_type": "code",
   "execution_count": 1,
   "id": "initial_id",
   "metadata": {
    "collapsed": true,
    "ExecuteTime": {
     "end_time": "2024-07-19T12:40:52.552860Z",
     "start_time": "2024-07-19T12:40:52.193514Z"
    }
   },
   "outputs": [
    {
     "name": "stdout",
     "output_type": "stream",
     "text": [
      "[[         nan 380.25575973 352.51683155 ... 129.95130303 117.24109713\n",
      "  203.41349258]\n",
      " [380.25575973          nan 127.50349544 ... 341.07351673 280.49400729\n",
      "  561.66893525]\n",
      " [352.51683155 127.50349544          nan ... 359.21085434 236.62350371\n",
      "  552.31460183]\n",
      " ...\n",
      " [129.95130303 341.07351673 359.21085434 ...          nan 174.28684905\n",
      "  229.67715924]\n",
      " [117.24109713 280.49400729 236.62350371 ... 174.28684905          nan\n",
      "  320.18210794]\n",
      " [203.41349258 561.66893525 552.31460183 ... 229.67715924 320.18210794\n",
      "           nan]]\n"
     ]
    }
   ],
   "source": [
    "import pandas as pd\n",
    "import numpy as np\n",
    "time_matrix = pd.read_excel('./time_matrix.xlsx')\n",
    "time_matrix.set_index(['到达门店简称'], inplace=True)\n",
    "time_matrix = time_matrix.to_numpy(dtype=float)\n",
    "\n",
    "df = pd.read_excel('./数据.xlsx', sheet_name=0)\n",
    "df.drop(columns=['配送中心', '允许到店时间段'], inplace=True)\n",
    "df['时间属性'] = df['时间属性'].map({'夜配': 0, '日配': 1})\n",
    "df2 = pd.DataFrame(['配送中心', '120.44739', '31.50353', 2]).T\n",
    "df2.columns = df.columns\n",
    "df = pd.concat([df2, df], ignore_index=True)\n",
    "df.drop(index=[3, 7, 23], inplace=True)\n",
    "df.reset_index(inplace=True)\n",
    "send_array = df['时间属性']\n",
    "send_array = send_array.to_numpy(dtype=int)\n",
    "\n",
    "send_data = pd.read_excel('./time_send.xlsx')\n",
    "for i in send_data.index:\n",
    "    filt = (df['到达门店简称'] == send_data.loc[i, '门店名称'])\n",
    "    send_data.loc[i, '门店名称'] = df.loc[filt, '到达门店简称'].index[0]\n",
    "df3 = pd.DataFrame([0, 0, 0, 0, 0]).T\n",
    "df3.columns = send_data.columns\n",
    "send_data = pd.concat([df3, send_data], ignore_index=True)\n",
    "send_data['总货量'] = send_data['冷冻发货量(吨)'] + send_data['冷藏发货量(吨)']\n",
    "\n",
    "distance_matrix = pd.read_excel('./distance_matrix.xlsx')\n",
    "distance_matrix.set_index(['到达门店简称'], inplace=True)\n",
    "distance_matrix = distance_matrix.to_numpy()\n",
    "print(distance_matrix)"
   ]
  },
  {
   "cell_type": "code",
   "outputs": [
    {
     "data": {
      "text/plain": "    日期 门店名称  冷冻发货量(吨)  冷藏发货量(吨)  配送时间    总货量\n0    0    0     0.000     0.000     0  0.000\n1    1   21     0.188     0.565     1  0.753\n2    1   35     0.134     1.092     1  1.226\n3    1    9     0.956     0.635     0  1.591\n4    1   25     0.740     0.210     0  0.950\n..  ..  ...       ...       ...   ...    ...\n94   4    9     0.440     0.655     0  1.095\n95   4    7     0.406     0.890     0  1.296\n96   4   16     0.364     0.430     1  0.794\n97   4   12     0.043     0.909     1  0.952\n98   4   13     0.380     1.085     1  1.465\n\n[99 rows x 6 columns]",
      "text/html": "<div>\n<style scoped>\n    .dataframe tbody tr th:only-of-type {\n        vertical-align: middle;\n    }\n\n    .dataframe tbody tr th {\n        vertical-align: top;\n    }\n\n    .dataframe thead th {\n        text-align: right;\n    }\n</style>\n<table border=\"1\" class=\"dataframe\">\n  <thead>\n    <tr style=\"text-align: right;\">\n      <th></th>\n      <th>日期</th>\n      <th>门店名称</th>\n      <th>冷冻发货量(吨)</th>\n      <th>冷藏发货量(吨)</th>\n      <th>配送时间</th>\n      <th>总货量</th>\n    </tr>\n  </thead>\n  <tbody>\n    <tr>\n      <th>0</th>\n      <td>0</td>\n      <td>0</td>\n      <td>0.000</td>\n      <td>0.000</td>\n      <td>0</td>\n      <td>0.000</td>\n    </tr>\n    <tr>\n      <th>1</th>\n      <td>1</td>\n      <td>21</td>\n      <td>0.188</td>\n      <td>0.565</td>\n      <td>1</td>\n      <td>0.753</td>\n    </tr>\n    <tr>\n      <th>2</th>\n      <td>1</td>\n      <td>35</td>\n      <td>0.134</td>\n      <td>1.092</td>\n      <td>1</td>\n      <td>1.226</td>\n    </tr>\n    <tr>\n      <th>3</th>\n      <td>1</td>\n      <td>9</td>\n      <td>0.956</td>\n      <td>0.635</td>\n      <td>0</td>\n      <td>1.591</td>\n    </tr>\n    <tr>\n      <th>4</th>\n      <td>1</td>\n      <td>25</td>\n      <td>0.740</td>\n      <td>0.210</td>\n      <td>0</td>\n      <td>0.950</td>\n    </tr>\n    <tr>\n      <th>...</th>\n      <td>...</td>\n      <td>...</td>\n      <td>...</td>\n      <td>...</td>\n      <td>...</td>\n      <td>...</td>\n    </tr>\n    <tr>\n      <th>94</th>\n      <td>4</td>\n      <td>9</td>\n      <td>0.440</td>\n      <td>0.655</td>\n      <td>0</td>\n      <td>1.095</td>\n    </tr>\n    <tr>\n      <th>95</th>\n      <td>4</td>\n      <td>7</td>\n      <td>0.406</td>\n      <td>0.890</td>\n      <td>0</td>\n      <td>1.296</td>\n    </tr>\n    <tr>\n      <th>96</th>\n      <td>4</td>\n      <td>16</td>\n      <td>0.364</td>\n      <td>0.430</td>\n      <td>1</td>\n      <td>0.794</td>\n    </tr>\n    <tr>\n      <th>97</th>\n      <td>4</td>\n      <td>12</td>\n      <td>0.043</td>\n      <td>0.909</td>\n      <td>1</td>\n      <td>0.952</td>\n    </tr>\n    <tr>\n      <th>98</th>\n      <td>4</td>\n      <td>13</td>\n      <td>0.380</td>\n      <td>1.085</td>\n      <td>1</td>\n      <td>1.465</td>\n    </tr>\n  </tbody>\n</table>\n<p>99 rows × 6 columns</p>\n</div>"
     },
     "execution_count": 2,
     "metadata": {},
     "output_type": "execute_result"
    }
   ],
   "source": [
    "send_data"
   ],
   "metadata": {
    "collapsed": false,
    "ExecuteTime": {
     "end_time": "2024-07-19T12:44:24.126801Z",
     "start_time": "2024-07-19T12:44:24.112199Z"
    }
   },
   "id": "4eac14ccb4a8721d",
   "execution_count": 2
  },
  {
   "cell_type": "code",
   "outputs": [
    {
     "data": {
      "text/plain": "1.829167492067056"
     },
     "execution_count": 3,
     "metadata": {},
     "output_type": "execute_result"
    }
   ],
   "source": [
    "time_matrix[0, send_data.loc[61, '门店名称']]"
   ],
   "metadata": {
    "collapsed": false,
    "ExecuteTime": {
     "end_time": "2024-07-19T12:45:36.992516Z",
     "start_time": "2024-07-19T12:45:36.988862Z"
    }
   },
   "id": "ad0a010b50bfd7c4",
   "execution_count": 3
  },
  {
   "cell_type": "code",
   "outputs": [
    {
     "data": {
      "text/plain": "nan"
     },
     "execution_count": 4,
     "metadata": {},
     "output_type": "execute_result"
    }
   ],
   "source": [
    "time_matrix[send_data.loc[61, '门店名称'], send_data.loc[58, '门店名称']]"
   ],
   "metadata": {
    "collapsed": false,
    "ExecuteTime": {
     "end_time": "2024-07-19T12:45:54.231224Z",
     "start_time": "2024-07-19T12:45:54.226876Z"
    }
   },
   "id": "4ed97ffdfeeb3c83",
   "execution_count": 4
  },
  {
   "cell_type": "code",
   "outputs": [
    {
     "data": {
      "text/plain": "39"
     },
     "execution_count": 5,
     "metadata": {},
     "output_type": "execute_result"
    }
   ],
   "source": [
    "send_data.loc[58, '门店名称']"
   ],
   "metadata": {
    "collapsed": false,
    "ExecuteTime": {
     "end_time": "2024-07-19T12:46:23.327438Z",
     "start_time": "2024-07-19T12:46:23.324093Z"
    }
   },
   "id": "f5b605d49f2445cd",
   "execution_count": 5
  },
  {
   "cell_type": "code",
   "outputs": [
    {
     "data": {
      "text/plain": "39"
     },
     "execution_count": 6,
     "metadata": {},
     "output_type": "execute_result"
    }
   ],
   "source": [
    "send_data.loc[61, '门店名称']"
   ],
   "metadata": {
    "collapsed": false,
    "ExecuteTime": {
     "end_time": "2024-07-19T12:46:28.557598Z",
     "start_time": "2024-07-19T12:46:28.553493Z"
    }
   },
   "id": "27f873962a1b39fb",
   "execution_count": 6
  },
  {
   "cell_type": "code",
   "outputs": [
    {
     "data": {
      "text/plain": "0.9413664595006476"
     },
     "execution_count": 7,
     "metadata": {},
     "output_type": "execute_result"
    }
   ],
   "source": [
    "time_matrix[send_data.loc[61, '门店名称'], send_data.loc[63, '门店名称']]"
   ],
   "metadata": {
    "collapsed": false,
    "ExecuteTime": {
     "end_time": "2024-07-19T12:47:11.659605Z",
     "start_time": "2024-07-19T12:47:11.655386Z"
    }
   },
   "id": "7cf1e16c6f90f1c2",
   "execution_count": 7
  },
  {
   "cell_type": "code",
   "outputs": [
    {
     "data": {
      "text/plain": "3.242642835564161"
     },
     "execution_count": 8,
     "metadata": {},
     "output_type": "execute_result"
    }
   ],
   "source": [
    "time_matrix[send_data.loc[63, '门店名称'], send_data.loc[80, '门店名称']]"
   ],
   "metadata": {
    "collapsed": false,
    "ExecuteTime": {
     "end_time": "2024-07-19T12:47:25.098242Z",
     "start_time": "2024-07-19T12:47:25.094087Z"
    }
   },
   "id": "d2ad663b9e9c6044",
   "execution_count": 8
  },
  {
   "cell_type": "code",
   "outputs": [],
   "source": [
    "send_data.to_excel('./time_send2.xlsx')"
   ],
   "metadata": {
    "collapsed": false,
    "ExecuteTime": {
     "end_time": "2024-07-19T12:50:23.831917Z",
     "start_time": "2024-07-19T12:50:23.811820Z"
    }
   },
   "id": "c85f6bf40f51976b",
   "execution_count": 9
  },
  {
   "cell_type": "code",
   "outputs": [
    {
     "data": {
      "text/plain": "9"
     },
     "execution_count": 53,
     "metadata": {},
     "output_type": "execute_result"
    }
   ],
   "source": [
    "send_data.loc[36, '门店名称']"
   ],
   "metadata": {
    "collapsed": false,
    "ExecuteTime": {
     "end_time": "2024-07-19T13:55:01.529601Z",
     "start_time": "2024-07-19T13:55:01.525355Z"
    }
   },
   "id": "adc69cbb270f7178",
   "execution_count": 53
  },
  {
   "cell_type": "code",
   "outputs": [],
   "source": [],
   "metadata": {
    "collapsed": false
   },
   "id": "c1384c82e248d1d9"
  },
  {
   "cell_type": "markdown",
   "source": [],
   "metadata": {
    "collapsed": false
   },
   "id": "31c5b9e24c173af8"
  }
 ],
 "metadata": {
  "kernelspec": {
   "display_name": "Python 3",
   "language": "python",
   "name": "python3"
  },
  "language_info": {
   "codemirror_mode": {
    "name": "ipython",
    "version": 2
   },
   "file_extension": ".py",
   "mimetype": "text/x-python",
   "name": "python",
   "nbconvert_exporter": "python",
   "pygments_lexer": "ipython2",
   "version": "2.7.6"
  }
 },
 "nbformat": 4,
 "nbformat_minor": 5
}
