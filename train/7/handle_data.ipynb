{
 "cells": [
  {
   "cell_type": "code",
   "execution_count": 1,
   "id": "initial_id",
   "metadata": {
    "collapsed": true,
    "ExecuteTime": {
     "end_time": "2024-08-29T05:54:43.977093Z",
     "start_time": "2024-08-29T05:54:43.974182Z"
    }
   },
   "outputs": [],
   "source": [
    "import pandas as pd\n",
    "import numpy as np\n",
    "import matplotlib.pyplot as plt\n",
    "import seaborn as sns"
   ]
  },
  {
   "cell_type": "code",
   "outputs": [],
   "source": [
    "df = pd.read_excel('./Online Retail.xlsx')"
   ],
   "metadata": {
    "collapsed": false,
    "ExecuteTime": {
     "end_time": "2024-08-29T05:55:12.852094Z",
     "start_time": "2024-08-29T05:54:43.979328Z"
    }
   },
   "id": "791700ba6198e01f",
   "execution_count": 2
  },
  {
   "cell_type": "code",
   "outputs": [
    {
     "data": {
      "text/plain": "       InvoiceNo StockCode                          Description  Quantity  \\\n0         536365    85123A   WHITE HANGING HEART T-LIGHT HOLDER         6   \n1         536365     71053                  WHITE METAL LANTERN         6   \n2         536365    84406B       CREAM CUPID HEARTS COAT HANGER         8   \n3         536365    84029G  KNITTED UNION FLAG HOT WATER BOTTLE         6   \n4         536365    84029E       RED WOOLLY HOTTIE WHITE HEART.         6   \n...          ...       ...                                  ...       ...   \n541904    581587     22613          PACK OF 20 SPACEBOY NAPKINS        12   \n541905    581587     22899         CHILDREN'S APRON DOLLY GIRL          6   \n541906    581587     23254        CHILDRENS CUTLERY DOLLY GIRL          4   \n541907    581587     23255      CHILDRENS CUTLERY CIRCUS PARADE         4   \n541908    581587     22138        BAKING SET 9 PIECE RETROSPOT          3   \n\n               InvoiceDate  UnitPrice  CustomerID         Country  \n0      2010-12-01 08:26:00       2.55     17850.0  United Kingdom  \n1      2010-12-01 08:26:00       3.39     17850.0  United Kingdom  \n2      2010-12-01 08:26:00       2.75     17850.0  United Kingdom  \n3      2010-12-01 08:26:00       3.39     17850.0  United Kingdom  \n4      2010-12-01 08:26:00       3.39     17850.0  United Kingdom  \n...                    ...        ...         ...             ...  \n541904 2011-12-09 12:50:00       0.85     12680.0          France  \n541905 2011-12-09 12:50:00       2.10     12680.0          France  \n541906 2011-12-09 12:50:00       4.15     12680.0          France  \n541907 2011-12-09 12:50:00       4.15     12680.0          France  \n541908 2011-12-09 12:50:00       4.95     12680.0          France  \n\n[541909 rows x 8 columns]",
      "text/html": "<div>\n<style scoped>\n    .dataframe tbody tr th:only-of-type {\n        vertical-align: middle;\n    }\n\n    .dataframe tbody tr th {\n        vertical-align: top;\n    }\n\n    .dataframe thead th {\n        text-align: right;\n    }\n</style>\n<table border=\"1\" class=\"dataframe\">\n  <thead>\n    <tr style=\"text-align: right;\">\n      <th></th>\n      <th>InvoiceNo</th>\n      <th>StockCode</th>\n      <th>Description</th>\n      <th>Quantity</th>\n      <th>InvoiceDate</th>\n      <th>UnitPrice</th>\n      <th>CustomerID</th>\n      <th>Country</th>\n    </tr>\n  </thead>\n  <tbody>\n    <tr>\n      <th>0</th>\n      <td>536365</td>\n      <td>85123A</td>\n      <td>WHITE HANGING HEART T-LIGHT HOLDER</td>\n      <td>6</td>\n      <td>2010-12-01 08:26:00</td>\n      <td>2.55</td>\n      <td>17850.0</td>\n      <td>United Kingdom</td>\n    </tr>\n    <tr>\n      <th>1</th>\n      <td>536365</td>\n      <td>71053</td>\n      <td>WHITE METAL LANTERN</td>\n      <td>6</td>\n      <td>2010-12-01 08:26:00</td>\n      <td>3.39</td>\n      <td>17850.0</td>\n      <td>United Kingdom</td>\n    </tr>\n    <tr>\n      <th>2</th>\n      <td>536365</td>\n      <td>84406B</td>\n      <td>CREAM CUPID HEARTS COAT HANGER</td>\n      <td>8</td>\n      <td>2010-12-01 08:26:00</td>\n      <td>2.75</td>\n      <td>17850.0</td>\n      <td>United Kingdom</td>\n    </tr>\n    <tr>\n      <th>3</th>\n      <td>536365</td>\n      <td>84029G</td>\n      <td>KNITTED UNION FLAG HOT WATER BOTTLE</td>\n      <td>6</td>\n      <td>2010-12-01 08:26:00</td>\n      <td>3.39</td>\n      <td>17850.0</td>\n      <td>United Kingdom</td>\n    </tr>\n    <tr>\n      <th>4</th>\n      <td>536365</td>\n      <td>84029E</td>\n      <td>RED WOOLLY HOTTIE WHITE HEART.</td>\n      <td>6</td>\n      <td>2010-12-01 08:26:00</td>\n      <td>3.39</td>\n      <td>17850.0</td>\n      <td>United Kingdom</td>\n    </tr>\n    <tr>\n      <th>...</th>\n      <td>...</td>\n      <td>...</td>\n      <td>...</td>\n      <td>...</td>\n      <td>...</td>\n      <td>...</td>\n      <td>...</td>\n      <td>...</td>\n    </tr>\n    <tr>\n      <th>541904</th>\n      <td>581587</td>\n      <td>22613</td>\n      <td>PACK OF 20 SPACEBOY NAPKINS</td>\n      <td>12</td>\n      <td>2011-12-09 12:50:00</td>\n      <td>0.85</td>\n      <td>12680.0</td>\n      <td>France</td>\n    </tr>\n    <tr>\n      <th>541905</th>\n      <td>581587</td>\n      <td>22899</td>\n      <td>CHILDREN'S APRON DOLLY GIRL</td>\n      <td>6</td>\n      <td>2011-12-09 12:50:00</td>\n      <td>2.10</td>\n      <td>12680.0</td>\n      <td>France</td>\n    </tr>\n    <tr>\n      <th>541906</th>\n      <td>581587</td>\n      <td>23254</td>\n      <td>CHILDRENS CUTLERY DOLLY GIRL</td>\n      <td>4</td>\n      <td>2011-12-09 12:50:00</td>\n      <td>4.15</td>\n      <td>12680.0</td>\n      <td>France</td>\n    </tr>\n    <tr>\n      <th>541907</th>\n      <td>581587</td>\n      <td>23255</td>\n      <td>CHILDRENS CUTLERY CIRCUS PARADE</td>\n      <td>4</td>\n      <td>2011-12-09 12:50:00</td>\n      <td>4.15</td>\n      <td>12680.0</td>\n      <td>France</td>\n    </tr>\n    <tr>\n      <th>541908</th>\n      <td>581587</td>\n      <td>22138</td>\n      <td>BAKING SET 9 PIECE RETROSPOT</td>\n      <td>3</td>\n      <td>2011-12-09 12:50:00</td>\n      <td>4.95</td>\n      <td>12680.0</td>\n      <td>France</td>\n    </tr>\n  </tbody>\n</table>\n<p>541909 rows × 8 columns</p>\n</div>"
     },
     "execution_count": 3,
     "metadata": {},
     "output_type": "execute_result"
    }
   ],
   "source": [
    "df"
   ],
   "metadata": {
    "collapsed": false,
    "ExecuteTime": {
     "end_time": "2024-08-29T05:55:12.951435Z",
     "start_time": "2024-08-29T05:55:12.853204Z"
    }
   },
   "id": "861c36d4babf4d0a",
   "execution_count": 3
  },
  {
   "cell_type": "code",
   "outputs": [
    {
     "data": {
      "text/plain": "Country\nUnited Kingdom          495478\nGermany                   9495\nFrance                    8557\nEIRE                      8196\nSpain                     2533\nNetherlands               2371\nBelgium                   2069\nSwitzerland               2002\nPortugal                  1519\nAustralia                 1259\nNorway                    1086\nItaly                      803\nChannel Islands            758\nFinland                    695\nCyprus                     622\nSweden                     462\nUnspecified                446\nAustria                    401\nDenmark                    389\nJapan                      358\nPoland                     341\nIsrael                     297\nUSA                        291\nHong Kong                  288\nSingapore                  229\nIceland                    182\nCanada                     151\nGreece                     146\nMalta                      127\nUnited Arab Emirates        68\nEuropean Community          61\nRSA                         58\nLebanon                     45\nLithuania                   35\nBrazil                      32\nCzech Republic              30\nBahrain                     19\nSaudi Arabia                10\nName: count, dtype: int64"
     },
     "execution_count": 4,
     "metadata": {},
     "output_type": "execute_result"
    }
   ],
   "source": [
    "df['Country'].value_counts()"
   ],
   "metadata": {
    "collapsed": false,
    "ExecuteTime": {
     "end_time": "2024-08-29T05:55:12.974648Z",
     "start_time": "2024-08-29T05:55:12.952856Z"
    }
   },
   "id": "9de7e266adf02d67",
   "execution_count": 4
  },
  {
   "cell_type": "code",
   "outputs": [
    {
     "data": {
      "text/plain": "0         536365\n1         536365\n2         536365\n3         536365\n4         536365\n           ...  \n541904    581587\n541905    581587\n541906    581587\n541907    581587\n541908    581587\nName: InvoiceNo, Length: 541909, dtype: object"
     },
     "execution_count": 5,
     "metadata": {},
     "output_type": "execute_result"
    }
   ],
   "source": [
    "df['InvoiceNo']"
   ],
   "metadata": {
    "collapsed": false,
    "ExecuteTime": {
     "end_time": "2024-08-29T05:55:12.985628Z",
     "start_time": "2024-08-29T05:55:12.975958Z"
    }
   },
   "id": "7215280624c552b2",
   "execution_count": 5
  },
  {
   "cell_type": "code",
   "outputs": [
    {
     "name": "stdout",
     "output_type": "stream",
     "text": [
      "532618 9291\n"
     ]
    }
   ],
   "source": [
    "mask = df['InvoiceNo'].str.startswith('C')\n",
    "mask = pd.DataFrame(mask)\n",
    "nan_mask = mask.apply(lambda x: pd.isna(x))\n",
    "num = 0\n",
    "F_num = 0\n",
    "for index, value in nan_mask.iterrows():\n",
    "    if value['InvoiceNo'] == True:\n",
    "       num += 1\n",
    "    else:\n",
    "        F_num += 1\n",
    "print(num, F_num)"
   ],
   "metadata": {
    "collapsed": false,
    "ExecuteTime": {
     "end_time": "2024-08-29T05:55:21.029431Z",
     "start_time": "2024-08-29T05:55:12.987033Z"
    }
   },
   "id": "c5c8ca5b3eff5926",
   "execution_count": 6
  },
  {
   "cell_type": "code",
   "outputs": [],
   "source": [
    "df = df[nan_mask.values]"
   ],
   "metadata": {
    "collapsed": false,
    "ExecuteTime": {
     "end_time": "2024-08-29T05:55:21.062616Z",
     "start_time": "2024-08-29T05:55:21.032433Z"
    }
   },
   "id": "c59e0782ce06204a",
   "execution_count": 7
  },
  {
   "cell_type": "code",
   "outputs": [
    {
     "data": {
      "text/plain": "       InvoiceNo StockCode                          Description  Quantity  \\\n0         536365    85123A   WHITE HANGING HEART T-LIGHT HOLDER         6   \n1         536365     71053                  WHITE METAL LANTERN         6   \n2         536365    84406B       CREAM CUPID HEARTS COAT HANGER         8   \n3         536365    84029G  KNITTED UNION FLAG HOT WATER BOTTLE         6   \n4         536365    84029E       RED WOOLLY HOTTIE WHITE HEART.         6   \n...          ...       ...                                  ...       ...   \n541904    581587     22613          PACK OF 20 SPACEBOY NAPKINS        12   \n541905    581587     22899         CHILDREN'S APRON DOLLY GIRL          6   \n541906    581587     23254        CHILDRENS CUTLERY DOLLY GIRL          4   \n541907    581587     23255      CHILDRENS CUTLERY CIRCUS PARADE         4   \n541908    581587     22138        BAKING SET 9 PIECE RETROSPOT          3   \n\n               InvoiceDate  UnitPrice  CustomerID         Country  \n0      2010-12-01 08:26:00       2.55     17850.0  United Kingdom  \n1      2010-12-01 08:26:00       3.39     17850.0  United Kingdom  \n2      2010-12-01 08:26:00       2.75     17850.0  United Kingdom  \n3      2010-12-01 08:26:00       3.39     17850.0  United Kingdom  \n4      2010-12-01 08:26:00       3.39     17850.0  United Kingdom  \n...                    ...        ...         ...             ...  \n541904 2011-12-09 12:50:00       0.85     12680.0          France  \n541905 2011-12-09 12:50:00       2.10     12680.0          France  \n541906 2011-12-09 12:50:00       4.15     12680.0          France  \n541907 2011-12-09 12:50:00       4.15     12680.0          France  \n541908 2011-12-09 12:50:00       4.95     12680.0          France  \n\n[532618 rows x 8 columns]",
      "text/html": "<div>\n<style scoped>\n    .dataframe tbody tr th:only-of-type {\n        vertical-align: middle;\n    }\n\n    .dataframe tbody tr th {\n        vertical-align: top;\n    }\n\n    .dataframe thead th {\n        text-align: right;\n    }\n</style>\n<table border=\"1\" class=\"dataframe\">\n  <thead>\n    <tr style=\"text-align: right;\">\n      <th></th>\n      <th>InvoiceNo</th>\n      <th>StockCode</th>\n      <th>Description</th>\n      <th>Quantity</th>\n      <th>InvoiceDate</th>\n      <th>UnitPrice</th>\n      <th>CustomerID</th>\n      <th>Country</th>\n    </tr>\n  </thead>\n  <tbody>\n    <tr>\n      <th>0</th>\n      <td>536365</td>\n      <td>85123A</td>\n      <td>WHITE HANGING HEART T-LIGHT HOLDER</td>\n      <td>6</td>\n      <td>2010-12-01 08:26:00</td>\n      <td>2.55</td>\n      <td>17850.0</td>\n      <td>United Kingdom</td>\n    </tr>\n    <tr>\n      <th>1</th>\n      <td>536365</td>\n      <td>71053</td>\n      <td>WHITE METAL LANTERN</td>\n      <td>6</td>\n      <td>2010-12-01 08:26:00</td>\n      <td>3.39</td>\n      <td>17850.0</td>\n      <td>United Kingdom</td>\n    </tr>\n    <tr>\n      <th>2</th>\n      <td>536365</td>\n      <td>84406B</td>\n      <td>CREAM CUPID HEARTS COAT HANGER</td>\n      <td>8</td>\n      <td>2010-12-01 08:26:00</td>\n      <td>2.75</td>\n      <td>17850.0</td>\n      <td>United Kingdom</td>\n    </tr>\n    <tr>\n      <th>3</th>\n      <td>536365</td>\n      <td>84029G</td>\n      <td>KNITTED UNION FLAG HOT WATER BOTTLE</td>\n      <td>6</td>\n      <td>2010-12-01 08:26:00</td>\n      <td>3.39</td>\n      <td>17850.0</td>\n      <td>United Kingdom</td>\n    </tr>\n    <tr>\n      <th>4</th>\n      <td>536365</td>\n      <td>84029E</td>\n      <td>RED WOOLLY HOTTIE WHITE HEART.</td>\n      <td>6</td>\n      <td>2010-12-01 08:26:00</td>\n      <td>3.39</td>\n      <td>17850.0</td>\n      <td>United Kingdom</td>\n    </tr>\n    <tr>\n      <th>...</th>\n      <td>...</td>\n      <td>...</td>\n      <td>...</td>\n      <td>...</td>\n      <td>...</td>\n      <td>...</td>\n      <td>...</td>\n      <td>...</td>\n    </tr>\n    <tr>\n      <th>541904</th>\n      <td>581587</td>\n      <td>22613</td>\n      <td>PACK OF 20 SPACEBOY NAPKINS</td>\n      <td>12</td>\n      <td>2011-12-09 12:50:00</td>\n      <td>0.85</td>\n      <td>12680.0</td>\n      <td>France</td>\n    </tr>\n    <tr>\n      <th>541905</th>\n      <td>581587</td>\n      <td>22899</td>\n      <td>CHILDREN'S APRON DOLLY GIRL</td>\n      <td>6</td>\n      <td>2011-12-09 12:50:00</td>\n      <td>2.10</td>\n      <td>12680.0</td>\n      <td>France</td>\n    </tr>\n    <tr>\n      <th>541906</th>\n      <td>581587</td>\n      <td>23254</td>\n      <td>CHILDRENS CUTLERY DOLLY GIRL</td>\n      <td>4</td>\n      <td>2011-12-09 12:50:00</td>\n      <td>4.15</td>\n      <td>12680.0</td>\n      <td>France</td>\n    </tr>\n    <tr>\n      <th>541907</th>\n      <td>581587</td>\n      <td>23255</td>\n      <td>CHILDRENS CUTLERY CIRCUS PARADE</td>\n      <td>4</td>\n      <td>2011-12-09 12:50:00</td>\n      <td>4.15</td>\n      <td>12680.0</td>\n      <td>France</td>\n    </tr>\n    <tr>\n      <th>541908</th>\n      <td>581587</td>\n      <td>22138</td>\n      <td>BAKING SET 9 PIECE RETROSPOT</td>\n      <td>3</td>\n      <td>2011-12-09 12:50:00</td>\n      <td>4.95</td>\n      <td>12680.0</td>\n      <td>France</td>\n    </tr>\n  </tbody>\n</table>\n<p>532618 rows × 8 columns</p>\n</div>"
     },
     "execution_count": 8,
     "metadata": {},
     "output_type": "execute_result"
    }
   ],
   "source": [
    "df"
   ],
   "metadata": {
    "collapsed": false,
    "ExecuteTime": {
     "end_time": "2024-08-29T05:55:21.080478Z",
     "start_time": "2024-08-29T05:55:21.063343Z"
    }
   },
   "id": "90f7dbfb857d8af3",
   "execution_count": 8
  },
  {
   "cell_type": "code",
   "outputs": [
    {
     "data": {
      "text/plain": "StockCode\n85123A    2271\n85099B    2115\n22423     2022\n47566     1707\n20725     1595\n          ... \n21274        1\n84845D       1\n84876C       1\n20678        1\n23843        1\nName: count, Length: 4058, dtype: int64"
     },
     "execution_count": 9,
     "metadata": {},
     "output_type": "execute_result"
    }
   ],
   "source": [
    "df['StockCode'].value_counts()"
   ],
   "metadata": {
    "collapsed": false,
    "ExecuteTime": {
     "end_time": "2024-08-29T05:55:21.105051Z",
     "start_time": "2024-08-29T05:55:21.081619Z"
    }
   },
   "id": "cd21c246e9d63dc0",
   "execution_count": 9
  },
  {
   "cell_type": "code",
   "outputs": [
    {
     "data": {
      "text/plain": "Description\nWHITE HANGING HEART T-LIGHT HOLDER    2327\nJUMBO BAG RED RETROSPOT               2115\nREGENCY CAKESTAND 3 TIER              2019\nPARTY BUNTING                         1707\nLUNCH BAG RED RETROSPOT               1594\n                                      ... \nCRYSTAL CHANDELIER T-LIGHT HOLDER        1\nPURPLE CHUNKY GLASS+BEAD NECKLACE        1\nIVORY PANTRY HANGING LAMP                1\nGREEN PENDANT SHELL NECKLACE             1\nPAPER CRAFT , LITTLE BIRDIE              1\nName: count, Length: 4206, dtype: int64"
     },
     "execution_count": 10,
     "metadata": {},
     "output_type": "execute_result"
    }
   ],
   "source": [
    "df['Description'].value_counts()"
   ],
   "metadata": {
    "collapsed": false,
    "ExecuteTime": {
     "end_time": "2024-08-29T05:55:21.126126Z",
     "start_time": "2024-08-29T05:55:21.105999Z"
    }
   },
   "id": "7287196ac5b8ceec",
   "execution_count": 10
  },
  {
   "cell_type": "code",
   "outputs": [
    {
     "data": {
      "text/plain": "1336"
     },
     "execution_count": 11,
     "metadata": {},
     "output_type": "execute_result"
    }
   ],
   "source": [
    "num = 0\n",
    "list = []\n",
    "for row, value in df.iterrows():\n",
    "    if df.loc[row, 'Quantity'] < 0:\n",
    "        num += 1\n",
    "        list.append(row)\n",
    "num"
   ],
   "metadata": {
    "collapsed": false,
    "ExecuteTime": {
     "end_time": "2024-08-29T05:55:34.696869Z",
     "start_time": "2024-08-29T05:55:21.127004Z"
    }
   },
   "id": "a9dff37cdf4d1ddd",
   "execution_count": 11
  },
  {
   "cell_type": "code",
   "outputs": [
    {
     "data": {
      "text/plain": "[2406,\n 4347,\n 7188,\n 7189,\n 7190,\n 7192,\n 7193,\n 7195,\n 7196,\n 7197,\n 7198,\n 7199,\n 7200,\n 7201,\n 7202,\n 7203,\n 7204,\n 7205,\n 7206,\n 7207,\n 7208,\n 7209,\n 7210,\n 7211,\n 7212,\n 7213,\n 7291,\n 7292,\n 7293,\n 7313,\n 12069,\n 12070,\n 12934,\n 13217,\n 13218,\n 13219,\n 13264,\n 14060,\n 14061,\n 14062,\n 14063,\n 14064,\n 14065,\n 14066,\n 14217,\n 17158,\n 19599,\n 19996,\n 20393,\n 20394,\n 20399,\n 20400,\n 20469,\n 20470,\n 20506,\n 20522,\n 21338,\n 21349,\n 21518,\n 21520,\n 22293,\n 22294,\n 22296,\n 22297,\n 22534,\n 23764,\n 23765,\n 29972,\n 31226,\n 42289,\n 42498,\n 42499,\n 42500,\n 42503,\n 42504,\n 42562,\n 42563,\n 42564,\n 42566,\n 43662,\n 43704,\n 44863,\n 45150,\n 45623,\n 46883,\n 50151,\n 50806,\n 50808,\n 50849,\n 51048,\n 51049,\n 51672,\n 51673,\n 51762,\n 51763,\n 52094,\n 52095,\n 52379,\n 55189,\n 55319,\n 55837,\n 61702,\n 61838,\n 63099,\n 64320,\n 64321,\n 65063,\n 65077,\n 65943,\n 66518,\n 68920,\n 69215,\n 72006,\n 73589,\n 73590,\n 73593,\n 73604,\n 73605,\n 73753,\n 73754,\n 73849,\n 73850,\n 73935,\n 74283,\n 74284,\n 74287,\n 74288,\n 74668,\n 74825,\n 74838,\n 74839,\n 75220,\n 75222,\n 75223,\n 75224,\n 75226,\n 75227,\n 75228,\n 75229,\n 75230,\n 75231,\n 75232,\n 75233,\n 75234,\n 75235,\n 75236,\n 75237,\n 75238,\n 75239,\n 75240,\n 75241,\n 75242,\n 75243,\n 75252,\n 75253,\n 75254,\n 75255,\n 75256,\n 75257,\n 75258,\n 75259,\n 75260,\n 75292,\n 75293,\n 75294,\n 75295,\n 78235,\n 78424,\n 78456,\n 78457,\n 78458,\n 78459,\n 80302,\n 80303,\n 82251,\n 82794,\n 82796,\n 82797,\n 82798,\n 82799,\n 82827,\n 82828,\n 82831,\n 82832,\n 82833,\n 83504,\n 83562,\n 84409,\n 85787,\n 86322,\n 86513,\n 87404,\n 87405,\n 87406,\n 88203,\n 89118,\n 90556,\n 90697,\n 91072,\n 94300,\n 94301,\n 94304,\n 94305,\n 94587,\n 94765,\n 96374,\n 96679,\n 97643,\n 99161,\n 100714,\n 100747,\n 104083,\n 104084,\n 105334,\n 105719,\n 107041,\n 107042,\n 108577,\n 108578,\n 108579,\n 108580,\n 108589,\n 108591,\n 108682,\n 108683,\n 108684,\n 108685,\n 108686,\n 108687,\n 108688,\n 108689,\n 109344,\n 109345,\n 109346,\n 112036,\n 113580,\n 114428,\n 114493,\n 114522,\n 114534,\n 114535,\n 114538,\n 114539,\n 114540,\n 115488,\n 115489,\n 115504,\n 115505,\n 115805,\n 115806,\n 115808,\n 115810,\n 115811,\n 115812,\n 115813,\n 115814,\n 115815,\n 115816,\n 115817,\n 115818,\n 116406,\n 117315,\n 117894,\n 117896,\n 119556,\n 120580,\n 120762,\n 121360,\n 128446,\n 128447,\n 128448,\n 128449,\n 128450,\n 128463,\n 128464,\n 128465,\n 128466,\n 128467,\n 128473,\n 128478,\n 128479,\n 128480,\n 128876,\n 128947,\n 130079,\n 130370,\n 130736,\n 130737,\n 131398,\n 131399,\n 131699,\n 131701,\n 131702,\n 131703,\n 131704,\n 131705,\n 131706,\n 131707,\n 131708,\n 131771,\n 132812,\n 132813,\n 132814,\n 135862,\n 136271,\n 136831,\n 136878,\n 136879,\n 136880,\n 136881,\n 136882,\n 136883,\n 136884,\n 136886,\n 136966,\n 137183,\n 137184,\n 137185,\n 137186,\n 137187,\n 137240,\n 137905,\n 137907,\n 138694,\n 138714,\n 138909,\n 139064,\n 139595,\n 139716,\n 139907,\n 139908,\n 139936,\n 140194,\n 140196,\n 140197,\n 140199,\n 140200,\n 140201,\n 140211,\n 140281,\n 140282,\n 140283,\n 140284,\n 140285,\n 140353,\n 142004,\n 142005,\n 142008,\n 142584,\n 142631,\n 142797,\n 142989,\n 143301,\n 143302,\n 143303,\n 143304,\n 143305,\n 143306,\n 143308,\n 143310,\n 143311,\n 143342,\n 145256,\n 145257,\n 145258,\n 145259,\n 145260,\n 145735,\n 146237,\n 146360,\n 146469,\n 146599,\n 146600,\n 146601,\n 146604,\n 146605,\n 146606,\n 146627,\n 146628,\n 146629,\n 146630,\n 146977,\n 146978,\n 146979,\n 146980,\n 146981,\n 146982,\n 146984,\n 146985,\n 146986,\n 146987,\n 146993,\n 146994,\n 147787,\n 147788,\n 147789,\n 147791,\n 147792,\n 147794,\n 147797,\n 147798,\n 147799,\n 147801,\n 147802,\n 147826,\n 147827,\n 148080,\n 148081,\n 148082,\n 148083,\n 148084,\n 148085,\n 148089,\n 148090,\n 148092,\n 148093,\n 148106,\n 148107,\n 148108,\n 148109,\n 148110,\n 148111,\n 148112,\n 148114,\n 148115,\n 148116,\n 148563,\n 149043,\n 149044,\n 149046,\n 149047,\n 149050,\n 149051,\n 150144,\n 150146,\n 150147,\n 150148,\n 150149,\n 150150,\n 150151,\n 150152,\n 150153,\n 150154,\n 150156,\n 150158,\n 150159,\n 150160,\n 150161,\n 150169,\n 150220,\n 150239,\n 150240,\n 150241,\n 150349,\n 150350,\n 150594,\n 150595,\n 150596,\n 150597,\n 150599,\n 150600,\n 150601,\n 150602,\n 150603,\n 150604,\n 150605,\n 150616,\n 150627,\n 150628,\n 150629,\n 151033,\n 151034,\n 151035,\n 151038,\n 152856,\n 154122,\n 154152,\n 154153,\n 154656,\n 154799,\n 154835,\n 154860,\n 156350,\n 156618,\n 165021,\n 165032,\n 165033,\n 165034,\n 165035,\n 165037,\n 165038,\n 165448,\n 166266,\n 166486,\n 166619,\n 166626,\n 166836,\n 167057,\n 168324,\n 168325,\n 169160,\n 169680,\n 169715,\n 170484,\n 170537,\n 170541,\n 170542,\n 170543,\n 171492,\n 171573,\n 171574,\n 171575,\n 171576,\n 171577,\n 171578,\n 171579,\n 171713,\n 171714,\n 171715,\n 171716,\n 171720,\n 171721,\n 171722,\n 171723,\n 171724,\n 171725,\n 171726,\n 171727,\n 171728,\n 171729,\n 171730,\n 171731,\n 171733,\n 171735,\n 172692,\n 172693,\n 172861,\n 172867,\n 172868,\n 172869,\n 172870,\n 172871,\n 172872,\n 172873,\n 172874,\n 172876,\n 172877,\n 172878,\n 172879,\n 172881,\n 172882,\n 172913,\n 172919,\n 173241,\n 173242,\n 173265,\n 173267,\n 173269,\n 173271,\n 173272,\n 173325,\n 173326,\n 173352,\n 173392,\n 173393,\n 173409,\n 173410,\n 173848,\n 173849,\n 174044,\n 174654,\n 174655,\n 177228,\n 177289,\n 177998,\n 177999,\n 178000,\n 178012,\n 178013,\n 178015,\n 178016,\n 178017,\n 178018,\n 178019,\n 178020,\n 178022,\n 180618,\n 181042,\n 183217,\n 185113,\n 185149,\n 185167,\n 185168,\n 185169,\n 187583,\n 188515,\n 189299,\n 192166,\n 192289,\n 192290,\n 192291,\n 192293,\n 192294,\n 192295,\n 192296,\n 192434,\n 193997,\n 194509,\n 194510,\n 194638,\n 195793,\n 195794,\n 198214,\n 198242,\n 198243,\n 198245,\n 198246,\n 200352,\n 200446,\n 200562,\n 200563,\n 200564,\n 201252,\n 201488,\n 201551,\n 201738,\n 201739,\n 201740,\n 201741,\n 201752,\n 201753,\n 201754,\n 201755,\n 201756,\n 201757,\n 201841,\n 202089,\n 202495,\n 202599,\n 203752,\n 203761,\n 203839,\n 204598,\n 204599,\n 204601,\n 204602,\n 204603,\n 204604,\n 205953,\n 206179,\n 206311,\n 210959,\n 210960,\n 210961,\n 210962,\n 210963,\n 210964,\n 211571,\n 211593,\n 212679,\n 212681,\n 212682,\n 216129,\n 216130,\n 216131,\n 216132,\n 216276,\n 218100,\n 218102,\n 218103,\n 218104,\n 218477,\n 218699,\n 218794,\n 218874,\n 220141,\n 220142,\n 220143,\n 220844,\n 220845,\n 221186,\n 221643,\n 221644,\n 221645,\n 221876,\n 221877,\n 221896,\n 221920,\n 221959,\n 221960,\n 221961,\n 222006,\n 222007,\n 222008,\n 222009,\n 222010,\n 222011,\n 222012,\n 222013,\n 222014,\n 222015,\n 222016,\n 222017,\n 222034,\n 222035,\n 222036,\n 222037,\n 225528,\n 225529,\n 225530,\n 227588,\n 228733,\n 228734,\n 228879,\n 229287,\n 229333,\n 229334,\n 229335,\n 229336,\n 229380,\n 229381,\n 229728,\n 232920,\n 233055,\n 234739,\n 234740,\n 234764,\n 234765,\n 236413,\n 236762,\n 236763,\n 236794,\n 237200,\n 237286,\n 239229,\n 239230,\n 239231,\n 241679,\n 241839,\n 241999,\n 242056,\n 242057,\n 242058,\n 242059,\n 242190,\n 242904,\n 242905,\n 242906,\n 243332,\n 243333,\n 243342,\n 243343,\n 243345,\n 243390,\n 243523,\n 244260,\n 244261,\n 244398,\n 246772,\n 246782,\n 246797,\n 246853,\n 246901,\n 246902,\n 246903,\n 249244,\n 254446,\n 255772,\n 255899,\n 255900,\n 255901,\n 255902,\n 255904,\n 255905,\n 255906,\n 255907,\n 255935,\n 255936,\n 255937,\n 255938,\n 256025,\n 258540,\n 259969,\n 263184,\n 263870,\n 263884,\n 264421,\n 264704,\n 264705,\n 264706,\n 264707,\n 264708,\n 265293,\n 265294,\n 265295,\n 268450,\n 268451,\n 268452,\n 268473,\n 268474,\n 269195,\n 270742,\n 270886,\n 271791,\n 271818,\n 271822,\n 272078,\n 272157,\n 273442,\n 273443,\n 273911,\n 274544,\n 275219,\n 275220,\n 275221,\n 277041,\n 277345,\n 277389,\n 277390,\n 277394,\n 279251,\n 279252,\n 279253,\n 279254,\n 279255,\n 279256,\n 279257,\n 279258,\n 279510,\n 279637,\n 279709,\n 279752,\n 280652,\n 280653,\n 280655,\n 280656,\n 280657,\n 280658,\n 280659,\n 280661,\n 280720,\n 280721,\n 280745,\n 280747,\n 280748,\n 280749,\n 280750,\n 280752,\n 280754,\n 280756,\n 280757,\n 280820,\n 280821,\n 280822,\n 280823,\n 281449,\n 281450,\n 281451,\n 281452,\n 281453,\n 281551,\n 281569,\n 281570,\n 281571,\n 281572,\n 281592,\n 281614,\n 281615,\n 281616,\n 281887,\n 282290,\n 282291,\n 282875,\n 282904,\n 283806,\n 285724,\n 285725,\n 285726,\n 285727,\n 285790,\n 285886,\n 288519,\n 288872,\n 289689,\n 289690,\n 290106,\n 290579,\n 290580,\n 290581,\n 290582,\n 290583,\n 290639,\n 290640,\n 291606,\n 291607,\n 292266,\n 292269,\n 292270,\n 292271,\n 293905,\n 295405,\n 296208,\n 299644,\n 301165,\n 302846,\n 305195,\n 305196,\n 305607,\n 305626,\n 305830,\n 314906,\n 319895,\n 320576,\n 320585,\n 320586,\n 320588,\n 320589,\n 320594,\n 320595,\n 320619,\n 320620,\n 320621,\n 320693,\n 320695,\n 320696,\n 323241,\n 323389,\n 323390,\n 323391,\n 323458,\n 323461,\n 323462,\n 323463,\n 323469,\n 323493,\n 323872,\n 323873,\n 324024,\n 324131,\n 331018,\n 331029,\n 332406,\n 332407,\n 332408,\n 332823,\n 332824,\n 337534,\n 338957,\n 340681,\n 340682,\n 340683,\n 341596,\n 341597,\n 341598,\n 341599,\n 341600,\n 341601,\n 343999,\n 344382,\n 344383,\n 344384,\n 344385,\n 344386,\n 344435,\n 344867,\n 344884,\n 344928,\n 345011,\n 345107,\n 345179,\n 345180,\n 347977,\n 347978,\n 347979,\n 347983,\n 350350,\n 350504,\n 352827,\n 352828,\n 352829,\n 352830,\n 353039,\n 354119,\n 354120,\n 355331,\n 355335,\n 355345,\n 355354,\n 355356,\n 355421,\n 355422,\n 355423,\n 356448,\n 357315,\n 357316,\n 357317,\n 357356,\n 357367,\n 357368,\n 357369,\n ...]"
     },
     "execution_count": 12,
     "metadata": {},
     "output_type": "execute_result"
    }
   ],
   "source": [
    "list"
   ],
   "metadata": {
    "collapsed": false,
    "ExecuteTime": {
     "end_time": "2024-08-29T05:55:34.704984Z",
     "start_time": "2024-08-29T05:55:34.697619Z"
    }
   },
   "id": "663a56a1fa298b12",
   "execution_count": 12
  },
  {
   "cell_type": "code",
   "outputs": [],
   "source": [
    "df = df.drop(list)"
   ],
   "metadata": {
    "collapsed": false,
    "ExecuteTime": {
     "end_time": "2024-08-29T05:55:34.755374Z",
     "start_time": "2024-08-29T05:55:34.705612Z"
    }
   },
   "id": "834a0860b2fe3e7c",
   "execution_count": 13
  },
  {
   "cell_type": "code",
   "outputs": [
    {
     "data": {
      "text/plain": "       InvoiceNo StockCode                          Description  Quantity  \\\n0         536365    85123A   WHITE HANGING HEART T-LIGHT HOLDER         6   \n1         536365     71053                  WHITE METAL LANTERN         6   \n2         536365    84406B       CREAM CUPID HEARTS COAT HANGER         8   \n3         536365    84029G  KNITTED UNION FLAG HOT WATER BOTTLE         6   \n4         536365    84029E       RED WOOLLY HOTTIE WHITE HEART.         6   \n...          ...       ...                                  ...       ...   \n541904    581587     22613          PACK OF 20 SPACEBOY NAPKINS        12   \n541905    581587     22899         CHILDREN'S APRON DOLLY GIRL          6   \n541906    581587     23254        CHILDRENS CUTLERY DOLLY GIRL          4   \n541907    581587     23255      CHILDRENS CUTLERY CIRCUS PARADE         4   \n541908    581587     22138        BAKING SET 9 PIECE RETROSPOT          3   \n\n               InvoiceDate  UnitPrice  CustomerID         Country  \n0      2010-12-01 08:26:00       2.55     17850.0  United Kingdom  \n1      2010-12-01 08:26:00       3.39     17850.0  United Kingdom  \n2      2010-12-01 08:26:00       2.75     17850.0  United Kingdom  \n3      2010-12-01 08:26:00       3.39     17850.0  United Kingdom  \n4      2010-12-01 08:26:00       3.39     17850.0  United Kingdom  \n...                    ...        ...         ...             ...  \n541904 2011-12-09 12:50:00       0.85     12680.0          France  \n541905 2011-12-09 12:50:00       2.10     12680.0          France  \n541906 2011-12-09 12:50:00       4.15     12680.0          France  \n541907 2011-12-09 12:50:00       4.15     12680.0          France  \n541908 2011-12-09 12:50:00       4.95     12680.0          France  \n\n[531282 rows x 8 columns]",
      "text/html": "<div>\n<style scoped>\n    .dataframe tbody tr th:only-of-type {\n        vertical-align: middle;\n    }\n\n    .dataframe tbody tr th {\n        vertical-align: top;\n    }\n\n    .dataframe thead th {\n        text-align: right;\n    }\n</style>\n<table border=\"1\" class=\"dataframe\">\n  <thead>\n    <tr style=\"text-align: right;\">\n      <th></th>\n      <th>InvoiceNo</th>\n      <th>StockCode</th>\n      <th>Description</th>\n      <th>Quantity</th>\n      <th>InvoiceDate</th>\n      <th>UnitPrice</th>\n      <th>CustomerID</th>\n      <th>Country</th>\n    </tr>\n  </thead>\n  <tbody>\n    <tr>\n      <th>0</th>\n      <td>536365</td>\n      <td>85123A</td>\n      <td>WHITE HANGING HEART T-LIGHT HOLDER</td>\n      <td>6</td>\n      <td>2010-12-01 08:26:00</td>\n      <td>2.55</td>\n      <td>17850.0</td>\n      <td>United Kingdom</td>\n    </tr>\n    <tr>\n      <th>1</th>\n      <td>536365</td>\n      <td>71053</td>\n      <td>WHITE METAL LANTERN</td>\n      <td>6</td>\n      <td>2010-12-01 08:26:00</td>\n      <td>3.39</td>\n      <td>17850.0</td>\n      <td>United Kingdom</td>\n    </tr>\n    <tr>\n      <th>2</th>\n      <td>536365</td>\n      <td>84406B</td>\n      <td>CREAM CUPID HEARTS COAT HANGER</td>\n      <td>8</td>\n      <td>2010-12-01 08:26:00</td>\n      <td>2.75</td>\n      <td>17850.0</td>\n      <td>United Kingdom</td>\n    </tr>\n    <tr>\n      <th>3</th>\n      <td>536365</td>\n      <td>84029G</td>\n      <td>KNITTED UNION FLAG HOT WATER BOTTLE</td>\n      <td>6</td>\n      <td>2010-12-01 08:26:00</td>\n      <td>3.39</td>\n      <td>17850.0</td>\n      <td>United Kingdom</td>\n    </tr>\n    <tr>\n      <th>4</th>\n      <td>536365</td>\n      <td>84029E</td>\n      <td>RED WOOLLY HOTTIE WHITE HEART.</td>\n      <td>6</td>\n      <td>2010-12-01 08:26:00</td>\n      <td>3.39</td>\n      <td>17850.0</td>\n      <td>United Kingdom</td>\n    </tr>\n    <tr>\n      <th>...</th>\n      <td>...</td>\n      <td>...</td>\n      <td>...</td>\n      <td>...</td>\n      <td>...</td>\n      <td>...</td>\n      <td>...</td>\n      <td>...</td>\n    </tr>\n    <tr>\n      <th>541904</th>\n      <td>581587</td>\n      <td>22613</td>\n      <td>PACK OF 20 SPACEBOY NAPKINS</td>\n      <td>12</td>\n      <td>2011-12-09 12:50:00</td>\n      <td>0.85</td>\n      <td>12680.0</td>\n      <td>France</td>\n    </tr>\n    <tr>\n      <th>541905</th>\n      <td>581587</td>\n      <td>22899</td>\n      <td>CHILDREN'S APRON DOLLY GIRL</td>\n      <td>6</td>\n      <td>2011-12-09 12:50:00</td>\n      <td>2.10</td>\n      <td>12680.0</td>\n      <td>France</td>\n    </tr>\n    <tr>\n      <th>541906</th>\n      <td>581587</td>\n      <td>23254</td>\n      <td>CHILDRENS CUTLERY DOLLY GIRL</td>\n      <td>4</td>\n      <td>2011-12-09 12:50:00</td>\n      <td>4.15</td>\n      <td>12680.0</td>\n      <td>France</td>\n    </tr>\n    <tr>\n      <th>541907</th>\n      <td>581587</td>\n      <td>23255</td>\n      <td>CHILDRENS CUTLERY CIRCUS PARADE</td>\n      <td>4</td>\n      <td>2011-12-09 12:50:00</td>\n      <td>4.15</td>\n      <td>12680.0</td>\n      <td>France</td>\n    </tr>\n    <tr>\n      <th>541908</th>\n      <td>581587</td>\n      <td>22138</td>\n      <td>BAKING SET 9 PIECE RETROSPOT</td>\n      <td>3</td>\n      <td>2011-12-09 12:50:00</td>\n      <td>4.95</td>\n      <td>12680.0</td>\n      <td>France</td>\n    </tr>\n  </tbody>\n</table>\n<p>531282 rows × 8 columns</p>\n</div>"
     },
     "execution_count": 14,
     "metadata": {},
     "output_type": "execute_result"
    }
   ],
   "source": [
    "df"
   ],
   "metadata": {
    "collapsed": false,
    "ExecuteTime": {
     "end_time": "2024-08-29T05:55:34.764381Z",
     "start_time": "2024-08-29T05:55:34.756365Z"
    }
   },
   "id": "a7b2420b692243fc",
   "execution_count": 14
  },
  {
   "cell_type": "code",
   "outputs": [
    {
     "data": {
      "text/plain": "StockCode\n85123A      2270\n85099B      2115\n22423       2019\n47566       1707\n20725       1595\n            ... \nDCGS0004       1\n84705C         1\n90035C         1\n84661a         1\n23843          1\nName: count, Length: 3940, dtype: int64"
     },
     "execution_count": 15,
     "metadata": {},
     "output_type": "execute_result"
    }
   ],
   "source": [
    "df['StockCode'].value_counts()"
   ],
   "metadata": {
    "collapsed": false,
    "ExecuteTime": {
     "end_time": "2024-08-29T05:55:34.789400Z",
     "start_time": "2024-08-29T05:55:34.765320Z"
    }
   },
   "id": "6afc00449dc5e872",
   "execution_count": 15
  },
  {
   "cell_type": "code",
   "outputs": [
    {
     "data": {
      "text/plain": "Description\nWHITE HANGING HEART T-LIGHT HOLDER    2327\nJUMBO BAG RED RETROSPOT               2115\nREGENCY CAKESTAND 3 TIER              2019\nPARTY BUNTING                         1707\nLUNCH BAG RED RETROSPOT               1594\n                                      ... \nGREEN PENDANT SHELL NECKLACE             1\nMINT DINER CLOCK                         1\nPURPLE CHUNKY GLASS+BEAD NECKLACE        1\nETCHED GLASS STAR TREE DECORATION        1\nPAPER CRAFT , LITTLE BIRDIE              1\nName: count, Length: 4076, dtype: int64"
     },
     "execution_count": 16,
     "metadata": {},
     "output_type": "execute_result"
    }
   ],
   "source": [
    "df['Description'].value_counts()"
   ],
   "metadata": {
    "collapsed": false,
    "ExecuteTime": {
     "end_time": "2024-08-29T05:55:34.810962Z",
     "start_time": "2024-08-29T05:55:34.790179Z"
    }
   },
   "id": "e5b0198771730bda",
   "execution_count": 16
  },
  {
   "cell_type": "code",
   "outputs": [],
   "source": [
    "filter = df['StockCode'] == '85123a'"
   ],
   "metadata": {
    "collapsed": false,
    "ExecuteTime": {
     "end_time": "2024-08-29T05:55:34.835068Z",
     "start_time": "2024-08-29T05:55:34.811822Z"
    }
   },
   "id": "20137699238a446",
   "execution_count": 17
  },
  {
   "cell_type": "code",
   "outputs": [
    {
     "data": {
      "text/plain": "dtype('O')"
     },
     "execution_count": 18,
     "metadata": {},
     "output_type": "execute_result"
    }
   ],
   "source": [
    "df['StockCode'].dtypes"
   ],
   "metadata": {
    "collapsed": false,
    "ExecuteTime": {
     "end_time": "2024-08-29T05:55:34.844622Z",
     "start_time": "2024-08-29T05:55:34.835960Z"
    }
   },
   "id": "98ae908e3e921089",
   "execution_count": 18
  },
  {
   "cell_type": "code",
   "outputs": [
    {
     "data": {
      "text/plain": "       InvoiceNo StockCode                         Description  Quantity  \\\n6964      536982    85123a  WHITE HANGING HEART T-LIGHT HOLDER        35   \n15781     537640    85123a  WHITE HANGING HEART T-LIGHT HOLDER        46   \n25076     538351    85123a  WHITE HANGING HEART T-LIGHT HOLDER        31   \n30720     538877    85123a  WHITE HANGING HEART T-LIGHT HOLDER         5   \n41046     539750    85123a  WHITE HANGING HEART T-LIGHT HOLDER         1   \n...          ...       ...                                 ...       ...   \n514895    579751    85123a  WHITE HANGING HEART T-LIGHT HOLDER         2   \n524888    580610    85123a  WHITE HANGING HEART T-LIGHT HOLDER        12   \n525131    580612    85123a  WHITE HANGING HEART T-LIGHT HOLDER         3   \n533489    581023    85123a  WHITE HANGING HEART T-LIGHT HOLDER         2   \n537251    581238    85123a  WHITE HANGING HEART T-LIGHT HOLDER         7   \n\n               InvoiceDate  UnitPrice  CustomerID         Country  \n6964   2010-12-03 14:27:00       6.77         NaN  United Kingdom  \n15781  2010-12-07 15:31:00       6.77         NaN  United Kingdom  \n25076  2010-12-10 15:17:00       6.77         NaN  United Kingdom  \n30720  2010-12-14 15:29:00       6.77         NaN  United Kingdom  \n41046  2010-12-21 15:40:00       6.77         NaN  United Kingdom  \n...                    ...        ...         ...             ...  \n514895 2011-11-30 14:46:00       6.63         NaN  United Kingdom  \n524888 2011-12-05 11:48:00       6.63         NaN  United Kingdom  \n525131 2011-12-05 11:58:00       6.63         NaN  United Kingdom  \n533489 2011-12-07 10:35:00       6.63         NaN  United Kingdom  \n537251 2011-12-08 10:53:00       6.63         NaN  United Kingdom  \n\n[67 rows x 8 columns]",
      "text/html": "<div>\n<style scoped>\n    .dataframe tbody tr th:only-of-type {\n        vertical-align: middle;\n    }\n\n    .dataframe tbody tr th {\n        vertical-align: top;\n    }\n\n    .dataframe thead th {\n        text-align: right;\n    }\n</style>\n<table border=\"1\" class=\"dataframe\">\n  <thead>\n    <tr style=\"text-align: right;\">\n      <th></th>\n      <th>InvoiceNo</th>\n      <th>StockCode</th>\n      <th>Description</th>\n      <th>Quantity</th>\n      <th>InvoiceDate</th>\n      <th>UnitPrice</th>\n      <th>CustomerID</th>\n      <th>Country</th>\n    </tr>\n  </thead>\n  <tbody>\n    <tr>\n      <th>6964</th>\n      <td>536982</td>\n      <td>85123a</td>\n      <td>WHITE HANGING HEART T-LIGHT HOLDER</td>\n      <td>35</td>\n      <td>2010-12-03 14:27:00</td>\n      <td>6.77</td>\n      <td>NaN</td>\n      <td>United Kingdom</td>\n    </tr>\n    <tr>\n      <th>15781</th>\n      <td>537640</td>\n      <td>85123a</td>\n      <td>WHITE HANGING HEART T-LIGHT HOLDER</td>\n      <td>46</td>\n      <td>2010-12-07 15:31:00</td>\n      <td>6.77</td>\n      <td>NaN</td>\n      <td>United Kingdom</td>\n    </tr>\n    <tr>\n      <th>25076</th>\n      <td>538351</td>\n      <td>85123a</td>\n      <td>WHITE HANGING HEART T-LIGHT HOLDER</td>\n      <td>31</td>\n      <td>2010-12-10 15:17:00</td>\n      <td>6.77</td>\n      <td>NaN</td>\n      <td>United Kingdom</td>\n    </tr>\n    <tr>\n      <th>30720</th>\n      <td>538877</td>\n      <td>85123a</td>\n      <td>WHITE HANGING HEART T-LIGHT HOLDER</td>\n      <td>5</td>\n      <td>2010-12-14 15:29:00</td>\n      <td>6.77</td>\n      <td>NaN</td>\n      <td>United Kingdom</td>\n    </tr>\n    <tr>\n      <th>41046</th>\n      <td>539750</td>\n      <td>85123a</td>\n      <td>WHITE HANGING HEART T-LIGHT HOLDER</td>\n      <td>1</td>\n      <td>2010-12-21 15:40:00</td>\n      <td>6.77</td>\n      <td>NaN</td>\n      <td>United Kingdom</td>\n    </tr>\n    <tr>\n      <th>...</th>\n      <td>...</td>\n      <td>...</td>\n      <td>...</td>\n      <td>...</td>\n      <td>...</td>\n      <td>...</td>\n      <td>...</td>\n      <td>...</td>\n    </tr>\n    <tr>\n      <th>514895</th>\n      <td>579751</td>\n      <td>85123a</td>\n      <td>WHITE HANGING HEART T-LIGHT HOLDER</td>\n      <td>2</td>\n      <td>2011-11-30 14:46:00</td>\n      <td>6.63</td>\n      <td>NaN</td>\n      <td>United Kingdom</td>\n    </tr>\n    <tr>\n      <th>524888</th>\n      <td>580610</td>\n      <td>85123a</td>\n      <td>WHITE HANGING HEART T-LIGHT HOLDER</td>\n      <td>12</td>\n      <td>2011-12-05 11:48:00</td>\n      <td>6.63</td>\n      <td>NaN</td>\n      <td>United Kingdom</td>\n    </tr>\n    <tr>\n      <th>525131</th>\n      <td>580612</td>\n      <td>85123a</td>\n      <td>WHITE HANGING HEART T-LIGHT HOLDER</td>\n      <td>3</td>\n      <td>2011-12-05 11:58:00</td>\n      <td>6.63</td>\n      <td>NaN</td>\n      <td>United Kingdom</td>\n    </tr>\n    <tr>\n      <th>533489</th>\n      <td>581023</td>\n      <td>85123a</td>\n      <td>WHITE HANGING HEART T-LIGHT HOLDER</td>\n      <td>2</td>\n      <td>2011-12-07 10:35:00</td>\n      <td>6.63</td>\n      <td>NaN</td>\n      <td>United Kingdom</td>\n    </tr>\n    <tr>\n      <th>537251</th>\n      <td>581238</td>\n      <td>85123a</td>\n      <td>WHITE HANGING HEART T-LIGHT HOLDER</td>\n      <td>7</td>\n      <td>2011-12-08 10:53:00</td>\n      <td>6.63</td>\n      <td>NaN</td>\n      <td>United Kingdom</td>\n    </tr>\n  </tbody>\n</table>\n<p>67 rows × 8 columns</p>\n</div>"
     },
     "execution_count": 19,
     "metadata": {},
     "output_type": "execute_result"
    }
   ],
   "source": [
    "df[filter]"
   ],
   "metadata": {
    "collapsed": false,
    "ExecuteTime": {
     "end_time": "2024-08-29T05:55:34.858787Z",
     "start_time": "2024-08-29T05:55:34.845378Z"
    }
   },
   "id": "8fa4529c23227eaf",
   "execution_count": 19
  },
  {
   "cell_type": "code",
   "outputs": [],
   "source": [
    "filter = df['Description'] == 'WHITE HANGING HEART T-LIGHT HOLDER'"
   ],
   "metadata": {
    "collapsed": false,
    "ExecuteTime": {
     "end_time": "2024-08-29T05:55:34.883835Z",
     "start_time": "2024-08-29T05:55:34.859698Z"
    }
   },
   "id": "16782e10b53343da",
   "execution_count": 20
  },
  {
   "cell_type": "code",
   "outputs": [
    {
     "data": {
      "text/plain": "       InvoiceNo StockCode                         Description  Quantity  \\\n0         536365    85123A  WHITE HANGING HEART T-LIGHT HOLDER         6   \n49        536373    85123A  WHITE HANGING HEART T-LIGHT HOLDER         6   \n66        536375    85123A  WHITE HANGING HEART T-LIGHT HOLDER         6   \n220       536390    85123A  WHITE HANGING HEART T-LIGHT HOLDER        64   \n262       536394    85123A  WHITE HANGING HEART T-LIGHT HOLDER        32   \n...          ...       ...                                 ...       ...   \n537291    581246    85123A  WHITE HANGING HEART T-LIGHT HOLDER         1   \n537326    581253    85123A  WHITE HANGING HEART T-LIGHT HOLDER         2   \n537852    581356    85123A  WHITE HANGING HEART T-LIGHT HOLDER         6   \n539979    581452    85123A  WHITE HANGING HEART T-LIGHT HOLDER        32   \n540217    581472    85123A  WHITE HANGING HEART T-LIGHT HOLDER         6   \n\n               InvoiceDate  UnitPrice  CustomerID         Country  \n0      2010-12-01 08:26:00       2.55     17850.0  United Kingdom  \n49     2010-12-01 09:02:00       2.55     17850.0  United Kingdom  \n66     2010-12-01 09:32:00       2.55     17850.0  United Kingdom  \n220    2010-12-01 10:19:00       2.55     17511.0  United Kingdom  \n262    2010-12-01 10:39:00       2.55     13408.0  United Kingdom  \n...                    ...        ...         ...             ...  \n537291 2011-12-08 10:59:00       2.95     15453.0  United Kingdom  \n537326 2011-12-08 11:15:00       2.95     16891.0  United Kingdom  \n537852 2011-12-08 12:28:00       2.95     17830.0  United Kingdom  \n539979 2011-12-08 18:03:00       2.55     17675.0  United Kingdom  \n540217 2011-12-08 19:55:00       2.95     15796.0  United Kingdom  \n\n[2327 rows x 8 columns]",
      "text/html": "<div>\n<style scoped>\n    .dataframe tbody tr th:only-of-type {\n        vertical-align: middle;\n    }\n\n    .dataframe tbody tr th {\n        vertical-align: top;\n    }\n\n    .dataframe thead th {\n        text-align: right;\n    }\n</style>\n<table border=\"1\" class=\"dataframe\">\n  <thead>\n    <tr style=\"text-align: right;\">\n      <th></th>\n      <th>InvoiceNo</th>\n      <th>StockCode</th>\n      <th>Description</th>\n      <th>Quantity</th>\n      <th>InvoiceDate</th>\n      <th>UnitPrice</th>\n      <th>CustomerID</th>\n      <th>Country</th>\n    </tr>\n  </thead>\n  <tbody>\n    <tr>\n      <th>0</th>\n      <td>536365</td>\n      <td>85123A</td>\n      <td>WHITE HANGING HEART T-LIGHT HOLDER</td>\n      <td>6</td>\n      <td>2010-12-01 08:26:00</td>\n      <td>2.55</td>\n      <td>17850.0</td>\n      <td>United Kingdom</td>\n    </tr>\n    <tr>\n      <th>49</th>\n      <td>536373</td>\n      <td>85123A</td>\n      <td>WHITE HANGING HEART T-LIGHT HOLDER</td>\n      <td>6</td>\n      <td>2010-12-01 09:02:00</td>\n      <td>2.55</td>\n      <td>17850.0</td>\n      <td>United Kingdom</td>\n    </tr>\n    <tr>\n      <th>66</th>\n      <td>536375</td>\n      <td>85123A</td>\n      <td>WHITE HANGING HEART T-LIGHT HOLDER</td>\n      <td>6</td>\n      <td>2010-12-01 09:32:00</td>\n      <td>2.55</td>\n      <td>17850.0</td>\n      <td>United Kingdom</td>\n    </tr>\n    <tr>\n      <th>220</th>\n      <td>536390</td>\n      <td>85123A</td>\n      <td>WHITE HANGING HEART T-LIGHT HOLDER</td>\n      <td>64</td>\n      <td>2010-12-01 10:19:00</td>\n      <td>2.55</td>\n      <td>17511.0</td>\n      <td>United Kingdom</td>\n    </tr>\n    <tr>\n      <th>262</th>\n      <td>536394</td>\n      <td>85123A</td>\n      <td>WHITE HANGING HEART T-LIGHT HOLDER</td>\n      <td>32</td>\n      <td>2010-12-01 10:39:00</td>\n      <td>2.55</td>\n      <td>13408.0</td>\n      <td>United Kingdom</td>\n    </tr>\n    <tr>\n      <th>...</th>\n      <td>...</td>\n      <td>...</td>\n      <td>...</td>\n      <td>...</td>\n      <td>...</td>\n      <td>...</td>\n      <td>...</td>\n      <td>...</td>\n    </tr>\n    <tr>\n      <th>537291</th>\n      <td>581246</td>\n      <td>85123A</td>\n      <td>WHITE HANGING HEART T-LIGHT HOLDER</td>\n      <td>1</td>\n      <td>2011-12-08 10:59:00</td>\n      <td>2.95</td>\n      <td>15453.0</td>\n      <td>United Kingdom</td>\n    </tr>\n    <tr>\n      <th>537326</th>\n      <td>581253</td>\n      <td>85123A</td>\n      <td>WHITE HANGING HEART T-LIGHT HOLDER</td>\n      <td>2</td>\n      <td>2011-12-08 11:15:00</td>\n      <td>2.95</td>\n      <td>16891.0</td>\n      <td>United Kingdom</td>\n    </tr>\n    <tr>\n      <th>537852</th>\n      <td>581356</td>\n      <td>85123A</td>\n      <td>WHITE HANGING HEART T-LIGHT HOLDER</td>\n      <td>6</td>\n      <td>2011-12-08 12:28:00</td>\n      <td>2.95</td>\n      <td>17830.0</td>\n      <td>United Kingdom</td>\n    </tr>\n    <tr>\n      <th>539979</th>\n      <td>581452</td>\n      <td>85123A</td>\n      <td>WHITE HANGING HEART T-LIGHT HOLDER</td>\n      <td>32</td>\n      <td>2011-12-08 18:03:00</td>\n      <td>2.55</td>\n      <td>17675.0</td>\n      <td>United Kingdom</td>\n    </tr>\n    <tr>\n      <th>540217</th>\n      <td>581472</td>\n      <td>85123A</td>\n      <td>WHITE HANGING HEART T-LIGHT HOLDER</td>\n      <td>6</td>\n      <td>2011-12-08 19:55:00</td>\n      <td>2.95</td>\n      <td>15796.0</td>\n      <td>United Kingdom</td>\n    </tr>\n  </tbody>\n</table>\n<p>2327 rows × 8 columns</p>\n</div>"
     },
     "execution_count": 21,
     "metadata": {},
     "output_type": "execute_result"
    }
   ],
   "source": [
    "df[filter]"
   ],
   "metadata": {
    "collapsed": false,
    "ExecuteTime": {
     "end_time": "2024-08-29T05:55:34.904829Z",
     "start_time": "2024-08-29T05:55:34.884570Z"
    }
   },
   "id": "2cdf9eca0b8e72d0",
   "execution_count": 21
  },
  {
   "cell_type": "code",
   "outputs": [
    {
     "name": "stderr",
     "output_type": "stream",
     "text": [
      "/tmp/ipykernel_9764/814404790.py:3: UserWarning: Boolean Series key will be reindexed to match DataFrame index.\n",
      "  df[filter][~filter2]\n"
     ]
    },
    {
     "data": {
      "text/plain": "       InvoiceNo StockCode                         Description  Quantity  \\\n220843    556231    85123A                                   ?      4000   \n537621    581334    85123A  CREAM HANGING HEART T-LIGHT HOLDER         4   \n538084    581395    85123A  CREAM HANGING HEART T-LIGHT HOLDER         6   \n538214    581402    85123A  CREAM HANGING HEART T-LIGHT HOLDER         6   \n538270    581404    85123A  CREAM HANGING HEART T-LIGHT HOLDER         4   \n538708    581412    85123A  CREAM HANGING HEART T-LIGHT HOLDER         4   \n539083    581432    85123A  CREAM HANGING HEART T-LIGHT HOLDER        32   \n539342    581439    85123A  CREAM HANGING HEART T-LIGHT HOLDER         1   \n540837    581492    85123A  CREAM HANGING HEART T-LIGHT HOLDER         3   \n541639    581538    85123A  CREAM HANGING HEART T-LIGHT HOLDER         1   \n\n               InvoiceDate  UnitPrice  CustomerID         Country  \n220843 2011-06-09 15:04:00       0.00         NaN  United Kingdom  \n537621 2011-12-08 12:07:00       2.95     17841.0  United Kingdom  \n538084 2011-12-08 13:18:00       2.95     16892.0  United Kingdom  \n538214 2011-12-08 13:45:00       2.95     14653.0  United Kingdom  \n538270 2011-12-08 13:47:00       2.95     13680.0  United Kingdom  \n538708 2011-12-08 14:38:00       2.95     14415.0  United Kingdom  \n539083 2011-12-08 15:51:00       2.55     13798.0  United Kingdom  \n539342 2011-12-08 16:30:00       5.79         NaN  United Kingdom  \n540837 2011-12-09 10:03:00       5.79         NaN  United Kingdom  \n541639 2011-12-09 11:34:00       2.95     14446.0  United Kingdom  ",
      "text/html": "<div>\n<style scoped>\n    .dataframe tbody tr th:only-of-type {\n        vertical-align: middle;\n    }\n\n    .dataframe tbody tr th {\n        vertical-align: top;\n    }\n\n    .dataframe thead th {\n        text-align: right;\n    }\n</style>\n<table border=\"1\" class=\"dataframe\">\n  <thead>\n    <tr style=\"text-align: right;\">\n      <th></th>\n      <th>InvoiceNo</th>\n      <th>StockCode</th>\n      <th>Description</th>\n      <th>Quantity</th>\n      <th>InvoiceDate</th>\n      <th>UnitPrice</th>\n      <th>CustomerID</th>\n      <th>Country</th>\n    </tr>\n  </thead>\n  <tbody>\n    <tr>\n      <th>220843</th>\n      <td>556231</td>\n      <td>85123A</td>\n      <td>?</td>\n      <td>4000</td>\n      <td>2011-06-09 15:04:00</td>\n      <td>0.00</td>\n      <td>NaN</td>\n      <td>United Kingdom</td>\n    </tr>\n    <tr>\n      <th>537621</th>\n      <td>581334</td>\n      <td>85123A</td>\n      <td>CREAM HANGING HEART T-LIGHT HOLDER</td>\n      <td>4</td>\n      <td>2011-12-08 12:07:00</td>\n      <td>2.95</td>\n      <td>17841.0</td>\n      <td>United Kingdom</td>\n    </tr>\n    <tr>\n      <th>538084</th>\n      <td>581395</td>\n      <td>85123A</td>\n      <td>CREAM HANGING HEART T-LIGHT HOLDER</td>\n      <td>6</td>\n      <td>2011-12-08 13:18:00</td>\n      <td>2.95</td>\n      <td>16892.0</td>\n      <td>United Kingdom</td>\n    </tr>\n    <tr>\n      <th>538214</th>\n      <td>581402</td>\n      <td>85123A</td>\n      <td>CREAM HANGING HEART T-LIGHT HOLDER</td>\n      <td>6</td>\n      <td>2011-12-08 13:45:00</td>\n      <td>2.95</td>\n      <td>14653.0</td>\n      <td>United Kingdom</td>\n    </tr>\n    <tr>\n      <th>538270</th>\n      <td>581404</td>\n      <td>85123A</td>\n      <td>CREAM HANGING HEART T-LIGHT HOLDER</td>\n      <td>4</td>\n      <td>2011-12-08 13:47:00</td>\n      <td>2.95</td>\n      <td>13680.0</td>\n      <td>United Kingdom</td>\n    </tr>\n    <tr>\n      <th>538708</th>\n      <td>581412</td>\n      <td>85123A</td>\n      <td>CREAM HANGING HEART T-LIGHT HOLDER</td>\n      <td>4</td>\n      <td>2011-12-08 14:38:00</td>\n      <td>2.95</td>\n      <td>14415.0</td>\n      <td>United Kingdom</td>\n    </tr>\n    <tr>\n      <th>539083</th>\n      <td>581432</td>\n      <td>85123A</td>\n      <td>CREAM HANGING HEART T-LIGHT HOLDER</td>\n      <td>32</td>\n      <td>2011-12-08 15:51:00</td>\n      <td>2.55</td>\n      <td>13798.0</td>\n      <td>United Kingdom</td>\n    </tr>\n    <tr>\n      <th>539342</th>\n      <td>581439</td>\n      <td>85123A</td>\n      <td>CREAM HANGING HEART T-LIGHT HOLDER</td>\n      <td>1</td>\n      <td>2011-12-08 16:30:00</td>\n      <td>5.79</td>\n      <td>NaN</td>\n      <td>United Kingdom</td>\n    </tr>\n    <tr>\n      <th>540837</th>\n      <td>581492</td>\n      <td>85123A</td>\n      <td>CREAM HANGING HEART T-LIGHT HOLDER</td>\n      <td>3</td>\n      <td>2011-12-09 10:03:00</td>\n      <td>5.79</td>\n      <td>NaN</td>\n      <td>United Kingdom</td>\n    </tr>\n    <tr>\n      <th>541639</th>\n      <td>581538</td>\n      <td>85123A</td>\n      <td>CREAM HANGING HEART T-LIGHT HOLDER</td>\n      <td>1</td>\n      <td>2011-12-09 11:34:00</td>\n      <td>2.95</td>\n      <td>14446.0</td>\n      <td>United Kingdom</td>\n    </tr>\n  </tbody>\n</table>\n</div>"
     },
     "execution_count": 22,
     "metadata": {},
     "output_type": "execute_result"
    }
   ],
   "source": [
    "filter = df['StockCode'] == '85123A'\n",
    "filter2 = df['Description'] == 'WHITE HANGING HEART T-LIGHT HOLDER'\n",
    "df[filter][~filter2]"
   ],
   "metadata": {
    "collapsed": false,
    "ExecuteTime": {
     "end_time": "2024-08-29T05:55:34.964381Z",
     "start_time": "2024-08-29T05:55:34.907501Z"
    }
   },
   "id": "2ce9727156ffa9b2",
   "execution_count": 22
  },
  {
   "cell_type": "code",
   "outputs": [
    {
     "data": {
      "text/plain": "       InvoiceNo StockCode                          Description  Quantity  \\\n0         536365    85123A   WHITE HANGING HEART T-LIGHT HOLDER         6   \n1         536365     71053                  WHITE METAL LANTERN         6   \n2         536365    84406B       CREAM CUPID HEARTS COAT HANGER         8   \n3         536365    84029G  KNITTED UNION FLAG HOT WATER BOTTLE         6   \n4         536365    84029E       RED WOOLLY HOTTIE WHITE HEART.         6   \n...          ...       ...                                  ...       ...   \n541904    581587     22613          PACK OF 20 SPACEBOY NAPKINS        12   \n541905    581587     22899         CHILDREN'S APRON DOLLY GIRL          6   \n541906    581587     23254        CHILDRENS CUTLERY DOLLY GIRL          4   \n541907    581587     23255      CHILDRENS CUTLERY CIRCUS PARADE         4   \n541908    581587     22138        BAKING SET 9 PIECE RETROSPOT          3   \n\n               InvoiceDate  UnitPrice  CustomerID         Country  \n0      2010-12-01 08:26:00       2.55     17850.0  United Kingdom  \n1      2010-12-01 08:26:00       3.39     17850.0  United Kingdom  \n2      2010-12-01 08:26:00       2.75     17850.0  United Kingdom  \n3      2010-12-01 08:26:00       3.39     17850.0  United Kingdom  \n4      2010-12-01 08:26:00       3.39     17850.0  United Kingdom  \n...                    ...        ...         ...             ...  \n541904 2011-12-09 12:50:00       0.85     12680.0          France  \n541905 2011-12-09 12:50:00       2.10     12680.0          France  \n541906 2011-12-09 12:50:00       4.15     12680.0          France  \n541907 2011-12-09 12:50:00       4.15     12680.0          France  \n541908 2011-12-09 12:50:00       4.95     12680.0          France  \n\n[531282 rows x 8 columns]",
      "text/html": "<div>\n<style scoped>\n    .dataframe tbody tr th:only-of-type {\n        vertical-align: middle;\n    }\n\n    .dataframe tbody tr th {\n        vertical-align: top;\n    }\n\n    .dataframe thead th {\n        text-align: right;\n    }\n</style>\n<table border=\"1\" class=\"dataframe\">\n  <thead>\n    <tr style=\"text-align: right;\">\n      <th></th>\n      <th>InvoiceNo</th>\n      <th>StockCode</th>\n      <th>Description</th>\n      <th>Quantity</th>\n      <th>InvoiceDate</th>\n      <th>UnitPrice</th>\n      <th>CustomerID</th>\n      <th>Country</th>\n    </tr>\n  </thead>\n  <tbody>\n    <tr>\n      <th>0</th>\n      <td>536365</td>\n      <td>85123A</td>\n      <td>WHITE HANGING HEART T-LIGHT HOLDER</td>\n      <td>6</td>\n      <td>2010-12-01 08:26:00</td>\n      <td>2.55</td>\n      <td>17850.0</td>\n      <td>United Kingdom</td>\n    </tr>\n    <tr>\n      <th>1</th>\n      <td>536365</td>\n      <td>71053</td>\n      <td>WHITE METAL LANTERN</td>\n      <td>6</td>\n      <td>2010-12-01 08:26:00</td>\n      <td>3.39</td>\n      <td>17850.0</td>\n      <td>United Kingdom</td>\n    </tr>\n    <tr>\n      <th>2</th>\n      <td>536365</td>\n      <td>84406B</td>\n      <td>CREAM CUPID HEARTS COAT HANGER</td>\n      <td>8</td>\n      <td>2010-12-01 08:26:00</td>\n      <td>2.75</td>\n      <td>17850.0</td>\n      <td>United Kingdom</td>\n    </tr>\n    <tr>\n      <th>3</th>\n      <td>536365</td>\n      <td>84029G</td>\n      <td>KNITTED UNION FLAG HOT WATER BOTTLE</td>\n      <td>6</td>\n      <td>2010-12-01 08:26:00</td>\n      <td>3.39</td>\n      <td>17850.0</td>\n      <td>United Kingdom</td>\n    </tr>\n    <tr>\n      <th>4</th>\n      <td>536365</td>\n      <td>84029E</td>\n      <td>RED WOOLLY HOTTIE WHITE HEART.</td>\n      <td>6</td>\n      <td>2010-12-01 08:26:00</td>\n      <td>3.39</td>\n      <td>17850.0</td>\n      <td>United Kingdom</td>\n    </tr>\n    <tr>\n      <th>...</th>\n      <td>...</td>\n      <td>...</td>\n      <td>...</td>\n      <td>...</td>\n      <td>...</td>\n      <td>...</td>\n      <td>...</td>\n      <td>...</td>\n    </tr>\n    <tr>\n      <th>541904</th>\n      <td>581587</td>\n      <td>22613</td>\n      <td>PACK OF 20 SPACEBOY NAPKINS</td>\n      <td>12</td>\n      <td>2011-12-09 12:50:00</td>\n      <td>0.85</td>\n      <td>12680.0</td>\n      <td>France</td>\n    </tr>\n    <tr>\n      <th>541905</th>\n      <td>581587</td>\n      <td>22899</td>\n      <td>CHILDREN'S APRON DOLLY GIRL</td>\n      <td>6</td>\n      <td>2011-12-09 12:50:00</td>\n      <td>2.10</td>\n      <td>12680.0</td>\n      <td>France</td>\n    </tr>\n    <tr>\n      <th>541906</th>\n      <td>581587</td>\n      <td>23254</td>\n      <td>CHILDRENS CUTLERY DOLLY GIRL</td>\n      <td>4</td>\n      <td>2011-12-09 12:50:00</td>\n      <td>4.15</td>\n      <td>12680.0</td>\n      <td>France</td>\n    </tr>\n    <tr>\n      <th>541907</th>\n      <td>581587</td>\n      <td>23255</td>\n      <td>CHILDRENS CUTLERY CIRCUS PARADE</td>\n      <td>4</td>\n      <td>2011-12-09 12:50:00</td>\n      <td>4.15</td>\n      <td>12680.0</td>\n      <td>France</td>\n    </tr>\n    <tr>\n      <th>541908</th>\n      <td>581587</td>\n      <td>22138</td>\n      <td>BAKING SET 9 PIECE RETROSPOT</td>\n      <td>3</td>\n      <td>2011-12-09 12:50:00</td>\n      <td>4.95</td>\n      <td>12680.0</td>\n      <td>France</td>\n    </tr>\n  </tbody>\n</table>\n<p>531282 rows × 8 columns</p>\n</div>"
     },
     "execution_count": 23,
     "metadata": {},
     "output_type": "execute_result"
    }
   ],
   "source": [
    "df"
   ],
   "metadata": {
    "collapsed": false,
    "ExecuteTime": {
     "end_time": "2024-08-29T05:55:34.971609Z",
     "start_time": "2024-08-29T05:55:34.965149Z"
    }
   },
   "id": "174bbdec3440cbf4",
   "execution_count": 23
  },
  {
   "cell_type": "code",
   "outputs": [
    {
     "data": {
      "text/plain": "133358"
     },
     "execution_count": 24,
     "metadata": {},
     "output_type": "execute_result"
    }
   ],
   "source": [
    "list = []\n",
    "num = 0\n",
    "for row, index in df.iterrows():\n",
    "    if np.isnan(df.loc[row, 'CustomerID']):\n",
    "        num += 1\n",
    "        list.append(row)\n",
    "num"
   ],
   "metadata": {
    "collapsed": false,
    "ExecuteTime": {
     "end_time": "2024-08-29T05:55:49.561880Z",
     "start_time": "2024-08-29T05:55:34.972601Z"
    }
   },
   "id": "880d787172547c66",
   "execution_count": 24
  },
  {
   "cell_type": "code",
   "outputs": [
    {
     "data": {
      "text/plain": "[622,\n 1443,\n 1444,\n 1445,\n 1446,\n 1447,\n 1448,\n 1449,\n 1450,\n 1451,\n 1452,\n 1453,\n 1454,\n 1455,\n 1456,\n 1457,\n 1458,\n 1459,\n 1460,\n 1461,\n 1462,\n 1463,\n 1464,\n 1465,\n 1466,\n 1467,\n 1468,\n 1469,\n 1470,\n 1471,\n 1472,\n 1473,\n 1474,\n 1475,\n 1476,\n 1477,\n 1478,\n 1479,\n 1480,\n 1481,\n 1482,\n 1483,\n 1484,\n 1485,\n 1486,\n 1487,\n 1488,\n 1489,\n 1490,\n 1491,\n 1492,\n 1493,\n 1494,\n 1495,\n 1496,\n 1497,\n 1498,\n 1499,\n 1500,\n 1501,\n 1502,\n 1503,\n 1504,\n 1505,\n 1506,\n 1507,\n 1508,\n 1509,\n 1510,\n 1511,\n 1512,\n 1513,\n 1514,\n 1515,\n 1516,\n 1517,\n 1518,\n 1519,\n 1520,\n 1521,\n 1522,\n 1523,\n 1524,\n 1525,\n 1526,\n 1527,\n 1528,\n 1529,\n 1530,\n 1531,\n 1532,\n 1533,\n 1534,\n 1535,\n 1536,\n 1537,\n 1538,\n 1539,\n 1540,\n 1541,\n 1542,\n 1543,\n 1544,\n 1545,\n 1546,\n 1547,\n 1548,\n 1549,\n 1550,\n 1551,\n 1552,\n 1553,\n 1554,\n 1555,\n 1556,\n 1557,\n 1558,\n 1559,\n 1560,\n 1561,\n 1562,\n 1563,\n 1564,\n 1565,\n 1566,\n 1567,\n 1568,\n 1569,\n 1570,\n 1571,\n 1572,\n 1573,\n 1574,\n 1575,\n 1576,\n 1577,\n 1578,\n 1579,\n 1580,\n 1581,\n 1582,\n 1583,\n 1584,\n 1585,\n 1586,\n 1587,\n 1588,\n 1589,\n 1590,\n 1591,\n 1592,\n 1593,\n 1594,\n 1595,\n 1596,\n 1597,\n 1598,\n 1599,\n 1600,\n 1601,\n 1602,\n 1603,\n 1604,\n 1605,\n 1606,\n 1607,\n 1608,\n 1609,\n 1610,\n 1611,\n 1612,\n 1613,\n 1614,\n 1615,\n 1616,\n 1617,\n 1618,\n 1619,\n 1620,\n 1621,\n 1622,\n 1623,\n 1624,\n 1625,\n 1626,\n 1627,\n 1628,\n 1629,\n 1630,\n 1631,\n 1632,\n 1633,\n 1634,\n 1635,\n 1636,\n 1637,\n 1638,\n 1639,\n 1640,\n 1641,\n 1642,\n 1643,\n 1644,\n 1645,\n 1646,\n 1647,\n 1648,\n 1649,\n 1650,\n 1651,\n 1652,\n 1653,\n 1654,\n 1655,\n 1656,\n 1657,\n 1658,\n 1659,\n 1660,\n 1661,\n 1662,\n 1663,\n 1664,\n 1665,\n 1666,\n 1667,\n 1668,\n 1669,\n 1670,\n 1671,\n 1672,\n 1673,\n 1674,\n 1675,\n 1676,\n 1677,\n 1678,\n 1679,\n 1680,\n 1681,\n 1682,\n 1683,\n 1684,\n 1685,\n 1686,\n 1687,\n 1688,\n 1689,\n 1690,\n 1691,\n 1692,\n 1693,\n 1694,\n 1695,\n 1696,\n 1697,\n 1698,\n 1699,\n 1700,\n 1701,\n 1702,\n 1703,\n 1704,\n 1705,\n 1706,\n 1707,\n 1708,\n 1709,\n 1710,\n 1711,\n 1712,\n 1713,\n 1714,\n 1715,\n 1716,\n 1717,\n 1718,\n 1719,\n 1720,\n 1721,\n 1722,\n 1723,\n 1724,\n 1725,\n 1726,\n 1727,\n 1728,\n 1729,\n 1730,\n 1731,\n 1732,\n 1733,\n 1734,\n 1735,\n 1736,\n 1737,\n 1738,\n 1739,\n 1740,\n 1741,\n 1742,\n 1743,\n 1744,\n 1745,\n 1746,\n 1747,\n 1748,\n 1749,\n 1750,\n 1751,\n 1752,\n 1753,\n 1754,\n 1755,\n 1756,\n 1757,\n 1758,\n 1759,\n 1760,\n 1761,\n 1762,\n 1763,\n 1764,\n 1765,\n 1766,\n 1767,\n 1768,\n 1769,\n 1770,\n 1771,\n 1772,\n 1773,\n 1774,\n 1775,\n 1776,\n 1777,\n 1778,\n 1779,\n 1780,\n 1781,\n 1782,\n 1783,\n 1784,\n 1785,\n 1786,\n 1787,\n 1788,\n 1789,\n 1790,\n 1791,\n 1792,\n 1793,\n 1794,\n 1795,\n 1796,\n 1797,\n 1798,\n 1799,\n 1800,\n 1801,\n 1802,\n 1803,\n 1804,\n 1805,\n 1806,\n 1807,\n 1808,\n 1809,\n 1810,\n 1811,\n 1812,\n 1813,\n 1814,\n 1815,\n 1816,\n 1817,\n 1818,\n 1819,\n 1820,\n 1821,\n 1822,\n 1823,\n 1824,\n 1825,\n 1826,\n 1827,\n 1828,\n 1829,\n 1830,\n 1831,\n 1832,\n 1833,\n 1834,\n 1835,\n 1836,\n 1837,\n 1838,\n 1839,\n 1840,\n 1841,\n 1842,\n 1843,\n 1844,\n 1845,\n 1846,\n 1847,\n 1848,\n 1849,\n 1850,\n 1851,\n 1852,\n 1853,\n 1854,\n 1855,\n 1856,\n 1857,\n 1858,\n 1859,\n 1860,\n 1861,\n 1862,\n 1863,\n 1864,\n 1865,\n 1866,\n 1867,\n 1868,\n 1869,\n 1870,\n 1871,\n 1872,\n 1873,\n 1874,\n 1875,\n 1876,\n 1877,\n 1878,\n 1879,\n 1880,\n 1881,\n 1882,\n 1883,\n 1884,\n 1885,\n 1886,\n 1887,\n 1888,\n 1889,\n 1890,\n 1891,\n 1892,\n 1893,\n 1894,\n 1895,\n 1896,\n 1897,\n 1898,\n 1899,\n 1900,\n 1901,\n 1902,\n 1903,\n 1904,\n 1905,\n 1906,\n 1907,\n 1908,\n 1909,\n 1910,\n 1911,\n 1912,\n 1913,\n 1914,\n 1915,\n 1916,\n 1917,\n 1918,\n 1919,\n 1920,\n 1921,\n 1922,\n 1923,\n 1924,\n 1925,\n 1926,\n 1927,\n 1928,\n 1929,\n 1930,\n 1931,\n 1932,\n 1933,\n 1934,\n 1935,\n 1936,\n 1937,\n 1938,\n 1939,\n 1940,\n 1941,\n 1942,\n 1943,\n 1944,\n 1945,\n 1946,\n 1947,\n 1948,\n 1949,\n 1950,\n 1951,\n 1952,\n 1953,\n 1954,\n 1955,\n 1956,\n 1957,\n 1958,\n 1959,\n 1960,\n 1961,\n 1962,\n 1963,\n 1964,\n 1965,\n 1966,\n 1967,\n 1968,\n 1969,\n 1970,\n 1971,\n 1972,\n 1987,\n 1988,\n 2024,\n 2025,\n 2026,\n 2027,\n 2028,\n 2102,\n 2169,\n 2170,\n 2461,\n 2462,\n 2463,\n 2464,\n 2465,\n 2466,\n 2467,\n 2468,\n 2469,\n 2470,\n 2471,\n 2472,\n 2473,\n 2474,\n 2475,\n 2476,\n 2477,\n 2478,\n 2479,\n 2480,\n 2481,\n 2482,\n 2483,\n 2484,\n 2485,\n 2486,\n 2487,\n 2488,\n 2489,\n 2490,\n 2491,\n 2492,\n 2493,\n 2494,\n 2495,\n 2496,\n 2497,\n 2498,\n 2499,\n 2500,\n 2501,\n 2502,\n 2503,\n 2504,\n 2505,\n 2506,\n 2507,\n 2508,\n 2509,\n 2510,\n 2511,\n 2512,\n 2513,\n 2514,\n 2515,\n 2516,\n 2517,\n 2518,\n 2519,\n 2520,\n 2521,\n 2522,\n 2523,\n 2524,\n 2525,\n 2526,\n 2527,\n 2528,\n 2529,\n 2530,\n 2531,\n 2532,\n 2533,\n 2534,\n 2535,\n 2536,\n 2537,\n 2538,\n 2539,\n 2540,\n 2541,\n 2542,\n 2543,\n 2544,\n 2545,\n 2546,\n 2547,\n 2548,\n 2549,\n 2550,\n 2551,\n 2552,\n 2553,\n 2554,\n 2555,\n 2556,\n 2557,\n 2558,\n 2559,\n 2560,\n 2561,\n 2562,\n 2563,\n 2564,\n 2565,\n 2566,\n 2567,\n 2568,\n 2569,\n 2570,\n 2571,\n 2572,\n 2573,\n 2574,\n 2575,\n 2576,\n 2577,\n 2578,\n 2579,\n 2580,\n 2581,\n 2582,\n 2583,\n 2584,\n 2585,\n 2586,\n 2587,\n 2588,\n 2589,\n 2590,\n 2591,\n 2592,\n 2593,\n 2594,\n 2595,\n 2596,\n 2597,\n 2598,\n 2599,\n 2600,\n 2601,\n 2602,\n 2603,\n 2604,\n 2605,\n 2606,\n 2607,\n 2608,\n 2609,\n 2610,\n 2611,\n 2612,\n 2613,\n 2614,\n 2615,\n 2616,\n 2617,\n 2618,\n 2619,\n 2620,\n 2621,\n 2622,\n 2623,\n 2624,\n 2625,\n 2626,\n 2627,\n 2628,\n 2629,\n 2630,\n 2631,\n 2632,\n 2633,\n 2634,\n 2635,\n 2636,\n 2637,\n 2638,\n 2639,\n 2640,\n 2641,\n 2642,\n 2643,\n 2644,\n 2645,\n 2646,\n 2647,\n 2648,\n 2649,\n 2650,\n 2651,\n 2652,\n 2653,\n 2654,\n 2655,\n 2656,\n 2657,\n 2658,\n 2659,\n 2660,\n 2661,\n 2662,\n 2663,\n 2664,\n 2665,\n 2666,\n 2667,\n 2668,\n 2669,\n 2670,\n 2671,\n 2672,\n 2673,\n 2674,\n 2675,\n 2676,\n 2677,\n 2678,\n 2679,\n 2680,\n 2681,\n 2682,\n 2683,\n 2684,\n 2685,\n 2686,\n 2687,\n 2688,\n 2689,\n 2690,\n 2691,\n 2692,\n 2693,\n 2694,\n 2695,\n 2696,\n 2697,\n 2698,\n 2699,\n 2700,\n 2701,\n 2702,\n 2703,\n 2704,\n 2705,\n 2706,\n 2707,\n 2708,\n 2709,\n 2710,\n 2711,\n 2712,\n 2713,\n 2714,\n 2715,\n 2716,\n 2717,\n 2718,\n 2719,\n 2720,\n 2721,\n 2722,\n 2723,\n 2724,\n 2725,\n 2726,\n 2727,\n 2728,\n 2729,\n 2730,\n 2731,\n 2732,\n 2733,\n 2734,\n 2735,\n 2736,\n 2737,\n 2738,\n 2739,\n 2740,\n 2741,\n 2742,\n 2743,\n 2744,\n 2745,\n 2746,\n 2747,\n 2748,\n 2749,\n 2750,\n 2751,\n 2752,\n 2753,\n 2754,\n 2755,\n 2756,\n 2757,\n 2758,\n 2759,\n 2760,\n 2761,\n 2762,\n 2763,\n 2764,\n 2765,\n 2766,\n 2767,\n 2768,\n 2769,\n 2770,\n 2771,\n 2772,\n 2773,\n 2774,\n 2775,\n 2776,\n 2777,\n 2778,\n 2779,\n 2780,\n 2781,\n 2782,\n 2783,\n 2784,\n 2785,\n 2786,\n 2787,\n 2788,\n 2789,\n 2790,\n 2791,\n 2792,\n 2793,\n 2794,\n 2795,\n 2796,\n 2797,\n 2798,\n 2799,\n 2800,\n 2801,\n 2802,\n 2803,\n 2804,\n 2805,\n 2806,\n 2807,\n 2808,\n 2809,\n 2810,\n 2811,\n 2812,\n 2813,\n 2814,\n 2815,\n 2816,\n 2817,\n 2818,\n 2819,\n 2820,\n 2821,\n 2822,\n 2823,\n 2824,\n 2825,\n 2826,\n 2827,\n 2828,\n 2829,\n 2830,\n 2831,\n 2832,\n 2833,\n 2834,\n 2835,\n 2836,\n 2837,\n 2838,\n 2839,\n 2840,\n 2841,\n 2842,\n 2843,\n 2844,\n 2845,\n 2846,\n 2847,\n 2848,\n 2849,\n 2850,\n 2851,\n 2852,\n 2853,\n 2854,\n 2855,\n 2856,\n 2857,\n 2858,\n 2859,\n 2860,\n 2861,\n 2862,\n 2863,\n 2864,\n 2865,\n 2866,\n 2867,\n 2868,\n 2869,\n 2870,\n 2871,\n 2872,\n 2873,\n 2874,\n 2875,\n 2876,\n 2877,\n 2878,\n 2879,\n 2880,\n 2881,\n 2882,\n 2883,\n 2884,\n 2885,\n 2886,\n 2887,\n 2888,\n 2889,\n 2890,\n 2891,\n 2892,\n 2893,\n 2894,\n 2895,\n 2896,\n 2897,\n 2898,\n 2899,\n 2900,\n 2901,\n 2902,\n 2903,\n 2904,\n 2905,\n 2906,\n 2907,\n 2908,\n 2909,\n 2910,\n 2911,\n 2912,\n 2913,\n 2914,\n 2915,\n 2916,\n 2917,\n 2918,\n 2919,\n ...]"
     },
     "execution_count": 25,
     "metadata": {},
     "output_type": "execute_result"
    }
   ],
   "source": [
    "list"
   ],
   "metadata": {
    "collapsed": false,
    "ExecuteTime": {
     "end_time": "2024-08-29T05:55:49.569868Z",
     "start_time": "2024-08-29T05:55:49.562870Z"
    }
   },
   "id": "819beb5ccb4d24a4",
   "execution_count": 25
  },
  {
   "cell_type": "code",
   "outputs": [
    {
     "data": {
      "text/plain": "True"
     },
     "execution_count": 26,
     "metadata": {},
     "output_type": "execute_result"
    }
   ],
   "source": [
    "np.isnan(df.loc[220843, 'CustomerID'])"
   ],
   "metadata": {
    "collapsed": false,
    "ExecuteTime": {
     "end_time": "2024-08-29T05:55:49.609125Z",
     "start_time": "2024-08-29T05:55:49.570466Z"
    }
   },
   "id": "89a0a84c2f852385",
   "execution_count": 26
  },
  {
   "cell_type": "code",
   "outputs": [],
   "source": [
    "df.to_excel('./handled_data1.xlsx')"
   ],
   "metadata": {
    "collapsed": false,
    "ExecuteTime": {
     "end_time": "2024-08-29T05:56:45.569273Z",
     "start_time": "2024-08-29T05:55:49.609743Z"
    }
   },
   "id": "85cafce10052b835",
   "execution_count": 27
  },
  {
   "cell_type": "code",
   "outputs": [],
   "source": [
    "filter = (df['UnitPrice'] == 0)"
   ],
   "metadata": {
    "collapsed": false,
    "ExecuteTime": {
     "end_time": "2024-08-29T05:56:45.572891Z",
     "start_time": "2024-08-29T05:56:45.570163Z"
    }
   },
   "id": "5df532ea13dc789f",
   "execution_count": 28
  },
  {
   "cell_type": "code",
   "outputs": [
    {
     "data": {
      "text/plain": "       InvoiceNo StockCode                   Description  Quantity  \\\n622       536414     22139                           NaN        56   \n1970      536545     21134                           NaN         1   \n1971      536546     22145                           NaN         1   \n1972      536547     37509                           NaN         1   \n1987      536549    85226A                           NaN         1   \n...          ...       ...                           ...       ...   \n535334    581211     22142                         check        14   \n536981    581234     72817                           NaN        27   \n538504    581406    46000M  POLYESTER FILLER PAD 45x45cm       240   \n538505    581406    46000S  POLYESTER FILLER PAD 40x40cm       300   \n538554    581408     85175                           NaN        20   \n\n               InvoiceDate  UnitPrice  CustomerID         Country  \n622    2010-12-01 11:52:00        0.0         NaN  United Kingdom  \n1970   2010-12-01 14:32:00        0.0         NaN  United Kingdom  \n1971   2010-12-01 14:33:00        0.0         NaN  United Kingdom  \n1972   2010-12-01 14:33:00        0.0         NaN  United Kingdom  \n1987   2010-12-01 14:34:00        0.0         NaN  United Kingdom  \n...                    ...        ...         ...             ...  \n535334 2011-12-07 18:36:00        0.0         NaN  United Kingdom  \n536981 2011-12-08 10:33:00        0.0         NaN  United Kingdom  \n538504 2011-12-08 13:58:00        0.0         NaN  United Kingdom  \n538505 2011-12-08 13:58:00        0.0         NaN  United Kingdom  \n538554 2011-12-08 14:06:00        0.0         NaN  United Kingdom  \n\n[1179 rows x 8 columns]",
      "text/html": "<div>\n<style scoped>\n    .dataframe tbody tr th:only-of-type {\n        vertical-align: middle;\n    }\n\n    .dataframe tbody tr th {\n        vertical-align: top;\n    }\n\n    .dataframe thead th {\n        text-align: right;\n    }\n</style>\n<table border=\"1\" class=\"dataframe\">\n  <thead>\n    <tr style=\"text-align: right;\">\n      <th></th>\n      <th>InvoiceNo</th>\n      <th>StockCode</th>\n      <th>Description</th>\n      <th>Quantity</th>\n      <th>InvoiceDate</th>\n      <th>UnitPrice</th>\n      <th>CustomerID</th>\n      <th>Country</th>\n    </tr>\n  </thead>\n  <tbody>\n    <tr>\n      <th>622</th>\n      <td>536414</td>\n      <td>22139</td>\n      <td>NaN</td>\n      <td>56</td>\n      <td>2010-12-01 11:52:00</td>\n      <td>0.0</td>\n      <td>NaN</td>\n      <td>United Kingdom</td>\n    </tr>\n    <tr>\n      <th>1970</th>\n      <td>536545</td>\n      <td>21134</td>\n      <td>NaN</td>\n      <td>1</td>\n      <td>2010-12-01 14:32:00</td>\n      <td>0.0</td>\n      <td>NaN</td>\n      <td>United Kingdom</td>\n    </tr>\n    <tr>\n      <th>1971</th>\n      <td>536546</td>\n      <td>22145</td>\n      <td>NaN</td>\n      <td>1</td>\n      <td>2010-12-01 14:33:00</td>\n      <td>0.0</td>\n      <td>NaN</td>\n      <td>United Kingdom</td>\n    </tr>\n    <tr>\n      <th>1972</th>\n      <td>536547</td>\n      <td>37509</td>\n      <td>NaN</td>\n      <td>1</td>\n      <td>2010-12-01 14:33:00</td>\n      <td>0.0</td>\n      <td>NaN</td>\n      <td>United Kingdom</td>\n    </tr>\n    <tr>\n      <th>1987</th>\n      <td>536549</td>\n      <td>85226A</td>\n      <td>NaN</td>\n      <td>1</td>\n      <td>2010-12-01 14:34:00</td>\n      <td>0.0</td>\n      <td>NaN</td>\n      <td>United Kingdom</td>\n    </tr>\n    <tr>\n      <th>...</th>\n      <td>...</td>\n      <td>...</td>\n      <td>...</td>\n      <td>...</td>\n      <td>...</td>\n      <td>...</td>\n      <td>...</td>\n      <td>...</td>\n    </tr>\n    <tr>\n      <th>535334</th>\n      <td>581211</td>\n      <td>22142</td>\n      <td>check</td>\n      <td>14</td>\n      <td>2011-12-07 18:36:00</td>\n      <td>0.0</td>\n      <td>NaN</td>\n      <td>United Kingdom</td>\n    </tr>\n    <tr>\n      <th>536981</th>\n      <td>581234</td>\n      <td>72817</td>\n      <td>NaN</td>\n      <td>27</td>\n      <td>2011-12-08 10:33:00</td>\n      <td>0.0</td>\n      <td>NaN</td>\n      <td>United Kingdom</td>\n    </tr>\n    <tr>\n      <th>538504</th>\n      <td>581406</td>\n      <td>46000M</td>\n      <td>POLYESTER FILLER PAD 45x45cm</td>\n      <td>240</td>\n      <td>2011-12-08 13:58:00</td>\n      <td>0.0</td>\n      <td>NaN</td>\n      <td>United Kingdom</td>\n    </tr>\n    <tr>\n      <th>538505</th>\n      <td>581406</td>\n      <td>46000S</td>\n      <td>POLYESTER FILLER PAD 40x40cm</td>\n      <td>300</td>\n      <td>2011-12-08 13:58:00</td>\n      <td>0.0</td>\n      <td>NaN</td>\n      <td>United Kingdom</td>\n    </tr>\n    <tr>\n      <th>538554</th>\n      <td>581408</td>\n      <td>85175</td>\n      <td>NaN</td>\n      <td>20</td>\n      <td>2011-12-08 14:06:00</td>\n      <td>0.0</td>\n      <td>NaN</td>\n      <td>United Kingdom</td>\n    </tr>\n  </tbody>\n</table>\n<p>1179 rows × 8 columns</p>\n</div>"
     },
     "execution_count": 29,
     "metadata": {},
     "output_type": "execute_result"
    }
   ],
   "source": [
    "df[filter]"
   ],
   "metadata": {
    "collapsed": false,
    "ExecuteTime": {
     "end_time": "2024-08-29T05:56:45.595695Z",
     "start_time": "2024-08-29T05:56:45.573652Z"
    }
   },
   "id": "86f481b69fd04685",
   "execution_count": 29
  },
  {
   "cell_type": "code",
   "outputs": [
    {
     "data": {
      "text/plain": "Description\nWHITE HANGING HEART T-LIGHT HOLDER    2327\nJUMBO BAG RED RETROSPOT               2115\nREGENCY CAKESTAND 3 TIER              2019\nPARTY BUNTING                         1707\nLUNCH BAG RED RETROSPOT               1594\n                                      ... \nGREEN PENDANT SHELL NECKLACE             1\nMINT DINER CLOCK                         1\nPURPLE CHUNKY GLASS+BEAD NECKLACE        1\nETCHED GLASS STAR TREE DECORATION        1\nPAPER CRAFT , LITTLE BIRDIE              1\nName: count, Length: 4076, dtype: int64"
     },
     "execution_count": 30,
     "metadata": {},
     "output_type": "execute_result"
    }
   ],
   "source": [
    "df['Description'].value_counts()"
   ],
   "metadata": {
    "collapsed": false,
    "ExecuteTime": {
     "end_time": "2024-08-29T05:56:45.613590Z",
     "start_time": "2024-08-29T05:56:45.596525Z"
    }
   },
   "id": "907996ed6493f286",
   "execution_count": 30
  },
  {
   "cell_type": "code",
   "outputs": [
    {
     "data": {
      "text/plain": "StockCode\n85123A      2270\n85099B      2115\n22423       2019\n47566       1707\n20725       1595\n            ... \nDCGS0004       1\n84705C         1\n90035C         1\n84661a         1\n23843          1\nName: count, Length: 3940, dtype: int64"
     },
     "execution_count": 31,
     "metadata": {},
     "output_type": "execute_result"
    }
   ],
   "source": [
    "df['StockCode'].value_counts()"
   ],
   "metadata": {
    "collapsed": false,
    "ExecuteTime": {
     "end_time": "2024-08-29T05:56:45.639173Z",
     "start_time": "2024-08-29T05:56:45.614354Z"
    }
   },
   "id": "b46474ad84668627",
   "execution_count": 31
  },
  {
   "cell_type": "code",
   "outputs": [],
   "source": [
    "nan_rows = df[df.isna().any(axis=1)]"
   ],
   "metadata": {
    "collapsed": false,
    "ExecuteTime": {
     "end_time": "2024-08-29T05:56:45.686488Z",
     "start_time": "2024-08-29T05:56:45.640049Z"
    }
   },
   "id": "f81f7d234845c503",
   "execution_count": 32
  },
  {
   "cell_type": "code",
   "outputs": [
    {
     "ename": "KeyError",
     "evalue": "621",
     "output_type": "error",
     "traceback": [
      "\u001B[0;31m---------------------------------------------------------------------------\u001B[0m",
      "\u001B[0;31mKeyError\u001B[0m                                  Traceback (most recent call last)",
      "File \u001B[0;32m~/anaconda3/envs/math/lib/python3.9/site-packages/pandas/core/indexes/base.py:3805\u001B[0m, in \u001B[0;36mIndex.get_loc\u001B[0;34m(self, key)\u001B[0m\n\u001B[1;32m   3804\u001B[0m \u001B[38;5;28;01mtry\u001B[39;00m:\n\u001B[0;32m-> 3805\u001B[0m     \u001B[38;5;28;01mreturn\u001B[39;00m \u001B[38;5;28;43mself\u001B[39;49m\u001B[38;5;241;43m.\u001B[39;49m\u001B[43m_engine\u001B[49m\u001B[38;5;241;43m.\u001B[39;49m\u001B[43mget_loc\u001B[49m\u001B[43m(\u001B[49m\u001B[43mcasted_key\u001B[49m\u001B[43m)\u001B[49m\n\u001B[1;32m   3806\u001B[0m \u001B[38;5;28;01mexcept\u001B[39;00m \u001B[38;5;167;01mKeyError\u001B[39;00m \u001B[38;5;28;01mas\u001B[39;00m err:\n",
      "File \u001B[0;32mindex.pyx:167\u001B[0m, in \u001B[0;36mpandas._libs.index.IndexEngine.get_loc\u001B[0;34m()\u001B[0m\n",
      "File \u001B[0;32mindex.pyx:196\u001B[0m, in \u001B[0;36mpandas._libs.index.IndexEngine.get_loc\u001B[0;34m()\u001B[0m\n",
      "File \u001B[0;32mpandas/_libs/hashtable_class_helper.pxi:2606\u001B[0m, in \u001B[0;36mpandas._libs.hashtable.Int64HashTable.get_item\u001B[0;34m()\u001B[0m\n",
      "File \u001B[0;32mpandas/_libs/hashtable_class_helper.pxi:2630\u001B[0m, in \u001B[0;36mpandas._libs.hashtable.Int64HashTable.get_item\u001B[0;34m()\u001B[0m\n",
      "\u001B[0;31mKeyError\u001B[0m: 621",
      "\nThe above exception was the direct cause of the following exception:\n",
      "\u001B[0;31mKeyError\u001B[0m                                  Traceback (most recent call last)",
      "Cell \u001B[0;32mIn[33], line 4\u001B[0m\n\u001B[1;32m      2\u001B[0m \u001B[38;5;28;01mfor\u001B[39;00m row, index \u001B[38;5;129;01min\u001B[39;00m nan_rows\u001B[38;5;241m.\u001B[39miterrows():\n\u001B[1;32m      3\u001B[0m     \u001B[38;5;28;01mif\u001B[39;00m row \u001B[38;5;241m-\u001B[39m \u001B[38;5;241m1\u001B[39m \u001B[38;5;241m>\u001B[39m\u001B[38;5;241m=\u001B[39m \u001B[38;5;241m0\u001B[39m:\n\u001B[0;32m----> 4\u001B[0m         \u001B[38;5;28;01mif\u001B[39;00m \u001B[43mnan_rows\u001B[49m\u001B[38;5;241;43m.\u001B[39;49m\u001B[43mloc\u001B[49m\u001B[43m[\u001B[49m\u001B[43mrow\u001B[49m\u001B[43m \u001B[49m\u001B[38;5;241;43m-\u001B[39;49m\u001B[43m \u001B[49m\u001B[38;5;241;43m1\u001B[39;49m\u001B[43m,\u001B[49m\u001B[43m \u001B[49m\u001B[38;5;124;43m'\u001B[39;49m\u001B[38;5;124;43mStockCode\u001B[39;49m\u001B[38;5;124;43m'\u001B[39;49m\u001B[43m]\u001B[49m \u001B[38;5;241m==\u001B[39m nan_rows\u001B[38;5;241m.\u001B[39mloc[row, \u001B[38;5;124m'\u001B[39m\u001B[38;5;124mStockCode\u001B[39m\u001B[38;5;124m'\u001B[39m]:\n\u001B[1;32m      5\u001B[0m             \u001B[38;5;28mprint\u001B[39m(row)\n\u001B[1;32m      6\u001B[0m             equal\u001B[38;5;241m.\u001B[39mappend(row)\n",
      "File \u001B[0;32m~/anaconda3/envs/math/lib/python3.9/site-packages/pandas/core/indexing.py:1183\u001B[0m, in \u001B[0;36m_LocationIndexer.__getitem__\u001B[0;34m(self, key)\u001B[0m\n\u001B[1;32m   1181\u001B[0m     key \u001B[38;5;241m=\u001B[39m \u001B[38;5;28mtuple\u001B[39m(com\u001B[38;5;241m.\u001B[39mapply_if_callable(x, \u001B[38;5;28mself\u001B[39m\u001B[38;5;241m.\u001B[39mobj) \u001B[38;5;28;01mfor\u001B[39;00m x \u001B[38;5;129;01min\u001B[39;00m key)\n\u001B[1;32m   1182\u001B[0m     \u001B[38;5;28;01mif\u001B[39;00m \u001B[38;5;28mself\u001B[39m\u001B[38;5;241m.\u001B[39m_is_scalar_access(key):\n\u001B[0;32m-> 1183\u001B[0m         \u001B[38;5;28;01mreturn\u001B[39;00m \u001B[38;5;28;43mself\u001B[39;49m\u001B[38;5;241;43m.\u001B[39;49m\u001B[43mobj\u001B[49m\u001B[38;5;241;43m.\u001B[39;49m\u001B[43m_get_value\u001B[49m\u001B[43m(\u001B[49m\u001B[38;5;241;43m*\u001B[39;49m\u001B[43mkey\u001B[49m\u001B[43m,\u001B[49m\u001B[43m \u001B[49m\u001B[43mtakeable\u001B[49m\u001B[38;5;241;43m=\u001B[39;49m\u001B[38;5;28;43mself\u001B[39;49m\u001B[38;5;241;43m.\u001B[39;49m\u001B[43m_takeable\u001B[49m\u001B[43m)\u001B[49m\n\u001B[1;32m   1184\u001B[0m     \u001B[38;5;28;01mreturn\u001B[39;00m \u001B[38;5;28mself\u001B[39m\u001B[38;5;241m.\u001B[39m_getitem_tuple(key)\n\u001B[1;32m   1185\u001B[0m \u001B[38;5;28;01melse\u001B[39;00m:\n\u001B[1;32m   1186\u001B[0m     \u001B[38;5;66;03m# we by definition only have the 0th axis\u001B[39;00m\n",
      "File \u001B[0;32m~/anaconda3/envs/math/lib/python3.9/site-packages/pandas/core/frame.py:4221\u001B[0m, in \u001B[0;36mDataFrame._get_value\u001B[0;34m(self, index, col, takeable)\u001B[0m\n\u001B[1;32m   4215\u001B[0m engine \u001B[38;5;241m=\u001B[39m \u001B[38;5;28mself\u001B[39m\u001B[38;5;241m.\u001B[39mindex\u001B[38;5;241m.\u001B[39m_engine\n\u001B[1;32m   4217\u001B[0m \u001B[38;5;28;01mif\u001B[39;00m \u001B[38;5;129;01mnot\u001B[39;00m \u001B[38;5;28misinstance\u001B[39m(\u001B[38;5;28mself\u001B[39m\u001B[38;5;241m.\u001B[39mindex, MultiIndex):\n\u001B[1;32m   4218\u001B[0m     \u001B[38;5;66;03m# CategoricalIndex: Trying to use the engine fastpath may give incorrect\u001B[39;00m\n\u001B[1;32m   4219\u001B[0m     \u001B[38;5;66;03m#  results if our categories are integers that dont match our codes\u001B[39;00m\n\u001B[1;32m   4220\u001B[0m     \u001B[38;5;66;03m# IntervalIndex: IntervalTree has no get_loc\u001B[39;00m\n\u001B[0;32m-> 4221\u001B[0m     row \u001B[38;5;241m=\u001B[39m \u001B[38;5;28;43mself\u001B[39;49m\u001B[38;5;241;43m.\u001B[39;49m\u001B[43mindex\u001B[49m\u001B[38;5;241;43m.\u001B[39;49m\u001B[43mget_loc\u001B[49m\u001B[43m(\u001B[49m\u001B[43mindex\u001B[49m\u001B[43m)\u001B[49m\n\u001B[1;32m   4222\u001B[0m     \u001B[38;5;28;01mreturn\u001B[39;00m series\u001B[38;5;241m.\u001B[39m_values[row]\n\u001B[1;32m   4224\u001B[0m \u001B[38;5;66;03m# For MultiIndex going through engine effectively restricts us to\u001B[39;00m\n\u001B[1;32m   4225\u001B[0m \u001B[38;5;66;03m#  same-length tuples; see test_get_set_value_no_partial_indexing\u001B[39;00m\n",
      "File \u001B[0;32m~/anaconda3/envs/math/lib/python3.9/site-packages/pandas/core/indexes/base.py:3812\u001B[0m, in \u001B[0;36mIndex.get_loc\u001B[0;34m(self, key)\u001B[0m\n\u001B[1;32m   3807\u001B[0m     \u001B[38;5;28;01mif\u001B[39;00m \u001B[38;5;28misinstance\u001B[39m(casted_key, \u001B[38;5;28mslice\u001B[39m) \u001B[38;5;129;01mor\u001B[39;00m (\n\u001B[1;32m   3808\u001B[0m         \u001B[38;5;28misinstance\u001B[39m(casted_key, abc\u001B[38;5;241m.\u001B[39mIterable)\n\u001B[1;32m   3809\u001B[0m         \u001B[38;5;129;01mand\u001B[39;00m \u001B[38;5;28many\u001B[39m(\u001B[38;5;28misinstance\u001B[39m(x, \u001B[38;5;28mslice\u001B[39m) \u001B[38;5;28;01mfor\u001B[39;00m x \u001B[38;5;129;01min\u001B[39;00m casted_key)\n\u001B[1;32m   3810\u001B[0m     ):\n\u001B[1;32m   3811\u001B[0m         \u001B[38;5;28;01mraise\u001B[39;00m InvalidIndexError(key)\n\u001B[0;32m-> 3812\u001B[0m     \u001B[38;5;28;01mraise\u001B[39;00m \u001B[38;5;167;01mKeyError\u001B[39;00m(key) \u001B[38;5;28;01mfrom\u001B[39;00m \u001B[38;5;21;01merr\u001B[39;00m\n\u001B[1;32m   3813\u001B[0m \u001B[38;5;28;01mexcept\u001B[39;00m \u001B[38;5;167;01mTypeError\u001B[39;00m:\n\u001B[1;32m   3814\u001B[0m     \u001B[38;5;66;03m# If we have a listlike key, _check_indexing_error will raise\u001B[39;00m\n\u001B[1;32m   3815\u001B[0m     \u001B[38;5;66;03m#  InvalidIndexError. Otherwise we fall through and re-raise\u001B[39;00m\n\u001B[1;32m   3816\u001B[0m     \u001B[38;5;66;03m#  the TypeError.\u001B[39;00m\n\u001B[1;32m   3817\u001B[0m     \u001B[38;5;28mself\u001B[39m\u001B[38;5;241m.\u001B[39m_check_indexing_error(key)\n",
      "\u001B[0;31mKeyError\u001B[0m: 621"
     ]
    }
   ],
   "source": [
    "equal = []\n",
    "for row, index in nan_rows.iterrows():\n",
    "    if row - 1 >= 0:\n",
    "        if nan_rows.loc[row - 1, 'StockCode'] == nan_rows.loc[row, 'StockCode']:\n",
    "            print(row)\n",
    "            equal.append(row)\n",
    "    "
   ],
   "metadata": {
    "collapsed": false,
    "ExecuteTime": {
     "end_time": "2024-08-29T05:56:48.386715Z",
     "start_time": "2024-08-29T05:56:45.687362Z"
    }
   },
   "id": "5b07d39a4277bb9a",
   "execution_count": 33
  },
  {
   "cell_type": "code",
   "outputs": [],
   "source": [
    "nan_rows.loc[0, 'StockCode']"
   ],
   "metadata": {
    "collapsed": false
   },
   "id": "e93858002241647f",
   "execution_count": null
  },
  {
   "cell_type": "code",
   "outputs": [],
   "source": [
    "nan_rows"
   ],
   "metadata": {
    "collapsed": false
   },
   "id": "a60ef9109ce8c84",
   "execution_count": null
  },
  {
   "cell_type": "code",
   "outputs": [],
   "source": [
    "nan_rows = pd.DataFrame(nan_rows)"
   ],
   "metadata": {
    "collapsed": false
   },
   "id": "94cfc91dd52ab37f",
   "execution_count": null
  },
  {
   "cell_type": "code",
   "outputs": [],
   "source": [
    "nan_rows.loc[0, 'StockCode']"
   ],
   "metadata": {
    "collapsed": false
   },
   "id": "e9c4012999067e46",
   "execution_count": null
  },
  {
   "cell_type": "code",
   "outputs": [],
   "source": [
    "nan_rows.reset_index(inplace=True)"
   ],
   "metadata": {
    "collapsed": false
   },
   "id": "d1289672bb0040a2",
   "execution_count": null
  },
  {
   "cell_type": "code",
   "outputs": [],
   "source": [
    "nan_rows"
   ],
   "metadata": {
    "collapsed": false
   },
   "id": "3a301c2394c5be70",
   "execution_count": null
  },
  {
   "cell_type": "code",
   "outputs": [],
   "source": [
    "equal"
   ],
   "metadata": {
    "collapsed": false
   },
   "id": "934429d756e7779b",
   "execution_count": null
  },
  {
   "cell_type": "code",
   "outputs": [],
   "source": [
    "df"
   ],
   "metadata": {
    "collapsed": false
   },
   "id": "2863448a6377edcf",
   "execution_count": null
  },
  {
   "cell_type": "code",
   "outputs": [],
   "source": [
    "list = [df['Description'].unique.values]"
   ],
   "metadata": {
    "collapsed": false
   },
   "id": "49602a302fc06daa",
   "execution_count": null
  },
  {
   "cell_type": "code",
   "outputs": [],
   "source": [
    "df['Description'].unique()"
   ],
   "metadata": {
    "collapsed": false
   },
   "id": "616f5da6f808d86b",
   "execution_count": null
  },
  {
   "cell_type": "code",
   "outputs": [],
   "source": [
    "df['Description'].value_counts()"
   ],
   "metadata": {
    "collapsed": false
   },
   "id": "2caf3cc94023adda",
   "execution_count": null
  },
  {
   "cell_type": "code",
   "outputs": [],
   "source": [
    "df['StockCode'].unique()"
   ],
   "metadata": {
    "collapsed": false
   },
   "id": "a5cb41e00348c16c",
   "execution_count": null
  },
  {
   "cell_type": "code",
   "outputs": [],
   "source": [
    "df['StockCode'].value_counts()"
   ],
   "metadata": {
    "collapsed": false
   },
   "id": "2fdf6c010d0425e3",
   "execution_count": null
  },
  {
   "cell_type": "code",
   "outputs": [],
   "source": [
    "for row, index in df.iterrows():\n",
    "        if np.isnan(df.loc[row, 'Description']):\n",
    "            print(row)"
   ],
   "metadata": {
    "collapsed": false
   },
   "id": "c30ff1348323296f",
   "execution_count": null
  },
  {
   "cell_type": "code",
   "outputs": [],
   "source": [
    "filt = df['Description'].isna()\n",
    "df[filt]['StockCode'].unique()"
   ],
   "metadata": {
    "collapsed": false
   },
   "id": "37f1c314f2fa2260",
   "execution_count": null
  },
  {
   "cell_type": "code",
   "outputs": [],
   "source": [
    "filt = df['UnitPrice'] == 0\n",
    "df[filt]"
   ],
   "metadata": {
    "collapsed": false
   },
   "id": "5e4dc780762047f",
   "execution_count": null
  },
  {
   "cell_type": "code",
   "outputs": [],
   "source": [
    "list = df['Description'].unique()"
   ],
   "metadata": {
    "collapsed": false
   },
   "id": "5124d2860c1b2929",
   "execution_count": null
  },
  {
   "cell_type": "code",
   "outputs": [],
   "source": [
    "index_map = {value: index for index, value in enumerate(list)}\n",
    "a = [[] for _ in range(4077)]\n",
    "for row, index in df.iterrows():\n",
    "    target_index = index_map.get(df.loc[row, 'Description'])\n",
    "    b = a[target_index]\n",
    "    if df.loc[row, 'StockCode'] in b:\n",
    "        continue\n",
    "    else:\n",
    "        a[target_index].append(df.loc[row, 'StockCode'])"
   ],
   "metadata": {
    "collapsed": false
   },
   "id": "e649f74b8a309aca",
   "execution_count": null
  },
  {
   "cell_type": "code",
   "outputs": [],
   "source": [
    "len(a)"
   ],
   "metadata": {
    "collapsed": false
   },
   "id": "f7c3fb5e8067902c",
   "execution_count": null
  },
  {
   "cell_type": "code",
   "outputs": [],
   "source": [
    "df['StockCode'].value_counts()"
   ],
   "metadata": {
    "collapsed": false
   },
   "id": "a311fb59a4aad66b",
   "execution_count": null
  },
  {
   "cell_type": "code",
   "outputs": [],
   "source": [
    "for i in a:\n",
    "    if len(i) != 1:\n",
    "        print(i)"
   ],
   "metadata": {
    "collapsed": false
   },
   "id": "865d4d2199490b8",
   "execution_count": null
  },
  {
   "cell_type": "code",
   "outputs": [],
   "source": [
    "list"
   ],
   "metadata": {
    "collapsed": false
   },
   "id": "3ae0d55fe321ce91",
   "execution_count": null
  },
  {
   "cell_type": "code",
   "outputs": [],
   "source": [
    "list2 = df['StockCode'].unique()\n",
    "index_map = {value: index for index, value in enumerate(list2)}\n",
    "c = [[] for _ in range(3940)]\n",
    "for row, index in df.iterrows():\n",
    "    target_index = index_map.get(df.loc[row, 'StockCode'])\n",
    "    c[target_index].append(row)"
   ],
   "metadata": {
    "collapsed": false
   },
   "id": "ad0bb7493fb54cf8",
   "execution_count": null
  },
  {
   "cell_type": "code",
   "outputs": [],
   "source": [
    "c"
   ],
   "metadata": {
    "collapsed": false
   },
   "id": "536858edeb75d5e7",
   "execution_count": null
  },
  {
   "cell_type": "code",
   "outputs": [],
   "source": [
    "num = [0 for _ in range(3940)]\n",
    "for i in range(3940):\n",
    "    current = c[i]\n",
    "    for j in c[i]:\n",
    "        num[i] += df.loc[j, 'Quantity'] "
   ],
   "metadata": {
    "collapsed": false
   },
   "id": "f1f6dd9aec048dae",
   "execution_count": null
  },
  {
   "cell_type": "code",
   "outputs": [],
   "source": [
    "num"
   ],
   "metadata": {
    "collapsed": false
   },
   "id": "8992474577df2a29",
   "execution_count": null
  },
  {
   "cell_type": "markdown",
   "source": [],
   "metadata": {
    "collapsed": false
   },
   "id": "242e39df7f20eeba"
  },
  {
   "cell_type": "code",
   "outputs": [],
   "source": [
    "largest_five_indices = [index for index, value in sorted(enumerate(num), key=lambda x: x[1], reverse=True)[:5]]"
   ],
   "metadata": {
    "collapsed": false
   },
   "id": "c0a927bc0a961fb9",
   "execution_count": null
  },
  {
   "cell_type": "code",
   "outputs": [],
   "source": [
    "largest_five_indices"
   ],
   "metadata": {
    "collapsed": false
   },
   "id": "710abc3a960daf8",
   "execution_count": null
  },
  {
   "cell_type": "code",
   "outputs": [],
   "source": [
    "num[3939]"
   ],
   "metadata": {
    "collapsed": false
   },
   "id": "182d8410c31548da",
   "execution_count": null
  },
  {
   "cell_type": "code",
   "outputs": [],
   "source": [
    "num[2928]"
   ],
   "metadata": {
    "collapsed": false
   },
   "id": "6422c7085d40a14e",
   "execution_count": null
  },
  {
   "cell_type": "code",
   "outputs": [],
   "source": [
    "num[169]"
   ],
   "metadata": {
    "collapsed": false
   },
   "id": "61659aa1b83b77ff",
   "execution_count": null
  },
  {
   "cell_type": "code",
   "outputs": [],
   "source": [
    "num[1364]"
   ],
   "metadata": {
    "collapsed": false
   },
   "id": "682c37a2bd7610c7",
   "execution_count": null
  },
  {
   "cell_type": "code",
   "outputs": [],
   "source": [
    "num[138]"
   ],
   "metadata": {
    "collapsed": false
   },
   "id": "a0721d8f23a2941",
   "execution_count": null
  },
  {
   "cell_type": "code",
   "outputs": [],
   "source": [
    "list2[3939]"
   ],
   "metadata": {
    "collapsed": false
   },
   "id": "53a29e6e70ab2f64",
   "execution_count": null
  },
  {
   "cell_type": "code",
   "outputs": [],
   "source": [
    "list2[2928]"
   ],
   "metadata": {
    "collapsed": false
   },
   "id": "4a4352ec1ba16bc0",
   "execution_count": null
  },
  {
   "cell_type": "code",
   "outputs": [],
   "source": [
    "list2[169]"
   ],
   "metadata": {
    "collapsed": false
   },
   "id": "d25703f7ae4d8572",
   "execution_count": null
  },
  {
   "cell_type": "code",
   "outputs": [],
   "source": [
    "list2[1364]"
   ],
   "metadata": {
    "collapsed": false
   },
   "id": "67f6e7c29407c9ff",
   "execution_count": null
  },
  {
   "cell_type": "code",
   "outputs": [],
   "source": [
    "list2[138]"
   ],
   "metadata": {
    "collapsed": false
   },
   "id": "2b6474f06be1da54",
   "execution_count": null
  },
  {
   "cell_type": "code",
   "outputs": [],
   "source": [
    "num = [0 for _ in range(3940)]\n",
    "for i in range(3940):\n",
    "    current = c[i]\n",
    "    for j in c[i]:\n",
    "        num[i] += 1"
   ],
   "metadata": {
    "collapsed": false
   },
   "id": "642bac5b059afb03",
   "execution_count": null
  },
  {
   "cell_type": "code",
   "outputs": [],
   "source": [
    "num"
   ],
   "metadata": {
    "collapsed": false
   },
   "id": "1f1175c4b8f65eb9",
   "execution_count": null
  },
  {
   "cell_type": "code",
   "outputs": [],
   "source": [
    "largest_five_indices = [index for index, value in sorted(enumerate(num), key=lambda x: x[1], reverse=True)[:5]]"
   ],
   "metadata": {
    "collapsed": false
   },
   "id": "824ab1b139ca1cc7",
   "execution_count": null
  },
  {
   "cell_type": "code",
   "outputs": [],
   "source": [
    "largest_five_indices"
   ],
   "metadata": {
    "collapsed": false
   },
   "id": "14e829979fb75cc",
   "execution_count": null
  },
  {
   "cell_type": "code",
   "outputs": [],
   "source": [
    "list2[0]"
   ],
   "metadata": {
    "collapsed": false
   },
   "id": "b00a0607ea283d76",
   "execution_count": null
  },
  {
   "cell_type": "code",
   "outputs": [],
   "source": [
    "list2[138]"
   ],
   "metadata": {
    "collapsed": false
   },
   "id": "f3a638e48c423421",
   "execution_count": null
  },
  {
   "cell_type": "code",
   "outputs": [],
   "source": [
    "list2[528]"
   ],
   "metadata": {
    "collapsed": false
   },
   "id": "570b41089adf4a76",
   "execution_count": null
  },
  {
   "cell_type": "code",
   "outputs": [],
   "source": [
    "list2[1636]"
   ],
   "metadata": {
    "collapsed": false
   },
   "id": "e283174cb9c7f76f",
   "execution_count": null
  },
  {
   "cell_type": "code",
   "outputs": [],
   "source": [
    "list2[66]"
   ],
   "metadata": {
    "collapsed": false
   },
   "id": "b91ded8df215c319",
   "execution_count": null
  },
  {
   "cell_type": "code",
   "outputs": [],
   "source": [
    "num[0]"
   ],
   "metadata": {
    "collapsed": false
   },
   "id": "59095533e5bd0363",
   "execution_count": null
  },
  {
   "cell_type": "code",
   "outputs": [],
   "source": [
    "num[138]"
   ],
   "metadata": {
    "collapsed": false
   },
   "id": "13aadc460db939a6",
   "execution_count": null
  },
  {
   "cell_type": "code",
   "outputs": [],
   "source": [
    "num[528]"
   ],
   "metadata": {
    "collapsed": false
   },
   "id": "6827b2539457ffbe",
   "execution_count": null
  },
  {
   "cell_type": "code",
   "outputs": [],
   "source": [
    "num[1636]"
   ],
   "metadata": {
    "collapsed": false
   },
   "id": "58e483a631b19f37",
   "execution_count": null
  },
  {
   "cell_type": "code",
   "outputs": [],
   "source": [
    "num[66]"
   ],
   "metadata": {
    "collapsed": false
   },
   "id": "11beaf28675a79a9",
   "execution_count": null
  },
  {
   "cell_type": "code",
   "outputs": [],
   "source": [
    "len(num)"
   ],
   "metadata": {
    "collapsed": false
   },
   "id": "6eb338317ab390b4",
   "execution_count": null
  },
  {
   "cell_type": "code",
   "outputs": [],
   "source": [
    "import matplotlib.pyplot as plt\n",
    "\n",
    "# 饼图绘制\n",
    "plt.figure(figsize=(8, 8))\n",
    "plt.pie(num)\n",
    "plt.title('Pie Chart of List Data')\n",
    "plt.show()"
   ],
   "metadata": {
    "collapsed": false
   },
   "id": "a10b7d944f0d76d9",
   "execution_count": null
  },
  {
   "cell_type": "code",
   "outputs": [],
   "source": [
    "df['InvoiceDate'] = pd.to_datetime(df['InvoiceDate'])\n",
    "daily_counts = df.groupby(df['InvoiceDate'].dt.date).size()"
   ],
   "metadata": {
    "collapsed": false
   },
   "id": "ae4fa45b75cc4f66",
   "execution_count": null
  },
  {
   "cell_type": "code",
   "outputs": [],
   "source": [
    "df.loc[204596, 'InvoiceDate']"
   ],
   "metadata": {
    "collapsed": false
   },
   "id": "b6baf41d9d525187",
   "execution_count": null
  },
  {
   "cell_type": "code",
   "outputs": [],
   "source": [
    "# 获取当前年份\n",
    "current_year = 2011\n",
    "\n",
    "# 筛选出前一年的12月和当年的1月至5月的数据\n",
    "filtered_data = df[(df['InvoiceDate'].dt.year == current_year - 1) & (df['InvoiceDate'].dt.month == 12) |\n",
    "                   (df['InvoiceDate'].dt.year == current_year) & (df['InvoiceDate'].dt.month <= 5)]"
   ],
   "metadata": {
    "collapsed": false,
    "ExecuteTime": {
     "end_time": "2024-08-29T06:00:41.614491Z",
     "start_time": "2024-08-29T06:00:41.554551Z"
    }
   },
   "id": "598326a5fdcd6551",
   "execution_count": 36
  },
  {
   "cell_type": "code",
   "outputs": [
    {
     "data": {
      "text/plain": "       InvoiceNo StockCode                          Description  Quantity  \\\n0         536365    85123A   WHITE HANGING HEART T-LIGHT HOLDER         6   \n1         536365     71053                  WHITE METAL LANTERN         6   \n2         536365    84406B       CREAM CUPID HEARTS COAT HANGER         8   \n3         536365    84029G  KNITTED UNION FLAG HOT WATER BOTTLE         6   \n4         536365    84029E       RED WOOLLY HOTTIE WHITE HEART.         6   \n...          ...       ...                                  ...       ...   \n209024    555150     22895  SET OF 2 TEA TOWELS APPLE AND PEARS         3   \n209025    555150     22983                  CARD BILLBOARD FONT         3   \n209026    555150     23169             CLASSIC GLASS COOKIE JAR         3   \n209027    555150     23298                       SPOTTY BUNTING         5   \n209028    555150     23118         PARISIENNE JEWELLERY DRAWER          2   \n\n               InvoiceDate  UnitPrice  CustomerID         Country  \n0      2010-12-01 08:26:00       2.55     17850.0  United Kingdom  \n1      2010-12-01 08:26:00       3.39     17850.0  United Kingdom  \n2      2010-12-01 08:26:00       2.75     17850.0  United Kingdom  \n3      2010-12-01 08:26:00       3.39     17850.0  United Kingdom  \n4      2010-12-01 08:26:00       3.39     17850.0  United Kingdom  \n...                    ...        ...         ...             ...  \n209024 2011-05-31 15:53:00       3.25         NaN  United Kingdom  \n209025 2011-05-31 15:53:00       0.42         NaN  United Kingdom  \n209026 2011-05-31 15:53:00       4.15         NaN  United Kingdom  \n209027 2011-05-31 15:53:00       4.95         NaN  United Kingdom  \n209028 2011-05-31 15:53:00       7.50         NaN  United Kingdom  \n\n[204595 rows x 8 columns]",
      "text/html": "<div>\n<style scoped>\n    .dataframe tbody tr th:only-of-type {\n        vertical-align: middle;\n    }\n\n    .dataframe tbody tr th {\n        vertical-align: top;\n    }\n\n    .dataframe thead th {\n        text-align: right;\n    }\n</style>\n<table border=\"1\" class=\"dataframe\">\n  <thead>\n    <tr style=\"text-align: right;\">\n      <th></th>\n      <th>InvoiceNo</th>\n      <th>StockCode</th>\n      <th>Description</th>\n      <th>Quantity</th>\n      <th>InvoiceDate</th>\n      <th>UnitPrice</th>\n      <th>CustomerID</th>\n      <th>Country</th>\n    </tr>\n  </thead>\n  <tbody>\n    <tr>\n      <th>0</th>\n      <td>536365</td>\n      <td>85123A</td>\n      <td>WHITE HANGING HEART T-LIGHT HOLDER</td>\n      <td>6</td>\n      <td>2010-12-01 08:26:00</td>\n      <td>2.55</td>\n      <td>17850.0</td>\n      <td>United Kingdom</td>\n    </tr>\n    <tr>\n      <th>1</th>\n      <td>536365</td>\n      <td>71053</td>\n      <td>WHITE METAL LANTERN</td>\n      <td>6</td>\n      <td>2010-12-01 08:26:00</td>\n      <td>3.39</td>\n      <td>17850.0</td>\n      <td>United Kingdom</td>\n    </tr>\n    <tr>\n      <th>2</th>\n      <td>536365</td>\n      <td>84406B</td>\n      <td>CREAM CUPID HEARTS COAT HANGER</td>\n      <td>8</td>\n      <td>2010-12-01 08:26:00</td>\n      <td>2.75</td>\n      <td>17850.0</td>\n      <td>United Kingdom</td>\n    </tr>\n    <tr>\n      <th>3</th>\n      <td>536365</td>\n      <td>84029G</td>\n      <td>KNITTED UNION FLAG HOT WATER BOTTLE</td>\n      <td>6</td>\n      <td>2010-12-01 08:26:00</td>\n      <td>3.39</td>\n      <td>17850.0</td>\n      <td>United Kingdom</td>\n    </tr>\n    <tr>\n      <th>4</th>\n      <td>536365</td>\n      <td>84029E</td>\n      <td>RED WOOLLY HOTTIE WHITE HEART.</td>\n      <td>6</td>\n      <td>2010-12-01 08:26:00</td>\n      <td>3.39</td>\n      <td>17850.0</td>\n      <td>United Kingdom</td>\n    </tr>\n    <tr>\n      <th>...</th>\n      <td>...</td>\n      <td>...</td>\n      <td>...</td>\n      <td>...</td>\n      <td>...</td>\n      <td>...</td>\n      <td>...</td>\n      <td>...</td>\n    </tr>\n    <tr>\n      <th>209024</th>\n      <td>555150</td>\n      <td>22895</td>\n      <td>SET OF 2 TEA TOWELS APPLE AND PEARS</td>\n      <td>3</td>\n      <td>2011-05-31 15:53:00</td>\n      <td>3.25</td>\n      <td>NaN</td>\n      <td>United Kingdom</td>\n    </tr>\n    <tr>\n      <th>209025</th>\n      <td>555150</td>\n      <td>22983</td>\n      <td>CARD BILLBOARD FONT</td>\n      <td>3</td>\n      <td>2011-05-31 15:53:00</td>\n      <td>0.42</td>\n      <td>NaN</td>\n      <td>United Kingdom</td>\n    </tr>\n    <tr>\n      <th>209026</th>\n      <td>555150</td>\n      <td>23169</td>\n      <td>CLASSIC GLASS COOKIE JAR</td>\n      <td>3</td>\n      <td>2011-05-31 15:53:00</td>\n      <td>4.15</td>\n      <td>NaN</td>\n      <td>United Kingdom</td>\n    </tr>\n    <tr>\n      <th>209027</th>\n      <td>555150</td>\n      <td>23298</td>\n      <td>SPOTTY BUNTING</td>\n      <td>5</td>\n      <td>2011-05-31 15:53:00</td>\n      <td>4.95</td>\n      <td>NaN</td>\n      <td>United Kingdom</td>\n    </tr>\n    <tr>\n      <th>209028</th>\n      <td>555150</td>\n      <td>23118</td>\n      <td>PARISIENNE JEWELLERY DRAWER</td>\n      <td>2</td>\n      <td>2011-05-31 15:53:00</td>\n      <td>7.50</td>\n      <td>NaN</td>\n      <td>United Kingdom</td>\n    </tr>\n  </tbody>\n</table>\n<p>204595 rows × 8 columns</p>\n</div>"
     },
     "execution_count": 37,
     "metadata": {},
     "output_type": "execute_result"
    }
   ],
   "source": [
    "filtered_data"
   ],
   "metadata": {
    "collapsed": false,
    "ExecuteTime": {
     "end_time": "2024-08-29T06:00:42.716125Z",
     "start_time": "2024-08-29T06:00:42.704371Z"
    }
   },
   "id": "452039d6cf006bfe",
   "execution_count": 37
  },
  {
   "cell_type": "code",
   "outputs": [
    {
     "data": {
      "text/plain": "StockCode\n85123A    207\n22834     142\n22086     141\n22423     141\n22111     132\n         ... \n20892       1\n20695       1\n71215       1\n22145       1\n47585A      1\nName: count, Length: 2411, dtype: int64"
     },
     "execution_count": 49,
     "metadata": {},
     "output_type": "execute_result"
    }
   ],
   "source": [
    "df[(df['InvoiceDate'].dt.year == current_year - 1) & (df['InvoiceDate'].dt.month == 12)]['StockCode'].value_counts()"
   ],
   "metadata": {
    "collapsed": false,
    "ExecuteTime": {
     "end_time": "2024-08-29T06:06:15.703936Z",
     "start_time": "2024-08-29T06:06:15.684331Z"
    }
   },
   "id": "60388859abd36ca",
   "execution_count": 49
  },
  {
   "cell_type": "code",
   "outputs": [
    {
     "data": {
      "text/plain": "StockCode\n85123A    160\n22720     133\n22469     120\n22423     109\n84378      97\n         ... \n90210A      1\n90210C      1\n90010B      1\n90062       1\n84875B      1\nName: count, Length: 2121, dtype: int64"
     },
     "execution_count": 50,
     "metadata": {},
     "output_type": "execute_result"
    }
   ],
   "source": [
    "df[df['InvoiceDate'].dt.month == 1]['StockCode'].value_counts()"
   ],
   "metadata": {
    "collapsed": false,
    "ExecuteTime": {
     "end_time": "2024-08-29T06:06:17.057908Z",
     "start_time": "2024-08-29T06:06:17.045543Z"
    }
   },
   "id": "8509c0801dd5dcdc",
   "execution_count": 50
  },
  {
   "cell_type": "code",
   "outputs": [
    {
     "data": {
      "text/plain": "StockCode\n22720     129\n85123A    127\n22423     111\n22469      93\n22722      89\n         ... \n90064B      1\n90055       1\n22060       1\n22871       1\n22100       1\nName: count, Length: 2124, dtype: int64"
     },
     "execution_count": 51,
     "metadata": {},
     "output_type": "execute_result"
    }
   ],
   "source": [
    "df[df['InvoiceDate'].dt.month == 2]['StockCode'].value_counts()"
   ],
   "metadata": {
    "collapsed": false,
    "ExecuteTime": {
     "end_time": "2024-08-29T06:06:18.231932Z",
     "start_time": "2024-08-29T06:06:18.219073Z"
    }
   },
   "id": "e6b7761664b1e448",
   "execution_count": 51
  },
  {
   "cell_type": "code",
   "outputs": [
    {
     "data": {
      "text/plain": "StockCode\n85123A    171\n22423     168\n22720     156\n22993     131\n47566     127\n         ... \n47310M      1\n62096B      1\n79026B      1\n22158       1\n90014C      1\nName: count, Length: 2234, dtype: int64"
     },
     "execution_count": 52,
     "metadata": {},
     "output_type": "execute_result"
    }
   ],
   "source": [
    "df[df['InvoiceDate'].dt.month == 3]['StockCode'].value_counts()"
   ],
   "metadata": {
    "collapsed": false,
    "ExecuteTime": {
     "end_time": "2024-08-29T06:06:19.428045Z",
     "start_time": "2024-08-29T06:06:19.405123Z"
    }
   },
   "id": "beaa7bd29fc2d72f",
   "execution_count": 52
  },
  {
   "cell_type": "code",
   "outputs": [
    {
     "data": {
      "text/plain": "StockCode\n47566     163\n85123A    158\n22423     157\n22084     137\n84879     110\n         ... \n84086B      1\n84968B      1\n22742       1\n84462       1\n84827       1\nName: count, Length: 2217, dtype: int64"
     },
     "execution_count": 53,
     "metadata": {},
     "output_type": "execute_result"
    }
   ],
   "source": [
    "df[df['InvoiceDate'].dt.month == 4]['StockCode'].value_counts()"
   ],
   "metadata": {
    "collapsed": false,
    "ExecuteTime": {
     "end_time": "2024-08-29T06:06:20.914091Z",
     "start_time": "2024-08-29T06:06:20.894325Z"
    }
   },
   "id": "62c0641fdfa0db98",
   "execution_count": 53
  },
  {
   "cell_type": "code",
   "outputs": [
    {
     "data": {
      "text/plain": "StockCode\n23298     216\n47566     212\n85123A    199\n22423     171\n23206     154\n         ... \n44234       1\n84974       1\n90058A      1\n82613A      1\n84711B      1\nName: count, Length: 2219, dtype: int64"
     },
     "execution_count": 58,
     "metadata": {},
     "output_type": "execute_result"
    }
   ],
   "source": [
    "df[df['InvoiceDate'].dt.month == 5]['StockCode'].value_counts()"
   ],
   "metadata": {
    "collapsed": false,
    "ExecuteTime": {
     "end_time": "2024-08-29T08:40:14.319797Z",
     "start_time": "2024-08-29T08:40:13.878974Z"
    }
   },
   "id": "e1bdedca943b0961",
   "execution_count": 58
  },
  {
   "cell_type": "code",
   "outputs": [
    {
     "data": {
      "text/plain": "array([23299, 22847, 23075, ..., 20765, 22823, 22827], dtype=object)"
     },
     "execution_count": 55,
     "metadata": {},
     "output_type": "execute_result"
    }
   ],
   "source": [
    "df[df['InvoiceDate'].dt.month == 6]['StockCode'].unique()"
   ],
   "metadata": {
    "collapsed": false,
    "ExecuteTime": {
     "end_time": "2024-08-29T06:06:34.206412Z",
     "start_time": "2024-08-29T06:06:34.196444Z"
    }
   },
   "id": "d80394278d14ca1a",
   "execution_count": 55
  },
  {
   "cell_type": "code",
   "outputs": [],
   "source": [
    "list = df['CustomerID'].isna()"
   ],
   "metadata": {
    "collapsed": false,
    "ExecuteTime": {
     "end_time": "2024-08-29T06:04:18.063940Z",
     "start_time": "2024-08-29T06:04:18.060727Z"
    }
   },
   "id": "a4ea25a6418d852",
   "execution_count": 44
  },
  {
   "cell_type": "code",
   "outputs": [],
   "source": [
    "df = df[~list]"
   ],
   "metadata": {
    "collapsed": false,
    "ExecuteTime": {
     "end_time": "2024-08-29T06:04:50.964712Z",
     "start_time": "2024-08-29T06:04:50.945511Z"
    }
   },
   "id": "dc81c9e849a204c8",
   "execution_count": 47
  },
  {
   "cell_type": "code",
   "outputs": [],
   "source": [
    "df.to_excel('./handled_data2.xlsx')"
   ],
   "metadata": {
    "collapsed": false,
    "ExecuteTime": {
     "end_time": "2024-08-29T06:05:48.482669Z",
     "start_time": "2024-08-29T06:05:03.423331Z"
    }
   },
   "id": "d9bb1c4c75d199c",
   "execution_count": 48
  },
  {
   "cell_type": "code",
   "outputs": [
    {
     "name": "stdout",
     "output_type": "stream",
     "text": [
      "       InvoiceNo StockCode                          Description  Quantity  \\\n",
      "0         536365    85123A   WHITE HANGING HEART T-LIGHT HOLDER         6   \n",
      "1         536365     71053                  WHITE METAL LANTERN         6   \n",
      "2         536365    84406B       CREAM CUPID HEARTS COAT HANGER         8   \n",
      "3         536365    84029G  KNITTED UNION FLAG HOT WATER BOTTLE         6   \n",
      "4         536365    84029E       RED WOOLLY HOTTIE WHITE HEART.         6   \n",
      "...          ...       ...                                  ...       ...   \n",
      "541904    581587     22613          PACK OF 20 SPACEBOY NAPKINS        12   \n",
      "541905    581587     22899         CHILDREN'S APRON DOLLY GIRL          6   \n",
      "541906    581587     23254        CHILDRENS CUTLERY DOLLY GIRL          4   \n",
      "541907    581587     23255      CHILDRENS CUTLERY CIRCUS PARADE         4   \n",
      "541908    581587     22138        BAKING SET 9 PIECE RETROSPOT          3   \n",
      "\n",
      "               InvoiceDate  UnitPrice  CustomerID         Country  \n",
      "0      2010-12-01 08:26:00       2.55     17850.0  United Kingdom  \n",
      "1      2010-12-01 08:26:00       3.39     17850.0  United Kingdom  \n",
      "2      2010-12-01 08:26:00       2.75     17850.0  United Kingdom  \n",
      "3      2010-12-01 08:26:00       3.39     17850.0  United Kingdom  \n",
      "4      2010-12-01 08:26:00       3.39     17850.0  United Kingdom  \n",
      "...                    ...        ...         ...             ...  \n",
      "541904 2011-12-09 12:50:00       0.85     12680.0          France  \n",
      "541905 2011-12-09 12:50:00       2.10     12680.0          France  \n",
      "541906 2011-12-09 12:50:00       4.15     12680.0          France  \n",
      "541907 2011-12-09 12:50:00       4.15     12680.0          France  \n",
      "541908 2011-12-09 12:50:00       4.95     12680.0          France  \n",
      "\n",
      "[397924 rows x 8 columns]\n"
     ]
    }
   ],
   "source": [
    "print(df)"
   ],
   "metadata": {
    "collapsed": false,
    "ExecuteTime": {
     "end_time": "2024-08-29T06:11:53.067739Z",
     "start_time": "2024-08-29T06:11:53.062377Z"
    }
   },
   "id": "e30798d3ee626849",
   "execution_count": 57
  },
  {
   "cell_type": "code",
   "outputs": [],
   "source": [
    "filt = (df['StockCode'] == 22783)"
   ],
   "metadata": {
    "collapsed": false,
    "ExecuteTime": {
     "end_time": "2024-08-29T09:08:57.791624Z",
     "start_time": "2024-08-29T09:08:57.774493Z"
    }
   },
   "id": "6bfe744188fc3793",
   "execution_count": 60
  },
  {
   "cell_type": "code",
   "outputs": [
    {
     "data": {
      "text/plain": "       InvoiceNo StockCode                       Description  Quantity  \\\n153       536382     22783  SET 3 WICKER OVAL BASKETS W LIDS         4   \n168       536385     22783  SET 3 WICKER OVAL BASKETS W LIDS         1   \n1200      536530     22783  SET 3 WICKER OVAL BASKETS W LIDS         1   \n3417      536627     22783  SET 3 WICKER OVAL BASKETS W LIDS         1   \n28911     538664     22783  SET 3 WICKER OVAL BASKETS W LIDS         8   \n28941     538665     22783  SET 3 WICKER OVAL BASKETS W LIDS         4   \n29223     538714     22783  SET 3 WICKER OVAL BASKETS W LIDS         1   \n29842     538827     22783  SET 3 WICKER OVAL BASKETS W LIDS         8   \n31131     538896     22783  SET 3 WICKER OVAL BASKETS W LIDS         4   \n33343     539250     22783  SET 3 WICKER OVAL BASKETS W LIDS         4   \n33925     539307     22783  SET 3 WICKER OVAL BASKETS W LIDS         4   \n40173     539728     22783  SET 3 WICKER OVAL BASKETS W LIDS         4   \n44566     540182     22783  SET 3 WICKER OVAL BASKETS W LIDS         4   \n44850     540240     22783  SET 3 WICKER OVAL BASKETS W LIDS         4   \n47917     540457     22783  SET 3 WICKER OVAL BASKETS W LIDS         4   \n52107     540687     22783  SET 3 WICKER OVAL BASKETS W LIDS         1   \n52760     540817     22783  SET 3 WICKER OVAL BASKETS W LIDS         2   \n59004     541267     22783  SET 3 WICKER OVAL BASKETS W LIDS         8   \n66277     541789     22783  SET 3 WICKER OVAL BASKETS W LIDS         9   \n69016     541932     22783  SET 3 WICKER OVAL BASKETS W LIDS         4   \n69908     541990     22783  SET 3 WICKER OVAL BASKETS W LIDS         1   \n71480     542131     22783  SET 3 WICKER OVAL BASKETS W LIDS         8   \n72851     542269     22783  SET 3 WICKER OVAL BASKETS W LIDS         2   \n86500     543548     22783  SET 3 WICKER OVAL BASKETS W LIDS         2   \n101251    544909     22783  SET 3 WICKER OVAL BASKETS W LIDS         8   \n103135    545053     22783  SET 3 WICKER OVAL BASKETS W LIDS         1   \n105372    545221     22783  SET 3 WICKER OVAL BASKETS W LIDS         4   \n124608    546983     22783  SET 3 WICKER OVAL BASKETS W LIDS         1   \n191460    553368     22783  SET 3 WICKER OVAL BASKETS W LIDS        80   \n209454    555241     22783  SET 3 WICKER OVAL BASKETS W LIDS         1   \n217183    555920     22783  SET 3 WICKER OVAL BASKETS W LIDS        74   \n225606    556725     22783  SET 3 WICKER OVAL BASKETS W LIDS       200   \n\n               InvoiceDate  UnitPrice  CustomerID          Country  \n153    2010-12-01 09:45:00      16.95     16098.0   United Kingdom  \n168    2010-12-01 09:56:00      19.95     17420.0   United Kingdom  \n1200   2010-12-01 13:21:00      19.95     17905.0   United Kingdom  \n3417   2010-12-02 10:53:00      19.95     15658.0   United Kingdom  \n28911  2010-12-13 15:46:00       7.95     14733.0   United Kingdom  \n28941  2010-12-13 15:56:00       7.95     17576.0   United Kingdom  \n29223  2010-12-14 11:01:00      19.95     14524.0   United Kingdom  \n29842  2010-12-14 12:59:00       7.95     14298.0   United Kingdom  \n31131  2010-12-15 09:09:00       7.95     16145.0   United Kingdom  \n33343  2010-12-16 13:44:00       7.95     15157.0   United Kingdom  \n33925  2010-12-16 17:43:00       7.95     13694.0   United Kingdom  \n40173  2010-12-21 14:26:00      16.95     16270.0   United Kingdom  \n44566  2011-01-05 13:29:00       7.95     14739.0   United Kingdom  \n44850  2011-01-05 15:09:00       7.95     17585.0   United Kingdom  \n47917  2011-01-07 12:26:00       7.95     14217.0   United Kingdom  \n52107  2011-01-10 17:18:00      19.95     15867.0   United Kingdom  \n52760  2011-01-11 12:56:00      19.95     14209.0   United Kingdom  \n59004  2011-01-17 10:37:00       7.95     12779.0           Poland  \n66277  2011-01-21 13:07:00       7.95     14088.0   United Kingdom  \n69016  2011-01-24 11:39:00       7.95     14439.0           Greece  \n69908  2011-01-25 09:01:00      19.95     13901.0   United Kingdom  \n71480  2011-01-25 15:55:00       7.95     16133.0   United Kingdom  \n72851  2011-01-27 09:33:00      19.95     14442.0  Channel Islands  \n86500  2011-02-10 09:21:00      19.95     13706.0   United Kingdom  \n101251 2011-02-24 14:32:00       7.95     14298.0   United Kingdom  \n103135 2011-02-27 12:41:00      19.95     17516.0   United Kingdom  \n105372 2011-03-01 08:35:00      16.95     14740.0   United Kingdom  \n124608 2011-03-18 12:27:00      19.95     16626.0   United Kingdom  \n191460 2011-05-16 14:24:00      16.95     18102.0   United Kingdom  \n209454 2011-06-01 13:32:00      19.95     14377.0   United Kingdom  \n217183 2011-06-07 16:35:00      12.48     18102.0   United Kingdom  \n225606 2011-06-14 11:28:00      12.48     18102.0   United Kingdom  ",
      "text/html": "<div>\n<style scoped>\n    .dataframe tbody tr th:only-of-type {\n        vertical-align: middle;\n    }\n\n    .dataframe tbody tr th {\n        vertical-align: top;\n    }\n\n    .dataframe thead th {\n        text-align: right;\n    }\n</style>\n<table border=\"1\" class=\"dataframe\">\n  <thead>\n    <tr style=\"text-align: right;\">\n      <th></th>\n      <th>InvoiceNo</th>\n      <th>StockCode</th>\n      <th>Description</th>\n      <th>Quantity</th>\n      <th>InvoiceDate</th>\n      <th>UnitPrice</th>\n      <th>CustomerID</th>\n      <th>Country</th>\n    </tr>\n  </thead>\n  <tbody>\n    <tr>\n      <th>153</th>\n      <td>536382</td>\n      <td>22783</td>\n      <td>SET 3 WICKER OVAL BASKETS W LIDS</td>\n      <td>4</td>\n      <td>2010-12-01 09:45:00</td>\n      <td>16.95</td>\n      <td>16098.0</td>\n      <td>United Kingdom</td>\n    </tr>\n    <tr>\n      <th>168</th>\n      <td>536385</td>\n      <td>22783</td>\n      <td>SET 3 WICKER OVAL BASKETS W LIDS</td>\n      <td>1</td>\n      <td>2010-12-01 09:56:00</td>\n      <td>19.95</td>\n      <td>17420.0</td>\n      <td>United Kingdom</td>\n    </tr>\n    <tr>\n      <th>1200</th>\n      <td>536530</td>\n      <td>22783</td>\n      <td>SET 3 WICKER OVAL BASKETS W LIDS</td>\n      <td>1</td>\n      <td>2010-12-01 13:21:00</td>\n      <td>19.95</td>\n      <td>17905.0</td>\n      <td>United Kingdom</td>\n    </tr>\n    <tr>\n      <th>3417</th>\n      <td>536627</td>\n      <td>22783</td>\n      <td>SET 3 WICKER OVAL BASKETS W LIDS</td>\n      <td>1</td>\n      <td>2010-12-02 10:53:00</td>\n      <td>19.95</td>\n      <td>15658.0</td>\n      <td>United Kingdom</td>\n    </tr>\n    <tr>\n      <th>28911</th>\n      <td>538664</td>\n      <td>22783</td>\n      <td>SET 3 WICKER OVAL BASKETS W LIDS</td>\n      <td>8</td>\n      <td>2010-12-13 15:46:00</td>\n      <td>7.95</td>\n      <td>14733.0</td>\n      <td>United Kingdom</td>\n    </tr>\n    <tr>\n      <th>28941</th>\n      <td>538665</td>\n      <td>22783</td>\n      <td>SET 3 WICKER OVAL BASKETS W LIDS</td>\n      <td>4</td>\n      <td>2010-12-13 15:56:00</td>\n      <td>7.95</td>\n      <td>17576.0</td>\n      <td>United Kingdom</td>\n    </tr>\n    <tr>\n      <th>29223</th>\n      <td>538714</td>\n      <td>22783</td>\n      <td>SET 3 WICKER OVAL BASKETS W LIDS</td>\n      <td>1</td>\n      <td>2010-12-14 11:01:00</td>\n      <td>19.95</td>\n      <td>14524.0</td>\n      <td>United Kingdom</td>\n    </tr>\n    <tr>\n      <th>29842</th>\n      <td>538827</td>\n      <td>22783</td>\n      <td>SET 3 WICKER OVAL BASKETS W LIDS</td>\n      <td>8</td>\n      <td>2010-12-14 12:59:00</td>\n      <td>7.95</td>\n      <td>14298.0</td>\n      <td>United Kingdom</td>\n    </tr>\n    <tr>\n      <th>31131</th>\n      <td>538896</td>\n      <td>22783</td>\n      <td>SET 3 WICKER OVAL BASKETS W LIDS</td>\n      <td>4</td>\n      <td>2010-12-15 09:09:00</td>\n      <td>7.95</td>\n      <td>16145.0</td>\n      <td>United Kingdom</td>\n    </tr>\n    <tr>\n      <th>33343</th>\n      <td>539250</td>\n      <td>22783</td>\n      <td>SET 3 WICKER OVAL BASKETS W LIDS</td>\n      <td>4</td>\n      <td>2010-12-16 13:44:00</td>\n      <td>7.95</td>\n      <td>15157.0</td>\n      <td>United Kingdom</td>\n    </tr>\n    <tr>\n      <th>33925</th>\n      <td>539307</td>\n      <td>22783</td>\n      <td>SET 3 WICKER OVAL BASKETS W LIDS</td>\n      <td>4</td>\n      <td>2010-12-16 17:43:00</td>\n      <td>7.95</td>\n      <td>13694.0</td>\n      <td>United Kingdom</td>\n    </tr>\n    <tr>\n      <th>40173</th>\n      <td>539728</td>\n      <td>22783</td>\n      <td>SET 3 WICKER OVAL BASKETS W LIDS</td>\n      <td>4</td>\n      <td>2010-12-21 14:26:00</td>\n      <td>16.95</td>\n      <td>16270.0</td>\n      <td>United Kingdom</td>\n    </tr>\n    <tr>\n      <th>44566</th>\n      <td>540182</td>\n      <td>22783</td>\n      <td>SET 3 WICKER OVAL BASKETS W LIDS</td>\n      <td>4</td>\n      <td>2011-01-05 13:29:00</td>\n      <td>7.95</td>\n      <td>14739.0</td>\n      <td>United Kingdom</td>\n    </tr>\n    <tr>\n      <th>44850</th>\n      <td>540240</td>\n      <td>22783</td>\n      <td>SET 3 WICKER OVAL BASKETS W LIDS</td>\n      <td>4</td>\n      <td>2011-01-05 15:09:00</td>\n      <td>7.95</td>\n      <td>17585.0</td>\n      <td>United Kingdom</td>\n    </tr>\n    <tr>\n      <th>47917</th>\n      <td>540457</td>\n      <td>22783</td>\n      <td>SET 3 WICKER OVAL BASKETS W LIDS</td>\n      <td>4</td>\n      <td>2011-01-07 12:26:00</td>\n      <td>7.95</td>\n      <td>14217.0</td>\n      <td>United Kingdom</td>\n    </tr>\n    <tr>\n      <th>52107</th>\n      <td>540687</td>\n      <td>22783</td>\n      <td>SET 3 WICKER OVAL BASKETS W LIDS</td>\n      <td>1</td>\n      <td>2011-01-10 17:18:00</td>\n      <td>19.95</td>\n      <td>15867.0</td>\n      <td>United Kingdom</td>\n    </tr>\n    <tr>\n      <th>52760</th>\n      <td>540817</td>\n      <td>22783</td>\n      <td>SET 3 WICKER OVAL BASKETS W LIDS</td>\n      <td>2</td>\n      <td>2011-01-11 12:56:00</td>\n      <td>19.95</td>\n      <td>14209.0</td>\n      <td>United Kingdom</td>\n    </tr>\n    <tr>\n      <th>59004</th>\n      <td>541267</td>\n      <td>22783</td>\n      <td>SET 3 WICKER OVAL BASKETS W LIDS</td>\n      <td>8</td>\n      <td>2011-01-17 10:37:00</td>\n      <td>7.95</td>\n      <td>12779.0</td>\n      <td>Poland</td>\n    </tr>\n    <tr>\n      <th>66277</th>\n      <td>541789</td>\n      <td>22783</td>\n      <td>SET 3 WICKER OVAL BASKETS W LIDS</td>\n      <td>9</td>\n      <td>2011-01-21 13:07:00</td>\n      <td>7.95</td>\n      <td>14088.0</td>\n      <td>United Kingdom</td>\n    </tr>\n    <tr>\n      <th>69016</th>\n      <td>541932</td>\n      <td>22783</td>\n      <td>SET 3 WICKER OVAL BASKETS W LIDS</td>\n      <td>4</td>\n      <td>2011-01-24 11:39:00</td>\n      <td>7.95</td>\n      <td>14439.0</td>\n      <td>Greece</td>\n    </tr>\n    <tr>\n      <th>69908</th>\n      <td>541990</td>\n      <td>22783</td>\n      <td>SET 3 WICKER OVAL BASKETS W LIDS</td>\n      <td>1</td>\n      <td>2011-01-25 09:01:00</td>\n      <td>19.95</td>\n      <td>13901.0</td>\n      <td>United Kingdom</td>\n    </tr>\n    <tr>\n      <th>71480</th>\n      <td>542131</td>\n      <td>22783</td>\n      <td>SET 3 WICKER OVAL BASKETS W LIDS</td>\n      <td>8</td>\n      <td>2011-01-25 15:55:00</td>\n      <td>7.95</td>\n      <td>16133.0</td>\n      <td>United Kingdom</td>\n    </tr>\n    <tr>\n      <th>72851</th>\n      <td>542269</td>\n      <td>22783</td>\n      <td>SET 3 WICKER OVAL BASKETS W LIDS</td>\n      <td>2</td>\n      <td>2011-01-27 09:33:00</td>\n      <td>19.95</td>\n      <td>14442.0</td>\n      <td>Channel Islands</td>\n    </tr>\n    <tr>\n      <th>86500</th>\n      <td>543548</td>\n      <td>22783</td>\n      <td>SET 3 WICKER OVAL BASKETS W LIDS</td>\n      <td>2</td>\n      <td>2011-02-10 09:21:00</td>\n      <td>19.95</td>\n      <td>13706.0</td>\n      <td>United Kingdom</td>\n    </tr>\n    <tr>\n      <th>101251</th>\n      <td>544909</td>\n      <td>22783</td>\n      <td>SET 3 WICKER OVAL BASKETS W LIDS</td>\n      <td>8</td>\n      <td>2011-02-24 14:32:00</td>\n      <td>7.95</td>\n      <td>14298.0</td>\n      <td>United Kingdom</td>\n    </tr>\n    <tr>\n      <th>103135</th>\n      <td>545053</td>\n      <td>22783</td>\n      <td>SET 3 WICKER OVAL BASKETS W LIDS</td>\n      <td>1</td>\n      <td>2011-02-27 12:41:00</td>\n      <td>19.95</td>\n      <td>17516.0</td>\n      <td>United Kingdom</td>\n    </tr>\n    <tr>\n      <th>105372</th>\n      <td>545221</td>\n      <td>22783</td>\n      <td>SET 3 WICKER OVAL BASKETS W LIDS</td>\n      <td>4</td>\n      <td>2011-03-01 08:35:00</td>\n      <td>16.95</td>\n      <td>14740.0</td>\n      <td>United Kingdom</td>\n    </tr>\n    <tr>\n      <th>124608</th>\n      <td>546983</td>\n      <td>22783</td>\n      <td>SET 3 WICKER OVAL BASKETS W LIDS</td>\n      <td>1</td>\n      <td>2011-03-18 12:27:00</td>\n      <td>19.95</td>\n      <td>16626.0</td>\n      <td>United Kingdom</td>\n    </tr>\n    <tr>\n      <th>191460</th>\n      <td>553368</td>\n      <td>22783</td>\n      <td>SET 3 WICKER OVAL BASKETS W LIDS</td>\n      <td>80</td>\n      <td>2011-05-16 14:24:00</td>\n      <td>16.95</td>\n      <td>18102.0</td>\n      <td>United Kingdom</td>\n    </tr>\n    <tr>\n      <th>209454</th>\n      <td>555241</td>\n      <td>22783</td>\n      <td>SET 3 WICKER OVAL BASKETS W LIDS</td>\n      <td>1</td>\n      <td>2011-06-01 13:32:00</td>\n      <td>19.95</td>\n      <td>14377.0</td>\n      <td>United Kingdom</td>\n    </tr>\n    <tr>\n      <th>217183</th>\n      <td>555920</td>\n      <td>22783</td>\n      <td>SET 3 WICKER OVAL BASKETS W LIDS</td>\n      <td>74</td>\n      <td>2011-06-07 16:35:00</td>\n      <td>12.48</td>\n      <td>18102.0</td>\n      <td>United Kingdom</td>\n    </tr>\n    <tr>\n      <th>225606</th>\n      <td>556725</td>\n      <td>22783</td>\n      <td>SET 3 WICKER OVAL BASKETS W LIDS</td>\n      <td>200</td>\n      <td>2011-06-14 11:28:00</td>\n      <td>12.48</td>\n      <td>18102.0</td>\n      <td>United Kingdom</td>\n    </tr>\n  </tbody>\n</table>\n</div>"
     },
     "execution_count": 62,
     "metadata": {},
     "output_type": "execute_result"
    }
   ],
   "source": [
    "df[filt]"
   ],
   "metadata": {
    "collapsed": false,
    "ExecuteTime": {
     "end_time": "2024-08-29T09:09:09.056851Z",
     "start_time": "2024-08-29T09:09:09.034251Z"
    }
   },
   "id": "63119d9d140768bc",
   "execution_count": 62
  },
  {
   "cell_type": "code",
   "outputs": [
    {
     "data": {
      "text/plain": "StockCode\n85123A    2035\n22423     1724\n85099B    1618\n84879     1408\n47566     1397\n          ... \n90168        1\n90169        1\n90202A       1\n90118        1\n23843        1\nName: count, Length: 3665, dtype: int64"
     },
     "execution_count": 70,
     "metadata": {},
     "output_type": "execute_result"
    }
   ],
   "source": [
    "df['StockCode'].value_counts()"
   ],
   "metadata": {
    "collapsed": false,
    "ExecuteTime": {
     "end_time": "2024-08-29T19:02:14.744175Z",
     "start_time": "2024-08-29T19:02:14.655965Z"
    }
   },
   "id": "f9266c7e9d09febf",
   "execution_count": 70
  },
  {
   "cell_type": "code",
   "outputs": [
    {
     "data": {
      "text/plain": "CustomerID\n17841.0    635\n14911.0    441\n12748.0    268\n14769.0    264\n13263.0    208\n          ... \n13026.0      1\n14931.0      1\n16323.0      1\n14682.0      1\n12891.0      1\nName: count, Length: 1056, dtype: int64"
     },
     "execution_count": 64,
     "metadata": {},
     "output_type": "execute_result"
    }
   ],
   "source": [
    "df[df['InvoiceDate'].dt.month == 5]['CustomerID'].value_counts()"
   ],
   "metadata": {
    "collapsed": false,
    "ExecuteTime": {
     "end_time": "2024-08-29T14:55:15.423451Z",
     "start_time": "2024-08-29T14:55:15.411551Z"
    }
   },
   "id": "71f121de49a634fa",
   "execution_count": 64
  },
  {
   "cell_type": "code",
   "outputs": [
    {
     "data": {
      "text/plain": "CustomerID\n17841.0    375\n14298.0    338\n14911.0    246\n13263.0    205\n14606.0    203\n          ... \n12678.0      1\n13984.0      1\n17809.0      1\n17580.0      1\n17956.0      1\nName: count, Length: 856, dtype: int64"
     },
     "execution_count": 66,
     "metadata": {},
     "output_type": "execute_result"
    }
   ],
   "source": [
    "df[df['InvoiceDate'].dt.month == 4]['CustomerID'].value_counts()"
   ],
   "metadata": {
    "collapsed": false,
    "ExecuteTime": {
     "end_time": "2024-08-29T14:55:41.046143Z",
     "start_time": "2024-08-29T14:55:41.035320Z"
    }
   },
   "id": "36d82bd73eb82e97",
   "execution_count": 66
  },
  {
   "cell_type": "code",
   "outputs": [
    {
     "data": {
      "text/plain": "       InvoiceNo StockCode                          Description  Quantity  \\\n0         536365    85123A   WHITE HANGING HEART T-LIGHT HOLDER         6   \n1         536365     71053                  WHITE METAL LANTERN         6   \n2         536365    84406B       CREAM CUPID HEARTS COAT HANGER         8   \n3         536365    84029G  KNITTED UNION FLAG HOT WATER BOTTLE         6   \n4         536365    84029E       RED WOOLLY HOTTIE WHITE HEART.         6   \n...          ...       ...                                  ...       ...   \n541904    581587     22613          PACK OF 20 SPACEBOY NAPKINS        12   \n541905    581587     22899         CHILDREN'S APRON DOLLY GIRL          6   \n541906    581587     23254        CHILDRENS CUTLERY DOLLY GIRL          4   \n541907    581587     23255      CHILDRENS CUTLERY CIRCUS PARADE         4   \n541908    581587     22138        BAKING SET 9 PIECE RETROSPOT          3   \n\n               InvoiceDate  UnitPrice  CustomerID         Country  \n0      2010-12-01 08:26:00       2.55     17850.0  United Kingdom  \n1      2010-12-01 08:26:00       3.39     17850.0  United Kingdom  \n2      2010-12-01 08:26:00       2.75     17850.0  United Kingdom  \n3      2010-12-01 08:26:00       3.39     17850.0  United Kingdom  \n4      2010-12-01 08:26:00       3.39     17850.0  United Kingdom  \n...                    ...        ...         ...             ...  \n541904 2011-12-09 12:50:00       0.85     12680.0          France  \n541905 2011-12-09 12:50:00       2.10     12680.0          France  \n541906 2011-12-09 12:50:00       4.15     12680.0          France  \n541907 2011-12-09 12:50:00       4.15     12680.0          France  \n541908 2011-12-09 12:50:00       4.95     12680.0          France  \n\n[397924 rows x 8 columns]",
      "text/html": "<div>\n<style scoped>\n    .dataframe tbody tr th:only-of-type {\n        vertical-align: middle;\n    }\n\n    .dataframe tbody tr th {\n        vertical-align: top;\n    }\n\n    .dataframe thead th {\n        text-align: right;\n    }\n</style>\n<table border=\"1\" class=\"dataframe\">\n  <thead>\n    <tr style=\"text-align: right;\">\n      <th></th>\n      <th>InvoiceNo</th>\n      <th>StockCode</th>\n      <th>Description</th>\n      <th>Quantity</th>\n      <th>InvoiceDate</th>\n      <th>UnitPrice</th>\n      <th>CustomerID</th>\n      <th>Country</th>\n    </tr>\n  </thead>\n  <tbody>\n    <tr>\n      <th>0</th>\n      <td>536365</td>\n      <td>85123A</td>\n      <td>WHITE HANGING HEART T-LIGHT HOLDER</td>\n      <td>6</td>\n      <td>2010-12-01 08:26:00</td>\n      <td>2.55</td>\n      <td>17850.0</td>\n      <td>United Kingdom</td>\n    </tr>\n    <tr>\n      <th>1</th>\n      <td>536365</td>\n      <td>71053</td>\n      <td>WHITE METAL LANTERN</td>\n      <td>6</td>\n      <td>2010-12-01 08:26:00</td>\n      <td>3.39</td>\n      <td>17850.0</td>\n      <td>United Kingdom</td>\n    </tr>\n    <tr>\n      <th>2</th>\n      <td>536365</td>\n      <td>84406B</td>\n      <td>CREAM CUPID HEARTS COAT HANGER</td>\n      <td>8</td>\n      <td>2010-12-01 08:26:00</td>\n      <td>2.75</td>\n      <td>17850.0</td>\n      <td>United Kingdom</td>\n    </tr>\n    <tr>\n      <th>3</th>\n      <td>536365</td>\n      <td>84029G</td>\n      <td>KNITTED UNION FLAG HOT WATER BOTTLE</td>\n      <td>6</td>\n      <td>2010-12-01 08:26:00</td>\n      <td>3.39</td>\n      <td>17850.0</td>\n      <td>United Kingdom</td>\n    </tr>\n    <tr>\n      <th>4</th>\n      <td>536365</td>\n      <td>84029E</td>\n      <td>RED WOOLLY HOTTIE WHITE HEART.</td>\n      <td>6</td>\n      <td>2010-12-01 08:26:00</td>\n      <td>3.39</td>\n      <td>17850.0</td>\n      <td>United Kingdom</td>\n    </tr>\n    <tr>\n      <th>...</th>\n      <td>...</td>\n      <td>...</td>\n      <td>...</td>\n      <td>...</td>\n      <td>...</td>\n      <td>...</td>\n      <td>...</td>\n      <td>...</td>\n    </tr>\n    <tr>\n      <th>541904</th>\n      <td>581587</td>\n      <td>22613</td>\n      <td>PACK OF 20 SPACEBOY NAPKINS</td>\n      <td>12</td>\n      <td>2011-12-09 12:50:00</td>\n      <td>0.85</td>\n      <td>12680.0</td>\n      <td>France</td>\n    </tr>\n    <tr>\n      <th>541905</th>\n      <td>581587</td>\n      <td>22899</td>\n      <td>CHILDREN'S APRON DOLLY GIRL</td>\n      <td>6</td>\n      <td>2011-12-09 12:50:00</td>\n      <td>2.10</td>\n      <td>12680.0</td>\n      <td>France</td>\n    </tr>\n    <tr>\n      <th>541906</th>\n      <td>581587</td>\n      <td>23254</td>\n      <td>CHILDRENS CUTLERY DOLLY GIRL</td>\n      <td>4</td>\n      <td>2011-12-09 12:50:00</td>\n      <td>4.15</td>\n      <td>12680.0</td>\n      <td>France</td>\n    </tr>\n    <tr>\n      <th>541907</th>\n      <td>581587</td>\n      <td>23255</td>\n      <td>CHILDRENS CUTLERY CIRCUS PARADE</td>\n      <td>4</td>\n      <td>2011-12-09 12:50:00</td>\n      <td>4.15</td>\n      <td>12680.0</td>\n      <td>France</td>\n    </tr>\n    <tr>\n      <th>541908</th>\n      <td>581587</td>\n      <td>22138</td>\n      <td>BAKING SET 9 PIECE RETROSPOT</td>\n      <td>3</td>\n      <td>2011-12-09 12:50:00</td>\n      <td>4.95</td>\n      <td>12680.0</td>\n      <td>France</td>\n    </tr>\n  </tbody>\n</table>\n<p>397924 rows × 8 columns</p>\n</div>"
     },
     "execution_count": 67,
     "metadata": {},
     "output_type": "execute_result"
    }
   ],
   "source": [
    "df"
   ],
   "metadata": {
    "collapsed": false,
    "ExecuteTime": {
     "end_time": "2024-08-29T14:59:32.188815Z",
     "start_time": "2024-08-29T14:59:32.180910Z"
    }
   },
   "id": "5a08a8655d38a5bc",
   "execution_count": 67
  },
  {
   "cell_type": "code",
   "outputs": [
    {
     "data": {
      "text/plain": "StockCode\n85123A    2035\n22423     1724\n85099B    1618\n84879     1408\n47566     1397\n          ... \n90168        1\n90169        1\n90202A       1\n90118        1\n23843        1\nName: count, Length: 3665, dtype: int64"
     },
     "execution_count": 69,
     "metadata": {},
     "output_type": "execute_result"
    }
   ],
   "source": [
    "df['StockCode'].value_counts()"
   ],
   "metadata": {
    "collapsed": false,
    "ExecuteTime": {
     "end_time": "2024-08-29T16:05:53.327360Z",
     "start_time": "2024-08-29T16:05:53.311911Z"
    }
   },
   "id": "46eb6d0e3214a082",
   "execution_count": 69
  },
  {
   "cell_type": "code",
   "outputs": [
    {
     "data": {
      "text/plain": "CustomerID\n17841.0    7847\n14911.0    5677\n14096.0    5111\n12748.0    4596\n14606.0    2700\n           ... \n15313.0       1\n17846.0       1\n13185.0       1\n16953.0       1\n16737.0       1\nName: count, Length: 4339, dtype: int64"
     },
     "execution_count": 74,
     "metadata": {},
     "output_type": "execute_result"
    }
   ],
   "source": [
    "df['CustomerID'].value_counts()"
   ],
   "metadata": {
    "collapsed": false,
    "ExecuteTime": {
     "end_time": "2024-08-30T04:08:35.379733Z",
     "start_time": "2024-08-30T04:08:35.372422Z"
    }
   },
   "id": "3778e9c80752f2db",
   "execution_count": 74
  },
  {
   "cell_type": "code",
   "outputs": [],
   "source": [
    "filt = (df['CustomerID'] == 17841)"
   ],
   "metadata": {
    "collapsed": false,
    "ExecuteTime": {
     "end_time": "2024-08-30T04:16:32.155197Z",
     "start_time": "2024-08-30T04:16:32.151143Z"
    }
   },
   "id": "497158994ee84bbf",
   "execution_count": 77
  },
  {
   "cell_type": "code",
   "outputs": [
    {
     "data": {
      "text/plain": "       InvoiceNo StockCode                      Description  Quantity  \\\n2037      536557     21495       SKULLS AND CROSSBONES WRAP        25   \n2038      536557    46000R     POLYESTER FILLER PAD 45x30cm         2   \n2039      536557    46000S     POLYESTER FILLER PAD 40x40cm         1   \n2040      536557     22731    3D CHRISTMAS STAMPS STICKERS          1   \n2041      536557     21258       VICTORIAN SEWING BOX LARGE         1   \n...          ...       ...                              ...       ...   \n537749    581334     23399    HOME SWEET HOME HANGING HEART         3   \n537750    581334     22893   MINI CAKE STAND T-LIGHT HOLDER        12   \n537751    581334     22371     AIRLINE BAG VINTAGE TOKYO 78         1   \n537752    581334     22309             TEA COSY RED  STRIPE         1   \n537753    581334     21926  RED/CREAM STRIPE CUSHION COVER          8   \n\n               InvoiceDate  UnitPrice  CustomerID         Country  \n2037   2010-12-01 14:41:00       0.42     17841.0  United Kingdom  \n2038   2010-12-01 14:41:00       1.45     17841.0  United Kingdom  \n2039   2010-12-01 14:41:00       1.45     17841.0  United Kingdom  \n2040   2010-12-01 14:41:00       1.25     17841.0  United Kingdom  \n2041   2010-12-01 14:41:00      12.75     17841.0  United Kingdom  \n...                    ...        ...         ...             ...  \n537749 2011-12-08 12:07:00       0.85     17841.0  United Kingdom  \n537750 2011-12-08 12:07:00       0.42     17841.0  United Kingdom  \n537751 2011-12-08 12:07:00       4.25     17841.0  United Kingdom  \n537752 2011-12-08 12:07:00       2.55     17841.0  United Kingdom  \n537753 2011-12-08 12:07:00       1.25     17841.0  United Kingdom  \n\n[7847 rows x 8 columns]",
      "text/html": "<div>\n<style scoped>\n    .dataframe tbody tr th:only-of-type {\n        vertical-align: middle;\n    }\n\n    .dataframe tbody tr th {\n        vertical-align: top;\n    }\n\n    .dataframe thead th {\n        text-align: right;\n    }\n</style>\n<table border=\"1\" class=\"dataframe\">\n  <thead>\n    <tr style=\"text-align: right;\">\n      <th></th>\n      <th>InvoiceNo</th>\n      <th>StockCode</th>\n      <th>Description</th>\n      <th>Quantity</th>\n      <th>InvoiceDate</th>\n      <th>UnitPrice</th>\n      <th>CustomerID</th>\n      <th>Country</th>\n    </tr>\n  </thead>\n  <tbody>\n    <tr>\n      <th>2037</th>\n      <td>536557</td>\n      <td>21495</td>\n      <td>SKULLS AND CROSSBONES WRAP</td>\n      <td>25</td>\n      <td>2010-12-01 14:41:00</td>\n      <td>0.42</td>\n      <td>17841.0</td>\n      <td>United Kingdom</td>\n    </tr>\n    <tr>\n      <th>2038</th>\n      <td>536557</td>\n      <td>46000R</td>\n      <td>POLYESTER FILLER PAD 45x30cm</td>\n      <td>2</td>\n      <td>2010-12-01 14:41:00</td>\n      <td>1.45</td>\n      <td>17841.0</td>\n      <td>United Kingdom</td>\n    </tr>\n    <tr>\n      <th>2039</th>\n      <td>536557</td>\n      <td>46000S</td>\n      <td>POLYESTER FILLER PAD 40x40cm</td>\n      <td>1</td>\n      <td>2010-12-01 14:41:00</td>\n      <td>1.45</td>\n      <td>17841.0</td>\n      <td>United Kingdom</td>\n    </tr>\n    <tr>\n      <th>2040</th>\n      <td>536557</td>\n      <td>22731</td>\n      <td>3D CHRISTMAS STAMPS STICKERS</td>\n      <td>1</td>\n      <td>2010-12-01 14:41:00</td>\n      <td>1.25</td>\n      <td>17841.0</td>\n      <td>United Kingdom</td>\n    </tr>\n    <tr>\n      <th>2041</th>\n      <td>536557</td>\n      <td>21258</td>\n      <td>VICTORIAN SEWING BOX LARGE</td>\n      <td>1</td>\n      <td>2010-12-01 14:41:00</td>\n      <td>12.75</td>\n      <td>17841.0</td>\n      <td>United Kingdom</td>\n    </tr>\n    <tr>\n      <th>...</th>\n      <td>...</td>\n      <td>...</td>\n      <td>...</td>\n      <td>...</td>\n      <td>...</td>\n      <td>...</td>\n      <td>...</td>\n      <td>...</td>\n    </tr>\n    <tr>\n      <th>537749</th>\n      <td>581334</td>\n      <td>23399</td>\n      <td>HOME SWEET HOME HANGING HEART</td>\n      <td>3</td>\n      <td>2011-12-08 12:07:00</td>\n      <td>0.85</td>\n      <td>17841.0</td>\n      <td>United Kingdom</td>\n    </tr>\n    <tr>\n      <th>537750</th>\n      <td>581334</td>\n      <td>22893</td>\n      <td>MINI CAKE STAND T-LIGHT HOLDER</td>\n      <td>12</td>\n      <td>2011-12-08 12:07:00</td>\n      <td>0.42</td>\n      <td>17841.0</td>\n      <td>United Kingdom</td>\n    </tr>\n    <tr>\n      <th>537751</th>\n      <td>581334</td>\n      <td>22371</td>\n      <td>AIRLINE BAG VINTAGE TOKYO 78</td>\n      <td>1</td>\n      <td>2011-12-08 12:07:00</td>\n      <td>4.25</td>\n      <td>17841.0</td>\n      <td>United Kingdom</td>\n    </tr>\n    <tr>\n      <th>537752</th>\n      <td>581334</td>\n      <td>22309</td>\n      <td>TEA COSY RED  STRIPE</td>\n      <td>1</td>\n      <td>2011-12-08 12:07:00</td>\n      <td>2.55</td>\n      <td>17841.0</td>\n      <td>United Kingdom</td>\n    </tr>\n    <tr>\n      <th>537753</th>\n      <td>581334</td>\n      <td>21926</td>\n      <td>RED/CREAM STRIPE CUSHION COVER</td>\n      <td>8</td>\n      <td>2011-12-08 12:07:00</td>\n      <td>1.25</td>\n      <td>17841.0</td>\n      <td>United Kingdom</td>\n    </tr>\n  </tbody>\n</table>\n<p>7847 rows × 8 columns</p>\n</div>"
     },
     "execution_count": 78,
     "metadata": {},
     "output_type": "execute_result"
    }
   ],
   "source": [
    "df[filt]"
   ],
   "metadata": {
    "collapsed": false,
    "ExecuteTime": {
     "end_time": "2024-08-30T04:16:32.400496Z",
     "start_time": "2024-08-30T04:16:32.386965Z"
    }
   },
   "id": "5ab950e1d67c6656",
   "execution_count": 78
  },
  {
   "cell_type": "code",
   "outputs": [],
   "source": [],
   "metadata": {
    "collapsed": false
   },
   "id": "c287d71af4399c03"
  }
 ],
 "metadata": {
  "kernelspec": {
   "display_name": "Python 3",
   "language": "python",
   "name": "python3"
  },
  "language_info": {
   "codemirror_mode": {
    "name": "ipython",
    "version": 2
   },
   "file_extension": ".py",
   "mimetype": "text/x-python",
   "name": "python",
   "nbconvert_exporter": "python",
   "pygments_lexer": "ipython2",
   "version": "2.7.6"
  }
 },
 "nbformat": 4,
 "nbformat_minor": 5
}
