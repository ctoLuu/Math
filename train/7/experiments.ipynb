{
 "cells": [
  {
   "cell_type": "code",
   "outputs": [],
   "source": [
    "import warnings\n",
    "\n",
    "warnings.filterwarnings(\"ignore\")\n",
    "import pandas as pd\n",
    "import numpy as np\n",
    "import tensorflow as tf\n",
    "from tensorflow.keras.layers import *\n",
    "from tensorflow.keras.models import *\n",
    "from sklearn.preprocessing import LabelEncoder\n",
    "from sklearn.model_selection import train_test_split\n",
    "import itertools\n",
    "from tqdm import tqdm\n",
    "from collections import namedtuple\n",
    "\n",
    "from sklearn.preprocessing import MinMaxScaler, LabelEncoder\n",
    "\n",
    "\n",
    "# Define feature classes and NCF model components\n",
    "class SparseFeat:\n",
    "    def __init__(self, name, vocabulary_size, embedding_dim):\n",
    "        self.name = name\n",
    "        self.vocabulary_size = vocabulary_size\n",
    "        self.embedding_dim = embedding_dim\n",
    "\n",
    "\n",
    "def build_input_layers(feature_columns):\n",
    "    dense_input_dict, sparse_input_dict = {}, {}\n",
    "    for fc in feature_columns:\n",
    "        if isinstance(fc, SparseFeat):\n",
    "            sparse_input_dict[fc.name] = Input(shape=(1,), name=fc.name)\n",
    "    return dense_input_dict, sparse_input_dict\n",
    "\n",
    "\n",
    "def build_embedding_layers(feature_columns, input_layers_dict, is_linear, prefix=''):\n",
    "    embedding_layers_dict = {}\n",
    "    sparse_feature_columns = [x for x in feature_columns if isinstance(x, SparseFeat)]\n",
    "    if is_linear:\n",
    "        for fc in sparse_feature_columns:\n",
    "            embedding_layers_dict[fc.name] = Embedding(fc.vocabulary_size + 1, 1, name=prefix + '1d_emb_' + fc.name)\n",
    "    else:\n",
    "        for fc in sparse_feature_columns:\n",
    "            embedding_layers_dict[fc.name] = Embedding(fc.vocabulary_size + 1, fc.embedding_dim,\n",
    "                                                       name=prefix + 'kd_emb_' + fc.name)\n",
    "    return embedding_layers_dict\n",
    "\n",
    "\n",
    "def get_dnn_out(dnn_inputs, units=(32, 16)):\n",
    "    dnn_out = dnn_inputs\n",
    "    for out_dim in units:\n",
    "        dnn_out = Dense(out_dim)(dnn_out)\n",
    "    return dnn_out\n",
    "\n",
    "\n",
    "def NCF(dnn_feature_columns):\n",
    "    _, sparse_input_dict = build_input_layers(dnn_feature_columns)\n",
    "    input_layers = list(sparse_input_dict.values())\n",
    "    GML_embedding_dict = build_embedding_layers(dnn_feature_columns, sparse_input_dict, is_linear=False, prefix='GML')\n",
    "    MLP_embedding_dict = build_embedding_layers(dnn_feature_columns, sparse_input_dict, is_linear=False, prefix='MLP')\n",
    "    GML_user_emb = Flatten()(GML_embedding_dict['user_id'](sparse_input_dict['user_id']))\n",
    "    GML_item_emb = Flatten()(GML_embedding_dict['item_id'](sparse_input_dict['item_id']))\n",
    "\n",
    "    # Use Keras Multiply layer instead of tf.multiply\n",
    "    GML_out = Multiply()([GML_user_emb, GML_item_emb])\n",
    "\n",
    "    MLP_user_emb = Flatten()(MLP_embedding_dict['user_id'](sparse_input_dict['user_id']))\n",
    "    MLP_item_emb = Flatten()(MLP_embedding_dict['item_id'](sparse_input_dict['item_id']))\n",
    "    MLP_dnn_input = Concatenate(axis=1)([MLP_user_emb, MLP_item_emb])\n",
    "    MLP_dnn_out = get_dnn_out(MLP_dnn_input, (32, 16))\n",
    "    concat_out = Concatenate(axis=1)([GML_out, MLP_dnn_out])\n",
    "    output_layer = Dense(1)(concat_out)\n",
    "    model = Model(input_layers, output_layer)\n",
    "    return model\n",
    "\n",
    "\n",
    "def prepare_data(file_path):\n",
    "    data = pd.read_excel(file_path)\n",
    "    data['StockCode'] = data['StockCode'].astype(str)\n",
    "    data['InvoiceDate'] = pd.to_datetime(data['InvoiceDate'])\n",
    "    data = data.dropna(subset=['CustomerID'])  # Drop rows where CustomerID is NaN\n",
    "    data['CustomerID'] = data['CustomerID'].astype(int)\n",
    "\n",
    "    # Create a time index to separate data by months\n",
    "    data.set_index('InvoiceDate', inplace=True)\n",
    "    data.sort_index(inplace=True)\n",
    "\n",
    "    # Extract months\n",
    "    months = data.index.to_period('M').unique()\n",
    "    data['InvoiceDate'] = pd.to_datetime(data.index)\n",
    "    data['Month'] = data['InvoiceDate'].dt.to_period('M')\n",
    "    weekly_purchase_frequency = data.groupby(['CustomerID', 'StockCode', 'Month']).size().reset_index(\n",
    "        name='rating')\n",
    "\n",
    "    # weekly_purchase_frequency['InvoiceDate'] = data['InvoiceDate']\n",
    "    # weekly_purchase_frequency.set_index('InvoiceDate', inplace=True)\n",
    "    # weekly_purchase_frequency.sort_index(inplace=True)\n",
    "    data = weekly_purchase_frequency\n",
    "    data['monthly_rating'] = data.groupby(['StockCode', 'Month'])['StockCode'].transform('count')\n",
    "    data['rating'] = data['monthly_rating']\n",
    "    # Split data into training (first 5 months) and test (6th month)\n",
    "    # Encoding\n",
    "    lbe_user = LabelEncoder()\n",
    "    lbe_item = LabelEncoder()\n",
    "    data['user_id'] = lbe_user.fit_transform(data['CustomerID'])\n",
    "    data['item_id'] = lbe_item.fit_transform(data['StockCode'])\n",
    "    item_id_to_stockcode = dict(zip(lbe_item.transform(lbe_item.classes_), lbe_item.classes_))\n",
    "    train_weeks = months[:]\n",
    "\n",
    "    random_values = np.random.choice(data['user_id'].values, size=1000, replace=False)\n",
    "    repeated_values = np.repeat(random_values, 3665)\n",
    "    test_data = pd.DataFrame()\n",
    "    test_data['user_id'] = repeated_values\n",
    "    test_data['item_id'] = np.tile(np.arange(3665), len(random_values))\n",
    "\n",
    "    train_data = data.loc[data['Month'].isin(train_weeks)]\n",
    "\n",
    "\n",
    "    return train_data, test_data, item_id_to_stockcode, data\n",
    "\n",
    "file_path = './handled_data2.xlsx'\n",
    "train_data, test_data, item_id_to_stockcode, data = prepare_data(file_path)\n",
    "\n",
    "# Print the mapping between item_id and StockCode before training the model\n",
    "print(\"Mapping from item_id to StockCode:\")\n",
    "for item_id, stockcode in item_id_to_stockcode.items():\n",
    "    print(f\"item_id: {item_id} -> StockCode: {stockcode}\")\n",
    "\n",
    "# Define feature columns for the model\n",
    "dnn_feature_columns = [\n",
    "    SparseFeat('user_id', data['user_id'].nunique(), 8),\n",
    "    SparseFeat('item_id', data['item_id'].nunique(), 8)\n",
    "]\n",
    "\n",
    "# Build and compile the model\n",
    "model = NCF(dnn_feature_columns)\n",
    "model.summary()\n",
    "model.compile(optimizer=\"adam\", loss=\"mse\", metrics=['mae'])\n",
    "\n",
    "# Prepare training data\n",
    "train_model_input = {name: train_data[name] for name in ['user_id', 'item_id']}\n",
    "train_labels = train_data['rating']\n",
    "\n",
    "# Train the model\n",
    "model.fit(train_model_input, train_labels, batch_size=32, epochs=50, validation_split=0.2)\n",
    "\n",
    "# Predict on test data\n",
    "test_model_input = {name: test_data[name] for name in ['user_id', 'item_id']}\n",
    "test_predictions = model.predict(test_model_input)\n",
    "\n",
    "# Add predictions to test_data\n",
    "test_data['predicted_rating'] = test_predictions\n",
    "\n"
   ],
   "metadata": {
    "collapsed": false,
    "is_executing": true,
    "ExecuteTime": {
     "start_time": "2024-08-30T04:46:12.020666Z"
    }
   },
   "id": "c4a7acdf2fae435",
   "execution_count": null
  },
  {
   "cell_type": "code",
   "outputs": [
    {
     "data": {
      "text/plain": "array([[22.198454],\n       [28.968863],\n       [28.968863],\n       ...,\n       [21.271963],\n       [21.271963],\n       [21.271963]], dtype=float32)"
     },
     "execution_count": 2,
     "metadata": {},
     "output_type": "execute_result"
    }
   ],
   "source": [
    "test_predictions"
   ],
   "metadata": {
    "collapsed": false,
    "ExecuteTime": {
     "end_time": "2024-08-29T17:57:18.588195Z",
     "start_time": "2024-08-29T17:57:18.582796Z"
    }
   },
   "id": "980c134bc576764e",
   "execution_count": 2
  },
  {
   "cell_type": "code",
   "outputs": [
    {
     "name": "stdout",
     "output_type": "stream",
     "text": [
      "{'user_id': 369          0\n",
      "370          0\n",
      "371          0\n",
      "372          0\n",
      "431          1\n",
      "          ... \n",
      "363377    1055\n",
      "363378    1055\n",
      "363379    1055\n",
      "363381    1055\n",
      "363383    1055\n",
      "Name: user_id, Length: 26372, dtype: int64, 'item_id': 369       1346\n",
      "370       1651\n",
      "371       1654\n",
      "372       1655\n",
      "431        983\n",
      "          ... \n",
      "363377    1878\n",
      "363378    1967\n",
      "363379    2033\n",
      "363381    2034\n",
      "363383    2036\n",
      "Name: item_id, Length: 26372, dtype: int64}\n"
     ]
    }
   ],
   "source": [
    "print(test_model_input)"
   ],
   "metadata": {
    "collapsed": false,
    "ExecuteTime": {
     "end_time": "2024-08-29T16:57:51.171122Z",
     "start_time": "2024-08-29T16:57:51.166645Z"
    }
   },
   "id": "1a2a9523970b8973",
   "execution_count": 15
  },
  {
   "cell_type": "code",
   "outputs": [],
   "source": [
    "list1 = train_data['user_id'].unique()"
   ],
   "metadata": {
    "collapsed": false,
    "ExecuteTime": {
     "end_time": "2024-08-29T17:29:40.287221Z",
     "start_time": "2024-08-29T17:29:40.283354Z"
    }
   },
   "id": "ebd4b54570899459",
   "execution_count": 62
  },
  {
   "cell_type": "code",
   "outputs": [],
   "source": [
    "list2 = test_data['user_id'].unique()"
   ],
   "metadata": {
    "collapsed": false,
    "ExecuteTime": {
     "end_time": "2024-08-29T17:28:19.548363Z",
     "start_time": "2024-08-29T17:28:19.545648Z"
    }
   },
   "id": "6e0f4a599e6d4bd0",
   "execution_count": 57
  },
  {
   "cell_type": "code",
   "outputs": [],
   "source": [
    "filt = (train_data['StockCode'] == '22423')"
   ],
   "metadata": {
    "collapsed": false,
    "ExecuteTime": {
     "end_time": "2024-08-29T17:02:47.348454Z",
     "start_time": "2024-08-29T17:02:47.339611Z"
    }
   },
   "id": "a849a652c614a174",
   "execution_count": 29
  },
  {
   "cell_type": "code",
   "outputs": [
    {
     "data": {
      "text/plain": "        CustomerID StockCode    Month  rating  monthly_rating  user_id  \\\n67           12347     22423  2011-01     196              98        1   \n68           12347     22423  2011-04     276             138        1   \n318          12352     22423  2011-02     212             106        4   \n471          12356     22423  2011-01     196              98        6   \n472          12356     22423  2011-04     276             138        6   \n...            ...       ...      ...     ...             ...      ...   \n360107       18223     22423  2011-02     212             106     2411   \n361460       18239     22423  2011-01     196              98     2420   \n361920       18250     22423  2011-02     212             106     2423   \n362266       18260     22423  2011-01     196              98     2426   \n362267       18260     22423  2011-04     276             138     2426   \n\n        item_id  \n67         1261  \n68         1261  \n318        1261  \n471        1261  \n472        1261  \n...         ...  \n360107     1261  \n361460     1261  \n361920     1261  \n362266     1261  \n362267     1261  \n\n[614 rows x 7 columns]",
      "text/html": "<div>\n<style scoped>\n    .dataframe tbody tr th:only-of-type {\n        vertical-align: middle;\n    }\n\n    .dataframe tbody tr th {\n        vertical-align: top;\n    }\n\n    .dataframe thead th {\n        text-align: right;\n    }\n</style>\n<table border=\"1\" class=\"dataframe\">\n  <thead>\n    <tr style=\"text-align: right;\">\n      <th></th>\n      <th>CustomerID</th>\n      <th>StockCode</th>\n      <th>Month</th>\n      <th>rating</th>\n      <th>monthly_rating</th>\n      <th>user_id</th>\n      <th>item_id</th>\n    </tr>\n  </thead>\n  <tbody>\n    <tr>\n      <th>67</th>\n      <td>12347</td>\n      <td>22423</td>\n      <td>2011-01</td>\n      <td>196</td>\n      <td>98</td>\n      <td>1</td>\n      <td>1261</td>\n    </tr>\n    <tr>\n      <th>68</th>\n      <td>12347</td>\n      <td>22423</td>\n      <td>2011-04</td>\n      <td>276</td>\n      <td>138</td>\n      <td>1</td>\n      <td>1261</td>\n    </tr>\n    <tr>\n      <th>318</th>\n      <td>12352</td>\n      <td>22423</td>\n      <td>2011-02</td>\n      <td>212</td>\n      <td>106</td>\n      <td>4</td>\n      <td>1261</td>\n    </tr>\n    <tr>\n      <th>471</th>\n      <td>12356</td>\n      <td>22423</td>\n      <td>2011-01</td>\n      <td>196</td>\n      <td>98</td>\n      <td>6</td>\n      <td>1261</td>\n    </tr>\n    <tr>\n      <th>472</th>\n      <td>12356</td>\n      <td>22423</td>\n      <td>2011-04</td>\n      <td>276</td>\n      <td>138</td>\n      <td>6</td>\n      <td>1261</td>\n    </tr>\n    <tr>\n      <th>...</th>\n      <td>...</td>\n      <td>...</td>\n      <td>...</td>\n      <td>...</td>\n      <td>...</td>\n      <td>...</td>\n      <td>...</td>\n    </tr>\n    <tr>\n      <th>360107</th>\n      <td>18223</td>\n      <td>22423</td>\n      <td>2011-02</td>\n      <td>212</td>\n      <td>106</td>\n      <td>2411</td>\n      <td>1261</td>\n    </tr>\n    <tr>\n      <th>361460</th>\n      <td>18239</td>\n      <td>22423</td>\n      <td>2011-01</td>\n      <td>196</td>\n      <td>98</td>\n      <td>2420</td>\n      <td>1261</td>\n    </tr>\n    <tr>\n      <th>361920</th>\n      <td>18250</td>\n      <td>22423</td>\n      <td>2011-02</td>\n      <td>212</td>\n      <td>106</td>\n      <td>2423</td>\n      <td>1261</td>\n    </tr>\n    <tr>\n      <th>362266</th>\n      <td>18260</td>\n      <td>22423</td>\n      <td>2011-01</td>\n      <td>196</td>\n      <td>98</td>\n      <td>2426</td>\n      <td>1261</td>\n    </tr>\n    <tr>\n      <th>362267</th>\n      <td>18260</td>\n      <td>22423</td>\n      <td>2011-04</td>\n      <td>276</td>\n      <td>138</td>\n      <td>2426</td>\n      <td>1261</td>\n    </tr>\n  </tbody>\n</table>\n<p>614 rows × 7 columns</p>\n</div>"
     },
     "execution_count": 30,
     "metadata": {},
     "output_type": "execute_result"
    }
   ],
   "source": [
    "train_data[filt]"
   ],
   "metadata": {
    "collapsed": false,
    "ExecuteTime": {
     "end_time": "2024-08-29T17:02:47.829319Z",
     "start_time": "2024-08-29T17:02:47.822378Z"
    }
   },
   "id": "dadd43d2ad1315ef",
   "execution_count": 30
  },
  {
   "cell_type": "code",
   "outputs": [],
   "source": [
    "filt = (train_data['item_id'] == 1261)"
   ],
   "metadata": {
    "collapsed": false,
    "ExecuteTime": {
     "end_time": "2024-08-29T17:03:16.437442Z",
     "start_time": "2024-08-29T17:03:16.433104Z"
    }
   },
   "id": "23bf6f140588684e",
   "execution_count": 31
  },
  {
   "cell_type": "code",
   "outputs": [
    {
     "data": {
      "text/plain": "        CustomerID StockCode    Month  rating  monthly_rating  user_id  \\\n67           12347     22423  2011-01     196              98        1   \n68           12347     22423  2011-04     276             138        1   \n318          12352     22423  2011-02     212             106        4   \n471          12356     22423  2011-01     196              98        6   \n472          12356     22423  2011-04     276             138        6   \n...            ...       ...      ...     ...             ...      ...   \n360107       18223     22423  2011-02     212             106     2411   \n361460       18239     22423  2011-01     196              98     2420   \n361920       18250     22423  2011-02     212             106     2423   \n362266       18260     22423  2011-01     196              98     2426   \n362267       18260     22423  2011-04     276             138     2426   \n\n        item_id  \n67         1261  \n68         1261  \n318        1261  \n471        1261  \n472        1261  \n...         ...  \n360107     1261  \n361460     1261  \n361920     1261  \n362266     1261  \n362267     1261  \n\n[614 rows x 7 columns]",
      "text/html": "<div>\n<style scoped>\n    .dataframe tbody tr th:only-of-type {\n        vertical-align: middle;\n    }\n\n    .dataframe tbody tr th {\n        vertical-align: top;\n    }\n\n    .dataframe thead th {\n        text-align: right;\n    }\n</style>\n<table border=\"1\" class=\"dataframe\">\n  <thead>\n    <tr style=\"text-align: right;\">\n      <th></th>\n      <th>CustomerID</th>\n      <th>StockCode</th>\n      <th>Month</th>\n      <th>rating</th>\n      <th>monthly_rating</th>\n      <th>user_id</th>\n      <th>item_id</th>\n    </tr>\n  </thead>\n  <tbody>\n    <tr>\n      <th>67</th>\n      <td>12347</td>\n      <td>22423</td>\n      <td>2011-01</td>\n      <td>196</td>\n      <td>98</td>\n      <td>1</td>\n      <td>1261</td>\n    </tr>\n    <tr>\n      <th>68</th>\n      <td>12347</td>\n      <td>22423</td>\n      <td>2011-04</td>\n      <td>276</td>\n      <td>138</td>\n      <td>1</td>\n      <td>1261</td>\n    </tr>\n    <tr>\n      <th>318</th>\n      <td>12352</td>\n      <td>22423</td>\n      <td>2011-02</td>\n      <td>212</td>\n      <td>106</td>\n      <td>4</td>\n      <td>1261</td>\n    </tr>\n    <tr>\n      <th>471</th>\n      <td>12356</td>\n      <td>22423</td>\n      <td>2011-01</td>\n      <td>196</td>\n      <td>98</td>\n      <td>6</td>\n      <td>1261</td>\n    </tr>\n    <tr>\n      <th>472</th>\n      <td>12356</td>\n      <td>22423</td>\n      <td>2011-04</td>\n      <td>276</td>\n      <td>138</td>\n      <td>6</td>\n      <td>1261</td>\n    </tr>\n    <tr>\n      <th>...</th>\n      <td>...</td>\n      <td>...</td>\n      <td>...</td>\n      <td>...</td>\n      <td>...</td>\n      <td>...</td>\n      <td>...</td>\n    </tr>\n    <tr>\n      <th>360107</th>\n      <td>18223</td>\n      <td>22423</td>\n      <td>2011-02</td>\n      <td>212</td>\n      <td>106</td>\n      <td>2411</td>\n      <td>1261</td>\n    </tr>\n    <tr>\n      <th>361460</th>\n      <td>18239</td>\n      <td>22423</td>\n      <td>2011-01</td>\n      <td>196</td>\n      <td>98</td>\n      <td>2420</td>\n      <td>1261</td>\n    </tr>\n    <tr>\n      <th>361920</th>\n      <td>18250</td>\n      <td>22423</td>\n      <td>2011-02</td>\n      <td>212</td>\n      <td>106</td>\n      <td>2423</td>\n      <td>1261</td>\n    </tr>\n    <tr>\n      <th>362266</th>\n      <td>18260</td>\n      <td>22423</td>\n      <td>2011-01</td>\n      <td>196</td>\n      <td>98</td>\n      <td>2426</td>\n      <td>1261</td>\n    </tr>\n    <tr>\n      <th>362267</th>\n      <td>18260</td>\n      <td>22423</td>\n      <td>2011-04</td>\n      <td>276</td>\n      <td>138</td>\n      <td>2426</td>\n      <td>1261</td>\n    </tr>\n  </tbody>\n</table>\n<p>614 rows × 7 columns</p>\n</div>"
     },
     "execution_count": 33,
     "metadata": {},
     "output_type": "execute_result"
    }
   ],
   "source": [
    "train_data[filt]"
   ],
   "metadata": {
    "collapsed": false,
    "ExecuteTime": {
     "end_time": "2024-08-29T17:03:27.137557Z",
     "start_time": "2024-08-29T17:03:27.130131Z"
    }
   },
   "id": "7439f7eeb7428cc",
   "execution_count": 33
  },
  {
   "cell_type": "code",
   "outputs": [
    {
     "data": {
      "text/plain": "array([[42.92569 ],\n       [58.77943 ],\n       [58.77943 ],\n       ...,\n       [45.686474],\n       [45.686474],\n       [45.686474]], dtype=float32)"
     },
     "execution_count": 47,
     "metadata": {},
     "output_type": "execute_result"
    }
   ],
   "source": [
    "test_predictions"
   ],
   "metadata": {
    "collapsed": false,
    "ExecuteTime": {
     "end_time": "2024-08-29T17:23:44.248733Z",
     "start_time": "2024-08-29T17:23:44.244801Z"
    }
   },
   "id": "e3cb00d4dd29fb03",
   "execution_count": 47
  },
  {
   "cell_type": "code",
   "outputs": [
    {
     "data": {
      "text/plain": "369          6\n370          6\n371          6\n372          6\n431          8\n          ... \n363377    4338\n363378    4338\n363379    4338\n363381    4338\n363383    4338\nName: user_id, Length: 26372, dtype: int64"
     },
     "execution_count": 48,
     "metadata": {},
     "output_type": "execute_result"
    }
   ],
   "source": [
    "test_model_input['user_id']"
   ],
   "metadata": {
    "collapsed": false,
    "ExecuteTime": {
     "end_time": "2024-08-29T17:23:59.736632Z",
     "start_time": "2024-08-29T17:23:59.729074Z"
    }
   },
   "id": "37b89b7d6d2bcc56",
   "execution_count": 48
  },
  {
   "cell_type": "code",
   "outputs": [
    {
     "data": {
      "text/plain": "{'user_id': 369          0\n 370          0\n 371          0\n 372          0\n 431          1\n           ... \n 363377    1055\n 363378    1055\n 363379    1055\n 363381    1055\n 363383    1055\n Name: user_id, Length: 26372, dtype: int64,\n 'item_id': 369       1346\n 370       1651\n 371       1654\n 372       1655\n 431        983\n           ... \n 363377    1878\n 363378    1967\n 363379    2033\n 363381    2034\n 363383    2036\n Name: item_id, Length: 26372, dtype: int64}"
     },
     "execution_count": 39,
     "metadata": {},
     "output_type": "execute_result"
    }
   ],
   "source": [
    "test_model_input"
   ],
   "metadata": {
    "collapsed": false,
    "ExecuteTime": {
     "end_time": "2024-08-29T17:07:20.511219Z",
     "start_time": "2024-08-29T17:07:20.506790Z"
    }
   },
   "id": "5d58fb7adb9ae06c",
   "execution_count": 39
  },
  {
   "cell_type": "code",
   "outputs": [
    {
     "data": {
      "text/plain": "{0: '10002',\n 1: '10080',\n 2: '10120',\n 3: '10123C',\n 4: '10124A',\n 5: '10124G',\n 6: '10125',\n 7: '10133',\n 8: '10135',\n 9: '11001',\n 10: '15030',\n 11: '15034',\n 12: '15036',\n 13: '15039',\n 14: '15044A',\n 15: '15044B',\n 16: '15044C',\n 17: '15044D',\n 18: '15056BL',\n 19: '15056N',\n 20: '15056P',\n 21: '15058A',\n 22: '15058B',\n 23: '15058C',\n 24: '15060B',\n 25: '16008',\n 26: '16010',\n 27: '16011',\n 28: '16012',\n 29: '16014',\n 30: '16015',\n 31: '16016',\n 32: '16020C',\n 33: '16033',\n 34: '16043',\n 35: '16045',\n 36: '16046',\n 37: '16048',\n 38: '16049',\n 39: '16052',\n 40: '16054',\n 41: '16151A',\n 42: '16156L',\n 43: '16156S',\n 44: '16161G',\n 45: '16161M',\n 46: '16161P',\n 47: '16161U',\n 48: '16162L',\n 49: '16162M',\n 50: '16168M',\n 51: '16169E',\n 52: '16169K',\n 53: '16169M',\n 54: '16169N',\n 55: '16169P',\n 56: '16202A',\n 57: '16202B',\n 58: '16202E',\n 59: '16206B',\n 60: '16207A',\n 61: '16207B',\n 62: '16216',\n 63: '16218',\n 64: '16219',\n 65: '16225',\n 66: '16235',\n 67: '16236',\n 68: '16237',\n 69: '16238',\n 70: '16244B',\n 71: '16248B',\n 72: '16254',\n 73: '16258A',\n 74: '16259',\n 75: '17001',\n 76: '17003',\n 77: '17007B',\n 78: '17011F',\n 79: '17012A',\n 80: '17012B',\n 81: '17012C',\n 82: '17012D',\n 83: '17012E',\n 84: '17012F',\n 85: '17013D',\n 86: '17014A',\n 87: '17021',\n 88: '17028J',\n 89: '17038',\n 90: '17084A',\n 91: '17084J',\n 92: '17084N',\n 93: '17084P',\n 94: '17084R',\n 95: '17090A',\n 96: '17090D',\n 97: '17091A',\n 98: '17091J',\n 99: '17096',\n 100: '17107D',\n 101: '17109D',\n 102: '17129F',\n 103: '17136A',\n 104: '17164B',\n 105: '17165D',\n 106: '17174',\n 107: '17191A',\n 108: '18007',\n 109: '18094C',\n 110: '18097A',\n 111: '18097C',\n 112: '18098C',\n 113: '20615',\n 114: '20616',\n 115: '20617',\n 116: '20618',\n 117: '20619',\n 118: '20622',\n 119: '20652',\n 120: '20653',\n 121: '20654',\n 122: '20655',\n 123: '20657',\n 124: '20658',\n 125: '20659',\n 126: '20661',\n 127: '20662',\n 128: '20663',\n 129: '20664',\n 130: '20665',\n 131: '20666',\n 132: '20667',\n 133: '20668',\n 134: '20669',\n 135: '20670',\n 136: '20671',\n 137: '20674',\n 138: '20675',\n 139: '20676',\n 140: '20677',\n 141: '20678',\n 142: '20679',\n 143: '20681',\n 144: '20682',\n 145: '20684',\n 146: '20685',\n 147: '20686',\n 148: '20694',\n 149: '20695',\n 150: '20696',\n 151: '20697',\n 152: '20698',\n 153: '20699',\n 154: '20700',\n 155: '20701',\n 156: '20702',\n 157: '20703',\n 158: '20704',\n 159: '20705',\n 160: '20707',\n 161: '20711',\n 162: '20712',\n 163: '20713',\n 164: '20716',\n 165: '20717',\n 166: '20718',\n 167: '20719',\n 168: '20723',\n 169: '20724',\n 170: '20725',\n 171: '20726',\n 172: '20727',\n 173: '20728',\n 174: '20731',\n 175: '20733',\n 176: '20735',\n 177: '20748',\n 178: '20749',\n 179: '20750',\n 180: '20751',\n 181: '20752',\n 182: '20754',\n 183: '20755',\n 184: '20756',\n 185: '20757',\n 186: '20758',\n 187: '20759',\n 188: '20760',\n 189: '20761',\n 190: '20762',\n 191: '20763',\n 192: '20764',\n 193: '20765',\n 194: '20766',\n 195: '20767',\n 196: '20768',\n 197: '20769',\n 198: '20770',\n 199: '20771',\n 200: '20772',\n 201: '20773',\n 202: '20774',\n 203: '20775',\n 204: '20777',\n 205: '20778',\n 206: '20780',\n 207: '20781',\n 208: '20782',\n 209: '20785',\n 210: '20793',\n 211: '20794',\n 212: '20795',\n 213: '20796',\n 214: '20798',\n 215: '20801',\n 216: '20802',\n 217: '20803',\n 218: '20816',\n 219: '20818',\n 220: '20819',\n 221: '20820',\n 222: '20821',\n 223: '20823',\n 224: '20826',\n 225: '20827',\n 226: '20828',\n 227: '20829',\n 228: '20830',\n 229: '20831',\n 230: '20832',\n 231: '20835',\n 232: '20836',\n 233: '20837',\n 234: '20838',\n 235: '20839',\n 236: '20840',\n 237: '20845',\n 238: '20846',\n 239: '20847',\n 240: '20848',\n 241: '20851',\n 242: '20854',\n 243: '20856',\n 244: '20857',\n 245: '20861',\n 246: '20866',\n 247: '20867',\n 248: '20868',\n 249: '20869',\n 250: '20878',\n 251: '20886',\n 252: '20892',\n 253: '20893',\n 254: '20894',\n 255: '20897',\n 256: '20898',\n 257: '20901',\n 258: '20902',\n 259: '20903',\n 260: '20906',\n 261: '20910',\n 262: '20914',\n 263: '20931',\n 264: '20932',\n 265: '20933',\n 266: '20934',\n 267: '20935',\n 268: '20936',\n 269: '20941',\n 270: '20956',\n 271: '20961',\n 272: '20963',\n 273: '20964',\n 274: '20966',\n 275: '20967',\n 276: '20969',\n 277: '20970',\n 278: '20971',\n 279: '20972',\n 280: '20973',\n 281: '20974',\n 282: '20975',\n 283: '20977',\n 284: '20978',\n 285: '20979',\n 286: '20980',\n 287: '20981',\n 288: '20982',\n 289: '20983',\n 290: '20984',\n 291: '20985',\n 292: '20986',\n 293: '20992',\n 294: '20996',\n 295: '20997',\n 296: '20998',\n 297: '21000',\n 298: '21001',\n 299: '21002',\n 300: '21003',\n 301: '21011',\n 302: '21012',\n 303: '21014',\n 304: '21015',\n 305: '21018',\n 306: '21025',\n 307: '21026',\n 308: '21027',\n 309: '21028',\n 310: '21030',\n 311: '21031',\n 312: '21032',\n 313: '21033',\n 314: '21034',\n 315: '21035',\n 316: '21038',\n 317: '21039',\n 318: '21040',\n 319: '21041',\n 320: '21042',\n 321: '21043',\n 322: '21051',\n 323: '21054',\n 324: '21055',\n 325: '21056',\n 326: '21058',\n 327: '21059',\n 328: '21060',\n 329: '21061',\n 330: '21062',\n 331: '21063',\n 332: '21064',\n 333: '21065',\n 334: '21066',\n 335: '21067',\n 336: '21068',\n 337: '21069',\n 338: '21070',\n 339: '21071',\n 340: '21078',\n 341: '21080',\n 342: '21084',\n 343: '21086',\n 344: '21087',\n 345: '21088',\n 346: '21089',\n 347: '21090',\n 348: '21094',\n 349: '21095',\n 350: '21096',\n 351: '21098',\n 352: '21100',\n 353: '21106',\n 354: '21107',\n 355: '21108',\n 356: '21109',\n 357: '21110',\n 358: '21111',\n 359: '21112',\n 360: '21114',\n 361: '21115',\n 362: '21116',\n 363: '21117',\n 364: '21121',\n 365: '21122',\n 366: '21123',\n 367: '21124',\n 368: '21125',\n 369: '21126',\n 370: '21128',\n 371: '21129',\n 372: '21131',\n 373: '21132',\n 374: '21135',\n 375: '21136',\n 376: '21137',\n 377: '21143',\n 378: '21145',\n 379: '21147',\n 380: '21154',\n 381: '21155',\n 382: '21156',\n 383: '21157',\n 384: '21158',\n 385: '21159',\n 386: '21161',\n 387: '21162',\n 388: '21163',\n 389: '21164',\n 390: '21165',\n 391: '21166',\n 392: '21167',\n 393: '21169',\n 394: '21171',\n 395: '21172',\n 396: '21174',\n 397: '21175',\n 398: '21179',\n 399: '21181',\n 400: '21187',\n 401: '21188',\n 402: '21189',\n 403: '21190',\n 404: '21191',\n 405: '21192',\n 406: '21194',\n 407: '21195',\n 408: '21196',\n 409: '21197',\n 410: '21198',\n 411: '21199',\n 412: '21200',\n 413: '21201',\n 414: '21202',\n 415: '21204',\n 416: '21205',\n 417: '21206',\n 418: '21207',\n 419: '21208',\n 420: '21209',\n 421: '21210',\n 422: '21211',\n 423: '21212',\n 424: '21213',\n 425: '21215',\n 426: '21216',\n 427: '21217',\n 428: '21218',\n 429: '21219',\n 430: '21220',\n 431: '21221',\n 432: '21222',\n 433: '21224',\n 434: '21226',\n 435: '21228',\n 436: '21231',\n 437: '21232',\n 438: '21238',\n 439: '21239',\n 440: '21240',\n 441: '21242',\n 442: '21243',\n 443: '21244',\n 444: '21245',\n 445: '21246',\n 446: '21248',\n 447: '21249',\n 448: '21250',\n 449: '21251',\n 450: '21253',\n 451: '21257',\n 452: '21258',\n 453: '21259',\n 454: '21260',\n 455: '21261',\n 456: '21262',\n 457: '21263',\n 458: '21264',\n 459: '21265',\n 460: '21268',\n 461: '21269',\n 462: '21270',\n 463: '21272',\n 464: '21275',\n 465: '21277',\n 466: '21278',\n 467: '21279',\n 468: '21280',\n 469: '21281',\n 470: '21284',\n 471: '21285',\n 472: '21286',\n 473: '21287',\n 474: '21288',\n 475: '21289',\n 476: '21291',\n 477: '21292',\n 478: '21293',\n 479: '21294',\n 480: '21306',\n 481: '21307',\n 482: '21310',\n 483: '21311',\n 484: '21313',\n 485: '21314',\n 486: '21316',\n 487: '21317',\n 488: '21318',\n 489: '21319',\n 490: '21320',\n 491: '21324',\n 492: '21326',\n 493: '21327',\n 494: '21328',\n 495: '21329',\n 496: '21331',\n 497: '21332',\n 498: '21333',\n 499: '21336',\n 500: '21340',\n 501: '21344',\n 502: '21348',\n 503: '21349',\n 504: '21351',\n 505: '21352',\n 506: '21354',\n 507: '21355',\n 508: '21356',\n 509: '21357',\n 510: '21358',\n 511: '21359',\n 512: '21360',\n 513: '21361',\n 514: '21363',\n 515: '21364',\n 516: '21365',\n 517: '21366',\n 518: '21367',\n 519: '21368',\n 520: '21369',\n 521: '21370',\n 522: '21371',\n 523: '21372',\n 524: '21373',\n 525: '21374',\n 526: '21375',\n 527: '21376',\n 528: '21377',\n 529: '21378',\n 530: '21379',\n 531: '21380',\n 532: '21381',\n 533: '21382',\n 534: '21383',\n 535: '21385',\n 536: '21386',\n 537: '21389',\n 538: '21390',\n 539: '21391',\n 540: '21392',\n 541: '21393',\n 542: '21394',\n 543: '21395',\n 544: '21397',\n 545: '21398',\n 546: '21399',\n 547: '21400',\n 548: '21401',\n 549: '21402',\n 550: '21403',\n 551: '21407',\n 552: '21408',\n 553: '21411',\n 554: '21413',\n 555: '21414',\n 556: '21415',\n 557: '21416',\n 558: '21417',\n 559: '21418',\n 560: '21420',\n 561: '21421',\n 562: '21422',\n 563: '21424',\n 564: '21425',\n 565: '21426',\n 566: '21427',\n 567: '21428',\n 568: '21429',\n 569: '21430',\n 570: '21439',\n 571: '21441',\n 572: '21442',\n 573: '21445',\n 574: '21446',\n 575: '21447',\n 576: '21448',\n 577: '21452',\n 578: '21454',\n 579: '21455',\n 580: '21456',\n 581: '21457',\n 582: '21458',\n 583: '21459',\n 584: '21460',\n 585: '21461',\n 586: '21462',\n 587: '21463',\n 588: '21464',\n 589: '21465',\n 590: '21466',\n 591: '21467',\n 592: '21468',\n 593: '21469',\n 594: '21470',\n 595: '21471',\n 596: '21472',\n 597: '21473',\n 598: '21476',\n 599: '21479',\n 600: '21481',\n 601: '21484',\n 602: '21485',\n 603: '21486',\n 604: '21488',\n 605: '21494',\n 606: '21495',\n 607: '21497',\n 608: '21498',\n 609: '21499',\n 610: '21500',\n 611: '21503',\n 612: '21504',\n 613: '21506',\n 614: '21507',\n 615: '21508',\n 616: '21509',\n 617: '21518',\n 618: '21519',\n 619: '21520',\n 620: '21523',\n 621: '21524',\n 622: '21527',\n 623: '21528',\n 624: '21530',\n 625: '21531',\n 626: '21533',\n 627: '21534',\n 628: '21535',\n 629: '21537',\n 630: '21538',\n 631: '21539',\n 632: '21544',\n 633: '21547',\n 634: '21555',\n 635: '21556',\n 636: '21557',\n 637: '21558',\n 638: '21559',\n 639: '21561',\n 640: '21562',\n 641: '21563',\n 642: '21564',\n 643: '21576',\n 644: '21577',\n 645: '21578',\n 646: '21579',\n 647: '21580',\n 648: '21581',\n 649: '21584',\n 650: '21586',\n 651: '21587',\n 652: '21588',\n 653: '21591',\n 654: '21592',\n 655: '21609',\n 656: '21613',\n 657: '21614',\n 658: '21615',\n 659: '21616',\n 660: '21617',\n 661: '21618',\n 662: '21619',\n 663: '21620',\n 664: '21621',\n 665: '21622',\n 666: '21623',\n 667: '21624',\n 668: '21625',\n 669: '21626',\n 670: '21627',\n 671: '21628',\n 672: '21629',\n 673: '21630',\n 674: '21631',\n 675: '21632',\n 676: '21633',\n 677: '21634',\n 678: '21635',\n 679: '21636',\n 680: '21637',\n 681: '21638',\n 682: '21640',\n 683: '21641',\n 684: '21642',\n 685: '21643',\n 686: '21644',\n 687: '21647',\n 688: '21648',\n 689: '21650',\n 690: '21651',\n 691: '21654',\n 692: '21655',\n 693: '21656',\n 694: '21657',\n 695: '21658',\n 696: '21661',\n 697: '21662',\n 698: '21664',\n 699: '21666',\n 700: '21667',\n 701: '21668',\n 702: '21669',\n 703: '21670',\n 704: '21671',\n 705: '21672',\n 706: '21673',\n 707: '21675',\n 708: '21676',\n 709: '21677',\n 710: '21678',\n 711: '21679',\n 712: '21680',\n 713: '21681',\n 714: '21682',\n 715: '21683',\n 716: '21684',\n 717: '21686',\n 718: '21688',\n 719: '21689',\n 720: '21690',\n 721: '21692',\n 722: '21693',\n 723: '21694',\n 724: '21695',\n 725: '21696',\n 726: '21698',\n 727: '21700',\n 728: '21703',\n 729: '21704',\n 730: '21705',\n 731: '21706',\n 732: '21707',\n 733: '21708',\n 734: '21709',\n 735: '21710',\n 736: '21711',\n 737: '21713',\n 738: '21714',\n 739: '21715',\n 740: '21716',\n 741: '21717',\n 742: '21718',\n 743: '21719',\n 744: '21720',\n 745: '21721',\n 746: '21722',\n 747: '21723',\n 748: '21724',\n 749: '21725',\n 750: '21726',\n 751: '21730',\n 752: '21731',\n 753: '21733',\n 754: '21735',\n 755: '21736',\n 756: '21738',\n 757: '21739',\n 758: '21741',\n 759: '21742',\n 760: '21743',\n 761: '21744',\n 762: '21745',\n 763: '21746',\n 764: '21747',\n 765: '21749',\n 766: '21750',\n 767: '21754',\n 768: '21755',\n 769: '21756',\n 770: '21757',\n 771: '21758',\n 772: '21761',\n 773: '21763',\n 774: '21769',\n 775: '21770',\n 776: '21773',\n 777: '21774',\n 778: '21775',\n 779: '21777',\n 780: '21781',\n 781: '21784',\n 782: '21785',\n 783: '21786',\n 784: '21787',\n 785: '21788',\n 786: '21789',\n 787: '21790',\n 788: '21791',\n 789: '21792',\n 790: '21793',\n 791: '21794',\n 792: '21801',\n 793: '21802',\n 794: '21803',\n 795: '21804',\n 796: '21807',\n 797: '21808',\n 798: '21809',\n 799: '21810',\n 800: '21811',\n 801: '21812',\n 802: '21813',\n 803: '21814',\n 804: '21815',\n 805: '21816',\n 806: '21817',\n 807: '21818',\n 808: '21819',\n 809: '21820',\n 810: '21821',\n 811: '21822',\n 812: '21823',\n 813: '21824',\n 814: '21826',\n 815: '21827',\n 816: '21828',\n 817: '21829',\n 818: '21830',\n 819: '21832',\n 820: '21833',\n 821: '21836',\n 822: '21839',\n 823: '21841',\n 824: '21843',\n 825: '21844',\n 826: '21845',\n 827: '21846',\n 828: '21847',\n 829: '21849',\n 830: '21850',\n 831: '21851',\n 832: '21864',\n 833: '21865',\n 834: '21866',\n 835: '21867',\n 836: '21868',\n 837: '21870',\n 838: '21871',\n 839: '21872',\n 840: '21873',\n 841: '21874',\n 842: '21875',\n 843: '21876',\n 844: '21877',\n 845: '21878',\n 846: '21879',\n 847: '21880',\n 848: '21881',\n 849: '21882',\n 850: '21883',\n 851: '21884',\n 852: '21888',\n 853: '21889',\n 854: '21890',\n 855: '21891',\n 856: '21892',\n 857: '21894',\n 858: '21895',\n 859: '21896',\n 860: '21897',\n 861: '21898',\n 862: '21899',\n 863: '21900',\n 864: '21901',\n 865: '21902',\n 866: '21903',\n 867: '21904',\n 868: '21905',\n 869: '21906',\n 870: '21907',\n 871: '21908',\n 872: '21910',\n 873: '21911',\n 874: '21912',\n 875: '21913',\n 876: '21914',\n 877: '21915',\n 878: '21916',\n 879: '21917',\n 880: '21918',\n 881: '21922',\n 882: '21925',\n 883: '21926',\n 884: '21927',\n 885: '21928',\n 886: '21929',\n 887: '21930',\n 888: '21931',\n 889: '21932',\n 890: '21933',\n 891: '21934',\n 892: '21935',\n 893: '21936',\n 894: '21937',\n 895: '21942',\n 896: '21943',\n 897: '21944',\n 898: '21945',\n 899: '21946',\n 900: '21947',\n 901: '21948',\n 902: '21949',\n 903: '21955',\n 904: '21967',\n 905: '21972',\n 906: '21973',\n 907: '21974',\n 908: '21975',\n 909: '21976',\n 910: '21977',\n 911: '21980',\n 912: '21981',\n 913: '21982',\n 914: '21983',\n 915: '21984',\n 916: '21985',\n 917: '21986',\n 918: '21987',\n 919: '21988',\n 920: '21989',\n 921: '21990',\n 922: '21991',\n 923: '21992',\n 924: '21993',\n 925: '22021',\n 926: '22023',\n 927: '22024',\n 928: '22025',\n 929: '22026',\n 930: '22027',\n 931: '22028',\n 932: '22029',\n 933: '22030',\n 934: '22031',\n 935: '22032',\n 936: '22033',\n 937: '22034',\n 938: '22035',\n 939: '22037',\n 940: '22038',\n 941: '22039',\n 942: '22040',\n 943: '22041',\n 944: '22042',\n 945: '22043',\n 946: '22044',\n 947: '22045',\n 948: '22046',\n 949: '22047',\n 950: '22048',\n 951: '22049',\n 952: '22050',\n 953: '22051',\n 954: '22052',\n 955: '22053',\n 956: '22055',\n 957: '22057',\n 958: '22059',\n 959: '22060',\n 960: '22061',\n 961: '22062',\n 962: '22063',\n 963: '22064',\n 964: '22065',\n 965: '22066',\n 966: '22067',\n 967: '22068',\n 968: '22069',\n 969: '22070',\n 970: '22071',\n 971: '22072',\n 972: '22073',\n 973: '22074',\n 974: '22075',\n 975: '22076',\n 976: '22077',\n 977: '22078',\n 978: '22079',\n 979: '22080',\n 980: '22081',\n 981: '22082',\n 982: '22083',\n 983: '22084',\n 984: '22085',\n 985: '22086',\n 986: '22087',\n 987: '22088',\n 988: '22089',\n 989: '22090',\n 990: '22091',\n 991: '22092',\n 992: '22093',\n 993: '22094',\n 994: '22095',\n 995: '22096',\n 996: '22097',\n 997: '22098',\n 998: '22099',\n 999: '22100',\n ...}"
     },
     "execution_count": 45,
     "metadata": {},
     "output_type": "execute_result"
    }
   ],
   "source": [
    "item_id_to_stockcode"
   ],
   "metadata": {
    "collapsed": false,
    "ExecuteTime": {
     "end_time": "2024-08-29T17:22:18.205354Z",
     "start_time": "2024-08-29T17:22:18.184161Z"
    }
   },
   "id": "4b7ffcfd3b27123b",
   "execution_count": 45
  },
  {
   "cell_type": "code",
   "outputs": [
    {
     "ename": "TypeError",
     "evalue": "unique() takes 1 positional argument but 2 were given",
     "output_type": "error",
     "traceback": [
      "\u001B[0;31m---------------------------------------------------------------------------\u001B[0m",
      "\u001B[0;31mTypeError\u001B[0m                                 Traceback (most recent call last)",
      "Cell \u001B[0;32mIn[58], line 1\u001B[0m\n\u001B[0;32m----> 1\u001B[0m common_elements \u001B[38;5;241m=\u001B[39m \u001B[38;5;28;43mlist\u001B[39;49m\u001B[43m(\u001B[49m\u001B[38;5;28;43mset\u001B[39;49m\u001B[43m(\u001B[49m\u001B[43mlist1\u001B[49m\u001B[43m)\u001B[49m\u001B[43m \u001B[49m\u001B[38;5;241;43m&\u001B[39;49m\u001B[43m \u001B[49m\u001B[38;5;28;43mset\u001B[39;49m\u001B[43m(\u001B[49m\u001B[43mlist2\u001B[49m\u001B[43m)\u001B[49m\u001B[43m)\u001B[49m\n",
      "\u001B[0;31mTypeError\u001B[0m: unique() takes 1 positional argument but 2 were given"
     ]
    }
   ],
   "source": [
    "common_elements = list(set(list1) & set(list2))"
   ],
   "metadata": {
    "collapsed": false,
    "ExecuteTime": {
     "end_time": "2024-08-29T17:28:25.851401Z",
     "start_time": "2024-08-29T17:28:25.835459Z"
    }
   },
   "id": "f893be3daef44725",
   "execution_count": 58
  },
  {
   "cell_type": "code",
   "outputs": [
    {
     "ename": "TypeError",
     "evalue": "unique() takes 1 positional argument but 2 were given",
     "output_type": "error",
     "traceback": [
      "\u001B[0;31m---------------------------------------------------------------------------\u001B[0m",
      "\u001B[0;31mTypeError\u001B[0m                                 Traceback (most recent call last)",
      "Cell \u001B[0;32mIn[66], line 1\u001B[0m\n\u001B[0;32m----> 1\u001B[0m \u001B[38;5;28;43mlist\u001B[39;49m\u001B[43m(\u001B[49m\u001B[43mlist1\u001B[49m\u001B[43m[\u001B[49m\u001B[38;5;241;43m0\u001B[39;49m\u001B[43m]\u001B[49m\u001B[43m)\u001B[49m\n",
      "\u001B[0;31mTypeError\u001B[0m: unique() takes 1 positional argument but 2 were given"
     ]
    }
   ],
   "source": [],
   "metadata": {
    "collapsed": false,
    "ExecuteTime": {
     "end_time": "2024-08-29T17:30:08.732195Z",
     "start_time": "2024-08-29T17:30:08.716262Z"
    }
   },
   "id": "b8051eb71de1f061",
   "execution_count": 66
  },
  {
   "cell_type": "code",
   "outputs": [],
   "source": [
    "common_elements = np.intersect1d(list1, list2)"
   ],
   "metadata": {
    "collapsed": false,
    "ExecuteTime": {
     "end_time": "2024-08-29T17:31:09.678002Z",
     "start_time": "2024-08-29T17:31:09.674912Z"
    }
   },
   "id": "aa78e29985274e7d",
   "execution_count": 68
  },
  {
   "cell_type": "code",
   "outputs": [
    {
     "data": {
      "text/plain": "array([  22,   39,   42,   54,   55,   61,   69,   75,   86,   96,   97,\n        100,  103,  105,  110,  111,  115,  119,  124,  139,  143,  155,\n        160,  165,  176,  177,  182,  189,  200,  203,  204,  205,  206,\n        215,  223,  227,  233,  241,  243,  245,  252,  253,  264,  270,\n        272,  273,  274,  282,  291,  293,  294,  296,  298,  304,  310,\n        314,  325,  326,  344,  346,  386,  389,  390,  391,  393,  404,\n        409,  410,  416,  425,  427,  430,  431,  436,  437,  441,  445,\n        448,  453,  455,  457,  461,  465,  466,  468,  471,  473,  481,\n        485,  492,  495,  499,  501,  504,  509,  510,  511,  512,  515,\n        516,  518,  527,  534,  537,  550,  555,  558,  562,  565,  567,\n        570,  573,  581,  584,  585,  601,  603,  623,  631,  633,  645,\n        649,  658,  660,  662,  667,  668,  679,  691,  693,  694,  695,\n        696,  719,  725,  726,  728,  731,  733,  738,  777,  779,  787,\n        795,  796,  802,  821,  824,  829,  836,  841,  843,  844,  845,\n        851,  852,  867,  884,  887,  889,  892,  899,  901,  915,  919,\n        928,  929,  930,  935,  949,  951,  952,  954,  968,  971,  976,\n        977,  981,  996,  997,  998, 1016, 1024, 1026, 1034, 1035, 1042,\n       1046, 1047, 1054, 1055, 1056, 1059, 1064, 1070, 1094, 1098, 1102,\n       1105, 1114, 1127, 1128, 1134, 1135, 1137, 1152, 1155, 1156, 1180,\n       1186, 1187, 1196, 1197, 1201, 1209, 1211, 1216, 1219, 1231, 1234,\n       1241, 1242, 1249, 1254, 1256, 1258, 1263, 1264, 1266, 1268, 1277,\n       1282, 1283, 1288, 1292, 1294, 1298, 1301, 1303, 1318, 1334, 1338,\n       1340, 1352, 1355, 1356, 1359, 1360, 1364, 1369, 1370, 1371, 1376,\n       1380, 1383, 1384, 1385, 1389, 1395, 1400, 1408, 1418, 1422, 1428,\n       1430, 1431, 1435, 1442, 1449, 1458, 1460, 1464, 1466, 1483, 1496,\n       1498, 1500, 1505, 1508, 1511, 1516, 1537, 1540, 1552, 1587, 1589,\n       1593, 1594, 1603, 1609, 1616, 1618, 1620, 1627, 1631, 1634, 1640,\n       1650, 1662, 1669, 1674, 1690, 1700, 1707, 1713, 1714, 1717, 1719,\n       1736, 1738, 1740, 1753, 1754, 1755, 1757, 1758, 1759, 1764, 1768,\n       1771, 1778, 1780, 1784, 1796, 1798, 1801, 1808, 1812, 1819, 1820,\n       1831, 1847, 1854, 1868, 1869, 1874, 1880, 1892, 1898, 1904, 1909,\n       1925, 1929, 1938, 1949, 1951, 1955, 1960, 1964, 1965, 1969, 1971,\n       1973, 1982, 1984, 1985, 1998, 1999, 2000, 2007, 2008, 2017, 2019,\n       2026, 2034, 2037, 2040, 2042, 2044, 2048, 2051, 2064, 2067, 2072,\n       2084, 2087, 2092, 2093, 2105, 2107, 2114, 2119, 2121, 2125, 2131,\n       2132, 2140, 2150, 2158, 2161, 2163, 2166, 2171, 2173, 2177, 2178,\n       2211, 2212, 2221, 2223, 2226, 2228, 2229, 2237, 2247, 2249, 2257,\n       2266, 2308, 2313, 2321, 2325, 2329, 2331, 2337, 2339, 2350, 2352,\n       2359, 2364, 2369, 2387, 2391, 2392, 2396, 2403, 2406, 2408, 2410,\n       2426, 2433, 2435, 2437, 2447, 2448, 2462, 2464, 2473, 2478, 2480,\n       2485, 2487, 2490, 2494, 2509, 2512, 2517, 2518, 2528, 2536, 2537,\n       2544, 2548, 2550, 2552, 2554, 2555, 2562, 2571, 2574, 2577, 2582,\n       2583, 2584, 2589, 2594, 2598, 2602, 2618, 2621, 2633, 2637, 2638,\n       2649, 2650, 2660, 2666, 2671, 2689, 2692, 2698, 2702, 2703, 2706,\n       2707, 2714, 2724, 2742, 2744, 2759, 2764, 2777, 2778, 2786, 2789,\n       2795, 2796, 2800, 2804, 2811, 2815, 2817, 2821, 2822, 2835, 2839,\n       2847, 2852, 2862, 2863, 2865, 2869, 2895, 2902, 2903, 2908, 2918,\n       2919, 2922, 2938, 2940, 2943, 2967, 2969, 2975, 2981, 2991, 2999,\n       3002, 3007, 3012, 3016, 3019, 3025, 3028, 3033, 3046, 3047, 3051,\n       3065, 3066, 3076, 3084, 3085, 3087, 3089, 3094, 3095, 3097, 3110,\n       3121, 3122, 3130, 3133, 3139, 3142, 3145, 3153, 3157, 3161, 3165,\n       3169, 3171, 3172, 3175, 3177, 3179, 3185, 3188, 3189, 3190, 3193,\n       3194, 3196, 3198, 3206, 3209, 3212, 3221, 3223, 3224, 3226, 3243,\n       3250, 3254, 3257, 3262, 3269, 3273, 3274, 3276, 3281, 3283, 3298,\n       3299, 3300, 3301, 3303, 3319, 3321, 3332, 3339, 3345, 3349, 3356,\n       3358, 3362, 3365, 3372, 3373, 3374, 3377, 3391, 3403, 3409, 3412,\n       3414, 3415, 3418, 3423, 3434, 3441, 3448, 3453, 3454, 3455, 3457,\n       3461, 3489, 3493, 3510, 3515, 3517, 3527, 3561, 3563, 3569, 3572,\n       3579, 3601, 3609, 3610, 3620, 3622, 3628, 3632, 3640, 3641, 3643,\n       3648, 3663, 3664, 3671, 3672, 3676, 3683, 3684, 3690, 3691, 3694,\n       3701, 3704, 3708, 3713, 3723, 3729, 3732, 3735, 3746, 3765, 3772,\n       3773, 3776, 3777, 3779, 3789, 3801, 3809, 3820, 3824, 3831, 3841,\n       3844, 3845, 3846, 3858, 3862, 3869, 3870, 3872, 3879, 3882, 3884,\n       3887, 3889, 3891, 3895, 3897, 3901, 3904, 3905, 3914, 3919, 3930,\n       3935, 3943, 3947, 3956, 3957, 3963, 3967, 3981, 3988, 3992, 3993,\n       3998, 4011, 4016, 4022, 4030, 4032, 4033, 4046, 4048, 4049, 4072,\n       4088, 4094, 4103, 4115, 4120, 4136, 4158, 4160, 4161, 4166, 4170,\n       4171, 4173, 4182, 4184, 4196, 4199, 4202, 4207, 4214, 4220, 4227,\n       4232, 4233, 4236, 4249, 4253, 4254, 4257, 4258, 4267, 4273, 4275,\n       4287, 4288, 4292, 4294, 4295, 4298, 4299, 4300, 4306, 4310, 4318,\n       4320, 4337])"
     },
     "execution_count": 69,
     "metadata": {},
     "output_type": "execute_result"
    }
   ],
   "source": [
    "common_elements"
   ],
   "metadata": {
    "collapsed": false,
    "ExecuteTime": {
     "end_time": "2024-08-29T17:31:12.258964Z",
     "start_time": "2024-08-29T17:31:12.254794Z"
    }
   },
   "id": "75c23d26a6d8d4b",
   "execution_count": 69
  },
  {
   "cell_type": "code",
   "outputs": [],
   "source": [
    "unique_elements = np.unique(common_elements)"
   ],
   "metadata": {
    "collapsed": false,
    "ExecuteTime": {
     "end_time": "2024-08-29T17:32:29.246728Z",
     "start_time": "2024-08-29T17:32:29.242758Z"
    }
   },
   "id": "d3dda403148ffab2",
   "execution_count": 70
  },
  {
   "cell_type": "code",
   "outputs": [
    {
     "data": {
      "text/plain": "array([  22,   39,   42,   54,   55,   61,   69,   75,   86,   96,   97,\n        100,  103,  105,  110,  111,  115,  119,  124,  139,  143,  155,\n        160,  165,  176,  177,  182,  189,  200,  203,  204,  205,  206,\n        215,  223,  227,  233,  241,  243,  245,  252,  253,  264,  270,\n        272,  273,  274,  282,  291,  293,  294,  296,  298,  304,  310,\n        314,  325,  326,  344,  346,  386,  389,  390,  391,  393,  404,\n        409,  410,  416,  425,  427,  430,  431,  436,  437,  441,  445,\n        448,  453,  455,  457,  461,  465,  466,  468,  471,  473,  481,\n        485,  492,  495,  499,  501,  504,  509,  510,  511,  512,  515,\n        516,  518,  527,  534,  537,  550,  555,  558,  562,  565,  567,\n        570,  573,  581,  584,  585,  601,  603,  623,  631,  633,  645,\n        649,  658,  660,  662,  667,  668,  679,  691,  693,  694,  695,\n        696,  719,  725,  726,  728,  731,  733,  738,  777,  779,  787,\n        795,  796,  802,  821,  824,  829,  836,  841,  843,  844,  845,\n        851,  852,  867,  884,  887,  889,  892,  899,  901,  915,  919,\n        928,  929,  930,  935,  949,  951,  952,  954,  968,  971,  976,\n        977,  981,  996,  997,  998, 1016, 1024, 1026, 1034, 1035, 1042,\n       1046, 1047, 1054, 1055, 1056, 1059, 1064, 1070, 1094, 1098, 1102,\n       1105, 1114, 1127, 1128, 1134, 1135, 1137, 1152, 1155, 1156, 1180,\n       1186, 1187, 1196, 1197, 1201, 1209, 1211, 1216, 1219, 1231, 1234,\n       1241, 1242, 1249, 1254, 1256, 1258, 1263, 1264, 1266, 1268, 1277,\n       1282, 1283, 1288, 1292, 1294, 1298, 1301, 1303, 1318, 1334, 1338,\n       1340, 1352, 1355, 1356, 1359, 1360, 1364, 1369, 1370, 1371, 1376,\n       1380, 1383, 1384, 1385, 1389, 1395, 1400, 1408, 1418, 1422, 1428,\n       1430, 1431, 1435, 1442, 1449, 1458, 1460, 1464, 1466, 1483, 1496,\n       1498, 1500, 1505, 1508, 1511, 1516, 1537, 1540, 1552, 1587, 1589,\n       1593, 1594, 1603, 1609, 1616, 1618, 1620, 1627, 1631, 1634, 1640,\n       1650, 1662, 1669, 1674, 1690, 1700, 1707, 1713, 1714, 1717, 1719,\n       1736, 1738, 1740, 1753, 1754, 1755, 1757, 1758, 1759, 1764, 1768,\n       1771, 1778, 1780, 1784, 1796, 1798, 1801, 1808, 1812, 1819, 1820,\n       1831, 1847, 1854, 1868, 1869, 1874, 1880, 1892, 1898, 1904, 1909,\n       1925, 1929, 1938, 1949, 1951, 1955, 1960, 1964, 1965, 1969, 1971,\n       1973, 1982, 1984, 1985, 1998, 1999, 2000, 2007, 2008, 2017, 2019,\n       2026, 2034, 2037, 2040, 2042, 2044, 2048, 2051, 2064, 2067, 2072,\n       2084, 2087, 2092, 2093, 2105, 2107, 2114, 2119, 2121, 2125, 2131,\n       2132, 2140, 2150, 2158, 2161, 2163, 2166, 2171, 2173, 2177, 2178,\n       2211, 2212, 2221, 2223, 2226, 2228, 2229, 2237, 2247, 2249, 2257,\n       2266, 2308, 2313, 2321, 2325, 2329, 2331, 2337, 2339, 2350, 2352,\n       2359, 2364, 2369, 2387, 2391, 2392, 2396, 2403, 2406, 2408, 2410,\n       2426, 2433, 2435, 2437, 2447, 2448, 2462, 2464, 2473, 2478, 2480,\n       2485, 2487, 2490, 2494, 2509, 2512, 2517, 2518, 2528, 2536, 2537,\n       2544, 2548, 2550, 2552, 2554, 2555, 2562, 2571, 2574, 2577, 2582,\n       2583, 2584, 2589, 2594, 2598, 2602, 2618, 2621, 2633, 2637, 2638,\n       2649, 2650, 2660, 2666, 2671, 2689, 2692, 2698, 2702, 2703, 2706,\n       2707, 2714, 2724, 2742, 2744, 2759, 2764, 2777, 2778, 2786, 2789,\n       2795, 2796, 2800, 2804, 2811, 2815, 2817, 2821, 2822, 2835, 2839,\n       2847, 2852, 2862, 2863, 2865, 2869, 2895, 2902, 2903, 2908, 2918,\n       2919, 2922, 2938, 2940, 2943, 2967, 2969, 2975, 2981, 2991, 2999,\n       3002, 3007, 3012, 3016, 3019, 3025, 3028, 3033, 3046, 3047, 3051,\n       3065, 3066, 3076, 3084, 3085, 3087, 3089, 3094, 3095, 3097, 3110,\n       3121, 3122, 3130, 3133, 3139, 3142, 3145, 3153, 3157, 3161, 3165,\n       3169, 3171, 3172, 3175, 3177, 3179, 3185, 3188, 3189, 3190, 3193,\n       3194, 3196, 3198, 3206, 3209, 3212, 3221, 3223, 3224, 3226, 3243,\n       3250, 3254, 3257, 3262, 3269, 3273, 3274, 3276, 3281, 3283, 3298,\n       3299, 3300, 3301, 3303, 3319, 3321, 3332, 3339, 3345, 3349, 3356,\n       3358, 3362, 3365, 3372, 3373, 3374, 3377, 3391, 3403, 3409, 3412,\n       3414, 3415, 3418, 3423, 3434, 3441, 3448, 3453, 3454, 3455, 3457,\n       3461, 3489, 3493, 3510, 3515, 3517, 3527, 3561, 3563, 3569, 3572,\n       3579, 3601, 3609, 3610, 3620, 3622, 3628, 3632, 3640, 3641, 3643,\n       3648, 3663, 3664, 3671, 3672, 3676, 3683, 3684, 3690, 3691, 3694,\n       3701, 3704, 3708, 3713, 3723, 3729, 3732, 3735, 3746, 3765, 3772,\n       3773, 3776, 3777, 3779, 3789, 3801, 3809, 3820, 3824, 3831, 3841,\n       3844, 3845, 3846, 3858, 3862, 3869, 3870, 3872, 3879, 3882, 3884,\n       3887, 3889, 3891, 3895, 3897, 3901, 3904, 3905, 3914, 3919, 3930,\n       3935, 3943, 3947, 3956, 3957, 3963, 3967, 3981, 3988, 3992, 3993,\n       3998, 4011, 4016, 4022, 4030, 4032, 4033, 4046, 4048, 4049, 4072,\n       4088, 4094, 4103, 4115, 4120, 4136, 4158, 4160, 4161, 4166, 4170,\n       4171, 4173, 4182, 4184, 4196, 4199, 4202, 4207, 4214, 4220, 4227,\n       4232, 4233, 4236, 4249, 4253, 4254, 4257, 4258, 4267, 4273, 4275,\n       4287, 4288, 4292, 4294, 4295, 4298, 4299, 4300, 4306, 4310, 4318,\n       4320, 4337])"
     },
     "execution_count": 71,
     "metadata": {},
     "output_type": "execute_result"
    }
   ],
   "source": [
    "unique_elements"
   ],
   "metadata": {
    "collapsed": false,
    "ExecuteTime": {
     "end_time": "2024-08-29T17:32:33.585748Z",
     "start_time": "2024-08-29T17:32:33.580868Z"
    }
   },
   "id": "c8321745c925e7dd",
   "execution_count": 71
  },
  {
   "cell_type": "code",
   "outputs": [],
   "source": [
    "diff_elements = [item for item in list2 if item not in list1]"
   ],
   "metadata": {
    "collapsed": false,
    "ExecuteTime": {
     "end_time": "2024-08-29T17:34:11.121654Z",
     "start_time": "2024-08-29T17:34:11.097206Z"
    }
   },
   "id": "ae73fc59bdc90ee6",
   "execution_count": 72
  },
  {
   "cell_type": "code",
   "outputs": [
    {
     "data": {
      "text/plain": "284"
     },
     "execution_count": 75,
     "metadata": {},
     "output_type": "execute_result"
    }
   ],
   "source": [
    "len(diff_elements)"
   ],
   "metadata": {
    "collapsed": false,
    "ExecuteTime": {
     "end_time": "2024-08-29T17:34:25.594451Z",
     "start_time": "2024-08-29T17:34:25.590799Z"
    }
   },
   "id": "cae3ce71a6b89825",
   "execution_count": 75
  },
  {
   "cell_type": "code",
   "outputs": [
    {
     "data": {
      "text/plain": "array([   6,    8,   13, ..., 4320, 4337, 4338])"
     },
     "execution_count": 76,
     "metadata": {},
     "output_type": "execute_result"
    }
   ],
   "source": [
    "list2"
   ],
   "metadata": {
    "collapsed": false,
    "ExecuteTime": {
     "end_time": "2024-08-29T17:34:33.875578Z",
     "start_time": "2024-08-29T17:34:33.872401Z"
    }
   },
   "id": "f52fbd07d3bfb292",
   "execution_count": 76
  },
  {
   "cell_type": "code",
   "outputs": [
    {
     "data": {
      "text/plain": "        CustomerID StockCode    Month  rating  monthly_rating  user_id  \\\n369          12353     22890  2011-05       9               9        6   \n370          12353     37446  2011-05       9               9        6   \n371          12353     37449  2011-05      11              11        6   \n372          12353     37450  2011-05       9               9        6   \n431          12355     22423  2011-05     158             158        8   \n...            ...       ...      ...     ...             ...      ...   \n363377       18287     84584  2011-05       4               4     4338   \n363378       18287     84920  2011-05       2               2     4338   \n363379       18287    85039A  2011-05       2               2     4338   \n363381       18287    85039B  2011-05       4               4     4338   \n363383       18287    85040A  2011-05       9               9     4338   \n\n        item_id  \n369        1733  \n370        2500  \n371        2503  \n372        2504  \n431        1288  \n...         ...  \n363377     2907  \n363378     3077  \n363379     3179  \n363381     3180  \n363383     3182  \n\n[26372 rows x 7 columns]",
      "text/html": "<div>\n<style scoped>\n    .dataframe tbody tr th:only-of-type {\n        vertical-align: middle;\n    }\n\n    .dataframe tbody tr th {\n        vertical-align: top;\n    }\n\n    .dataframe thead th {\n        text-align: right;\n    }\n</style>\n<table border=\"1\" class=\"dataframe\">\n  <thead>\n    <tr style=\"text-align: right;\">\n      <th></th>\n      <th>CustomerID</th>\n      <th>StockCode</th>\n      <th>Month</th>\n      <th>rating</th>\n      <th>monthly_rating</th>\n      <th>user_id</th>\n      <th>item_id</th>\n    </tr>\n  </thead>\n  <tbody>\n    <tr>\n      <th>369</th>\n      <td>12353</td>\n      <td>22890</td>\n      <td>2011-05</td>\n      <td>9</td>\n      <td>9</td>\n      <td>6</td>\n      <td>1733</td>\n    </tr>\n    <tr>\n      <th>370</th>\n      <td>12353</td>\n      <td>37446</td>\n      <td>2011-05</td>\n      <td>9</td>\n      <td>9</td>\n      <td>6</td>\n      <td>2500</td>\n    </tr>\n    <tr>\n      <th>371</th>\n      <td>12353</td>\n      <td>37449</td>\n      <td>2011-05</td>\n      <td>11</td>\n      <td>11</td>\n      <td>6</td>\n      <td>2503</td>\n    </tr>\n    <tr>\n      <th>372</th>\n      <td>12353</td>\n      <td>37450</td>\n      <td>2011-05</td>\n      <td>9</td>\n      <td>9</td>\n      <td>6</td>\n      <td>2504</td>\n    </tr>\n    <tr>\n      <th>431</th>\n      <td>12355</td>\n      <td>22423</td>\n      <td>2011-05</td>\n      <td>158</td>\n      <td>158</td>\n      <td>8</td>\n      <td>1288</td>\n    </tr>\n    <tr>\n      <th>...</th>\n      <td>...</td>\n      <td>...</td>\n      <td>...</td>\n      <td>...</td>\n      <td>...</td>\n      <td>...</td>\n      <td>...</td>\n    </tr>\n    <tr>\n      <th>363377</th>\n      <td>18287</td>\n      <td>84584</td>\n      <td>2011-05</td>\n      <td>4</td>\n      <td>4</td>\n      <td>4338</td>\n      <td>2907</td>\n    </tr>\n    <tr>\n      <th>363378</th>\n      <td>18287</td>\n      <td>84920</td>\n      <td>2011-05</td>\n      <td>2</td>\n      <td>2</td>\n      <td>4338</td>\n      <td>3077</td>\n    </tr>\n    <tr>\n      <th>363379</th>\n      <td>18287</td>\n      <td>85039A</td>\n      <td>2011-05</td>\n      <td>2</td>\n      <td>2</td>\n      <td>4338</td>\n      <td>3179</td>\n    </tr>\n    <tr>\n      <th>363381</th>\n      <td>18287</td>\n      <td>85039B</td>\n      <td>2011-05</td>\n      <td>4</td>\n      <td>4</td>\n      <td>4338</td>\n      <td>3180</td>\n    </tr>\n    <tr>\n      <th>363383</th>\n      <td>18287</td>\n      <td>85040A</td>\n      <td>2011-05</td>\n      <td>9</td>\n      <td>9</td>\n      <td>4338</td>\n      <td>3182</td>\n    </tr>\n  </tbody>\n</table>\n<p>26372 rows × 7 columns</p>\n</div>"
     },
     "execution_count": 3,
     "metadata": {},
     "output_type": "execute_result"
    }
   ],
   "source": [
    "test_data"
   ],
   "metadata": {
    "collapsed": false,
    "ExecuteTime": {
     "end_time": "2024-08-29T17:57:37.084940Z",
     "start_time": "2024-08-29T17:57:37.075250Z"
    }
   },
   "id": "88c5360904a2bebf",
   "execution_count": 3
  },
  {
   "cell_type": "code",
   "outputs": [],
   "source": [
    "test_data['predict'] =  test_predictions"
   ],
   "metadata": {
    "collapsed": false,
    "ExecuteTime": {
     "end_time": "2024-08-29T17:57:39.419849Z",
     "start_time": "2024-08-29T17:57:39.416398Z"
    }
   },
   "id": "21c9259236fd46c7",
   "execution_count": 4
  },
  {
   "cell_type": "code",
   "outputs": [
    {
     "data": {
      "text/plain": "        CustomerID StockCode    Month  rating  monthly_rating  user_id  \\\n369          12353     22890  2011-05       9               9        6   \n370          12353     37446  2011-05       9               9        6   \n371          12353     37449  2011-05      11              11        6   \n372          12353     37450  2011-05       9               9        6   \n431          12355     22423  2011-05     158             158        8   \n...            ...       ...      ...     ...             ...      ...   \n363377       18287     84584  2011-05       4               4     4338   \n363378       18287     84920  2011-05       2               2     4338   \n363379       18287    85039A  2011-05       2               2     4338   \n363381       18287    85039B  2011-05       4               4     4338   \n363383       18287    85040A  2011-05       9               9     4338   \n\n        item_id     predict  \n369        1733   22.198454  \n370        2500   28.968863  \n371        2503   28.968863  \n372        2504   28.968863  \n431        1288  128.541931  \n...         ...         ...  \n363377     2907   21.271963  \n363378     3077   21.271963  \n363379     3179   21.271963  \n363381     3180   21.271963  \n363383     3182   21.271963  \n\n[26372 rows x 8 columns]",
      "text/html": "<div>\n<style scoped>\n    .dataframe tbody tr th:only-of-type {\n        vertical-align: middle;\n    }\n\n    .dataframe tbody tr th {\n        vertical-align: top;\n    }\n\n    .dataframe thead th {\n        text-align: right;\n    }\n</style>\n<table border=\"1\" class=\"dataframe\">\n  <thead>\n    <tr style=\"text-align: right;\">\n      <th></th>\n      <th>CustomerID</th>\n      <th>StockCode</th>\n      <th>Month</th>\n      <th>rating</th>\n      <th>monthly_rating</th>\n      <th>user_id</th>\n      <th>item_id</th>\n      <th>predict</th>\n    </tr>\n  </thead>\n  <tbody>\n    <tr>\n      <th>369</th>\n      <td>12353</td>\n      <td>22890</td>\n      <td>2011-05</td>\n      <td>9</td>\n      <td>9</td>\n      <td>6</td>\n      <td>1733</td>\n      <td>22.198454</td>\n    </tr>\n    <tr>\n      <th>370</th>\n      <td>12353</td>\n      <td>37446</td>\n      <td>2011-05</td>\n      <td>9</td>\n      <td>9</td>\n      <td>6</td>\n      <td>2500</td>\n      <td>28.968863</td>\n    </tr>\n    <tr>\n      <th>371</th>\n      <td>12353</td>\n      <td>37449</td>\n      <td>2011-05</td>\n      <td>11</td>\n      <td>11</td>\n      <td>6</td>\n      <td>2503</td>\n      <td>28.968863</td>\n    </tr>\n    <tr>\n      <th>372</th>\n      <td>12353</td>\n      <td>37450</td>\n      <td>2011-05</td>\n      <td>9</td>\n      <td>9</td>\n      <td>6</td>\n      <td>2504</td>\n      <td>28.968863</td>\n    </tr>\n    <tr>\n      <th>431</th>\n      <td>12355</td>\n      <td>22423</td>\n      <td>2011-05</td>\n      <td>158</td>\n      <td>158</td>\n      <td>8</td>\n      <td>1288</td>\n      <td>128.541931</td>\n    </tr>\n    <tr>\n      <th>...</th>\n      <td>...</td>\n      <td>...</td>\n      <td>...</td>\n      <td>...</td>\n      <td>...</td>\n      <td>...</td>\n      <td>...</td>\n      <td>...</td>\n    </tr>\n    <tr>\n      <th>363377</th>\n      <td>18287</td>\n      <td>84584</td>\n      <td>2011-05</td>\n      <td>4</td>\n      <td>4</td>\n      <td>4338</td>\n      <td>2907</td>\n      <td>21.271963</td>\n    </tr>\n    <tr>\n      <th>363378</th>\n      <td>18287</td>\n      <td>84920</td>\n      <td>2011-05</td>\n      <td>2</td>\n      <td>2</td>\n      <td>4338</td>\n      <td>3077</td>\n      <td>21.271963</td>\n    </tr>\n    <tr>\n      <th>363379</th>\n      <td>18287</td>\n      <td>85039A</td>\n      <td>2011-05</td>\n      <td>2</td>\n      <td>2</td>\n      <td>4338</td>\n      <td>3179</td>\n      <td>21.271963</td>\n    </tr>\n    <tr>\n      <th>363381</th>\n      <td>18287</td>\n      <td>85039B</td>\n      <td>2011-05</td>\n      <td>4</td>\n      <td>4</td>\n      <td>4338</td>\n      <td>3180</td>\n      <td>21.271963</td>\n    </tr>\n    <tr>\n      <th>363383</th>\n      <td>18287</td>\n      <td>85040A</td>\n      <td>2011-05</td>\n      <td>9</td>\n      <td>9</td>\n      <td>4338</td>\n      <td>3182</td>\n      <td>21.271963</td>\n    </tr>\n  </tbody>\n</table>\n<p>26372 rows × 8 columns</p>\n</div>"
     },
     "execution_count": 5,
     "metadata": {},
     "output_type": "execute_result"
    }
   ],
   "source": [
    "test_data"
   ],
   "metadata": {
    "collapsed": false,
    "ExecuteTime": {
     "end_time": "2024-08-29T17:57:40.489605Z",
     "start_time": "2024-08-29T17:57:40.478166Z"
    }
   },
   "id": "61dc994d7fc614eb",
   "execution_count": 5
  },
  {
   "cell_type": "code",
   "outputs": [],
   "source": [
    "filt = (test_data['StockCode'] == '85123A')"
   ],
   "metadata": {
    "collapsed": false,
    "ExecuteTime": {
     "end_time": "2024-08-29T17:57:45.980072Z",
     "start_time": "2024-08-29T17:57:45.974469Z"
    }
   },
   "id": "18be701863a390d7",
   "execution_count": 6
  },
  {
   "cell_type": "code",
   "outputs": [
    {
     "data": {
      "text/plain": "        CustomerID StockCode    Month  rating  monthly_rating  user_id  \\\n27857        12747    85123A  2011-05     176             176      325   \n31080        12748    85123A  2011-05     176             176      326   \n35313        12843    85123A  2011-05     176             176      393   \n36792        12868    85123A  2011-05     176             176      410   \n36805        12871    85123A  2011-05     176             176      411   \n...            ...       ...      ...     ...             ...      ...   \n359929       18219    85123A  2011-05     176             176     4288   \n361165       18231    85123A  2011-05     176             176     4300   \n361502       18239    85123A  2011-05     176             176     4306   \n361605       18241    85123A  2011-05     176             176     4308   \n361858       18245    85123A  2011-05     176             176     4310   \n\n        item_id    predict  \n27857      3233  41.274250  \n31080      3233  15.705448  \n35313      3233  39.058033  \n36792      3233  45.752926  \n36805      3233  28.057581  \n...         ...        ...  \n359929     3233  21.271963  \n361165     3233  21.271963  \n361502     3233  21.271963  \n361605     3233  21.271963  \n361858     3233  21.271963  \n\n[176 rows x 8 columns]",
      "text/html": "<div>\n<style scoped>\n    .dataframe tbody tr th:only-of-type {\n        vertical-align: middle;\n    }\n\n    .dataframe tbody tr th {\n        vertical-align: top;\n    }\n\n    .dataframe thead th {\n        text-align: right;\n    }\n</style>\n<table border=\"1\" class=\"dataframe\">\n  <thead>\n    <tr style=\"text-align: right;\">\n      <th></th>\n      <th>CustomerID</th>\n      <th>StockCode</th>\n      <th>Month</th>\n      <th>rating</th>\n      <th>monthly_rating</th>\n      <th>user_id</th>\n      <th>item_id</th>\n      <th>predict</th>\n    </tr>\n  </thead>\n  <tbody>\n    <tr>\n      <th>27857</th>\n      <td>12747</td>\n      <td>85123A</td>\n      <td>2011-05</td>\n      <td>176</td>\n      <td>176</td>\n      <td>325</td>\n      <td>3233</td>\n      <td>41.274250</td>\n    </tr>\n    <tr>\n      <th>31080</th>\n      <td>12748</td>\n      <td>85123A</td>\n      <td>2011-05</td>\n      <td>176</td>\n      <td>176</td>\n      <td>326</td>\n      <td>3233</td>\n      <td>15.705448</td>\n    </tr>\n    <tr>\n      <th>35313</th>\n      <td>12843</td>\n      <td>85123A</td>\n      <td>2011-05</td>\n      <td>176</td>\n      <td>176</td>\n      <td>393</td>\n      <td>3233</td>\n      <td>39.058033</td>\n    </tr>\n    <tr>\n      <th>36792</th>\n      <td>12868</td>\n      <td>85123A</td>\n      <td>2011-05</td>\n      <td>176</td>\n      <td>176</td>\n      <td>410</td>\n      <td>3233</td>\n      <td>45.752926</td>\n    </tr>\n    <tr>\n      <th>36805</th>\n      <td>12871</td>\n      <td>85123A</td>\n      <td>2011-05</td>\n      <td>176</td>\n      <td>176</td>\n      <td>411</td>\n      <td>3233</td>\n      <td>28.057581</td>\n    </tr>\n    <tr>\n      <th>...</th>\n      <td>...</td>\n      <td>...</td>\n      <td>...</td>\n      <td>...</td>\n      <td>...</td>\n      <td>...</td>\n      <td>...</td>\n      <td>...</td>\n    </tr>\n    <tr>\n      <th>359929</th>\n      <td>18219</td>\n      <td>85123A</td>\n      <td>2011-05</td>\n      <td>176</td>\n      <td>176</td>\n      <td>4288</td>\n      <td>3233</td>\n      <td>21.271963</td>\n    </tr>\n    <tr>\n      <th>361165</th>\n      <td>18231</td>\n      <td>85123A</td>\n      <td>2011-05</td>\n      <td>176</td>\n      <td>176</td>\n      <td>4300</td>\n      <td>3233</td>\n      <td>21.271963</td>\n    </tr>\n    <tr>\n      <th>361502</th>\n      <td>18239</td>\n      <td>85123A</td>\n      <td>2011-05</td>\n      <td>176</td>\n      <td>176</td>\n      <td>4306</td>\n      <td>3233</td>\n      <td>21.271963</td>\n    </tr>\n    <tr>\n      <th>361605</th>\n      <td>18241</td>\n      <td>85123A</td>\n      <td>2011-05</td>\n      <td>176</td>\n      <td>176</td>\n      <td>4308</td>\n      <td>3233</td>\n      <td>21.271963</td>\n    </tr>\n    <tr>\n      <th>361858</th>\n      <td>18245</td>\n      <td>85123A</td>\n      <td>2011-05</td>\n      <td>176</td>\n      <td>176</td>\n      <td>4310</td>\n      <td>3233</td>\n      <td>21.271963</td>\n    </tr>\n  </tbody>\n</table>\n<p>176 rows × 8 columns</p>\n</div>"
     },
     "execution_count": 7,
     "metadata": {},
     "output_type": "execute_result"
    }
   ],
   "source": [
    "test_data[filt]"
   ],
   "metadata": {
    "collapsed": false,
    "ExecuteTime": {
     "end_time": "2024-08-29T17:57:46.564178Z",
     "start_time": "2024-08-29T17:57:46.555803Z"
    }
   },
   "id": "b7998a3cfef2b95f",
   "execution_count": 7
  },
  {
   "cell_type": "code",
   "outputs": [
    {
     "data": {
      "text/plain": "        CustomerID StockCode    Month  rating  monthly_rating  user_id  \\\n431          12355     22423  2011-05     158             158        8   \n2806         12395     22423  2011-05     158             158       39   \n6360         12437     22423  2011-05     158             158       75   \n7917         12463     22423  2011-05     158             158       96   \n8135         12471     22423  2011-05     158             158      100   \n...            ...       ...      ...     ...             ...      ...   \n358807       18190     22423  2011-05     158             158     4267   \n359221       18202     22423  2011-05     158             158     4275   \n359855       18219     22423  2011-05     158             158     4288   \n359954       18221     22423  2011-05     158             158     4290   \n361079       18231     22423  2011-05     158             158     4300   \n\n        item_id     predict  \n431        1288  128.541931  \n2806       1288  121.120911  \n6360       1288  128.604233  \n7917       1288  120.981689  \n8135       1288  117.641495  \n...         ...         ...  \n358807     1288  120.347015  \n359221     1288  120.347015  \n359855     1288  120.347015  \n359954     1288  120.347015  \n361079     1288  120.347015  \n\n[158 rows x 8 columns]",
      "text/html": "<div>\n<style scoped>\n    .dataframe tbody tr th:only-of-type {\n        vertical-align: middle;\n    }\n\n    .dataframe tbody tr th {\n        vertical-align: top;\n    }\n\n    .dataframe thead th {\n        text-align: right;\n    }\n</style>\n<table border=\"1\" class=\"dataframe\">\n  <thead>\n    <tr style=\"text-align: right;\">\n      <th></th>\n      <th>CustomerID</th>\n      <th>StockCode</th>\n      <th>Month</th>\n      <th>rating</th>\n      <th>monthly_rating</th>\n      <th>user_id</th>\n      <th>item_id</th>\n      <th>predict</th>\n    </tr>\n  </thead>\n  <tbody>\n    <tr>\n      <th>431</th>\n      <td>12355</td>\n      <td>22423</td>\n      <td>2011-05</td>\n      <td>158</td>\n      <td>158</td>\n      <td>8</td>\n      <td>1288</td>\n      <td>128.541931</td>\n    </tr>\n    <tr>\n      <th>2806</th>\n      <td>12395</td>\n      <td>22423</td>\n      <td>2011-05</td>\n      <td>158</td>\n      <td>158</td>\n      <td>39</td>\n      <td>1288</td>\n      <td>121.120911</td>\n    </tr>\n    <tr>\n      <th>6360</th>\n      <td>12437</td>\n      <td>22423</td>\n      <td>2011-05</td>\n      <td>158</td>\n      <td>158</td>\n      <td>75</td>\n      <td>1288</td>\n      <td>128.604233</td>\n    </tr>\n    <tr>\n      <th>7917</th>\n      <td>12463</td>\n      <td>22423</td>\n      <td>2011-05</td>\n      <td>158</td>\n      <td>158</td>\n      <td>96</td>\n      <td>1288</td>\n      <td>120.981689</td>\n    </tr>\n    <tr>\n      <th>8135</th>\n      <td>12471</td>\n      <td>22423</td>\n      <td>2011-05</td>\n      <td>158</td>\n      <td>158</td>\n      <td>100</td>\n      <td>1288</td>\n      <td>117.641495</td>\n    </tr>\n    <tr>\n      <th>...</th>\n      <td>...</td>\n      <td>...</td>\n      <td>...</td>\n      <td>...</td>\n      <td>...</td>\n      <td>...</td>\n      <td>...</td>\n      <td>...</td>\n    </tr>\n    <tr>\n      <th>358807</th>\n      <td>18190</td>\n      <td>22423</td>\n      <td>2011-05</td>\n      <td>158</td>\n      <td>158</td>\n      <td>4267</td>\n      <td>1288</td>\n      <td>120.347015</td>\n    </tr>\n    <tr>\n      <th>359221</th>\n      <td>18202</td>\n      <td>22423</td>\n      <td>2011-05</td>\n      <td>158</td>\n      <td>158</td>\n      <td>4275</td>\n      <td>1288</td>\n      <td>120.347015</td>\n    </tr>\n    <tr>\n      <th>359855</th>\n      <td>18219</td>\n      <td>22423</td>\n      <td>2011-05</td>\n      <td>158</td>\n      <td>158</td>\n      <td>4288</td>\n      <td>1288</td>\n      <td>120.347015</td>\n    </tr>\n    <tr>\n      <th>359954</th>\n      <td>18221</td>\n      <td>22423</td>\n      <td>2011-05</td>\n      <td>158</td>\n      <td>158</td>\n      <td>4290</td>\n      <td>1288</td>\n      <td>120.347015</td>\n    </tr>\n    <tr>\n      <th>361079</th>\n      <td>18231</td>\n      <td>22423</td>\n      <td>2011-05</td>\n      <td>158</td>\n      <td>158</td>\n      <td>4300</td>\n      <td>1288</td>\n      <td>120.347015</td>\n    </tr>\n  </tbody>\n</table>\n<p>158 rows × 8 columns</p>\n</div>"
     },
     "execution_count": 9,
     "metadata": {},
     "output_type": "execute_result"
    }
   ],
   "source": [
    "filt = (test_data['StockCode'] == '22423')\n",
    "test_data[filt]"
   ],
   "metadata": {
    "collapsed": false,
    "ExecuteTime": {
     "end_time": "2024-08-29T17:58:38.266388Z",
     "start_time": "2024-08-29T17:58:38.238715Z"
    }
   },
   "id": "638d6cc3506213a2",
   "execution_count": 9
  },
  {
   "cell_type": "code",
   "outputs": [
    {
     "data": {
      "text/plain": "        CustomerID StockCode    Month  rating  monthly_rating  user_id  \\\n1595         12370    85123A  2010-12     155             155       20   \n5355         12428    85123A  2011-03     154             154       66   \n7560         12455    85123A  2011-02     113             113       90   \n7883         12462    85123A  2011-02     113             113       95   \n10760        12484    85123A  2011-01     150             150      112   \n...            ...       ...      ...     ...             ...      ...   \n361500       18239    85123A  2010-12     155             155     4306   \n361501       18239    85123A  2011-01     150             150     4306   \n361857       18245    85123A  2010-12     155             155     4310   \n362341       18260    85123A  2011-01     150             150     4320   \n363311       18283    85123A  2011-02     113             113     4337   \n\n        item_id  \n1595       3233  \n5355       3233  \n7560       3233  \n7883       3233  \n10760      3233  \n...         ...  \n361500     3233  \n361501     3233  \n361857     3233  \n362341     3233  \n363311     3233  \n\n[714 rows x 7 columns]",
      "text/html": "<div>\n<style scoped>\n    .dataframe tbody tr th:only-of-type {\n        vertical-align: middle;\n    }\n\n    .dataframe tbody tr th {\n        vertical-align: top;\n    }\n\n    .dataframe thead th {\n        text-align: right;\n    }\n</style>\n<table border=\"1\" class=\"dataframe\">\n  <thead>\n    <tr style=\"text-align: right;\">\n      <th></th>\n      <th>CustomerID</th>\n      <th>StockCode</th>\n      <th>Month</th>\n      <th>rating</th>\n      <th>monthly_rating</th>\n      <th>user_id</th>\n      <th>item_id</th>\n    </tr>\n  </thead>\n  <tbody>\n    <tr>\n      <th>1595</th>\n      <td>12370</td>\n      <td>85123A</td>\n      <td>2010-12</td>\n      <td>155</td>\n      <td>155</td>\n      <td>20</td>\n      <td>3233</td>\n    </tr>\n    <tr>\n      <th>5355</th>\n      <td>12428</td>\n      <td>85123A</td>\n      <td>2011-03</td>\n      <td>154</td>\n      <td>154</td>\n      <td>66</td>\n      <td>3233</td>\n    </tr>\n    <tr>\n      <th>7560</th>\n      <td>12455</td>\n      <td>85123A</td>\n      <td>2011-02</td>\n      <td>113</td>\n      <td>113</td>\n      <td>90</td>\n      <td>3233</td>\n    </tr>\n    <tr>\n      <th>7883</th>\n      <td>12462</td>\n      <td>85123A</td>\n      <td>2011-02</td>\n      <td>113</td>\n      <td>113</td>\n      <td>95</td>\n      <td>3233</td>\n    </tr>\n    <tr>\n      <th>10760</th>\n      <td>12484</td>\n      <td>85123A</td>\n      <td>2011-01</td>\n      <td>150</td>\n      <td>150</td>\n      <td>112</td>\n      <td>3233</td>\n    </tr>\n    <tr>\n      <th>...</th>\n      <td>...</td>\n      <td>...</td>\n      <td>...</td>\n      <td>...</td>\n      <td>...</td>\n      <td>...</td>\n      <td>...</td>\n    </tr>\n    <tr>\n      <th>361500</th>\n      <td>18239</td>\n      <td>85123A</td>\n      <td>2010-12</td>\n      <td>155</td>\n      <td>155</td>\n      <td>4306</td>\n      <td>3233</td>\n    </tr>\n    <tr>\n      <th>361501</th>\n      <td>18239</td>\n      <td>85123A</td>\n      <td>2011-01</td>\n      <td>150</td>\n      <td>150</td>\n      <td>4306</td>\n      <td>3233</td>\n    </tr>\n    <tr>\n      <th>361857</th>\n      <td>18245</td>\n      <td>85123A</td>\n      <td>2010-12</td>\n      <td>155</td>\n      <td>155</td>\n      <td>4310</td>\n      <td>3233</td>\n    </tr>\n    <tr>\n      <th>362341</th>\n      <td>18260</td>\n      <td>85123A</td>\n      <td>2011-01</td>\n      <td>150</td>\n      <td>150</td>\n      <td>4320</td>\n      <td>3233</td>\n    </tr>\n    <tr>\n      <th>363311</th>\n      <td>18283</td>\n      <td>85123A</td>\n      <td>2011-02</td>\n      <td>113</td>\n      <td>113</td>\n      <td>4337</td>\n      <td>3233</td>\n    </tr>\n  </tbody>\n</table>\n<p>714 rows × 7 columns</p>\n</div>"
     },
     "execution_count": 8,
     "metadata": {},
     "output_type": "execute_result"
    }
   ],
   "source": [
    "filt = (train_data['StockCode'] == '85123A')\n",
    "train_data[filt]"
   ],
   "metadata": {
    "collapsed": false,
    "ExecuteTime": {
     "end_time": "2024-08-29T17:58:24.378293Z",
     "start_time": "2024-08-29T17:58:24.362169Z"
    }
   },
   "id": "d5dd910d0a851b0",
   "execution_count": 8
  },
  {
   "cell_type": "code",
   "outputs": [
    {
     "data": {
      "text/plain": "        CustomerID StockCode    Month  rating  monthly_rating  user_id  \\\n67           12347     22423  2011-01      98              98        1   \n68           12347     22423  2011-04     138             138        1   \n318          12352     22423  2011-02     106             106        5   \n471          12356     22423  2011-01      98              98        9   \n472          12356     22423  2011-04     138             138        9   \n...            ...       ...      ...     ...             ...      ...   \n360107       18223     22423  2011-02     106             106     4292   \n361460       18239     22423  2011-01      98              98     4306   \n361920       18250     22423  2011-02     106             106     4314   \n362266       18260     22423  2011-01      98              98     4320   \n362267       18260     22423  2011-04     138             138     4320   \n\n        item_id  \n67         1288  \n68         1288  \n318        1288  \n471        1288  \n472        1288  \n...         ...  \n360107     1288  \n361460     1288  \n361920     1288  \n362266     1288  \n362267     1288  \n\n[614 rows x 7 columns]",
      "text/html": "<div>\n<style scoped>\n    .dataframe tbody tr th:only-of-type {\n        vertical-align: middle;\n    }\n\n    .dataframe tbody tr th {\n        vertical-align: top;\n    }\n\n    .dataframe thead th {\n        text-align: right;\n    }\n</style>\n<table border=\"1\" class=\"dataframe\">\n  <thead>\n    <tr style=\"text-align: right;\">\n      <th></th>\n      <th>CustomerID</th>\n      <th>StockCode</th>\n      <th>Month</th>\n      <th>rating</th>\n      <th>monthly_rating</th>\n      <th>user_id</th>\n      <th>item_id</th>\n    </tr>\n  </thead>\n  <tbody>\n    <tr>\n      <th>67</th>\n      <td>12347</td>\n      <td>22423</td>\n      <td>2011-01</td>\n      <td>98</td>\n      <td>98</td>\n      <td>1</td>\n      <td>1288</td>\n    </tr>\n    <tr>\n      <th>68</th>\n      <td>12347</td>\n      <td>22423</td>\n      <td>2011-04</td>\n      <td>138</td>\n      <td>138</td>\n      <td>1</td>\n      <td>1288</td>\n    </tr>\n    <tr>\n      <th>318</th>\n      <td>12352</td>\n      <td>22423</td>\n      <td>2011-02</td>\n      <td>106</td>\n      <td>106</td>\n      <td>5</td>\n      <td>1288</td>\n    </tr>\n    <tr>\n      <th>471</th>\n      <td>12356</td>\n      <td>22423</td>\n      <td>2011-01</td>\n      <td>98</td>\n      <td>98</td>\n      <td>9</td>\n      <td>1288</td>\n    </tr>\n    <tr>\n      <th>472</th>\n      <td>12356</td>\n      <td>22423</td>\n      <td>2011-04</td>\n      <td>138</td>\n      <td>138</td>\n      <td>9</td>\n      <td>1288</td>\n    </tr>\n    <tr>\n      <th>...</th>\n      <td>...</td>\n      <td>...</td>\n      <td>...</td>\n      <td>...</td>\n      <td>...</td>\n      <td>...</td>\n      <td>...</td>\n    </tr>\n    <tr>\n      <th>360107</th>\n      <td>18223</td>\n      <td>22423</td>\n      <td>2011-02</td>\n      <td>106</td>\n      <td>106</td>\n      <td>4292</td>\n      <td>1288</td>\n    </tr>\n    <tr>\n      <th>361460</th>\n      <td>18239</td>\n      <td>22423</td>\n      <td>2011-01</td>\n      <td>98</td>\n      <td>98</td>\n      <td>4306</td>\n      <td>1288</td>\n    </tr>\n    <tr>\n      <th>361920</th>\n      <td>18250</td>\n      <td>22423</td>\n      <td>2011-02</td>\n      <td>106</td>\n      <td>106</td>\n      <td>4314</td>\n      <td>1288</td>\n    </tr>\n    <tr>\n      <th>362266</th>\n      <td>18260</td>\n      <td>22423</td>\n      <td>2011-01</td>\n      <td>98</td>\n      <td>98</td>\n      <td>4320</td>\n      <td>1288</td>\n    </tr>\n    <tr>\n      <th>362267</th>\n      <td>18260</td>\n      <td>22423</td>\n      <td>2011-04</td>\n      <td>138</td>\n      <td>138</td>\n      <td>4320</td>\n      <td>1288</td>\n    </tr>\n  </tbody>\n</table>\n<p>614 rows × 7 columns</p>\n</div>"
     },
     "execution_count": 10,
     "metadata": {},
     "output_type": "execute_result"
    }
   ],
   "source": [
    "filt = (train_data['StockCode'] == '22423')\n",
    "train_data[filt]"
   ],
   "metadata": {
    "collapsed": false,
    "ExecuteTime": {
     "end_time": "2024-08-29T17:59:02.489902Z",
     "start_time": "2024-08-29T17:59:02.478855Z"
    }
   },
   "id": "2229c5fcd852a84f",
   "execution_count": 10
  },
  {
   "cell_type": "code",
   "outputs": [],
   "source": [
    "random_values = np.random.choice(train_data['user_id'].values, size=100, replace=False)"
   ],
   "metadata": {
    "collapsed": false,
    "ExecuteTime": {
     "end_time": "2024-08-29T18:32:24.617914Z",
     "start_time": "2024-08-29T18:32:24.612536Z"
    }
   },
   "id": "73e4401f076259db",
   "execution_count": 11
  },
  {
   "cell_type": "code",
   "outputs": [
    {
     "data": {
      "text/plain": "array([ 115, 1993, 2391, 1159, 4009, 2077, 3213,  235, 2290, 2064, 2725,\n        122, 1501, 1633, 3274,  340, 1874, 2034, 2621, 1555, 1443, 2166,\n       1496,  634,  694, 2209,   55, 2508, 1880, 1026, 4262,  891, 1277,\n        940, 3262,  626, 1537, 3172, 3582, 1542, 1450, 1548, 1126, 2415,\n       3360, 1564, 3122, 3723, 2237, 1938, 3057, 3484,  223, 3967, 1606,\n       1896, 3907, 2373, 4110, 4266,  311,  389, 1731,  515,  292,  155,\n       1102, 3992, 2211, 3569, 3903, 2584, 2051, 2760,  562, 1074,  325,\n       2223, 3259, 1880,  326, 3479, 2621,  391, 3510, 3371, 2420, 2308,\n       3089,  154, 3786, 2690,  340, 3205, 3794, 3956,  915, 3179, 1969,\n       2145])"
     },
     "execution_count": 12,
     "metadata": {},
     "output_type": "execute_result"
    }
   ],
   "source": [
    "random_values"
   ],
   "metadata": {
    "collapsed": false,
    "ExecuteTime": {
     "end_time": "2024-08-29T18:32:26.387294Z",
     "start_time": "2024-08-29T18:32:26.383691Z"
    }
   },
   "id": "43578afd45497d70",
   "execution_count": 12
  },
  {
   "cell_type": "code",
   "outputs": [],
   "source": [
    "repeated_values = np.repeat(random_values, 3665)"
   ],
   "metadata": {
    "collapsed": false,
    "ExecuteTime": {
     "end_time": "2024-08-29T18:36:55.378643Z",
     "start_time": "2024-08-29T18:36:55.375226Z"
    }
   },
   "id": "d00c8b9db03d8057",
   "execution_count": 13
  },
  {
   "cell_type": "code",
   "outputs": [
    {
     "data": {
      "text/plain": "array([ 115,  115,  115, ..., 2145, 2145, 2145])"
     },
     "execution_count": 14,
     "metadata": {},
     "output_type": "execute_result"
    }
   ],
   "source": [
    "repeated_values"
   ],
   "metadata": {
    "collapsed": false,
    "ExecuteTime": {
     "end_time": "2024-08-29T18:37:00.696559Z",
     "start_time": "2024-08-29T18:37:00.692490Z"
    }
   },
   "id": "3331ee75eab9bc0b",
   "execution_count": 14
  },
  {
   "cell_type": "code",
   "outputs": [],
   "source": [
    "random_values = np.random.choice(train_data['user_id'].values, size=1000, replace=False)\n",
    "repeated_values = np.repeat(random_values, 3665)\n",
    "test_data = pd.DataFrame()\n",
    "test_data['user_id'] = repeated_values\n",
    "test_data['item_id'] = np.tile(np.arange(3665), len(random_values))"
   ],
   "metadata": {
    "collapsed": false,
    "ExecuteTime": {
     "end_time": "2024-08-29T18:39:18.875650Z",
     "start_time": "2024-08-29T18:39:18.706700Z"
    }
   },
   "id": "9451b296db7ced4a",
   "execution_count": 16
  },
  {
   "cell_type": "code",
   "outputs": [
    {
     "data": {
      "text/plain": "         user_id  item_id\n0           2827        0\n1           2827        1\n2           2827        2\n3           2827        3\n4           2827        4\n...          ...      ...\n3664995     3970     3660\n3664996     3970     3661\n3664997     3970     3662\n3664998     3970     3663\n3664999     3970     3664\n\n[3665000 rows x 2 columns]",
      "text/html": "<div>\n<style scoped>\n    .dataframe tbody tr th:only-of-type {\n        vertical-align: middle;\n    }\n\n    .dataframe tbody tr th {\n        vertical-align: top;\n    }\n\n    .dataframe thead th {\n        text-align: right;\n    }\n</style>\n<table border=\"1\" class=\"dataframe\">\n  <thead>\n    <tr style=\"text-align: right;\">\n      <th></th>\n      <th>user_id</th>\n      <th>item_id</th>\n    </tr>\n  </thead>\n  <tbody>\n    <tr>\n      <th>0</th>\n      <td>2827</td>\n      <td>0</td>\n    </tr>\n    <tr>\n      <th>1</th>\n      <td>2827</td>\n      <td>1</td>\n    </tr>\n    <tr>\n      <th>2</th>\n      <td>2827</td>\n      <td>2</td>\n    </tr>\n    <tr>\n      <th>3</th>\n      <td>2827</td>\n      <td>3</td>\n    </tr>\n    <tr>\n      <th>4</th>\n      <td>2827</td>\n      <td>4</td>\n    </tr>\n    <tr>\n      <th>...</th>\n      <td>...</td>\n      <td>...</td>\n    </tr>\n    <tr>\n      <th>3664995</th>\n      <td>3970</td>\n      <td>3660</td>\n    </tr>\n    <tr>\n      <th>3664996</th>\n      <td>3970</td>\n      <td>3661</td>\n    </tr>\n    <tr>\n      <th>3664997</th>\n      <td>3970</td>\n      <td>3662</td>\n    </tr>\n    <tr>\n      <th>3664998</th>\n      <td>3970</td>\n      <td>3663</td>\n    </tr>\n    <tr>\n      <th>3664999</th>\n      <td>3970</td>\n      <td>3664</td>\n    </tr>\n  </tbody>\n</table>\n<p>3665000 rows × 2 columns</p>\n</div>"
     },
     "execution_count": 17,
     "metadata": {},
     "output_type": "execute_result"
    }
   ],
   "source": [
    "test_data"
   ],
   "metadata": {
    "collapsed": false,
    "ExecuteTime": {
     "end_time": "2024-08-29T18:39:23.953032Z",
     "start_time": "2024-08-29T18:39:23.945625Z"
    }
   },
   "id": "4d14b3562a874543",
   "execution_count": 17
  },
  {
   "cell_type": "code",
   "outputs": [],
   "source": [],
   "metadata": {
    "collapsed": false
   },
   "id": "83c169414cc6f209"
  }
 ],
 "metadata": {
  "kernelspec": {
   "display_name": "Python 3",
   "language": "python",
   "name": "python3"
  },
  "language_info": {
   "codemirror_mode": {
    "name": "ipython",
    "version": 2
   },
   "file_extension": ".py",
   "mimetype": "text/x-python",
   "name": "python",
   "nbconvert_exporter": "python",
   "pygments_lexer": "ipython2",
   "version": "2.7.6"
  }
 },
 "nbformat": 4,
 "nbformat_minor": 5
}
