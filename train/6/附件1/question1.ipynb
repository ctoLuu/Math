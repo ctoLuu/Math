{
 "cells": [
  {
   "cell_type": "code",
   "execution_count": 1,
   "id": "initial_id",
   "metadata": {
    "collapsed": true,
    "ExecuteTime": {
     "end_time": "2024-08-21T05:47:37.882107Z",
     "start_time": "2024-08-21T05:47:37.599655Z"
    }
   },
   "outputs": [],
   "source": [
    "import heapq\n",
    "from collections import defaultdict\n",
    "import matplotlib.pyplot as plt\n",
    "import matplotlib.patches as patches"
   ]
  },
  {
   "cell_type": "code",
   "outputs": [],
   "source": [
    "tasks = [((1, 7), (3, 3)), ((5, 0), (7, 5)), ((7, 4), (5, 2)), ((4, 5), (6, 7)), ((6, 5), (0, 6)), ((5, 2), (2, 4)), ((0, 4), (7, 2)), ((4, 1), (1, 2))]"
   ],
   "metadata": {
    "collapsed": false,
    "ExecuteTime": {
     "end_time": "2024-08-21T06:09:18.476959Z",
     "start_time": "2024-08-21T06:09:18.471689Z"
    }
   },
   "id": "b7df3d318109cc49",
   "execution_count": 10
  },
  {
   "cell_type": "code",
   "outputs": [
    {
     "name": "stdout",
     "output_type": "stream",
     "text": [
      "[(6, 0, (1, 7))]\n",
      "0\n",
      "[(7, 0, (5, 0))]\n",
      "0\n",
      "[(4, 0, (7, 4))]\n",
      "0\n",
      "[(4, 0, (4, 5))]\n",
      "0\n",
      "[(7, 0, (6, 5))]\n",
      "0\n",
      "[(5, 0, (5, 2))]\n",
      "0\n",
      "[(9, 0, (0, 4))]\n",
      "0\n",
      "[(4, 0, (4, 1))]\n",
      "0\n"
     ]
    }
   ],
   "source": [
    "def heuristic(pos):\n",
    "    return abs(pos[0] - goal[0]) + abs(pos[1] - goal[1])\n",
    "for i, [start, goal] in enumerate(tasks):\n",
    "    open_set = []\n",
    "    heapq.heappush(open_set, (0 + heuristic(start), 0, start))\n",
    "    g_score = defaultdict(lambda: float('inf'))\n",
    "    g_score[start] = 0\n",
    "    print(open_set)\n",
    "    print(g_score[start])"
   ],
   "metadata": {
    "collapsed": false,
    "ExecuteTime": {
     "end_time": "2024-08-21T06:10:47.586488Z",
     "start_time": "2024-08-21T06:10:47.583100Z"
    }
   },
   "id": "da534f83a81448ed",
   "execution_count": 14
  },
  {
   "cell_type": "code",
   "outputs": [],
   "source": [
    "g_score = defaultdict(lambda: float('inf'))"
   ],
   "metadata": {
    "collapsed": false,
    "ExecuteTime": {
     "end_time": "2024-08-21T06:04:54.544489Z",
     "start_time": "2024-08-21T06:04:54.541029Z"
    }
   },
   "id": "7cbae88ba548b9ba",
   "execution_count": 5
  },
  {
   "cell_type": "code",
   "outputs": [
    {
     "name": "stdout",
     "output_type": "stream",
     "text": [
      "defaultdict(<function <lambda> at 0x789a2c4ce310>, {})\n"
     ]
    }
   ],
   "source": [
    "print(g_score)"
   ],
   "metadata": {
    "collapsed": false,
    "ExecuteTime": {
     "end_time": "2024-08-21T06:04:58.879534Z",
     "start_time": "2024-08-21T06:04:58.875592Z"
    }
   },
   "id": "90dc6721a110bdfa",
   "execution_count": 6
  },
  {
   "cell_type": "code",
   "outputs": [],
   "source": [],
   "metadata": {
    "collapsed": false
   },
   "id": "6128c7f66321f4c8"
  }
 ],
 "metadata": {
  "kernelspec": {
   "display_name": "Python 3",
   "language": "python",
   "name": "python3"
  },
  "language_info": {
   "codemirror_mode": {
    "name": "ipython",
    "version": 2
   },
   "file_extension": ".py",
   "mimetype": "text/x-python",
   "name": "python",
   "nbconvert_exporter": "python",
   "pygments_lexer": "ipython2",
   "version": "2.7.6"
  }
 },
 "nbformat": 4,
 "nbformat_minor": 5
}
