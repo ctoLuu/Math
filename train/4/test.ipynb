{
 "cells": [
  {
   "cell_type": "code",
   "execution_count": 1,
   "id": "initial_id",
   "metadata": {
    "collapsed": true,
    "ExecuteTime": {
     "end_time": "2024-08-09T06:19:14.265953700Z",
     "start_time": "2024-08-09T06:19:14.092050200Z"
    }
   },
   "outputs": [],
   "source": [
    "import numpy as np"
   ]
  },
  {
   "cell_type": "code",
   "execution_count": 4,
   "outputs": [],
   "source": [
    "import matplotlib.pyplot as plt\n",
    "from scipy.optimize import curve_fit\n",
    "from sklearn.metrics import r2_score\n",
    "from scipy.stats import f_oneway\n",
    "plt.rcParams['font.sans-serif'] = ['SimHei']\n",
    "\n",
    "# 数据\n",
    "swimmers = np.array([0, 10, 20, 40, 60, 80, 100, 120, 140, 160, 180, 200, 220, 240, 260])\n",
    "cl_concen = np.array([0.4762, 0.4752, 0.4721, 0.4698, 0.4645, 0.4535, 0.4358, 0.4199, 0.4014, 0.3901, 0.3699, 0.3485, 0.3316, 0.3125, 0.3001])\n",
    "swimmers_1 = np.array([0, 10, 20, 40])\n",
    "cl_concen_1 = np.array([0.4762, 0.4752, 0.4721, 0.4698])\n",
    "swimmers_2 = np.array([60, 80, 100, 120, 140, 160, 180, 200, 220, 240, 260])\n",
    "cl_concen_2 = np.array([0.4645, 0.4535, 0.4358, 0.4199, 0.4014, 0.3901, 0.3699, 0.3485, 0.3316, 0.3125, 0.3001])\n",
    "# 拟合函数\n",
    "def exponential(x, a, b):\n",
    "    return a * np.exp(b * x)\n",
    "\n",
    "# 线性拟合\n",
    "linear_params = np.polyfit(swimmers, cl_concen, 1)\n",
    "linear_fit = np.poly1d(linear_params)\n",
    "\n",
    "linear_params_1 = np.polyfit(swimmers_1, cl_concen_1, 1)\n",
    "linear_fit_1 = np.poly1d(linear_params_1)\n",
    "\n",
    "linear_params_2 = np.polyfit(swimmers_2, cl_concen_2, 1)\n",
    "linear_fit_2 = np.poly1d(linear_params_2)"
   ],
   "metadata": {
    "collapsed": false,
    "ExecuteTime": {
     "end_time": "2024-08-09T06:22:11.029776Z",
     "start_time": "2024-08-09T06:22:11.019224500Z"
    }
   },
   "id": "458674fcd6cd7875"
  },
  {
   "cell_type": "code",
   "execution_count": 12,
   "outputs": [
    {
     "data": {
      "text/plain": "array([0.47626   , 0.47458286, 0.47290571, 0.46955143, 0.46947727,\n       0.45245091, 0.43542455, 0.41839818, 0.40137182, 0.38434545,\n       0.36731909, 0.35029273, 0.33326636, 0.31624   , 0.29921364])"
     },
     "execution_count": 12,
     "metadata": {},
     "output_type": "execute_result"
    }
   ],
   "source": [
    "array = np.concatenate((linear_fit_1(swimmers_1), linear_fit_2(swimmers_2)), axis=0)"
   ],
   "metadata": {
    "collapsed": false,
    "ExecuteTime": {
     "end_time": "2024-08-09T06:25:41.134926Z",
     "start_time": "2024-08-09T06:25:41.124398800Z"
    }
   },
   "id": "496b5f7fe5dbb0b3"
  },
  {
   "cell_type": "code",
   "execution_count": 23,
   "outputs": [
    {
     "data": {
      "text/plain": "poly1d([-0.00085132,  0.52055636])"
     },
     "execution_count": 23,
     "metadata": {},
     "output_type": "execute_result"
    }
   ],
   "source": [
    "linear_fit_2"
   ],
   "metadata": {
    "collapsed": false,
    "ExecuteTime": {
     "end_time": "2024-08-09T06:50:10.805648700Z",
     "start_time": "2024-08-09T06:50:10.780442900Z"
    }
   },
   "id": "1ec7a8a7138c9ee"
  },
  {
   "cell_type": "code",
   "execution_count": 14,
   "outputs": [
    {
     "data": {
      "text/plain": "poly1d([-1.67714286e-04,  4.76260000e-01])"
     },
     "execution_count": 14,
     "metadata": {},
     "output_type": "execute_result"
    }
   ],
   "source": [
    "linear_fit_1"
   ],
   "metadata": {
    "collapsed": false,
    "ExecuteTime": {
     "end_time": "2024-08-09T06:41:39.931258600Z",
     "start_time": "2024-08-09T06:41:39.908261400Z"
    }
   },
   "id": "7e02986fede77e1e"
  },
  {
   "cell_type": "code",
   "execution_count": 30,
   "outputs": [
    {
     "data": {
      "text/plain": "64.79829019235316"
     },
     "execution_count": 30,
     "metadata": {},
     "output_type": "execute_result"
    }
   ],
   "source": [
    "(linear_params_1[1] - linear_params_2[1]) / (linear_params_2[0] - linear_params_1[0])"
   ],
   "metadata": {
    "collapsed": false,
    "ExecuteTime": {
     "end_time": "2024-08-09T06:53:31.539452300Z",
     "start_time": "2024-08-09T06:53:31.511771400Z"
    }
   },
   "id": "1c1d0e72c48ef9c3"
  },
  {
   "cell_type": "code",
   "execution_count": 24,
   "outputs": [
    {
     "data": {
      "text/plain": "0.4760922857142858"
     },
     "execution_count": 24,
     "metadata": {},
     "output_type": "execute_result"
    }
   ],
   "source": [],
   "metadata": {
    "collapsed": false,
    "ExecuteTime": {
     "end_time": "2024-08-09T06:50:57.597190800Z",
     "start_time": "2024-08-09T06:50:57.562059900Z"
    }
   },
   "id": "cdad95cfec8812ce"
  },
  {
   "cell_type": "code",
   "execution_count": 27,
   "outputs": [
    {
     "data": {
      "text/plain": "-0.00016771428571428712"
     },
     "execution_count": 27,
     "metadata": {},
     "output_type": "execute_result"
    }
   ],
   "source": [],
   "metadata": {
    "collapsed": false,
    "ExecuteTime": {
     "end_time": "2024-08-09T06:52:28.384023100Z",
     "start_time": "2024-08-09T06:52:28.372869500Z"
    }
   },
   "id": "220a7e4ad4749017"
  },
  {
   "cell_type": "code",
   "execution_count": null,
   "outputs": [],
   "source": [],
   "metadata": {
    "collapsed": false
   },
   "id": "f7e926fab491b0ac"
  }
 ],
 "metadata": {
  "kernelspec": {
   "display_name": "Python 3",
   "language": "python",
   "name": "python3"
  },
  "language_info": {
   "codemirror_mode": {
    "name": "ipython",
    "version": 2
   },
   "file_extension": ".py",
   "mimetype": "text/x-python",
   "name": "python",
   "nbconvert_exporter": "python",
   "pygments_lexer": "ipython2",
   "version": "2.7.6"
  }
 },
 "nbformat": 4,
 "nbformat_minor": 5
}
