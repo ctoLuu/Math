{
 "cells": [
  {
   "cell_type": "code",
   "execution_count": 22,
   "id": "initial_id",
   "metadata": {
    "collapsed": true,
    "ExecuteTime": {
     "end_time": "2024-08-15T15:20:31.214824700Z",
     "start_time": "2024-08-15T15:20:31.204104900Z"
    }
   },
   "outputs": [],
   "source": [
    "import pandas as pd\n",
    "import numpy as np"
   ]
  },
  {
   "cell_type": "code",
   "execution_count": 23,
   "outputs": [],
   "source": [
    "df = pd.read_excel('./origin_data_three.xlsx')"
   ],
   "metadata": {
    "collapsed": false,
    "ExecuteTime": {
     "end_time": "2024-08-15T15:21:01.987489400Z",
     "start_time": "2024-08-15T15:20:31.729800900Z"
    }
   },
   "id": "96d43bfc3762e182"
  },
  {
   "cell_type": "code",
   "execution_count": 24,
   "outputs": [
    {
     "data": {
      "text/plain": "         Index                Time     CN     SD\n0            0 2023-05-21 00:00:00    0.0  403.2\n1            1 2023-05-21 00:00:15    0.0  400.6\n2            2 2023-05-21 00:00:30   79.6  463.9\n3            3 2023-05-21 00:00:45  120.7  506.0\n4            4 2023-05-21 00:01:00  121.2  515.5\n...        ...                 ...    ...    ...\n518395  518395 2023-08-18 23:58:45    0.0  585.1\n518396  518396 2023-08-18 23:59:00    0.0  588.4\n518397  518397 2023-08-18 23:59:15    0.0  578.6\n518398  518398 2023-08-18 23:59:30    0.0  603.4\n518399  518399 2023-08-18 23:59:45    0.0  333.1\n\n[518400 rows x 4 columns]",
      "text/html": "<div>\n<style scoped>\n    .dataframe tbody tr th:only-of-type {\n        vertical-align: middle;\n    }\n\n    .dataframe tbody tr th {\n        vertical-align: top;\n    }\n\n    .dataframe thead th {\n        text-align: right;\n    }\n</style>\n<table border=\"1\" class=\"dataframe\">\n  <thead>\n    <tr style=\"text-align: right;\">\n      <th></th>\n      <th>Index</th>\n      <th>Time</th>\n      <th>CN</th>\n      <th>SD</th>\n    </tr>\n  </thead>\n  <tbody>\n    <tr>\n      <th>0</th>\n      <td>0</td>\n      <td>2023-05-21 00:00:00</td>\n      <td>0.0</td>\n      <td>403.2</td>\n    </tr>\n    <tr>\n      <th>1</th>\n      <td>1</td>\n      <td>2023-05-21 00:00:15</td>\n      <td>0.0</td>\n      <td>400.6</td>\n    </tr>\n    <tr>\n      <th>2</th>\n      <td>2</td>\n      <td>2023-05-21 00:00:30</td>\n      <td>79.6</td>\n      <td>463.9</td>\n    </tr>\n    <tr>\n      <th>3</th>\n      <td>3</td>\n      <td>2023-05-21 00:00:45</td>\n      <td>120.7</td>\n      <td>506.0</td>\n    </tr>\n    <tr>\n      <th>4</th>\n      <td>4</td>\n      <td>2023-05-21 00:01:00</td>\n      <td>121.2</td>\n      <td>515.5</td>\n    </tr>\n    <tr>\n      <th>...</th>\n      <td>...</td>\n      <td>...</td>\n      <td>...</td>\n      <td>...</td>\n    </tr>\n    <tr>\n      <th>518395</th>\n      <td>518395</td>\n      <td>2023-08-18 23:58:45</td>\n      <td>0.0</td>\n      <td>585.1</td>\n    </tr>\n    <tr>\n      <th>518396</th>\n      <td>518396</td>\n      <td>2023-08-18 23:59:00</td>\n      <td>0.0</td>\n      <td>588.4</td>\n    </tr>\n    <tr>\n      <th>518397</th>\n      <td>518397</td>\n      <td>2023-08-18 23:59:15</td>\n      <td>0.0</td>\n      <td>578.6</td>\n    </tr>\n    <tr>\n      <th>518398</th>\n      <td>518398</td>\n      <td>2023-08-18 23:59:30</td>\n      <td>0.0</td>\n      <td>603.4</td>\n    </tr>\n    <tr>\n      <th>518399</th>\n      <td>518399</td>\n      <td>2023-08-18 23:59:45</td>\n      <td>0.0</td>\n      <td>333.1</td>\n    </tr>\n  </tbody>\n</table>\n<p>518400 rows × 4 columns</p>\n</div>"
     },
     "execution_count": 24,
     "metadata": {},
     "output_type": "execute_result"
    }
   ],
   "source": [
    "df"
   ],
   "metadata": {
    "collapsed": false,
    "ExecuteTime": {
     "end_time": "2024-08-15T15:21:01.997941400Z",
     "start_time": "2024-08-15T15:21:01.988516800Z"
    }
   },
   "id": "d7c3b34bb14bdf28"
  },
  {
   "cell_type": "code",
   "execution_count": 25,
   "outputs": [
    {
     "name": "stdout",
     "output_type": "stream",
     "text": [
      "DataFrame contains NaN values.\n"
     ]
    }
   ],
   "source": [
    "# 检查DataFrame中是否有任何NaN值\n",
    "has_nan = df.isna().any().any()\n",
    "\n",
    "if has_nan:\n",
    "    print(\"DataFrame contains NaN values.\")\n",
    "else:\n",
    "    print(\"DataFrame does not contain any NaN values.\")\n"
   ],
   "metadata": {
    "collapsed": false,
    "ExecuteTime": {
     "end_time": "2024-08-15T15:21:10.812084Z",
     "start_time": "2024-08-15T15:21:10.805188900Z"
    }
   },
   "id": "6735b2f67f9ee55c"
  },
  {
   "cell_type": "code",
   "execution_count": 26,
   "outputs": [
    {
     "name": "stdout",
     "output_type": "stream",
     "text": [
      "<class 'pandas.core.frame.DataFrame'>\n",
      "RangeIndex: 518400 entries, 0 to 518399\n",
      "Data columns (total 4 columns):\n",
      " #   Column  Non-Null Count   Dtype         \n",
      "---  ------  --------------   -----         \n",
      " 0   Index   518400 non-null  int64         \n",
      " 1   Time    518400 non-null  datetime64[ns]\n",
      " 2   CN      516463 non-null  float64       \n",
      " 3   SD      516463 non-null  float64       \n",
      "dtypes: datetime64[ns](1), float64(2), int64(1)\n",
      "memory usage: 15.8 MB\n"
     ]
    }
   ],
   "source": [
    "df.info()\n"
   ],
   "metadata": {
    "collapsed": false,
    "ExecuteTime": {
     "end_time": "2024-08-15T15:21:13.062454500Z",
     "start_time": "2024-08-15T15:21:13.052764400Z"
    }
   },
   "id": "f1505a78dfc817dc"
  },
  {
   "cell_type": "code",
   "execution_count": 27,
   "outputs": [
    {
     "name": "stdout",
     "output_type": "stream",
     "text": [
      "Total number of NaN values: 3874\n"
     ]
    }
   ],
   "source": [
    "total_nan = df.isna().sum().sum()\n",
    "print(f\"Total number of NaN values: {total_nan}\")\n"
   ],
   "metadata": {
    "collapsed": false,
    "ExecuteTime": {
     "end_time": "2024-08-15T15:21:15.227366100Z",
     "start_time": "2024-08-15T15:21:15.215117100Z"
    }
   },
   "id": "92fa525b23c4bdf0"
  },
  {
   "cell_type": "code",
   "execution_count": 28,
   "outputs": [
    {
     "data": {
      "text/plain": "         Index                Time  CN  SD\n115197  115197 2023-06-09 23:59:15 NaN NaN\n115198  115198 2023-06-09 23:59:30 NaN NaN\n115199  115199 2023-06-09 23:59:45 NaN NaN\n138237  138237 2023-06-13 23:59:15 NaN NaN\n138238  138238 2023-06-13 23:59:30 NaN NaN\n...        ...                 ...  ..  ..\n328317  328317 2023-07-16 23:59:15 NaN NaN\n328318  328318 2023-07-16 23:59:30 NaN NaN\n328319  328319 2023-07-16 23:59:45 NaN NaN\n334078  334078 2023-07-17 23:59:30 NaN NaN\n334079  334079 2023-07-17 23:59:45 NaN NaN\n\n[1937 rows x 4 columns]",
      "text/html": "<div>\n<style scoped>\n    .dataframe tbody tr th:only-of-type {\n        vertical-align: middle;\n    }\n\n    .dataframe tbody tr th {\n        vertical-align: top;\n    }\n\n    .dataframe thead th {\n        text-align: right;\n    }\n</style>\n<table border=\"1\" class=\"dataframe\">\n  <thead>\n    <tr style=\"text-align: right;\">\n      <th></th>\n      <th>Index</th>\n      <th>Time</th>\n      <th>CN</th>\n      <th>SD</th>\n    </tr>\n  </thead>\n  <tbody>\n    <tr>\n      <th>115197</th>\n      <td>115197</td>\n      <td>2023-06-09 23:59:15</td>\n      <td>NaN</td>\n      <td>NaN</td>\n    </tr>\n    <tr>\n      <th>115198</th>\n      <td>115198</td>\n      <td>2023-06-09 23:59:30</td>\n      <td>NaN</td>\n      <td>NaN</td>\n    </tr>\n    <tr>\n      <th>115199</th>\n      <td>115199</td>\n      <td>2023-06-09 23:59:45</td>\n      <td>NaN</td>\n      <td>NaN</td>\n    </tr>\n    <tr>\n      <th>138237</th>\n      <td>138237</td>\n      <td>2023-06-13 23:59:15</td>\n      <td>NaN</td>\n      <td>NaN</td>\n    </tr>\n    <tr>\n      <th>138238</th>\n      <td>138238</td>\n      <td>2023-06-13 23:59:30</td>\n      <td>NaN</td>\n      <td>NaN</td>\n    </tr>\n    <tr>\n      <th>...</th>\n      <td>...</td>\n      <td>...</td>\n      <td>...</td>\n      <td>...</td>\n    </tr>\n    <tr>\n      <th>328317</th>\n      <td>328317</td>\n      <td>2023-07-16 23:59:15</td>\n      <td>NaN</td>\n      <td>NaN</td>\n    </tr>\n    <tr>\n      <th>328318</th>\n      <td>328318</td>\n      <td>2023-07-16 23:59:30</td>\n      <td>NaN</td>\n      <td>NaN</td>\n    </tr>\n    <tr>\n      <th>328319</th>\n      <td>328319</td>\n      <td>2023-07-16 23:59:45</td>\n      <td>NaN</td>\n      <td>NaN</td>\n    </tr>\n    <tr>\n      <th>334078</th>\n      <td>334078</td>\n      <td>2023-07-17 23:59:30</td>\n      <td>NaN</td>\n      <td>NaN</td>\n    </tr>\n    <tr>\n      <th>334079</th>\n      <td>334079</td>\n      <td>2023-07-17 23:59:45</td>\n      <td>NaN</td>\n      <td>NaN</td>\n    </tr>\n  </tbody>\n</table>\n<p>1937 rows × 4 columns</p>\n</div>"
     },
     "execution_count": 28,
     "metadata": {},
     "output_type": "execute_result"
    }
   ],
   "source": [
    "# 找到包含NaN的行\n",
    "rows_with_nan = df[df.isna().any(axis=1)]\n",
    "\n",
    "# 打印这些行\n",
    "rows_with_nan\n"
   ],
   "metadata": {
    "collapsed": false,
    "ExecuteTime": {
     "end_time": "2024-08-15T15:21:17.633605700Z",
     "start_time": "2024-08-15T15:21:17.621580300Z"
    }
   },
   "id": "bd3f2a1ea142eac8"
  },
  {
   "cell_type": "code",
   "execution_count": 29,
   "outputs": [],
   "source": [
    "df_interpolated = df.interpolate(method='linear')"
   ],
   "metadata": {
    "collapsed": false,
    "ExecuteTime": {
     "end_time": "2024-08-15T15:22:08.967813300Z",
     "start_time": "2024-08-15T15:22:08.939966300Z"
    }
   },
   "id": "8bf3cd92563ad89f"
  },
  {
   "cell_type": "code",
   "execution_count": 30,
   "outputs": [
    {
     "name": "stdout",
     "output_type": "stream",
     "text": [
      "DataFrame does not contain any NaN values.\n"
     ]
    }
   ],
   "source": [
    "\n",
    "# 检查DataFrame中是否有任何NaN值\n",
    "has_nan = df_interpolated.isna().any().any()\n",
    "\n",
    "if has_nan:\n",
    "    print(\"DataFrame contains NaN values.\")\n",
    "else:\n",
    "    print(\"DataFrame does not contain any NaN values.\")\n"
   ],
   "metadata": {
    "collapsed": false,
    "ExecuteTime": {
     "end_time": "2024-08-15T15:22:10.645594400Z",
     "start_time": "2024-08-15T15:22:10.639070700Z"
    }
   },
   "id": "5957c188c1fc9e19"
  },
  {
   "cell_type": "code",
   "execution_count": 31,
   "outputs": [
    {
     "data": {
      "text/plain": "         Index                Time     CN     SD\n0            0 2023-05-21 00:00:00    0.0  403.2\n1            1 2023-05-21 00:00:15    0.0  400.6\n2            2 2023-05-21 00:00:30   79.6  463.9\n3            3 2023-05-21 00:00:45  120.7  506.0\n4            4 2023-05-21 00:01:00  121.2  515.5\n...        ...                 ...    ...    ...\n518395  518395 2023-08-18 23:58:45    0.0  585.1\n518396  518396 2023-08-18 23:59:00    0.0  588.4\n518397  518397 2023-08-18 23:59:15    0.0  578.6\n518398  518398 2023-08-18 23:59:30    0.0  603.4\n518399  518399 2023-08-18 23:59:45    0.0  333.1\n\n[518400 rows x 4 columns]",
      "text/html": "<div>\n<style scoped>\n    .dataframe tbody tr th:only-of-type {\n        vertical-align: middle;\n    }\n\n    .dataframe tbody tr th {\n        vertical-align: top;\n    }\n\n    .dataframe thead th {\n        text-align: right;\n    }\n</style>\n<table border=\"1\" class=\"dataframe\">\n  <thead>\n    <tr style=\"text-align: right;\">\n      <th></th>\n      <th>Index</th>\n      <th>Time</th>\n      <th>CN</th>\n      <th>SD</th>\n    </tr>\n  </thead>\n  <tbody>\n    <tr>\n      <th>0</th>\n      <td>0</td>\n      <td>2023-05-21 00:00:00</td>\n      <td>0.0</td>\n      <td>403.2</td>\n    </tr>\n    <tr>\n      <th>1</th>\n      <td>1</td>\n      <td>2023-05-21 00:00:15</td>\n      <td>0.0</td>\n      <td>400.6</td>\n    </tr>\n    <tr>\n      <th>2</th>\n      <td>2</td>\n      <td>2023-05-21 00:00:30</td>\n      <td>79.6</td>\n      <td>463.9</td>\n    </tr>\n    <tr>\n      <th>3</th>\n      <td>3</td>\n      <td>2023-05-21 00:00:45</td>\n      <td>120.7</td>\n      <td>506.0</td>\n    </tr>\n    <tr>\n      <th>4</th>\n      <td>4</td>\n      <td>2023-05-21 00:01:00</td>\n      <td>121.2</td>\n      <td>515.5</td>\n    </tr>\n    <tr>\n      <th>...</th>\n      <td>...</td>\n      <td>...</td>\n      <td>...</td>\n      <td>...</td>\n    </tr>\n    <tr>\n      <th>518395</th>\n      <td>518395</td>\n      <td>2023-08-18 23:58:45</td>\n      <td>0.0</td>\n      <td>585.1</td>\n    </tr>\n    <tr>\n      <th>518396</th>\n      <td>518396</td>\n      <td>2023-08-18 23:59:00</td>\n      <td>0.0</td>\n      <td>588.4</td>\n    </tr>\n    <tr>\n      <th>518397</th>\n      <td>518397</td>\n      <td>2023-08-18 23:59:15</td>\n      <td>0.0</td>\n      <td>578.6</td>\n    </tr>\n    <tr>\n      <th>518398</th>\n      <td>518398</td>\n      <td>2023-08-18 23:59:30</td>\n      <td>0.0</td>\n      <td>603.4</td>\n    </tr>\n    <tr>\n      <th>518399</th>\n      <td>518399</td>\n      <td>2023-08-18 23:59:45</td>\n      <td>0.0</td>\n      <td>333.1</td>\n    </tr>\n  </tbody>\n</table>\n<p>518400 rows × 4 columns</p>\n</div>"
     },
     "execution_count": 31,
     "metadata": {},
     "output_type": "execute_result"
    }
   ],
   "source": [
    "df_interpolated"
   ],
   "metadata": {
    "collapsed": false,
    "ExecuteTime": {
     "end_time": "2024-08-15T15:22:12.055884100Z",
     "start_time": "2024-08-15T15:22:12.052446500Z"
    }
   },
   "id": "168c85d3baa57156"
  },
  {
   "cell_type": "code",
   "execution_count": null,
   "outputs": [],
   "source": [],
   "metadata": {
    "collapsed": false
   },
   "id": "79dc0812e6b04b9e"
  }
 ],
 "metadata": {
  "kernelspec": {
   "display_name": "Python 3",
   "language": "python",
   "name": "python3"
  },
  "language_info": {
   "codemirror_mode": {
    "name": "ipython",
    "version": 2
   },
   "file_extension": ".py",
   "mimetype": "text/x-python",
   "name": "python",
   "nbconvert_exporter": "python",
   "pygments_lexer": "ipython2",
   "version": "2.7.6"
  }
 },
 "nbformat": 4,
 "nbformat_minor": 5
}
