{
 "cells": [
  {
   "cell_type": "code",
   "execution_count": 11,
   "id": "initial_id",
   "metadata": {
    "collapsed": true,
    "ExecuteTime": {
     "end_time": "2024-08-13T23:31:17.345315400Z",
     "start_time": "2024-08-13T23:31:17.281204500Z"
    }
   },
   "outputs": [],
   "source": [
    "import pandas as pd\n",
    "import numpy as np"
   ]
  },
  {
   "cell_type": "code",
   "outputs": [
    {
     "data": {
      "text/plain": "           date  system_id system_type  \\\n0    2023-05-21         -1        Time   \n1    2023-05-21          1          CN   \n2    2023-05-21          4          SD   \n3    2023-05-22         -1        Time   \n4    2023-05-22          1          CN   \n..          ...        ...         ...   \n265  2023-08-17          1          CN   \n266  2023-08-17          4          SD   \n267  2023-08-18         -1        Time   \n268  2023-08-18          1          CN   \n269  2023-08-18          4          SD   \n\n                                                  data  \n0    00:00,00:00:15,00:00:30,00:00:45,00:01,00:01:1...  \n1    0.0,0.0,79.6,120.7,121.2,121.1,121.2,119.5,121...  \n2    403.2,400.6,463.9,506.0,515.5,514.8,515.3,516....  \n3    00:00,00:00:15,00:00:30,00:00:45,00:01,00:01:1...  \n4    0.0,120.6,120.8,120.5,121.1,120.7,120.7,120.5,...  \n..                                                 ...  \n265  0.0,150.6,151.3,151.0,151.6,151.9,150.6,151.2,...  \n266  639.1,780.7,783.2,774.3,787.7,781.7,791.3,803....  \n267  00:00,00:00:15,00:00:30,00:00:45,00:01,00:01:1...  \n268  0.0,151.5,151.3,152.6,151.4,149.9,150.7,151.7,...  \n269  375.7,537.1,509.6,527.3,511.5,519.9,506.1,525....  \n\n[270 rows x 4 columns]",
      "text/html": "<div>\n<style scoped>\n    .dataframe tbody tr th:only-of-type {\n        vertical-align: middle;\n    }\n\n    .dataframe tbody tr th {\n        vertical-align: top;\n    }\n\n    .dataframe thead th {\n        text-align: right;\n    }\n</style>\n<table border=\"1\" class=\"dataframe\">\n  <thead>\n    <tr style=\"text-align: right;\">\n      <th></th>\n      <th>date</th>\n      <th>system_id</th>\n      <th>system_type</th>\n      <th>data</th>\n    </tr>\n  </thead>\n  <tbody>\n    <tr>\n      <th>0</th>\n      <td>2023-05-21</td>\n      <td>-1</td>\n      <td>Time</td>\n      <td>00:00,00:00:15,00:00:30,00:00:45,00:01,00:01:1...</td>\n    </tr>\n    <tr>\n      <th>1</th>\n      <td>2023-05-21</td>\n      <td>1</td>\n      <td>CN</td>\n      <td>0.0,0.0,79.6,120.7,121.2,121.1,121.2,119.5,121...</td>\n    </tr>\n    <tr>\n      <th>2</th>\n      <td>2023-05-21</td>\n      <td>4</td>\n      <td>SD</td>\n      <td>403.2,400.6,463.9,506.0,515.5,514.8,515.3,516....</td>\n    </tr>\n    <tr>\n      <th>3</th>\n      <td>2023-05-22</td>\n      <td>-1</td>\n      <td>Time</td>\n      <td>00:00,00:00:15,00:00:30,00:00:45,00:01,00:01:1...</td>\n    </tr>\n    <tr>\n      <th>4</th>\n      <td>2023-05-22</td>\n      <td>1</td>\n      <td>CN</td>\n      <td>0.0,120.6,120.8,120.5,121.1,120.7,120.7,120.5,...</td>\n    </tr>\n    <tr>\n      <th>...</th>\n      <td>...</td>\n      <td>...</td>\n      <td>...</td>\n      <td>...</td>\n    </tr>\n    <tr>\n      <th>265</th>\n      <td>2023-08-17</td>\n      <td>1</td>\n      <td>CN</td>\n      <td>0.0,150.6,151.3,151.0,151.6,151.9,150.6,151.2,...</td>\n    </tr>\n    <tr>\n      <th>266</th>\n      <td>2023-08-17</td>\n      <td>4</td>\n      <td>SD</td>\n      <td>639.1,780.7,783.2,774.3,787.7,781.7,791.3,803....</td>\n    </tr>\n    <tr>\n      <th>267</th>\n      <td>2023-08-18</td>\n      <td>-1</td>\n      <td>Time</td>\n      <td>00:00,00:00:15,00:00:30,00:00:45,00:01,00:01:1...</td>\n    </tr>\n    <tr>\n      <th>268</th>\n      <td>2023-08-18</td>\n      <td>1</td>\n      <td>CN</td>\n      <td>0.0,151.5,151.3,152.6,151.4,149.9,150.7,151.7,...</td>\n    </tr>\n    <tr>\n      <th>269</th>\n      <td>2023-08-18</td>\n      <td>4</td>\n      <td>SD</td>\n      <td>375.7,537.1,509.6,527.3,511.5,519.9,506.1,525....</td>\n    </tr>\n  </tbody>\n</table>\n<p>270 rows × 4 columns</p>\n</div>"
     },
     "execution_count": 36,
     "metadata": {},
     "output_type": "execute_result"
    }
   ],
   "source": [
    "df = pd.read_csv('./历史用电数据_三并柜.csv')\n",
    "df"
   ],
   "metadata": {
    "collapsed": false,
    "ExecuteTime": {
     "end_time": "2024-08-14T01:26:01.971883Z",
     "start_time": "2024-08-14T01:26:01.809419400Z"
    }
   },
   "id": "e5ae97fcd62dfc7f",
   "execution_count": 36
  },
  {
   "cell_type": "code",
   "outputs": [],
   "source": [
    "df_expand = df['data'].str.split(',', expand=True)"
   ],
   "metadata": {
    "collapsed": false,
    "ExecuteTime": {
     "end_time": "2024-08-14T01:26:55.957394500Z",
     "start_time": "2024-08-14T01:26:55.684038400Z"
    }
   },
   "id": "f283c41fd1883a7b",
   "execution_count": 37
  },
  {
   "cell_type": "code",
   "execution_count": 38,
   "outputs": [
    {
     "data": {
      "text/plain": "      0         1         2         3      4         5         6         7     \\\n0    00:00  00:00:15  00:00:30  00:00:45  00:01  00:01:15  00:01:30  00:01:45   \n1      0.0       0.0      79.6     120.7  121.2     121.1     121.2     119.5   \n2    403.2     400.6     463.9     506.0  515.5     514.8     515.3     516.2   \n3    00:00  00:00:15  00:00:30  00:00:45  00:01  00:01:15  00:01:30  00:01:45   \n4      0.0     120.6     120.8     120.5  121.1     120.7     120.7     120.5   \n..     ...       ...       ...       ...    ...       ...       ...       ...   \n265    0.0     150.6     151.3     151.0  151.6     151.9     150.6     151.2   \n266  639.1     780.7     783.2     774.3  787.7     781.7     791.3     803.3   \n267  00:00  00:00:15  00:00:30  00:00:45  00:01  00:01:15  00:01:30  00:01:45   \n268    0.0     151.5     151.3     152.6  151.4     149.9     150.7     151.7   \n269  375.7     537.1     509.6     527.3  511.5     519.9     506.1     525.3   \n\n      8         9     ...      5750      5751   5752      5753      5754  \\\n0    00:02  00:02:15  ...  23:57:30  23:57:45  23:58  23:58:15  23:58:30   \n1    121.9     121.4  ...       0.0       0.0    0.0       0.0       0.0   \n2    518.0     509.1  ...     390.0     373.3  376.0     411.3     397.7   \n3    00:02  00:02:15  ...  23:57:30  23:57:45  23:58  23:58:15  23:58:30   \n4    120.9     120.8  ...       0.0       0.0    0.0       0.0       0.0   \n..     ...       ...  ...       ...       ...    ...       ...       ...   \n265  151.8     150.3  ...       0.0       0.0    0.0       0.0       0.0   \n266  816.5     791.5  ...     649.7     680.7  658.0     676.9     398.5   \n267  00:02  00:02:15  ...  23:57:30  23:57:45  23:58  23:58:15  23:58:30   \n268  150.7     151.3  ...       0.0       0.0    0.0       0.0       0.0   \n269  510.6     519.5  ...     613.0     615.8  618.6     613.0     618.6   \n\n         5755   5756      5757      5758      5759  \n0    23:58:45  23:59  23:59:15  23:59:30  23:59:45  \n1         0.0    0.0       0.0       0.0       0.0  \n2       399.9  409.6     407.5     412.9     401.3  \n3    23:58:45  23:59  23:59:15  23:59:30  23:59:45  \n4         0.0    0.0       0.0       0.0       0.0  \n..        ...    ...       ...       ...       ...  \n265       0.0    0.0       0.0       0.0       0.0  \n266     397.0  375.9     391.4     373.0     396.0  \n267  23:58:45  23:59  23:59:15  23:59:30  23:59:45  \n268       0.0    0.0       0.0       0.0       0.0  \n269     585.1  588.4     578.6     603.4     333.1  \n\n[270 rows x 5760 columns]",
      "text/html": "<div>\n<style scoped>\n    .dataframe tbody tr th:only-of-type {\n        vertical-align: middle;\n    }\n\n    .dataframe tbody tr th {\n        vertical-align: top;\n    }\n\n    .dataframe thead th {\n        text-align: right;\n    }\n</style>\n<table border=\"1\" class=\"dataframe\">\n  <thead>\n    <tr style=\"text-align: right;\">\n      <th></th>\n      <th>0</th>\n      <th>1</th>\n      <th>2</th>\n      <th>3</th>\n      <th>4</th>\n      <th>5</th>\n      <th>6</th>\n      <th>7</th>\n      <th>8</th>\n      <th>9</th>\n      <th>...</th>\n      <th>5750</th>\n      <th>5751</th>\n      <th>5752</th>\n      <th>5753</th>\n      <th>5754</th>\n      <th>5755</th>\n      <th>5756</th>\n      <th>5757</th>\n      <th>5758</th>\n      <th>5759</th>\n    </tr>\n  </thead>\n  <tbody>\n    <tr>\n      <th>0</th>\n      <td>00:00</td>\n      <td>00:00:15</td>\n      <td>00:00:30</td>\n      <td>00:00:45</td>\n      <td>00:01</td>\n      <td>00:01:15</td>\n      <td>00:01:30</td>\n      <td>00:01:45</td>\n      <td>00:02</td>\n      <td>00:02:15</td>\n      <td>...</td>\n      <td>23:57:30</td>\n      <td>23:57:45</td>\n      <td>23:58</td>\n      <td>23:58:15</td>\n      <td>23:58:30</td>\n      <td>23:58:45</td>\n      <td>23:59</td>\n      <td>23:59:15</td>\n      <td>23:59:30</td>\n      <td>23:59:45</td>\n    </tr>\n    <tr>\n      <th>1</th>\n      <td>0.0</td>\n      <td>0.0</td>\n      <td>79.6</td>\n      <td>120.7</td>\n      <td>121.2</td>\n      <td>121.1</td>\n      <td>121.2</td>\n      <td>119.5</td>\n      <td>121.9</td>\n      <td>121.4</td>\n      <td>...</td>\n      <td>0.0</td>\n      <td>0.0</td>\n      <td>0.0</td>\n      <td>0.0</td>\n      <td>0.0</td>\n      <td>0.0</td>\n      <td>0.0</td>\n      <td>0.0</td>\n      <td>0.0</td>\n      <td>0.0</td>\n    </tr>\n    <tr>\n      <th>2</th>\n      <td>403.2</td>\n      <td>400.6</td>\n      <td>463.9</td>\n      <td>506.0</td>\n      <td>515.5</td>\n      <td>514.8</td>\n      <td>515.3</td>\n      <td>516.2</td>\n      <td>518.0</td>\n      <td>509.1</td>\n      <td>...</td>\n      <td>390.0</td>\n      <td>373.3</td>\n      <td>376.0</td>\n      <td>411.3</td>\n      <td>397.7</td>\n      <td>399.9</td>\n      <td>409.6</td>\n      <td>407.5</td>\n      <td>412.9</td>\n      <td>401.3</td>\n    </tr>\n    <tr>\n      <th>3</th>\n      <td>00:00</td>\n      <td>00:00:15</td>\n      <td>00:00:30</td>\n      <td>00:00:45</td>\n      <td>00:01</td>\n      <td>00:01:15</td>\n      <td>00:01:30</td>\n      <td>00:01:45</td>\n      <td>00:02</td>\n      <td>00:02:15</td>\n      <td>...</td>\n      <td>23:57:30</td>\n      <td>23:57:45</td>\n      <td>23:58</td>\n      <td>23:58:15</td>\n      <td>23:58:30</td>\n      <td>23:58:45</td>\n      <td>23:59</td>\n      <td>23:59:15</td>\n      <td>23:59:30</td>\n      <td>23:59:45</td>\n    </tr>\n    <tr>\n      <th>4</th>\n      <td>0.0</td>\n      <td>120.6</td>\n      <td>120.8</td>\n      <td>120.5</td>\n      <td>121.1</td>\n      <td>120.7</td>\n      <td>120.7</td>\n      <td>120.5</td>\n      <td>120.9</td>\n      <td>120.8</td>\n      <td>...</td>\n      <td>0.0</td>\n      <td>0.0</td>\n      <td>0.0</td>\n      <td>0.0</td>\n      <td>0.0</td>\n      <td>0.0</td>\n      <td>0.0</td>\n      <td>0.0</td>\n      <td>0.0</td>\n      <td>0.0</td>\n    </tr>\n    <tr>\n      <th>...</th>\n      <td>...</td>\n      <td>...</td>\n      <td>...</td>\n      <td>...</td>\n      <td>...</td>\n      <td>...</td>\n      <td>...</td>\n      <td>...</td>\n      <td>...</td>\n      <td>...</td>\n      <td>...</td>\n      <td>...</td>\n      <td>...</td>\n      <td>...</td>\n      <td>...</td>\n      <td>...</td>\n      <td>...</td>\n      <td>...</td>\n      <td>...</td>\n      <td>...</td>\n      <td>...</td>\n    </tr>\n    <tr>\n      <th>265</th>\n      <td>0.0</td>\n      <td>150.6</td>\n      <td>151.3</td>\n      <td>151.0</td>\n      <td>151.6</td>\n      <td>151.9</td>\n      <td>150.6</td>\n      <td>151.2</td>\n      <td>151.8</td>\n      <td>150.3</td>\n      <td>...</td>\n      <td>0.0</td>\n      <td>0.0</td>\n      <td>0.0</td>\n      <td>0.0</td>\n      <td>0.0</td>\n      <td>0.0</td>\n      <td>0.0</td>\n      <td>0.0</td>\n      <td>0.0</td>\n      <td>0.0</td>\n    </tr>\n    <tr>\n      <th>266</th>\n      <td>639.1</td>\n      <td>780.7</td>\n      <td>783.2</td>\n      <td>774.3</td>\n      <td>787.7</td>\n      <td>781.7</td>\n      <td>791.3</td>\n      <td>803.3</td>\n      <td>816.5</td>\n      <td>791.5</td>\n      <td>...</td>\n      <td>649.7</td>\n      <td>680.7</td>\n      <td>658.0</td>\n      <td>676.9</td>\n      <td>398.5</td>\n      <td>397.0</td>\n      <td>375.9</td>\n      <td>391.4</td>\n      <td>373.0</td>\n      <td>396.0</td>\n    </tr>\n    <tr>\n      <th>267</th>\n      <td>00:00</td>\n      <td>00:00:15</td>\n      <td>00:00:30</td>\n      <td>00:00:45</td>\n      <td>00:01</td>\n      <td>00:01:15</td>\n      <td>00:01:30</td>\n      <td>00:01:45</td>\n      <td>00:02</td>\n      <td>00:02:15</td>\n      <td>...</td>\n      <td>23:57:30</td>\n      <td>23:57:45</td>\n      <td>23:58</td>\n      <td>23:58:15</td>\n      <td>23:58:30</td>\n      <td>23:58:45</td>\n      <td>23:59</td>\n      <td>23:59:15</td>\n      <td>23:59:30</td>\n      <td>23:59:45</td>\n    </tr>\n    <tr>\n      <th>268</th>\n      <td>0.0</td>\n      <td>151.5</td>\n      <td>151.3</td>\n      <td>152.6</td>\n      <td>151.4</td>\n      <td>149.9</td>\n      <td>150.7</td>\n      <td>151.7</td>\n      <td>150.7</td>\n      <td>151.3</td>\n      <td>...</td>\n      <td>0.0</td>\n      <td>0.0</td>\n      <td>0.0</td>\n      <td>0.0</td>\n      <td>0.0</td>\n      <td>0.0</td>\n      <td>0.0</td>\n      <td>0.0</td>\n      <td>0.0</td>\n      <td>0.0</td>\n    </tr>\n    <tr>\n      <th>269</th>\n      <td>375.7</td>\n      <td>537.1</td>\n      <td>509.6</td>\n      <td>527.3</td>\n      <td>511.5</td>\n      <td>519.9</td>\n      <td>506.1</td>\n      <td>525.3</td>\n      <td>510.6</td>\n      <td>519.5</td>\n      <td>...</td>\n      <td>613.0</td>\n      <td>615.8</td>\n      <td>618.6</td>\n      <td>613.0</td>\n      <td>618.6</td>\n      <td>585.1</td>\n      <td>588.4</td>\n      <td>578.6</td>\n      <td>603.4</td>\n      <td>333.1</td>\n    </tr>\n  </tbody>\n</table>\n<p>270 rows × 5760 columns</p>\n</div>"
     },
     "execution_count": 38,
     "metadata": {},
     "output_type": "execute_result"
    }
   ],
   "source": [
    "df_expand"
   ],
   "metadata": {
    "collapsed": false,
    "ExecuteTime": {
     "end_time": "2024-08-14T01:26:56.672791200Z",
     "start_time": "2024-08-14T01:26:56.640253900Z"
    }
   },
   "id": "6ba895414c69f5ed"
  },
  {
   "cell_type": "code",
   "execution_count": 29,
   "outputs": [
    {
     "name": "stderr",
     "output_type": "stream",
     "text": [
      "C:\\Users\\Asus\\AppData\\Local\\Temp\\ipykernel_22276\\542909029.py:3: FutureWarning: 'S' is deprecated and will be removed in a future version, please use 's' instead.\n",
      "  time_index = pd.date_range(start=start_date, end=end_date, freq='15S')\n"
     ]
    }
   ],
   "source": [
    "start_date = '2023-11-03'\n",
    "end_date = pd.to_datetime(start_date) + pd.DateOffset(days=120)\n",
    "time_index = pd.date_range(start=start_date, end=end_date, freq='15S')"
   ],
   "metadata": {
    "collapsed": false,
    "ExecuteTime": {
     "end_time": "2024-08-13T23:48:26.361101Z",
     "start_time": "2024-08-13T23:48:26.328610300Z"
    }
   },
   "id": "5de583c5feafa9f8"
  },
  {
   "cell_type": "code",
   "execution_count": 30,
   "outputs": [],
   "source": [
    "\n",
    "# 创建DataFrame\n",
    "df = pd.DataFrame(index=time_index)\n",
    "df.index.name = 'Time'"
   ],
   "metadata": {
    "collapsed": false,
    "ExecuteTime": {
     "end_time": "2024-08-13T23:48:28.226037700Z",
     "start_time": "2024-08-13T23:48:28.218458100Z"
    }
   },
   "id": "f79da150268834dd"
  },
  {
   "cell_type": "code",
   "execution_count": 31,
   "outputs": [],
   "source": [
    "\n",
    "# 添加CN和SD列（这里使用随机数据作为示例，你可以替换为实际数据）\n",
    "df['CN'] = np.random.random(len(df))\n",
    "df['SD'] = np.random.random(len(df))"
   ],
   "metadata": {
    "collapsed": false,
    "ExecuteTime": {
     "end_time": "2024-08-13T23:48:28.788854700Z",
     "start_time": "2024-08-13T23:48:28.764610700Z"
    }
   },
   "id": "e5cb85fb2798f727"
  },
  {
   "cell_type": "code",
   "execution_count": 32,
   "outputs": [
    {
     "data": {
      "text/plain": "                           CN        SD\nTime                                   \n2023-11-03 00:00:00  0.047495  0.603634\n2023-11-03 00:00:15  0.269693  0.048210\n2023-11-03 00:00:30  0.182252  0.587354\n2023-11-03 00:00:45  0.599454  0.950213\n2023-11-03 00:01:00  0.614103  0.226618\n...                       ...       ...\n2024-03-01 23:59:00  0.605067  0.684648\n2024-03-01 23:59:15  0.468764  0.763136\n2024-03-01 23:59:30  0.276756  0.277006\n2024-03-01 23:59:45  0.111011  0.222748\n2024-03-02 00:00:00  0.376256  0.835351\n\n[691201 rows x 2 columns]",
      "text/html": "<div>\n<style scoped>\n    .dataframe tbody tr th:only-of-type {\n        vertical-align: middle;\n    }\n\n    .dataframe tbody tr th {\n        vertical-align: top;\n    }\n\n    .dataframe thead th {\n        text-align: right;\n    }\n</style>\n<table border=\"1\" class=\"dataframe\">\n  <thead>\n    <tr style=\"text-align: right;\">\n      <th></th>\n      <th>CN</th>\n      <th>SD</th>\n    </tr>\n    <tr>\n      <th>Time</th>\n      <th></th>\n      <th></th>\n    </tr>\n  </thead>\n  <tbody>\n    <tr>\n      <th>2023-11-03 00:00:00</th>\n      <td>0.047495</td>\n      <td>0.603634</td>\n    </tr>\n    <tr>\n      <th>2023-11-03 00:00:15</th>\n      <td>0.269693</td>\n      <td>0.048210</td>\n    </tr>\n    <tr>\n      <th>2023-11-03 00:00:30</th>\n      <td>0.182252</td>\n      <td>0.587354</td>\n    </tr>\n    <tr>\n      <th>2023-11-03 00:00:45</th>\n      <td>0.599454</td>\n      <td>0.950213</td>\n    </tr>\n    <tr>\n      <th>2023-11-03 00:01:00</th>\n      <td>0.614103</td>\n      <td>0.226618</td>\n    </tr>\n    <tr>\n      <th>...</th>\n      <td>...</td>\n      <td>...</td>\n    </tr>\n    <tr>\n      <th>2024-03-01 23:59:00</th>\n      <td>0.605067</td>\n      <td>0.684648</td>\n    </tr>\n    <tr>\n      <th>2024-03-01 23:59:15</th>\n      <td>0.468764</td>\n      <td>0.763136</td>\n    </tr>\n    <tr>\n      <th>2024-03-01 23:59:30</th>\n      <td>0.276756</td>\n      <td>0.277006</td>\n    </tr>\n    <tr>\n      <th>2024-03-01 23:59:45</th>\n      <td>0.111011</td>\n      <td>0.222748</td>\n    </tr>\n    <tr>\n      <th>2024-03-02 00:00:00</th>\n      <td>0.376256</td>\n      <td>0.835351</td>\n    </tr>\n  </tbody>\n</table>\n<p>691201 rows × 2 columns</p>\n</div>"
     },
     "execution_count": 32,
     "metadata": {},
     "output_type": "execute_result"
    }
   ],
   "source": [
    "df"
   ],
   "metadata": {
    "collapsed": false,
    "ExecuteTime": {
     "end_time": "2024-08-13T23:48:29.701568900Z",
     "start_time": "2024-08-13T23:48:29.659241400Z"
    }
   },
   "id": "6f5789338e4ee312"
  },
  {
   "cell_type": "code",
   "execution_count": 19,
   "outputs": [],
   "source": [
    "df_transpose = df_expand.loc[2].transpose()"
   ],
   "metadata": {
    "collapsed": false,
    "ExecuteTime": {
     "end_time": "2024-08-13T23:35:14.399228100Z",
     "start_time": "2024-08-13T23:35:14.382210200Z"
    }
   },
   "id": "993d535258efd8b5"
  },
  {
   "cell_type": "code",
   "execution_count": 20,
   "outputs": [
    {
     "data": {
      "text/plain": "0        73.8\n1        73.2\n2        74.1\n3        75.6\n4       125.4\n        ...  \n5755     91.2\n5756     91.2\n5757     92.7\n5758     91.8\n5759     85.2\nName: 2, Length: 5760, dtype: object"
     },
     "execution_count": 20,
     "metadata": {},
     "output_type": "execute_result"
    }
   ],
   "source": [
    "df_transpose"
   ],
   "metadata": {
    "collapsed": false,
    "ExecuteTime": {
     "end_time": "2024-08-13T23:35:20.756376200Z",
     "start_time": "2024-08-13T23:35:20.741024800Z"
    }
   },
   "id": "acdffb990a0260cd"
  },
  {
   "cell_type": "code",
   "execution_count": 26,
   "outputs": [],
   "source": [
    "df_transposed = pd.DataFrame()\n",
    "df_transposed = pd.concat((df_transposed, df_transpose), ignore_index=True)"
   ],
   "metadata": {
    "collapsed": false,
    "ExecuteTime": {
     "end_time": "2024-08-13T23:36:52.042252Z",
     "start_time": "2024-08-13T23:36:52.008307Z"
    }
   },
   "id": "78dfac9b20251d39"
  },
  {
   "cell_type": "code",
   "execution_count": 28,
   "outputs": [
    {
     "data": {
      "text/plain": "           0\n0       73.8\n1       73.2\n2       74.1\n3       75.6\n4      125.4\n...      ...\n11515  103.5\n11516  103.2\n11517   98.4\n11518   98.7\n11519  101.1\n\n[11520 rows x 1 columns]",
      "text/html": "<div>\n<style scoped>\n    .dataframe tbody tr th:only-of-type {\n        vertical-align: middle;\n    }\n\n    .dataframe tbody tr th {\n        vertical-align: top;\n    }\n\n    .dataframe thead th {\n        text-align: right;\n    }\n</style>\n<table border=\"1\" class=\"dataframe\">\n  <thead>\n    <tr style=\"text-align: right;\">\n      <th></th>\n      <th>0</th>\n    </tr>\n  </thead>\n  <tbody>\n    <tr>\n      <th>0</th>\n      <td>73.8</td>\n    </tr>\n    <tr>\n      <th>1</th>\n      <td>73.2</td>\n    </tr>\n    <tr>\n      <th>2</th>\n      <td>74.1</td>\n    </tr>\n    <tr>\n      <th>3</th>\n      <td>75.6</td>\n    </tr>\n    <tr>\n      <th>4</th>\n      <td>125.4</td>\n    </tr>\n    <tr>\n      <th>...</th>\n      <td>...</td>\n    </tr>\n    <tr>\n      <th>11515</th>\n      <td>103.5</td>\n    </tr>\n    <tr>\n      <th>11516</th>\n      <td>103.2</td>\n    </tr>\n    <tr>\n      <th>11517</th>\n      <td>98.4</td>\n    </tr>\n    <tr>\n      <th>11518</th>\n      <td>98.7</td>\n    </tr>\n    <tr>\n      <th>11519</th>\n      <td>101.1</td>\n    </tr>\n  </tbody>\n</table>\n<p>11520 rows × 1 columns</p>\n</div>"
     },
     "execution_count": 28,
     "metadata": {},
     "output_type": "execute_result"
    }
   ],
   "source": [
    "df_transpose = df_expand.loc[5].transpose()\n",
    "df_transposed = pd.concat((df_transposed, df_transpose), ignore_index=True)\n",
    "df_transposed"
   ],
   "metadata": {
    "collapsed": false,
    "ExecuteTime": {
     "end_time": "2024-08-13T23:37:54.701080900Z",
     "start_time": "2024-08-13T23:37:54.663042500Z"
    }
   },
   "id": "9a21705138740c5f"
  },
  {
   "cell_type": "code",
   "execution_count": null,
   "outputs": [],
   "source": [],
   "metadata": {
    "collapsed": false
   },
   "id": "267e24ded5b7b54e"
  }
 ],
 "metadata": {
  "kernelspec": {
   "display_name": "Python 3",
   "language": "python",
   "name": "python3"
  },
  "language_info": {
   "codemirror_mode": {
    "name": "ipython",
    "version": 2
   },
   "file_extension": ".py",
   "mimetype": "text/x-python",
   "name": "python",
   "nbconvert_exporter": "python",
   "pygments_lexer": "ipython2",
   "version": "2.7.6"
  }
 },
 "nbformat": 4,
 "nbformat_minor": 5
}
