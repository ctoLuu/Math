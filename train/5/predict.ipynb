{
 "cells": [
  {
   "cell_type": "code",
   "execution_count": 1,
   "id": "initial_id",
   "metadata": {
    "collapsed": true,
    "ExecuteTime": {
     "end_time": "2024-08-14T04:43:08.831345Z",
     "start_time": "2024-08-14T04:43:08.607121Z"
    }
   },
   "outputs": [],
   "source": [
    "import pandas as pd\n",
    "import numpy as np"
   ]
  },
  {
   "cell_type": "code",
   "outputs": [
    {
     "data": {
      "text/plain": "           date  system_id system_type  \\\n0    2023-11-03         -1        Time   \n1    2023-11-03          1          CN   \n2    2023-11-03          4          SD   \n3    2023-11-04         -1        Time   \n4    2023-11-04          1          CN   \n..          ...        ...         ...   \n355  2024-03-16          1          CN   \n356  2024-03-16          4          SD   \n357  2024-03-17         -1        Time   \n358  2024-03-17          1          CN   \n359  2024-03-17          4          SD   \n\n                                                  data  \n0    00:00,00:00:15,00:00:30,00:00:45,00:01,00:01:1...  \n1    0.0,0.0,0.0,0.1,49.9,50.0,49.9,50.0,49.9,49.7,...  \n2    73.8,73.2,74.1,75.6,125.4,126.0,126.9,127.2,12...  \n3    00:00,00:00:15,00:00:30,00:00:45,00:01,00:01:1...  \n4    0.0,0.0,0.0,0.2,49.8,50.2,49.8,49.9,50.0,50.0,...  \n..                                                 ...  \n355  0.0,0.0,0.0,0.0,0.0,0.1,50.0,50.0,50.0,49.9,50...  \n356  51.0,52.2,51.9,48.9,45.9,45.6,94.5,94.2,94.5,9...  \n357  00:00,00:00:15,00:00:30,00:00:45,00:01,00:01:1...  \n358  0.0,0.0,0.0,0.0,0.0,0.2,50.2,49.8,49.8,49.9,50...  \n359  65.4,63.0,63.3,63.3,62.7,62.7,111.9,110.4,110....  \n\n[360 rows x 4 columns]",
      "text/html": "<div>\n<style scoped>\n    .dataframe tbody tr th:only-of-type {\n        vertical-align: middle;\n    }\n\n    .dataframe tbody tr th {\n        vertical-align: top;\n    }\n\n    .dataframe thead th {\n        text-align: right;\n    }\n</style>\n<table border=\"1\" class=\"dataframe\">\n  <thead>\n    <tr style=\"text-align: right;\">\n      <th></th>\n      <th>date</th>\n      <th>system_id</th>\n      <th>system_type</th>\n      <th>data</th>\n    </tr>\n  </thead>\n  <tbody>\n    <tr>\n      <th>0</th>\n      <td>2023-11-03</td>\n      <td>-1</td>\n      <td>Time</td>\n      <td>00:00,00:00:15,00:00:30,00:00:45,00:01,00:01:1...</td>\n    </tr>\n    <tr>\n      <th>1</th>\n      <td>2023-11-03</td>\n      <td>1</td>\n      <td>CN</td>\n      <td>0.0,0.0,0.0,0.1,49.9,50.0,49.9,50.0,49.9,49.7,...</td>\n    </tr>\n    <tr>\n      <th>2</th>\n      <td>2023-11-03</td>\n      <td>4</td>\n      <td>SD</td>\n      <td>73.8,73.2,74.1,75.6,125.4,126.0,126.9,127.2,12...</td>\n    </tr>\n    <tr>\n      <th>3</th>\n      <td>2023-11-04</td>\n      <td>-1</td>\n      <td>Time</td>\n      <td>00:00,00:00:15,00:00:30,00:00:45,00:01,00:01:1...</td>\n    </tr>\n    <tr>\n      <th>4</th>\n      <td>2023-11-04</td>\n      <td>1</td>\n      <td>CN</td>\n      <td>0.0,0.0,0.0,0.2,49.8,50.2,49.8,49.9,50.0,50.0,...</td>\n    </tr>\n    <tr>\n      <th>...</th>\n      <td>...</td>\n      <td>...</td>\n      <td>...</td>\n      <td>...</td>\n    </tr>\n    <tr>\n      <th>355</th>\n      <td>2024-03-16</td>\n      <td>1</td>\n      <td>CN</td>\n      <td>0.0,0.0,0.0,0.0,0.0,0.1,50.0,50.0,50.0,49.9,50...</td>\n    </tr>\n    <tr>\n      <th>356</th>\n      <td>2024-03-16</td>\n      <td>4</td>\n      <td>SD</td>\n      <td>51.0,52.2,51.9,48.9,45.9,45.6,94.5,94.2,94.5,9...</td>\n    </tr>\n    <tr>\n      <th>357</th>\n      <td>2024-03-17</td>\n      <td>-1</td>\n      <td>Time</td>\n      <td>00:00,00:00:15,00:00:30,00:00:45,00:01,00:01:1...</td>\n    </tr>\n    <tr>\n      <th>358</th>\n      <td>2024-03-17</td>\n      <td>1</td>\n      <td>CN</td>\n      <td>0.0,0.0,0.0,0.0,0.0,0.2,50.2,49.8,49.8,49.9,50...</td>\n    </tr>\n    <tr>\n      <th>359</th>\n      <td>2024-03-17</td>\n      <td>4</td>\n      <td>SD</td>\n      <td>65.4,63.0,63.3,63.3,62.7,62.7,111.9,110.4,110....</td>\n    </tr>\n  </tbody>\n</table>\n<p>360 rows × 4 columns</p>\n</div>"
     },
     "execution_count": 3,
     "metadata": {},
     "output_type": "execute_result"
    }
   ],
   "source": [
    "df = pd.read_csv('./历史用电数据_单柜.csv')\n",
    "df"
   ],
   "metadata": {
    "collapsed": false,
    "ExecuteTime": {
     "end_time": "2024-08-14T04:43:20.749167Z",
     "start_time": "2024-08-14T04:43:20.672397Z"
    }
   },
   "id": "e5ae97fcd62dfc7f",
   "execution_count": 3
  },
  {
   "cell_type": "code",
   "outputs": [],
   "source": [],
   "metadata": {
    "collapsed": false
   },
   "id": "f283c41fd1883a7b"
  }
 ],
 "metadata": {
  "kernelspec": {
   "display_name": "Python 3",
   "language": "python",
   "name": "python3"
  },
  "language_info": {
   "codemirror_mode": {
    "name": "ipython",
    "version": 2
   },
   "file_extension": ".py",
   "mimetype": "text/x-python",
   "name": "python",
   "nbconvert_exporter": "python",
   "pygments_lexer": "ipython2",
   "version": "2.7.6"
  }
 },
 "nbformat": 4,
 "nbformat_minor": 5
}
