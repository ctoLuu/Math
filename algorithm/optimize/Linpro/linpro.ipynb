{
 "cells": [
  {
   "cell_type": "code",
   "execution_count": 20,
   "id": "f3de7867-55cc-4d5a-8fbc-8ccaf18b1f7d",
   "metadata": {
    "tags": []
   },
   "outputs": [],
   "source": [
    "import numpy as np\n",
    "from scipy import optimize as op\n",
    "from scipy.optimize import minimize"
   ]
  },
  {
   "cell_type": "code",
   "execution_count": 2,
   "id": "2e0bccc7-c940-446d-8d57-ddfc9b27f942",
   "metadata": {
    "tags": []
   },
   "outputs": [],
   "source": [
    "x1 = (0, None)\n",
    "x2 = (0, None)"
   ]
  },
  {
   "cell_type": "code",
   "execution_count": 10,
   "id": "4cbde772-306b-4610-9ec0-f179d6fffc70",
   "metadata": {
    "tags": []
   },
   "outputs": [],
   "source": [
    "c = np.array([1, 1])\n",
    "A = np.array([[1, 2], [4, 3]])\n",
    "b = np.array([1, 2])"
   ]
  },
  {
   "cell_type": "code",
   "execution_count": 12,
   "id": "1e652a5d-645a-4229-aa1b-9b4df0050ccf",
   "metadata": {
    "tags": []
   },
   "outputs": [
    {
     "data": {
      "text/plain": [
       "       message: Optimization terminated successfully. (HiGHS Status 7: Optimal)\n",
       "       success: True\n",
       "        status: 0\n",
       "           fun: 0.0\n",
       "             x: [ 0.000e+00  0.000e+00]\n",
       "           nit: 0\n",
       "         lower:  residual: [ 0.000e+00  0.000e+00]\n",
       "                marginals: [ 1.000e+00  1.000e+00]\n",
       "         upper:  residual: [       inf        inf]\n",
       "                marginals: [ 0.000e+00  0.000e+00]\n",
       "         eqlin:  residual: []\n",
       "                marginals: []\n",
       "       ineqlin:  residual: [ 1.000e+00  2.000e+00]\n",
       "                marginals: [-0.000e+00 -0.000e+00]"
      ]
     },
     "execution_count": 12,
     "metadata": {},
     "output_type": "execute_result"
    }
   ],
   "source": [
    "res = op.linprog(c, A, b, bounds=(x1, x2))\n",
    "res"
   ]
  },
  {
   "cell_type": "code",
   "execution_count": 14,
   "id": "b1ead2de-3d33-4a50-8fd9-3e304c064b81",
   "metadata": {
    "tags": []
   },
   "outputs": [],
   "source": [
    "x1 = (0, None)\n",
    "x2 = (0, None)\n",
    "x3 = (0, None)"
   ]
  },
  {
   "cell_type": "code",
   "execution_count": 16,
   "id": "df29ca0b-18f7-4f9a-a602-f15c8d07fce3",
   "metadata": {
    "tags": []
   },
   "outputs": [],
   "source": [
    "c = np.array([-2, -3, 5])\n",
    "a_ub = np.array([[-2, 5, -1], [1, 3, 1]])\n",
    "b_ub = np.array([-10, 12])\n",
    "a_eq = np.array([[1, 1, 1]])\n",
    "b_eq = np.array([7])"
   ]
  },
  {
   "cell_type": "code",
   "execution_count": 18,
   "id": "723b2241-ced2-4129-b54a-a85f02e85c5e",
   "metadata": {
    "tags": []
   },
   "outputs": [
    {
     "data": {
      "text/plain": [
       "        message: Optimization terminated successfully. (HiGHS Status 7: Optimal)\n",
       "        success: True\n",
       "         status: 0\n",
       "            fun: -14.571428571428571\n",
       "              x: [ 6.429e+00  5.714e-01  0.000e+00]\n",
       "            nit: 3\n",
       "          lower:  residual: [ 6.429e+00  5.714e-01  0.000e+00]\n",
       "                 marginals: [ 0.000e+00  0.000e+00  7.143e+00]\n",
       "          upper:  residual: [       inf        inf        inf]\n",
       "                 marginals: [ 0.000e+00  0.000e+00  0.000e+00]\n",
       "          eqlin:  residual: [ 0.000e+00]\n",
       "                 marginals: [-2.286e+00]\n",
       "        ineqlin:  residual: [ 0.000e+00  3.857e+00]\n",
       "                 marginals: [-1.429e-01 -0.000e+00]\n",
       " mip_node_count: 0\n",
       " mip_dual_bound: 0.0\n",
       "        mip_gap: 0.0"
      ]
     },
     "execution_count": 18,
     "metadata": {},
     "output_type": "execute_result"
    }
   ],
   "source": [
    "res = op.linprog(c, a_ub, b_ub, a_eq, b_eq, bounds=(x1, x2, x3))\n",
    "res"
   ]
  },
  {
   "cell_type": "code",
   "execution_count": 22,
   "id": "624487bd-4771-4d46-a62a-7107448a63c7",
   "metadata": {
    "tags": []
   },
   "outputs": [],
   "source": [
    "def objective(x):\n",
    "    return x[0] ** 2 + x[1] ** 2 + x[2] ** 2 + 8\n",
    "def constraint1(x):\n",
    "    return x[0] ** 2 - x[1] + x[2] ** 2\n",
    "def constraint2(x):\n",
    "    return -(x[0] + x[1] ** 2 + x[2] ** 2 - 20)\n",
    "def constraint3(x):\n",
    "    return -x[0] - x[1] ** 2 + 2\n",
    "def constraint4(x):\n",
    "    return x[1] + 2 * x[2] ** 2 - 3"
   ]
  },
  {
   "cell_type": "code",
   "execution_count": 24,
   "id": "5e7141e2-f59e-431c-b950-8c7e97b6fbe4",
   "metadata": {
    "tags": []
   },
   "outputs": [],
   "source": [
    "con1 = {'type': 'ineq', 'fun': constraint1}\n",
    "con2 = {'type': 'ineq', 'fun': constraint2}\n",
    "con3 = {'type': 'eq', 'fun': constraint3}\n",
    "con4 = {'type': 'eq', 'fun': constraint4}\n",
    "cons = ([con1, con2, con3, con4])\n",
    "b = (0.0, None)\n",
    "bnds = (b, b, b)"
   ]
  },
  {
   "cell_type": "code",
   "execution_count": 32,
   "id": "d97859a1-28b7-4b01-9a2c-1fa023618b1b",
   "metadata": {
    "tags": []
   },
   "outputs": [],
   "source": [
    "x0 = np.array([0, 0, 0])\n",
    "solution = minimize(objective, x0, method='SLSQP', bounds=bnds, constraints=cons)"
   ]
  },
  {
   "cell_type": "code",
   "execution_count": 36,
   "id": "57341fe5-4aab-47eb-b7c6-374b19bb80b7",
   "metadata": {
    "collapsed": true,
    "jupyter": {
     "outputs_hidden": true
    },
    "tags": []
   },
   "outputs": [
    {
     "name": "stdout",
     "output_type": "stream",
     "text": [
      "目标值：10.651091840572583\n",
      "最优解为\n",
      "x1 = 0.55\n",
      "x2 = 1.2\n",
      "x3 = 0.95\n"
     ]
    },
    {
     "data": {
      "text/plain": [
       " message: Optimization terminated successfully\n",
       " success: True\n",
       "  status: 0\n",
       "     fun: 10.651091840572583\n",
       "       x: [ 5.522e-01  1.203e+00  9.478e-01]\n",
       "     nit: 15\n",
       "     jac: [ 1.104e+00  2.407e+00  1.896e+00]\n",
       "    nfev: 71\n",
       "    njev: 15"
      ]
     },
     "execution_count": 36,
     "metadata": {},
     "output_type": "execute_result"
    }
   ],
   "source": [
    "x = solution.x\n",
    "print('目标值：' + str(objective(x)))\n",
    "print('最优解为')\n",
    "print('x1 = ' + str(round(x[0], 2)))\n",
    "print('x2 = ' + str(round(x[1], 2)))\n",
    "print('x3 = ' + str(round(x[2], 2)))\n",
    "solution"
   ]
  },
  {
   "cell_type": "code",
   "execution_count": null,
   "id": "ca8a83e0-afdd-4318-87fc-a9658b1a0604",
   "metadata": {},
   "outputs": [],
   "source": []
  }
 ],
 "metadata": {
  "kernelspec": {
   "display_name": "Python 3 (ipykernel)",
   "language": "python",
   "name": "python3"
  },
  "language_info": {
   "codemirror_mode": {
    "name": "ipython",
    "version": 3
   },
   "file_extension": ".py",
   "mimetype": "text/x-python",
   "name": "python",
   "nbconvert_exporter": "python",
   "pygments_lexer": "ipython3",
   "version": "3.11.7"
  }
 },
 "nbformat": 4,
 "nbformat_minor": 5
}
