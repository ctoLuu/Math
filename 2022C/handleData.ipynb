{
 "cells": [
  {
   "cell_type": "code",
   "execution_count": 16,
   "id": "initial_id",
   "metadata": {
    "collapsed": true,
    "ExecuteTime": {
     "end_time": "2024-07-29T23:15:19.542693200Z",
     "start_time": "2024-07-29T23:15:19.503101600Z"
    }
   },
   "outputs": [],
   "source": [
    "import pandas as pd"
   ]
  },
  {
   "cell_type": "code",
   "execution_count": 17,
   "outputs": [],
   "source": [
    "df = pd.read_excel('./附件.xlsx', sheet_name=0)\n",
    "filt = df['类型'] == '高钾'\n",
    "group1 = df.loc[filt, :]\n",
    "group2 = df.loc[~filt, :]"
   ],
   "metadata": {
    "collapsed": false,
    "ExecuteTime": {
     "end_time": "2024-07-29T23:15:19.574728100Z",
     "start_time": "2024-07-29T23:15:19.515642Z"
    }
   },
   "id": "ec3dc56ded280dd9"
  },
  {
   "cell_type": "code",
   "execution_count": 18,
   "outputs": [
    {
     "data": {
      "text/plain": "0      97.61\n1      99.89\n2     100.00\n3      98.88\n4      96.06\n       ...  \n64     96.92\n65     96.38\n66     92.24\n67     92.47\n68     98.76\nName: Unnamed: 15, Length: 69, dtype: float64"
     },
     "execution_count": 18,
     "metadata": {},
     "output_type": "execute_result"
    }
   ],
   "source": [
    "df1 = pd.read_excel('./附件.xlsx', sheet_name=1)\n",
    "df1.loc[:, 'Unnamed: 15']"
   ],
   "metadata": {
    "collapsed": false,
    "ExecuteTime": {
     "end_time": "2024-07-29T23:15:19.617072900Z",
     "start_time": "2024-07-29T23:15:19.564044100Z"
    }
   },
   "id": "64dc25bea2271b4"
  },
  {
   "cell_type": "code",
   "execution_count": 19,
   "outputs": [
    {
     "data": {
      "text/plain": "   文物采样点  二氧化硅(SiO2)  氧化钠(Na2O)  氧化钾(K2O)  氧化钙(CaO)  氧化镁(MgO)  氧化铝(Al2O3)  \\\n17    15       61.87       3.21      7.44       NaN      1.02        3.15   \n19    17       60.71       2.12      5.71       NaN      0.85         NaN   \n\n    氧化铁(Fe2O3)  氧化铜(CuO)  氧化铅(PbO)  氧化钡(BaO)  五氧化二磷(P2O5)  氧化锶(SrO)  \\\n17        1.04      1.29      0.19       0.0         0.26       NaN   \n19        1.04      1.09      0.19       0.0         0.18       NaN   \n\n    氧化锡(SnO2)  二氧化硫(SO2)  Unnamed: 15  \n17        NaN        NaN        79.47  \n19        0.0        NaN        71.89  ",
      "text/html": "<div>\n<style scoped>\n    .dataframe tbody tr th:only-of-type {\n        vertical-align: middle;\n    }\n\n    .dataframe tbody tr th {\n        vertical-align: top;\n    }\n\n    .dataframe thead th {\n        text-align: right;\n    }\n</style>\n<table border=\"1\" class=\"dataframe\">\n  <thead>\n    <tr style=\"text-align: right;\">\n      <th></th>\n      <th>文物采样点</th>\n      <th>二氧化硅(SiO2)</th>\n      <th>氧化钠(Na2O)</th>\n      <th>氧化钾(K2O)</th>\n      <th>氧化钙(CaO)</th>\n      <th>氧化镁(MgO)</th>\n      <th>氧化铝(Al2O3)</th>\n      <th>氧化铁(Fe2O3)</th>\n      <th>氧化铜(CuO)</th>\n      <th>氧化铅(PbO)</th>\n      <th>氧化钡(BaO)</th>\n      <th>五氧化二磷(P2O5)</th>\n      <th>氧化锶(SrO)</th>\n      <th>氧化锡(SnO2)</th>\n      <th>二氧化硫(SO2)</th>\n      <th>Unnamed: 15</th>\n    </tr>\n  </thead>\n  <tbody>\n    <tr>\n      <th>17</th>\n      <td>15</td>\n      <td>61.87</td>\n      <td>3.21</td>\n      <td>7.44</td>\n      <td>NaN</td>\n      <td>1.02</td>\n      <td>3.15</td>\n      <td>1.04</td>\n      <td>1.29</td>\n      <td>0.19</td>\n      <td>0.0</td>\n      <td>0.26</td>\n      <td>NaN</td>\n      <td>NaN</td>\n      <td>NaN</td>\n      <td>79.47</td>\n    </tr>\n    <tr>\n      <th>19</th>\n      <td>17</td>\n      <td>60.71</td>\n      <td>2.12</td>\n      <td>5.71</td>\n      <td>NaN</td>\n      <td>0.85</td>\n      <td>NaN</td>\n      <td>1.04</td>\n      <td>1.09</td>\n      <td>0.19</td>\n      <td>0.0</td>\n      <td>0.18</td>\n      <td>NaN</td>\n      <td>0.0</td>\n      <td>NaN</td>\n      <td>71.89</td>\n    </tr>\n  </tbody>\n</table>\n</div>"
     },
     "execution_count": 19,
     "metadata": {},
     "output_type": "execute_result"
    }
   ],
   "source": [
    "filt = (df1['Unnamed: 15'] < 85) | (df1['Unnamed: 15'] > 105)\n",
    "df1[filt]"
   ],
   "metadata": {
    "collapsed": false,
    "ExecuteTime": {
     "end_time": "2024-07-29T23:15:19.635631300Z",
     "start_time": "2024-07-29T23:15:19.617072900Z"
    }
   },
   "id": "60cc7fe2b26dc9b3"
  },
  {
   "cell_type": "code",
   "execution_count": 20,
   "outputs": [
    {
     "data": {
      "text/plain": "    文物编号 纹饰  类型   颜色 表面风化\n0      1  C  高钾   蓝绿  无风化\n1      2  A  铅钡   浅蓝   风化\n2      3  A  高钾   蓝绿  无风化\n3      4  A  高钾   蓝绿  无风化\n4      5  A  高钾   蓝绿  无风化\n5      6  A  高钾   蓝绿  无风化\n6      7  B  高钾   蓝绿   风化\n7      8  C  铅钡    紫   风化\n8      9  B  高钾   蓝绿   风化\n9     10  B  高钾   蓝绿   风化\n10    11  C  铅钡   浅蓝   风化\n11    12  B  高钾   蓝绿   风化\n12    13  C  高钾   浅蓝  无风化\n13    14  C  高钾   深绿  无风化\n15    16  C  高钾   浅蓝  无风化\n17    18  A  高钾   深蓝  无风化\n18    19  A  铅钡  NaN   风化\n19    20  A  铅钡   浅蓝  无风化\n20    21  A  高钾   蓝绿  无风化\n21    22  B  高钾   蓝绿   风化\n22    23  A  铅钡   蓝绿   风化\n23    24  C  铅钡    紫  无风化\n24    25  C  铅钡   浅蓝   风化\n25    26  C  铅钡    紫   风化\n26    27  B  高钾   蓝绿   风化\n27    28  A  铅钡   浅蓝   风化\n28    29  A  铅钡   浅蓝   风化\n29    30  A  铅钡   深蓝  无风化\n30    31  C  铅钡    紫  无风化\n31    32  C  铅钡   浅绿  无风化\n32    33  C  铅钡   深绿  无风化\n33    34  C  铅钡   深绿   风化\n34    35  C  铅钡   浅绿  无风化\n35    36  C  铅钡   深绿   风化\n36    37  C  铅钡   深绿  无风化\n37    38  C  铅钡   深绿   风化\n38    39  C  铅钡   深绿   风化\n39    40  C  铅钡  NaN   风化\n40    41  C  铅钡   浅绿   风化\n41    42  A  铅钡   浅蓝   风化\n42    43  C  铅钡   浅蓝   风化\n43    44  A  铅钡   浅蓝   风化\n44    45  A  铅钡   浅蓝  无风化\n45    46  A  铅钡   浅蓝  无风化\n46    47  A  铅钡   浅蓝  无风化\n47    48  A  铅钡  NaN   风化\n48    49  A  铅钡    黑   风化\n49    50  A  铅钡    黑   风化\n50    51  C  铅钡   浅蓝   风化\n51    52  C  铅钡   浅蓝   风化\n52    53  A  铅钡   浅蓝   风化\n53    54  C  铅钡   浅蓝   风化\n54    55  C  铅钡    绿  无风化\n55    56  C  铅钡   蓝绿   风化\n56    57  C  铅钡   蓝绿   风化\n57    58  C  铅钡  NaN   风化",
      "text/html": "<div>\n<style scoped>\n    .dataframe tbody tr th:only-of-type {\n        vertical-align: middle;\n    }\n\n    .dataframe tbody tr th {\n        vertical-align: top;\n    }\n\n    .dataframe thead th {\n        text-align: right;\n    }\n</style>\n<table border=\"1\" class=\"dataframe\">\n  <thead>\n    <tr style=\"text-align: right;\">\n      <th></th>\n      <th>文物编号</th>\n      <th>纹饰</th>\n      <th>类型</th>\n      <th>颜色</th>\n      <th>表面风化</th>\n    </tr>\n  </thead>\n  <tbody>\n    <tr>\n      <th>0</th>\n      <td>1</td>\n      <td>C</td>\n      <td>高钾</td>\n      <td>蓝绿</td>\n      <td>无风化</td>\n    </tr>\n    <tr>\n      <th>1</th>\n      <td>2</td>\n      <td>A</td>\n      <td>铅钡</td>\n      <td>浅蓝</td>\n      <td>风化</td>\n    </tr>\n    <tr>\n      <th>2</th>\n      <td>3</td>\n      <td>A</td>\n      <td>高钾</td>\n      <td>蓝绿</td>\n      <td>无风化</td>\n    </tr>\n    <tr>\n      <th>3</th>\n      <td>4</td>\n      <td>A</td>\n      <td>高钾</td>\n      <td>蓝绿</td>\n      <td>无风化</td>\n    </tr>\n    <tr>\n      <th>4</th>\n      <td>5</td>\n      <td>A</td>\n      <td>高钾</td>\n      <td>蓝绿</td>\n      <td>无风化</td>\n    </tr>\n    <tr>\n      <th>5</th>\n      <td>6</td>\n      <td>A</td>\n      <td>高钾</td>\n      <td>蓝绿</td>\n      <td>无风化</td>\n    </tr>\n    <tr>\n      <th>6</th>\n      <td>7</td>\n      <td>B</td>\n      <td>高钾</td>\n      <td>蓝绿</td>\n      <td>风化</td>\n    </tr>\n    <tr>\n      <th>7</th>\n      <td>8</td>\n      <td>C</td>\n      <td>铅钡</td>\n      <td>紫</td>\n      <td>风化</td>\n    </tr>\n    <tr>\n      <th>8</th>\n      <td>9</td>\n      <td>B</td>\n      <td>高钾</td>\n      <td>蓝绿</td>\n      <td>风化</td>\n    </tr>\n    <tr>\n      <th>9</th>\n      <td>10</td>\n      <td>B</td>\n      <td>高钾</td>\n      <td>蓝绿</td>\n      <td>风化</td>\n    </tr>\n    <tr>\n      <th>10</th>\n      <td>11</td>\n      <td>C</td>\n      <td>铅钡</td>\n      <td>浅蓝</td>\n      <td>风化</td>\n    </tr>\n    <tr>\n      <th>11</th>\n      <td>12</td>\n      <td>B</td>\n      <td>高钾</td>\n      <td>蓝绿</td>\n      <td>风化</td>\n    </tr>\n    <tr>\n      <th>12</th>\n      <td>13</td>\n      <td>C</td>\n      <td>高钾</td>\n      <td>浅蓝</td>\n      <td>无风化</td>\n    </tr>\n    <tr>\n      <th>13</th>\n      <td>14</td>\n      <td>C</td>\n      <td>高钾</td>\n      <td>深绿</td>\n      <td>无风化</td>\n    </tr>\n    <tr>\n      <th>15</th>\n      <td>16</td>\n      <td>C</td>\n      <td>高钾</td>\n      <td>浅蓝</td>\n      <td>无风化</td>\n    </tr>\n    <tr>\n      <th>17</th>\n      <td>18</td>\n      <td>A</td>\n      <td>高钾</td>\n      <td>深蓝</td>\n      <td>无风化</td>\n    </tr>\n    <tr>\n      <th>18</th>\n      <td>19</td>\n      <td>A</td>\n      <td>铅钡</td>\n      <td>NaN</td>\n      <td>风化</td>\n    </tr>\n    <tr>\n      <th>19</th>\n      <td>20</td>\n      <td>A</td>\n      <td>铅钡</td>\n      <td>浅蓝</td>\n      <td>无风化</td>\n    </tr>\n    <tr>\n      <th>20</th>\n      <td>21</td>\n      <td>A</td>\n      <td>高钾</td>\n      <td>蓝绿</td>\n      <td>无风化</td>\n    </tr>\n    <tr>\n      <th>21</th>\n      <td>22</td>\n      <td>B</td>\n      <td>高钾</td>\n      <td>蓝绿</td>\n      <td>风化</td>\n    </tr>\n    <tr>\n      <th>22</th>\n      <td>23</td>\n      <td>A</td>\n      <td>铅钡</td>\n      <td>蓝绿</td>\n      <td>风化</td>\n    </tr>\n    <tr>\n      <th>23</th>\n      <td>24</td>\n      <td>C</td>\n      <td>铅钡</td>\n      <td>紫</td>\n      <td>无风化</td>\n    </tr>\n    <tr>\n      <th>24</th>\n      <td>25</td>\n      <td>C</td>\n      <td>铅钡</td>\n      <td>浅蓝</td>\n      <td>风化</td>\n    </tr>\n    <tr>\n      <th>25</th>\n      <td>26</td>\n      <td>C</td>\n      <td>铅钡</td>\n      <td>紫</td>\n      <td>风化</td>\n    </tr>\n    <tr>\n      <th>26</th>\n      <td>27</td>\n      <td>B</td>\n      <td>高钾</td>\n      <td>蓝绿</td>\n      <td>风化</td>\n    </tr>\n    <tr>\n      <th>27</th>\n      <td>28</td>\n      <td>A</td>\n      <td>铅钡</td>\n      <td>浅蓝</td>\n      <td>风化</td>\n    </tr>\n    <tr>\n      <th>28</th>\n      <td>29</td>\n      <td>A</td>\n      <td>铅钡</td>\n      <td>浅蓝</td>\n      <td>风化</td>\n    </tr>\n    <tr>\n      <th>29</th>\n      <td>30</td>\n      <td>A</td>\n      <td>铅钡</td>\n      <td>深蓝</td>\n      <td>无风化</td>\n    </tr>\n    <tr>\n      <th>30</th>\n      <td>31</td>\n      <td>C</td>\n      <td>铅钡</td>\n      <td>紫</td>\n      <td>无风化</td>\n    </tr>\n    <tr>\n      <th>31</th>\n      <td>32</td>\n      <td>C</td>\n      <td>铅钡</td>\n      <td>浅绿</td>\n      <td>无风化</td>\n    </tr>\n    <tr>\n      <th>32</th>\n      <td>33</td>\n      <td>C</td>\n      <td>铅钡</td>\n      <td>深绿</td>\n      <td>无风化</td>\n    </tr>\n    <tr>\n      <th>33</th>\n      <td>34</td>\n      <td>C</td>\n      <td>铅钡</td>\n      <td>深绿</td>\n      <td>风化</td>\n    </tr>\n    <tr>\n      <th>34</th>\n      <td>35</td>\n      <td>C</td>\n      <td>铅钡</td>\n      <td>浅绿</td>\n      <td>无风化</td>\n    </tr>\n    <tr>\n      <th>35</th>\n      <td>36</td>\n      <td>C</td>\n      <td>铅钡</td>\n      <td>深绿</td>\n      <td>风化</td>\n    </tr>\n    <tr>\n      <th>36</th>\n      <td>37</td>\n      <td>C</td>\n      <td>铅钡</td>\n      <td>深绿</td>\n      <td>无风化</td>\n    </tr>\n    <tr>\n      <th>37</th>\n      <td>38</td>\n      <td>C</td>\n      <td>铅钡</td>\n      <td>深绿</td>\n      <td>风化</td>\n    </tr>\n    <tr>\n      <th>38</th>\n      <td>39</td>\n      <td>C</td>\n      <td>铅钡</td>\n      <td>深绿</td>\n      <td>风化</td>\n    </tr>\n    <tr>\n      <th>39</th>\n      <td>40</td>\n      <td>C</td>\n      <td>铅钡</td>\n      <td>NaN</td>\n      <td>风化</td>\n    </tr>\n    <tr>\n      <th>40</th>\n      <td>41</td>\n      <td>C</td>\n      <td>铅钡</td>\n      <td>浅绿</td>\n      <td>风化</td>\n    </tr>\n    <tr>\n      <th>41</th>\n      <td>42</td>\n      <td>A</td>\n      <td>铅钡</td>\n      <td>浅蓝</td>\n      <td>风化</td>\n    </tr>\n    <tr>\n      <th>42</th>\n      <td>43</td>\n      <td>C</td>\n      <td>铅钡</td>\n      <td>浅蓝</td>\n      <td>风化</td>\n    </tr>\n    <tr>\n      <th>43</th>\n      <td>44</td>\n      <td>A</td>\n      <td>铅钡</td>\n      <td>浅蓝</td>\n      <td>风化</td>\n    </tr>\n    <tr>\n      <th>44</th>\n      <td>45</td>\n      <td>A</td>\n      <td>铅钡</td>\n      <td>浅蓝</td>\n      <td>无风化</td>\n    </tr>\n    <tr>\n      <th>45</th>\n      <td>46</td>\n      <td>A</td>\n      <td>铅钡</td>\n      <td>浅蓝</td>\n      <td>无风化</td>\n    </tr>\n    <tr>\n      <th>46</th>\n      <td>47</td>\n      <td>A</td>\n      <td>铅钡</td>\n      <td>浅蓝</td>\n      <td>无风化</td>\n    </tr>\n    <tr>\n      <th>47</th>\n      <td>48</td>\n      <td>A</td>\n      <td>铅钡</td>\n      <td>NaN</td>\n      <td>风化</td>\n    </tr>\n    <tr>\n      <th>48</th>\n      <td>49</td>\n      <td>A</td>\n      <td>铅钡</td>\n      <td>黑</td>\n      <td>风化</td>\n    </tr>\n    <tr>\n      <th>49</th>\n      <td>50</td>\n      <td>A</td>\n      <td>铅钡</td>\n      <td>黑</td>\n      <td>风化</td>\n    </tr>\n    <tr>\n      <th>50</th>\n      <td>51</td>\n      <td>C</td>\n      <td>铅钡</td>\n      <td>浅蓝</td>\n      <td>风化</td>\n    </tr>\n    <tr>\n      <th>51</th>\n      <td>52</td>\n      <td>C</td>\n      <td>铅钡</td>\n      <td>浅蓝</td>\n      <td>风化</td>\n    </tr>\n    <tr>\n      <th>52</th>\n      <td>53</td>\n      <td>A</td>\n      <td>铅钡</td>\n      <td>浅蓝</td>\n      <td>风化</td>\n    </tr>\n    <tr>\n      <th>53</th>\n      <td>54</td>\n      <td>C</td>\n      <td>铅钡</td>\n      <td>浅蓝</td>\n      <td>风化</td>\n    </tr>\n    <tr>\n      <th>54</th>\n      <td>55</td>\n      <td>C</td>\n      <td>铅钡</td>\n      <td>绿</td>\n      <td>无风化</td>\n    </tr>\n    <tr>\n      <th>55</th>\n      <td>56</td>\n      <td>C</td>\n      <td>铅钡</td>\n      <td>蓝绿</td>\n      <td>风化</td>\n    </tr>\n    <tr>\n      <th>56</th>\n      <td>57</td>\n      <td>C</td>\n      <td>铅钡</td>\n      <td>蓝绿</td>\n      <td>风化</td>\n    </tr>\n    <tr>\n      <th>57</th>\n      <td>58</td>\n      <td>C</td>\n      <td>铅钡</td>\n      <td>NaN</td>\n      <td>风化</td>\n    </tr>\n  </tbody>\n</table>\n</div>"
     },
     "execution_count": 20,
     "metadata": {},
     "output_type": "execute_result"
    }
   ],
   "source": [
    "filt = (df['文物编号'] == 15) | (df['文物编号'] == 17)\n",
    "df = df[~filt]\n",
    "df"
   ],
   "metadata": {
    "collapsed": false,
    "ExecuteTime": {
     "end_time": "2024-07-29T23:15:19.652428300Z",
     "start_time": "2024-07-29T23:15:19.638025500Z"
    }
   },
   "id": "f7925d7f2f1128cf"
  },
  {
   "cell_type": "code",
   "execution_count": 22,
   "outputs": [],
   "source": [
    "filt = (df['表面风化'] == '风化')\n",
    "group1 = df[filt]\n",
    "group2 = df[~filt]"
   ],
   "metadata": {
    "collapsed": false,
    "ExecuteTime": {
     "end_time": "2024-07-29T23:16:35.802239Z",
     "start_time": "2024-07-29T23:16:35.798029300Z"
    }
   },
   "id": "990c62a9e3aeb718"
  },
  {
   "cell_type": "code",
   "execution_count": 27,
   "outputs": [
    {
     "data": {
      "text/plain": "纹饰\nC    17\nA    11\nB     6\nName: count, dtype: int64"
     },
     "execution_count": 27,
     "metadata": {},
     "output_type": "execute_result"
    }
   ],
   "source": [
    "group1['纹饰'].value_counts()"
   ],
   "metadata": {
    "collapsed": false,
    "ExecuteTime": {
     "end_time": "2024-07-29T23:19:07.335658300Z",
     "start_time": "2024-07-29T23:19:07.303277800Z"
    }
   },
   "id": "489fc01f4ff89360"
  },
  {
   "cell_type": "code",
   "execution_count": 28,
   "outputs": [
    {
     "data": {
      "text/plain": "类型\n铅钡    28\n高钾     6\nName: count, dtype: int64"
     },
     "execution_count": 28,
     "metadata": {},
     "output_type": "execute_result"
    }
   ],
   "source": [
    "group1['类型'].value_counts()"
   ],
   "metadata": {
    "collapsed": false,
    "ExecuteTime": {
     "end_time": "2024-07-29T23:19:08.510006700Z",
     "start_time": "2024-07-29T23:19:08.489633900Z"
    }
   },
   "id": "2e0fb81e7ea787ed"
  },
  {
   "cell_type": "code",
   "execution_count": 29,
   "outputs": [
    {
     "data": {
      "text/plain": "颜色\n浅蓝    12\n蓝绿     9\n深绿     4\n紫      2\n黑      2\n浅绿     1\nName: count, dtype: int64"
     },
     "execution_count": 29,
     "metadata": {},
     "output_type": "execute_result"
    }
   ],
   "source": [
    "group1['颜色'].value_counts()"
   ],
   "metadata": {
    "collapsed": false,
    "ExecuteTime": {
     "end_time": "2024-07-29T23:19:36.654351700Z",
     "start_time": "2024-07-29T23:19:36.612315200Z"
    }
   },
   "id": "c6ed36968254cd3f"
  },
  {
   "cell_type": "code",
   "execution_count": 30,
   "outputs": [
    {
     "data": {
      "text/plain": "纹饰\nC    11\nA    11\nName: count, dtype: int64"
     },
     "execution_count": 30,
     "metadata": {},
     "output_type": "execute_result"
    }
   ],
   "source": [
    "group2['纹饰'].value_counts()"
   ],
   "metadata": {
    "collapsed": false,
    "ExecuteTime": {
     "end_time": "2024-07-29T23:19:51.791248800Z",
     "start_time": "2024-07-29T23:19:51.776673400Z"
    }
   },
   "id": "96a64021a3e0e7a7"
  },
  {
   "cell_type": "code",
   "execution_count": 31,
   "outputs": [
    {
     "data": {
      "text/plain": "类型\n铅钡    12\n高钾    10\nName: count, dtype: int64"
     },
     "execution_count": 31,
     "metadata": {},
     "output_type": "execute_result"
    }
   ],
   "source": [
    "group2['类型'].value_counts()"
   ],
   "metadata": {
    "collapsed": false,
    "ExecuteTime": {
     "end_time": "2024-07-29T23:20:06.431537100Z",
     "start_time": "2024-07-29T23:20:06.418891Z"
    }
   },
   "id": "21a0ad13c90f715"
  },
  {
   "cell_type": "code",
   "execution_count": 32,
   "outputs": [
    {
     "data": {
      "text/plain": "颜色\n蓝绿    6\n浅蓝    6\n深绿    3\n深蓝    2\n紫     2\n浅绿    2\n绿     1\nName: count, dtype: int64"
     },
     "execution_count": 32,
     "metadata": {},
     "output_type": "execute_result"
    }
   ],
   "source": [
    "group2['颜色'].value_counts()"
   ],
   "metadata": {
    "collapsed": false,
    "ExecuteTime": {
     "end_time": "2024-07-29T23:20:17.851327800Z",
     "start_time": "2024-07-29T23:20:17.835958300Z"
    }
   },
   "id": "af49c28f516e0e07"
  },
  {
   "cell_type": "code",
   "execution_count": null,
   "outputs": [],
   "source": [],
   "metadata": {
    "collapsed": false
   },
   "id": "68cd79e620e06625"
  }
 ],
 "metadata": {
  "kernelspec": {
   "display_name": "Python 3",
   "language": "python",
   "name": "python3"
  },
  "language_info": {
   "codemirror_mode": {
    "name": "ipython",
    "version": 2
   },
   "file_extension": ".py",
   "mimetype": "text/x-python",
   "name": "python",
   "nbconvert_exporter": "python",
   "pygments_lexer": "ipython2",
   "version": "2.7.6"
  }
 },
 "nbformat": 4,
 "nbformat_minor": 5
}
