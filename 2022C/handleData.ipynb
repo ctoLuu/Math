{
 "cells": [
  {
   "cell_type": "code",
   "execution_count": 29,
   "id": "initial_id",
   "metadata": {
    "collapsed": true,
    "ExecuteTime": {
     "end_time": "2024-07-31T02:41:43.718424300Z",
     "start_time": "2024-07-31T02:41:43.677926400Z"
    }
   },
   "outputs": [],
   "source": [
    "import pandas as pd"
   ]
  },
  {
   "cell_type": "code",
   "execution_count": 30,
   "outputs": [],
   "source": [
    "df = pd.read_excel('./附件.xlsx', sheet_name=0)\n",
    "filt = df['类型'] == '高钾'\n",
    "group1 = df.loc[filt, :]\n",
    "group2 = df.loc[~filt, :]"
   ],
   "metadata": {
    "collapsed": false,
    "ExecuteTime": {
     "end_time": "2024-07-31T02:41:43.742941700Z",
     "start_time": "2024-07-31T02:41:43.679226500Z"
    }
   },
   "id": "ec3dc56ded280dd9"
  },
  {
   "cell_type": "code",
   "execution_count": 31,
   "outputs": [
    {
     "data": {
      "text/plain": "0      97.61\n1      99.89\n2     100.00\n3      98.88\n4      96.06\n       ...  \n64     96.92\n65     96.38\n66     92.24\n67     92.47\n68     98.76\nName: Unnamed: 15, Length: 69, dtype: float64"
     },
     "execution_count": 31,
     "metadata": {},
     "output_type": "execute_result"
    }
   ],
   "source": [
    "df1 = pd.read_excel('./附件.xlsx', sheet_name=1)\n",
    "df1.loc[:, 'Unnamed: 15']"
   ],
   "metadata": {
    "collapsed": false,
    "ExecuteTime": {
     "end_time": "2024-07-31T02:41:43.776550500Z",
     "start_time": "2024-07-31T02:41:43.699812100Z"
    }
   },
   "id": "64dc25bea2271b4"
  },
  {
   "cell_type": "code",
   "execution_count": 32,
   "outputs": [
    {
     "data": {
      "text/plain": "   文物采样点  二氧化硅(SiO2)  氧化钠(Na2O)  氧化钾(K2O)  氧化钙(CaO)  氧化镁(MgO)  氧化铝(Al2O3)  \\\n17    15       61.87       3.21      7.44       NaN      1.02        3.15   \n19    17       60.71       2.12      5.71       NaN      0.85         NaN   \n\n    氧化铁(Fe2O3)  氧化铜(CuO)  氧化铅(PbO)  氧化钡(BaO)  五氧化二磷(P2O5)  氧化锶(SrO)  \\\n17        1.04      1.29      0.19       0.0         0.26       NaN   \n19        1.04      1.09      0.19       0.0         0.18       NaN   \n\n    氧化锡(SnO2)  二氧化硫(SO2)  Unnamed: 15  \n17        NaN        NaN        79.47  \n19        0.0        NaN        71.89  ",
      "text/html": "<div>\n<style scoped>\n    .dataframe tbody tr th:only-of-type {\n        vertical-align: middle;\n    }\n\n    .dataframe tbody tr th {\n        vertical-align: top;\n    }\n\n    .dataframe thead th {\n        text-align: right;\n    }\n</style>\n<table border=\"1\" class=\"dataframe\">\n  <thead>\n    <tr style=\"text-align: right;\">\n      <th></th>\n      <th>文物采样点</th>\n      <th>二氧化硅(SiO2)</th>\n      <th>氧化钠(Na2O)</th>\n      <th>氧化钾(K2O)</th>\n      <th>氧化钙(CaO)</th>\n      <th>氧化镁(MgO)</th>\n      <th>氧化铝(Al2O3)</th>\n      <th>氧化铁(Fe2O3)</th>\n      <th>氧化铜(CuO)</th>\n      <th>氧化铅(PbO)</th>\n      <th>氧化钡(BaO)</th>\n      <th>五氧化二磷(P2O5)</th>\n      <th>氧化锶(SrO)</th>\n      <th>氧化锡(SnO2)</th>\n      <th>二氧化硫(SO2)</th>\n      <th>Unnamed: 15</th>\n    </tr>\n  </thead>\n  <tbody>\n    <tr>\n      <th>17</th>\n      <td>15</td>\n      <td>61.87</td>\n      <td>3.21</td>\n      <td>7.44</td>\n      <td>NaN</td>\n      <td>1.02</td>\n      <td>3.15</td>\n      <td>1.04</td>\n      <td>1.29</td>\n      <td>0.19</td>\n      <td>0.0</td>\n      <td>0.26</td>\n      <td>NaN</td>\n      <td>NaN</td>\n      <td>NaN</td>\n      <td>79.47</td>\n    </tr>\n    <tr>\n      <th>19</th>\n      <td>17</td>\n      <td>60.71</td>\n      <td>2.12</td>\n      <td>5.71</td>\n      <td>NaN</td>\n      <td>0.85</td>\n      <td>NaN</td>\n      <td>1.04</td>\n      <td>1.09</td>\n      <td>0.19</td>\n      <td>0.0</td>\n      <td>0.18</td>\n      <td>NaN</td>\n      <td>0.0</td>\n      <td>NaN</td>\n      <td>71.89</td>\n    </tr>\n  </tbody>\n</table>\n</div>"
     },
     "execution_count": 32,
     "metadata": {},
     "output_type": "execute_result"
    }
   ],
   "source": [
    "filt = (df1['Unnamed: 15'] < 85) | (df1['Unnamed: 15'] > 105)\n",
    "df1[filt]"
   ],
   "metadata": {
    "collapsed": false,
    "ExecuteTime": {
     "end_time": "2024-07-31T02:41:43.777550200Z",
     "start_time": "2024-07-31T02:41:43.725378300Z"
    }
   },
   "id": "60cc7fe2b26dc9b3"
  },
  {
   "cell_type": "code",
   "execution_count": 33,
   "outputs": [],
   "source": [
    "filt = (df['表面风化'] == '风化')\n",
    "group1 = df[filt]\n",
    "group2 = df[~filt]"
   ],
   "metadata": {
    "collapsed": false,
    "ExecuteTime": {
     "end_time": "2024-07-31T02:41:43.777550200Z",
     "start_time": "2024-07-31T02:41:43.733695100Z"
    }
   },
   "id": "990c62a9e3aeb718"
  },
  {
   "cell_type": "code",
   "execution_count": 34,
   "outputs": [
    {
     "data": {
      "text/plain": "纹饰\nC    17\nA    11\nB     6\nName: count, dtype: int64"
     },
     "execution_count": 34,
     "metadata": {},
     "output_type": "execute_result"
    }
   ],
   "source": [
    "group1['纹饰'].value_counts()"
   ],
   "metadata": {
    "collapsed": false,
    "ExecuteTime": {
     "end_time": "2024-07-31T02:41:43.777550200Z",
     "start_time": "2024-07-31T02:41:43.737561300Z"
    }
   },
   "id": "489fc01f4ff89360"
  },
  {
   "cell_type": "code",
   "execution_count": 35,
   "outputs": [
    {
     "data": {
      "text/plain": "类型\n铅钡    28\n高钾     6\nName: count, dtype: int64"
     },
     "execution_count": 35,
     "metadata": {},
     "output_type": "execute_result"
    }
   ],
   "source": [
    "group1['类型'].value_counts()"
   ],
   "metadata": {
    "collapsed": false,
    "ExecuteTime": {
     "end_time": "2024-07-31T02:41:43.778553300Z",
     "start_time": "2024-07-31T02:41:43.743941400Z"
    }
   },
   "id": "2e0fb81e7ea787ed"
  },
  {
   "cell_type": "code",
   "execution_count": 36,
   "outputs": [
    {
     "data": {
      "text/plain": "颜色\n浅蓝    12\n蓝绿     9\n深绿     4\n紫      2\n黑      2\n浅绿     1\nName: count, dtype: int64"
     },
     "execution_count": 36,
     "metadata": {},
     "output_type": "execute_result"
    }
   ],
   "source": [
    "group1['颜色'].value_counts()"
   ],
   "metadata": {
    "collapsed": false,
    "ExecuteTime": {
     "end_time": "2024-07-31T02:41:43.778553300Z",
     "start_time": "2024-07-31T02:41:43.749839400Z"
    }
   },
   "id": "c6ed36968254cd3f"
  },
  {
   "cell_type": "code",
   "execution_count": 37,
   "outputs": [
    {
     "data": {
      "text/plain": "纹饰\nC    13\nA    11\nName: count, dtype: int64"
     },
     "execution_count": 37,
     "metadata": {},
     "output_type": "execute_result"
    }
   ],
   "source": [
    "group2['纹饰'].value_counts()"
   ],
   "metadata": {
    "collapsed": false,
    "ExecuteTime": {
     "end_time": "2024-07-31T02:41:43.778553300Z",
     "start_time": "2024-07-31T02:41:43.752350100Z"
    }
   },
   "id": "96a64021a3e0e7a7"
  },
  {
   "cell_type": "code",
   "execution_count": 38,
   "outputs": [
    {
     "data": {
      "text/plain": "类型\n高钾    12\n铅钡    12\nName: count, dtype: int64"
     },
     "execution_count": 38,
     "metadata": {},
     "output_type": "execute_result"
    }
   ],
   "source": [
    "group2['类型'].value_counts()"
   ],
   "metadata": {
    "collapsed": false,
    "ExecuteTime": {
     "end_time": "2024-07-31T02:41:43.779549100Z",
     "start_time": "2024-07-31T02:41:43.755662700Z"
    }
   },
   "id": "21a0ad13c90f715"
  },
  {
   "cell_type": "code",
   "execution_count": 39,
   "outputs": [
    {
     "data": {
      "text/plain": "颜色\n浅蓝    8\n蓝绿    6\n深绿    3\n深蓝    2\n紫     2\n浅绿    2\n绿     1\nName: count, dtype: int64"
     },
     "execution_count": 39,
     "metadata": {},
     "output_type": "execute_result"
    }
   ],
   "source": [
    "group2['颜色'].value_counts()"
   ],
   "metadata": {
    "collapsed": false,
    "ExecuteTime": {
     "end_time": "2024-07-31T02:41:43.779549100Z",
     "start_time": "2024-07-31T02:41:43.760475300Z"
    }
   },
   "id": "af49c28f516e0e07"
  },
  {
   "cell_type": "code",
   "execution_count": 40,
   "outputs": [
    {
     "data": {
      "text/plain": "    文物编号 纹饰  类型   颜色 表面风化\n0      1  C  高钾   蓝绿  无风化\n1      2  A  铅钡   浅蓝   风化\n2      3  A  高钾   蓝绿  无风化\n3      4  A  高钾   蓝绿  无风化\n4      5  A  高钾   蓝绿  无风化\n5      6  A  高钾   蓝绿  无风化\n6      7  B  高钾   蓝绿   风化\n7      8  C  铅钡    紫   风化\n8      9  B  高钾   蓝绿   风化\n9     10  B  高钾   蓝绿   风化\n10    11  C  铅钡   浅蓝   风化\n11    12  B  高钾   蓝绿   风化\n12    13  C  高钾   浅蓝  无风化\n13    14  C  高钾   深绿  无风化\n14    15  C  高钾   浅蓝  无风化\n15    16  C  高钾   浅蓝  无风化\n16    17  C  高钾   浅蓝  无风化\n17    18  A  高钾   深蓝  无风化\n18    19  A  铅钡  NaN   风化\n19    20  A  铅钡   浅蓝  无风化\n20    21  A  高钾   蓝绿  无风化\n21    22  B  高钾   蓝绿   风化\n22    23  A  铅钡   蓝绿   风化\n23    24  C  铅钡    紫  无风化\n24    25  C  铅钡   浅蓝   风化\n25    26  C  铅钡    紫   风化\n26    27  B  高钾   蓝绿   风化\n27    28  A  铅钡   浅蓝   风化\n28    29  A  铅钡   浅蓝   风化\n29    30  A  铅钡   深蓝  无风化\n30    31  C  铅钡    紫  无风化\n31    32  C  铅钡   浅绿  无风化\n32    33  C  铅钡   深绿  无风化\n33    34  C  铅钡   深绿   风化\n34    35  C  铅钡   浅绿  无风化\n35    36  C  铅钡   深绿   风化\n36    37  C  铅钡   深绿  无风化\n37    38  C  铅钡   深绿   风化\n38    39  C  铅钡   深绿   风化\n39    40  C  铅钡  NaN   风化\n40    41  C  铅钡   浅绿   风化\n41    42  A  铅钡   浅蓝   风化\n42    43  C  铅钡   浅蓝   风化\n43    44  A  铅钡   浅蓝   风化\n44    45  A  铅钡   浅蓝  无风化\n45    46  A  铅钡   浅蓝  无风化\n46    47  A  铅钡   浅蓝  无风化\n47    48  A  铅钡  NaN   风化\n48    49  A  铅钡    黑   风化\n49    50  A  铅钡    黑   风化\n50    51  C  铅钡   浅蓝   风化\n51    52  C  铅钡   浅蓝   风化\n52    53  A  铅钡   浅蓝   风化\n53    54  C  铅钡   浅蓝   风化\n54    55  C  铅钡    绿  无风化\n55    56  C  铅钡   蓝绿   风化\n56    57  C  铅钡   蓝绿   风化\n57    58  C  铅钡  NaN   风化",
      "text/html": "<div>\n<style scoped>\n    .dataframe tbody tr th:only-of-type {\n        vertical-align: middle;\n    }\n\n    .dataframe tbody tr th {\n        vertical-align: top;\n    }\n\n    .dataframe thead th {\n        text-align: right;\n    }\n</style>\n<table border=\"1\" class=\"dataframe\">\n  <thead>\n    <tr style=\"text-align: right;\">\n      <th></th>\n      <th>文物编号</th>\n      <th>纹饰</th>\n      <th>类型</th>\n      <th>颜色</th>\n      <th>表面风化</th>\n    </tr>\n  </thead>\n  <tbody>\n    <tr>\n      <th>0</th>\n      <td>1</td>\n      <td>C</td>\n      <td>高钾</td>\n      <td>蓝绿</td>\n      <td>无风化</td>\n    </tr>\n    <tr>\n      <th>1</th>\n      <td>2</td>\n      <td>A</td>\n      <td>铅钡</td>\n      <td>浅蓝</td>\n      <td>风化</td>\n    </tr>\n    <tr>\n      <th>2</th>\n      <td>3</td>\n      <td>A</td>\n      <td>高钾</td>\n      <td>蓝绿</td>\n      <td>无风化</td>\n    </tr>\n    <tr>\n      <th>3</th>\n      <td>4</td>\n      <td>A</td>\n      <td>高钾</td>\n      <td>蓝绿</td>\n      <td>无风化</td>\n    </tr>\n    <tr>\n      <th>4</th>\n      <td>5</td>\n      <td>A</td>\n      <td>高钾</td>\n      <td>蓝绿</td>\n      <td>无风化</td>\n    </tr>\n    <tr>\n      <th>5</th>\n      <td>6</td>\n      <td>A</td>\n      <td>高钾</td>\n      <td>蓝绿</td>\n      <td>无风化</td>\n    </tr>\n    <tr>\n      <th>6</th>\n      <td>7</td>\n      <td>B</td>\n      <td>高钾</td>\n      <td>蓝绿</td>\n      <td>风化</td>\n    </tr>\n    <tr>\n      <th>7</th>\n      <td>8</td>\n      <td>C</td>\n      <td>铅钡</td>\n      <td>紫</td>\n      <td>风化</td>\n    </tr>\n    <tr>\n      <th>8</th>\n      <td>9</td>\n      <td>B</td>\n      <td>高钾</td>\n      <td>蓝绿</td>\n      <td>风化</td>\n    </tr>\n    <tr>\n      <th>9</th>\n      <td>10</td>\n      <td>B</td>\n      <td>高钾</td>\n      <td>蓝绿</td>\n      <td>风化</td>\n    </tr>\n    <tr>\n      <th>10</th>\n      <td>11</td>\n      <td>C</td>\n      <td>铅钡</td>\n      <td>浅蓝</td>\n      <td>风化</td>\n    </tr>\n    <tr>\n      <th>11</th>\n      <td>12</td>\n      <td>B</td>\n      <td>高钾</td>\n      <td>蓝绿</td>\n      <td>风化</td>\n    </tr>\n    <tr>\n      <th>12</th>\n      <td>13</td>\n      <td>C</td>\n      <td>高钾</td>\n      <td>浅蓝</td>\n      <td>无风化</td>\n    </tr>\n    <tr>\n      <th>13</th>\n      <td>14</td>\n      <td>C</td>\n      <td>高钾</td>\n      <td>深绿</td>\n      <td>无风化</td>\n    </tr>\n    <tr>\n      <th>14</th>\n      <td>15</td>\n      <td>C</td>\n      <td>高钾</td>\n      <td>浅蓝</td>\n      <td>无风化</td>\n    </tr>\n    <tr>\n      <th>15</th>\n      <td>16</td>\n      <td>C</td>\n      <td>高钾</td>\n      <td>浅蓝</td>\n      <td>无风化</td>\n    </tr>\n    <tr>\n      <th>16</th>\n      <td>17</td>\n      <td>C</td>\n      <td>高钾</td>\n      <td>浅蓝</td>\n      <td>无风化</td>\n    </tr>\n    <tr>\n      <th>17</th>\n      <td>18</td>\n      <td>A</td>\n      <td>高钾</td>\n      <td>深蓝</td>\n      <td>无风化</td>\n    </tr>\n    <tr>\n      <th>18</th>\n      <td>19</td>\n      <td>A</td>\n      <td>铅钡</td>\n      <td>NaN</td>\n      <td>风化</td>\n    </tr>\n    <tr>\n      <th>19</th>\n      <td>20</td>\n      <td>A</td>\n      <td>铅钡</td>\n      <td>浅蓝</td>\n      <td>无风化</td>\n    </tr>\n    <tr>\n      <th>20</th>\n      <td>21</td>\n      <td>A</td>\n      <td>高钾</td>\n      <td>蓝绿</td>\n      <td>无风化</td>\n    </tr>\n    <tr>\n      <th>21</th>\n      <td>22</td>\n      <td>B</td>\n      <td>高钾</td>\n      <td>蓝绿</td>\n      <td>风化</td>\n    </tr>\n    <tr>\n      <th>22</th>\n      <td>23</td>\n      <td>A</td>\n      <td>铅钡</td>\n      <td>蓝绿</td>\n      <td>风化</td>\n    </tr>\n    <tr>\n      <th>23</th>\n      <td>24</td>\n      <td>C</td>\n      <td>铅钡</td>\n      <td>紫</td>\n      <td>无风化</td>\n    </tr>\n    <tr>\n      <th>24</th>\n      <td>25</td>\n      <td>C</td>\n      <td>铅钡</td>\n      <td>浅蓝</td>\n      <td>风化</td>\n    </tr>\n    <tr>\n      <th>25</th>\n      <td>26</td>\n      <td>C</td>\n      <td>铅钡</td>\n      <td>紫</td>\n      <td>风化</td>\n    </tr>\n    <tr>\n      <th>26</th>\n      <td>27</td>\n      <td>B</td>\n      <td>高钾</td>\n      <td>蓝绿</td>\n      <td>风化</td>\n    </tr>\n    <tr>\n      <th>27</th>\n      <td>28</td>\n      <td>A</td>\n      <td>铅钡</td>\n      <td>浅蓝</td>\n      <td>风化</td>\n    </tr>\n    <tr>\n      <th>28</th>\n      <td>29</td>\n      <td>A</td>\n      <td>铅钡</td>\n      <td>浅蓝</td>\n      <td>风化</td>\n    </tr>\n    <tr>\n      <th>29</th>\n      <td>30</td>\n      <td>A</td>\n      <td>铅钡</td>\n      <td>深蓝</td>\n      <td>无风化</td>\n    </tr>\n    <tr>\n      <th>30</th>\n      <td>31</td>\n      <td>C</td>\n      <td>铅钡</td>\n      <td>紫</td>\n      <td>无风化</td>\n    </tr>\n    <tr>\n      <th>31</th>\n      <td>32</td>\n      <td>C</td>\n      <td>铅钡</td>\n      <td>浅绿</td>\n      <td>无风化</td>\n    </tr>\n    <tr>\n      <th>32</th>\n      <td>33</td>\n      <td>C</td>\n      <td>铅钡</td>\n      <td>深绿</td>\n      <td>无风化</td>\n    </tr>\n    <tr>\n      <th>33</th>\n      <td>34</td>\n      <td>C</td>\n      <td>铅钡</td>\n      <td>深绿</td>\n      <td>风化</td>\n    </tr>\n    <tr>\n      <th>34</th>\n      <td>35</td>\n      <td>C</td>\n      <td>铅钡</td>\n      <td>浅绿</td>\n      <td>无风化</td>\n    </tr>\n    <tr>\n      <th>35</th>\n      <td>36</td>\n      <td>C</td>\n      <td>铅钡</td>\n      <td>深绿</td>\n      <td>风化</td>\n    </tr>\n    <tr>\n      <th>36</th>\n      <td>37</td>\n      <td>C</td>\n      <td>铅钡</td>\n      <td>深绿</td>\n      <td>无风化</td>\n    </tr>\n    <tr>\n      <th>37</th>\n      <td>38</td>\n      <td>C</td>\n      <td>铅钡</td>\n      <td>深绿</td>\n      <td>风化</td>\n    </tr>\n    <tr>\n      <th>38</th>\n      <td>39</td>\n      <td>C</td>\n      <td>铅钡</td>\n      <td>深绿</td>\n      <td>风化</td>\n    </tr>\n    <tr>\n      <th>39</th>\n      <td>40</td>\n      <td>C</td>\n      <td>铅钡</td>\n      <td>NaN</td>\n      <td>风化</td>\n    </tr>\n    <tr>\n      <th>40</th>\n      <td>41</td>\n      <td>C</td>\n      <td>铅钡</td>\n      <td>浅绿</td>\n      <td>风化</td>\n    </tr>\n    <tr>\n      <th>41</th>\n      <td>42</td>\n      <td>A</td>\n      <td>铅钡</td>\n      <td>浅蓝</td>\n      <td>风化</td>\n    </tr>\n    <tr>\n      <th>42</th>\n      <td>43</td>\n      <td>C</td>\n      <td>铅钡</td>\n      <td>浅蓝</td>\n      <td>风化</td>\n    </tr>\n    <tr>\n      <th>43</th>\n      <td>44</td>\n      <td>A</td>\n      <td>铅钡</td>\n      <td>浅蓝</td>\n      <td>风化</td>\n    </tr>\n    <tr>\n      <th>44</th>\n      <td>45</td>\n      <td>A</td>\n      <td>铅钡</td>\n      <td>浅蓝</td>\n      <td>无风化</td>\n    </tr>\n    <tr>\n      <th>45</th>\n      <td>46</td>\n      <td>A</td>\n      <td>铅钡</td>\n      <td>浅蓝</td>\n      <td>无风化</td>\n    </tr>\n    <tr>\n      <th>46</th>\n      <td>47</td>\n      <td>A</td>\n      <td>铅钡</td>\n      <td>浅蓝</td>\n      <td>无风化</td>\n    </tr>\n    <tr>\n      <th>47</th>\n      <td>48</td>\n      <td>A</td>\n      <td>铅钡</td>\n      <td>NaN</td>\n      <td>风化</td>\n    </tr>\n    <tr>\n      <th>48</th>\n      <td>49</td>\n      <td>A</td>\n      <td>铅钡</td>\n      <td>黑</td>\n      <td>风化</td>\n    </tr>\n    <tr>\n      <th>49</th>\n      <td>50</td>\n      <td>A</td>\n      <td>铅钡</td>\n      <td>黑</td>\n      <td>风化</td>\n    </tr>\n    <tr>\n      <th>50</th>\n      <td>51</td>\n      <td>C</td>\n      <td>铅钡</td>\n      <td>浅蓝</td>\n      <td>风化</td>\n    </tr>\n    <tr>\n      <th>51</th>\n      <td>52</td>\n      <td>C</td>\n      <td>铅钡</td>\n      <td>浅蓝</td>\n      <td>风化</td>\n    </tr>\n    <tr>\n      <th>52</th>\n      <td>53</td>\n      <td>A</td>\n      <td>铅钡</td>\n      <td>浅蓝</td>\n      <td>风化</td>\n    </tr>\n    <tr>\n      <th>53</th>\n      <td>54</td>\n      <td>C</td>\n      <td>铅钡</td>\n      <td>浅蓝</td>\n      <td>风化</td>\n    </tr>\n    <tr>\n      <th>54</th>\n      <td>55</td>\n      <td>C</td>\n      <td>铅钡</td>\n      <td>绿</td>\n      <td>无风化</td>\n    </tr>\n    <tr>\n      <th>55</th>\n      <td>56</td>\n      <td>C</td>\n      <td>铅钡</td>\n      <td>蓝绿</td>\n      <td>风化</td>\n    </tr>\n    <tr>\n      <th>56</th>\n      <td>57</td>\n      <td>C</td>\n      <td>铅钡</td>\n      <td>蓝绿</td>\n      <td>风化</td>\n    </tr>\n    <tr>\n      <th>57</th>\n      <td>58</td>\n      <td>C</td>\n      <td>铅钡</td>\n      <td>NaN</td>\n      <td>风化</td>\n    </tr>\n  </tbody>\n</table>\n</div>"
     },
     "execution_count": 40,
     "metadata": {},
     "output_type": "execute_result"
    }
   ],
   "source": [
    "df"
   ],
   "metadata": {
    "collapsed": false,
    "ExecuteTime": {
     "end_time": "2024-07-31T02:41:43.779549100Z",
     "start_time": "2024-07-31T02:41:43.763687500Z"
    }
   },
   "id": "68cd79e620e06625"
  },
  {
   "cell_type": "code",
   "execution_count": 41,
   "outputs": [
    {
     "name": "stdout",
     "output_type": "stream",
     "text": [
      "chisq-statistic=5.4518, p-value=0.0195, df=1 expected_frep=[[23.44827586 10.55172414]\n",
      " [16.55172414  7.44827586]]\n"
     ]
    }
   ],
   "source": [
    "from scipy.stats import chi2_contingency\n",
    "import numpy as np\n",
    "kf_data = np.array([[28, 6], [12, 12]])\n",
    "kf = chi2_contingency(kf_data)\n",
    "print('chisq-statistic=%.4f, p-value=%.4f, df=%i expected_frep=%s'%kf)"
   ],
   "metadata": {
    "collapsed": false,
    "ExecuteTime": {
     "end_time": "2024-07-31T02:41:43.780539Z",
     "start_time": "2024-07-31T02:41:43.771531900Z"
    }
   },
   "id": "bf3d20f6fd35e6"
  },
  {
   "cell_type": "code",
   "execution_count": 42,
   "outputs": [
    {
     "ename": "ValueError",
     "evalue": "The input `table` must be of shape (2, 2).",
     "output_type": "error",
     "traceback": [
      "\u001B[1;31m---------------------------------------------------------------------------\u001B[0m",
      "\u001B[1;31mValueError\u001B[0m                                Traceback (most recent call last)",
      "\u001B[1;32m~\\AppData\\Local\\Temp\\ipykernel_29544\\3880185153.py\u001B[0m in \u001B[0;36m?\u001B[1;34m()\u001B[0m\n\u001B[0;32m      1\u001B[0m \u001B[1;32mimport\u001B[0m \u001B[0mscipy\u001B[0m\u001B[1;33m.\u001B[0m\u001B[0mstats\u001B[0m \u001B[1;32mas\u001B[0m \u001B[0mstats\u001B[0m\u001B[1;33m\u001B[0m\u001B[1;33m\u001B[0m\u001B[0m\n\u001B[0;32m      2\u001B[0m \u001B[0mfisher_data\u001B[0m \u001B[1;33m=\u001B[0m \u001B[1;33m[\u001B[0m\u001B[1;33m[\u001B[0m\u001B[1;36m11\u001B[0m\u001B[1;33m,\u001B[0m \u001B[1;36m6\u001B[0m\u001B[1;33m,\u001B[0m \u001B[1;36m17\u001B[0m\u001B[1;33m]\u001B[0m\u001B[1;33m,\u001B[0m \u001B[1;33m[\u001B[0m\u001B[1;36m11\u001B[0m\u001B[1;33m,\u001B[0m \u001B[1;36m0\u001B[0m\u001B[1;33m,\u001B[0m \u001B[1;36m13\u001B[0m\u001B[1;33m]\u001B[0m\u001B[1;33m]\u001B[0m\u001B[1;33m\u001B[0m\u001B[1;33m\u001B[0m\u001B[0m\n\u001B[1;32m----> 3\u001B[1;33m \u001B[0modd_ratio\u001B[0m\u001B[1;33m,\u001B[0m \u001B[0mp_value\u001B[0m \u001B[1;33m=\u001B[0m \u001B[0mstats\u001B[0m\u001B[1;33m.\u001B[0m\u001B[0mfisher_exact\u001B[0m\u001B[1;33m(\u001B[0m\u001B[0mfisher_data\u001B[0m\u001B[1;33m)\u001B[0m\u001B[1;33m\u001B[0m\u001B[1;33m\u001B[0m\u001B[0m\n\u001B[0m\u001B[0;32m      4\u001B[0m \u001B[0mprint\u001B[0m\u001B[1;33m(\u001B[0m\u001B[1;34m'odd ratio is : '\u001B[0m \u001B[1;33m+\u001B[0m \u001B[0mstr\u001B[0m\u001B[1;33m(\u001B[0m\u001B[0modd_ratio\u001B[0m\u001B[1;33m)\u001B[0m\u001B[1;33m)\u001B[0m\u001B[1;33m\u001B[0m\u001B[1;33m\u001B[0m\u001B[0m\n\u001B[0;32m      5\u001B[0m \u001B[0mprint\u001B[0m\u001B[1;33m(\u001B[0m\u001B[1;34m'p_value is : '\u001B[0m \u001B[1;33m+\u001B[0m \u001B[0mstr\u001B[0m\u001B[1;33m(\u001B[0m\u001B[0mp_value\u001B[0m\u001B[1;33m)\u001B[0m\u001B[1;33m)\u001B[0m\u001B[1;33m\u001B[0m\u001B[1;33m\u001B[0m\u001B[0m\n\u001B[0;32m      6\u001B[0m \u001B[1;33m\u001B[0m\u001B[0m\n",
      "\u001B[1;32mE:\\python\\Lib\\site-packages\\scipy\\stats\\_stats_py.py\u001B[0m in \u001B[0;36m?\u001B[1;34m(table, alternative)\u001B[0m\n\u001B[0;32m   5052\u001B[0m     \u001B[0mhypergeom\u001B[0m \u001B[1;33m=\u001B[0m \u001B[0mdistributions\u001B[0m\u001B[1;33m.\u001B[0m\u001B[0mhypergeom\u001B[0m\u001B[1;33m\u001B[0m\u001B[1;33m\u001B[0m\u001B[0m\n\u001B[0;32m   5053\u001B[0m     \u001B[1;31m# int32 is not enough for the algorithm\u001B[0m\u001B[1;33m\u001B[0m\u001B[1;33m\u001B[0m\u001B[0m\n\u001B[0;32m   5054\u001B[0m     \u001B[0mc\u001B[0m \u001B[1;33m=\u001B[0m \u001B[0mnp\u001B[0m\u001B[1;33m.\u001B[0m\u001B[0masarray\u001B[0m\u001B[1;33m(\u001B[0m\u001B[0mtable\u001B[0m\u001B[1;33m,\u001B[0m \u001B[0mdtype\u001B[0m\u001B[1;33m=\u001B[0m\u001B[0mnp\u001B[0m\u001B[1;33m.\u001B[0m\u001B[0mint64\u001B[0m\u001B[1;33m)\u001B[0m\u001B[1;33m\u001B[0m\u001B[1;33m\u001B[0m\u001B[0m\n\u001B[0;32m   5055\u001B[0m     \u001B[1;32mif\u001B[0m \u001B[1;32mnot\u001B[0m \u001B[0mc\u001B[0m\u001B[1;33m.\u001B[0m\u001B[0mshape\u001B[0m \u001B[1;33m==\u001B[0m \u001B[1;33m(\u001B[0m\u001B[1;36m2\u001B[0m\u001B[1;33m,\u001B[0m \u001B[1;36m2\u001B[0m\u001B[1;33m)\u001B[0m\u001B[1;33m:\u001B[0m\u001B[1;33m\u001B[0m\u001B[1;33m\u001B[0m\u001B[0m\n\u001B[1;32m-> 5056\u001B[1;33m         \u001B[1;32mraise\u001B[0m \u001B[0mValueError\u001B[0m\u001B[1;33m(\u001B[0m\u001B[1;34m\"The input `table` must be of shape (2, 2).\"\u001B[0m\u001B[1;33m)\u001B[0m\u001B[1;33m\u001B[0m\u001B[1;33m\u001B[0m\u001B[0m\n\u001B[0m\u001B[0;32m   5057\u001B[0m \u001B[1;33m\u001B[0m\u001B[0m\n\u001B[0;32m   5058\u001B[0m     \u001B[1;32mif\u001B[0m \u001B[0mnp\u001B[0m\u001B[1;33m.\u001B[0m\u001B[0many\u001B[0m\u001B[1;33m(\u001B[0m\u001B[0mc\u001B[0m \u001B[1;33m<\u001B[0m \u001B[1;36m0\u001B[0m\u001B[1;33m)\u001B[0m\u001B[1;33m:\u001B[0m\u001B[1;33m\u001B[0m\u001B[1;33m\u001B[0m\u001B[0m\n\u001B[0;32m   5059\u001B[0m         \u001B[1;32mraise\u001B[0m \u001B[0mValueError\u001B[0m\u001B[1;33m(\u001B[0m\u001B[1;34m\"All values in `table` must be nonnegative.\"\u001B[0m\u001B[1;33m)\u001B[0m\u001B[1;33m\u001B[0m\u001B[1;33m\u001B[0m\u001B[0m\n",
      "\u001B[1;31mValueError\u001B[0m: The input `table` must be of shape (2, 2)."
     ]
    }
   ],
   "source": [
    "import scipy.stats as stats\n",
    "fisher_data = [[11, 6, 17], [11, 0, 13]]\n",
    "odd_ratio, p_value = stats.fisher_exact(fisher_data)\n",
    "print('odd ratio is : ' + str(odd_ratio))\n",
    "print('p_value is : ' + str(p_value))"
   ],
   "metadata": {
    "collapsed": false,
    "ExecuteTime": {
     "end_time": "2024-07-31T02:43:26.815762300Z",
     "start_time": "2024-07-31T02:43:26.570173700Z"
    }
   },
   "id": "b562fa5afd87e7b8"
  },
  {
   "cell_type": "code",
   "execution_count": 43,
   "outputs": [
    {
     "data": {
      "text/plain": "      文物采样点  二氧化硅(SiO2)  氧化钠(Na2O)  氧化钾(K2O)  氧化钙(CaO)  氧化镁(MgO)  氧化铝(Al2O3)  \\\n0        01       69.33        NaN      9.99      6.32      0.87        3.93   \n1        02       36.28        NaN      1.05      2.34      1.18        5.73   \n2     03部位1       87.05        NaN      5.19      2.01       NaN        4.06   \n3     03部位2       61.71        NaN     12.37      5.87      1.11        5.50   \n4        04       65.88        NaN      9.67      7.12      1.56        6.44   \n..      ...         ...        ...       ...       ...       ...         ...   \n64  54严重风化点       17.11        NaN       NaN       NaN      1.11        3.65   \n65       55       49.01       2.71       NaN      1.13       NaN        1.45   \n66       56       29.15        NaN       NaN      1.21       NaN        1.85   \n67       57       25.42        NaN       NaN      1.31       NaN        2.18   \n68       58       30.39        NaN      0.34      3.49      0.79        3.52   \n\n    氧化铁(Fe2O3)  氧化铜(CuO)  氧化铅(PbO)  氧化钡(BaO)  五氧化二磷(P2O5)  氧化锶(SrO)  \\\n0         1.74      3.87       NaN       NaN         1.17       NaN   \n1         1.86      0.26     47.43       NaN         3.57      0.19   \n2          NaN      0.78      0.25       NaN         0.66       NaN   \n3         2.16      5.09      1.41      2.86         0.70      0.10   \n4         2.06      2.18       NaN       NaN         0.79       NaN   \n..         ...       ...       ...       ...          ...       ...   \n64         NaN      1.34     58.46       NaN        14.13      1.12   \n65         NaN      0.86     32.92      7.95         0.35       NaN   \n66         NaN      0.79     41.25     15.45         2.54       NaN   \n67         NaN      1.16     45.10     17.30          NaN       NaN   \n68        0.86      3.13     39.35      7.66         8.99      0.24   \n\n    氧化锡(SnO2)  二氧化硫(SO2)  Unnamed: 15  \n0         NaN       0.39        97.61  \n1         NaN        NaN        99.89  \n2         NaN        NaN       100.00  \n3         NaN        NaN        98.88  \n4         NaN       0.36        96.06  \n..        ...        ...          ...  \n64        NaN        NaN        96.92  \n65        NaN        NaN        96.38  \n66        NaN        NaN        92.24  \n67        NaN        NaN        92.47  \n68        NaN        NaN        98.76  \n\n[69 rows x 16 columns]",
      "text/html": "<div>\n<style scoped>\n    .dataframe tbody tr th:only-of-type {\n        vertical-align: middle;\n    }\n\n    .dataframe tbody tr th {\n        vertical-align: top;\n    }\n\n    .dataframe thead th {\n        text-align: right;\n    }\n</style>\n<table border=\"1\" class=\"dataframe\">\n  <thead>\n    <tr style=\"text-align: right;\">\n      <th></th>\n      <th>文物采样点</th>\n      <th>二氧化硅(SiO2)</th>\n      <th>氧化钠(Na2O)</th>\n      <th>氧化钾(K2O)</th>\n      <th>氧化钙(CaO)</th>\n      <th>氧化镁(MgO)</th>\n      <th>氧化铝(Al2O3)</th>\n      <th>氧化铁(Fe2O3)</th>\n      <th>氧化铜(CuO)</th>\n      <th>氧化铅(PbO)</th>\n      <th>氧化钡(BaO)</th>\n      <th>五氧化二磷(P2O5)</th>\n      <th>氧化锶(SrO)</th>\n      <th>氧化锡(SnO2)</th>\n      <th>二氧化硫(SO2)</th>\n      <th>Unnamed: 15</th>\n    </tr>\n  </thead>\n  <tbody>\n    <tr>\n      <th>0</th>\n      <td>01</td>\n      <td>69.33</td>\n      <td>NaN</td>\n      <td>9.99</td>\n      <td>6.32</td>\n      <td>0.87</td>\n      <td>3.93</td>\n      <td>1.74</td>\n      <td>3.87</td>\n      <td>NaN</td>\n      <td>NaN</td>\n      <td>1.17</td>\n      <td>NaN</td>\n      <td>NaN</td>\n      <td>0.39</td>\n      <td>97.61</td>\n    </tr>\n    <tr>\n      <th>1</th>\n      <td>02</td>\n      <td>36.28</td>\n      <td>NaN</td>\n      <td>1.05</td>\n      <td>2.34</td>\n      <td>1.18</td>\n      <td>5.73</td>\n      <td>1.86</td>\n      <td>0.26</td>\n      <td>47.43</td>\n      <td>NaN</td>\n      <td>3.57</td>\n      <td>0.19</td>\n      <td>NaN</td>\n      <td>NaN</td>\n      <td>99.89</td>\n    </tr>\n    <tr>\n      <th>2</th>\n      <td>03部位1</td>\n      <td>87.05</td>\n      <td>NaN</td>\n      <td>5.19</td>\n      <td>2.01</td>\n      <td>NaN</td>\n      <td>4.06</td>\n      <td>NaN</td>\n      <td>0.78</td>\n      <td>0.25</td>\n      <td>NaN</td>\n      <td>0.66</td>\n      <td>NaN</td>\n      <td>NaN</td>\n      <td>NaN</td>\n      <td>100.00</td>\n    </tr>\n    <tr>\n      <th>3</th>\n      <td>03部位2</td>\n      <td>61.71</td>\n      <td>NaN</td>\n      <td>12.37</td>\n      <td>5.87</td>\n      <td>1.11</td>\n      <td>5.50</td>\n      <td>2.16</td>\n      <td>5.09</td>\n      <td>1.41</td>\n      <td>2.86</td>\n      <td>0.70</td>\n      <td>0.10</td>\n      <td>NaN</td>\n      <td>NaN</td>\n      <td>98.88</td>\n    </tr>\n    <tr>\n      <th>4</th>\n      <td>04</td>\n      <td>65.88</td>\n      <td>NaN</td>\n      <td>9.67</td>\n      <td>7.12</td>\n      <td>1.56</td>\n      <td>6.44</td>\n      <td>2.06</td>\n      <td>2.18</td>\n      <td>NaN</td>\n      <td>NaN</td>\n      <td>0.79</td>\n      <td>NaN</td>\n      <td>NaN</td>\n      <td>0.36</td>\n      <td>96.06</td>\n    </tr>\n    <tr>\n      <th>...</th>\n      <td>...</td>\n      <td>...</td>\n      <td>...</td>\n      <td>...</td>\n      <td>...</td>\n      <td>...</td>\n      <td>...</td>\n      <td>...</td>\n      <td>...</td>\n      <td>...</td>\n      <td>...</td>\n      <td>...</td>\n      <td>...</td>\n      <td>...</td>\n      <td>...</td>\n      <td>...</td>\n    </tr>\n    <tr>\n      <th>64</th>\n      <td>54严重风化点</td>\n      <td>17.11</td>\n      <td>NaN</td>\n      <td>NaN</td>\n      <td>NaN</td>\n      <td>1.11</td>\n      <td>3.65</td>\n      <td>NaN</td>\n      <td>1.34</td>\n      <td>58.46</td>\n      <td>NaN</td>\n      <td>14.13</td>\n      <td>1.12</td>\n      <td>NaN</td>\n      <td>NaN</td>\n      <td>96.92</td>\n    </tr>\n    <tr>\n      <th>65</th>\n      <td>55</td>\n      <td>49.01</td>\n      <td>2.71</td>\n      <td>NaN</td>\n      <td>1.13</td>\n      <td>NaN</td>\n      <td>1.45</td>\n      <td>NaN</td>\n      <td>0.86</td>\n      <td>32.92</td>\n      <td>7.95</td>\n      <td>0.35</td>\n      <td>NaN</td>\n      <td>NaN</td>\n      <td>NaN</td>\n      <td>96.38</td>\n    </tr>\n    <tr>\n      <th>66</th>\n      <td>56</td>\n      <td>29.15</td>\n      <td>NaN</td>\n      <td>NaN</td>\n      <td>1.21</td>\n      <td>NaN</td>\n      <td>1.85</td>\n      <td>NaN</td>\n      <td>0.79</td>\n      <td>41.25</td>\n      <td>15.45</td>\n      <td>2.54</td>\n      <td>NaN</td>\n      <td>NaN</td>\n      <td>NaN</td>\n      <td>92.24</td>\n    </tr>\n    <tr>\n      <th>67</th>\n      <td>57</td>\n      <td>25.42</td>\n      <td>NaN</td>\n      <td>NaN</td>\n      <td>1.31</td>\n      <td>NaN</td>\n      <td>2.18</td>\n      <td>NaN</td>\n      <td>1.16</td>\n      <td>45.10</td>\n      <td>17.30</td>\n      <td>NaN</td>\n      <td>NaN</td>\n      <td>NaN</td>\n      <td>NaN</td>\n      <td>92.47</td>\n    </tr>\n    <tr>\n      <th>68</th>\n      <td>58</td>\n      <td>30.39</td>\n      <td>NaN</td>\n      <td>0.34</td>\n      <td>3.49</td>\n      <td>0.79</td>\n      <td>3.52</td>\n      <td>0.86</td>\n      <td>3.13</td>\n      <td>39.35</td>\n      <td>7.66</td>\n      <td>8.99</td>\n      <td>0.24</td>\n      <td>NaN</td>\n      <td>NaN</td>\n      <td>98.76</td>\n    </tr>\n  </tbody>\n</table>\n<p>69 rows × 16 columns</p>\n</div>"
     },
     "execution_count": 43,
     "metadata": {},
     "output_type": "execute_result"
    }
   ],
   "source": [
    "df1"
   ],
   "metadata": {
    "collapsed": false,
    "ExecuteTime": {
     "end_time": "2024-07-31T05:19:54.650775300Z",
     "start_time": "2024-07-31T05:19:54.610186600Z"
    }
   },
   "id": "cf81f2ab46183357"
  },
  {
   "cell_type": "code",
   "execution_count": 52,
   "outputs": [],
   "source": [
    "df1.fillna(0.04, inplace=True)"
   ],
   "metadata": {
    "collapsed": false,
    "ExecuteTime": {
     "end_time": "2024-07-31T05:27:06.182097700Z",
     "start_time": "2024-07-31T05:27:06.165430700Z"
    }
   },
   "id": "d4a0713c8ee2563f"
  },
  {
   "cell_type": "code",
   "execution_count": 53,
   "outputs": [
    {
     "data": {
      "text/plain": "      文物采样点  二氧化硅(SiO2)  氧化钠(Na2O)  氧化钾(K2O)  氧化钙(CaO)  氧化镁(MgO)  氧化铝(Al2O3)  \\\n0        01       69.33       0.04      9.99      6.32      0.87        3.93   \n1        02       36.28       0.04      1.05      2.34      1.18        5.73   \n2     03部位1       87.05       0.04      5.19      2.01      0.04        4.06   \n3     03部位2       61.71       0.04     12.37      5.87      1.11        5.50   \n4        04       65.88       0.04      9.67      7.12      1.56        6.44   \n..      ...         ...        ...       ...       ...       ...         ...   \n64  54严重风化点       17.11       0.04      0.04      0.04      1.11        3.65   \n65       55       49.01       2.71      0.04      1.13      0.04        1.45   \n66       56       29.15       0.04      0.04      1.21      0.04        1.85   \n67       57       25.42       0.04      0.04      1.31      0.04        2.18   \n68       58       30.39       0.04      0.34      3.49      0.79        3.52   \n\n    氧化铁(Fe2O3)  氧化铜(CuO)  氧化铅(PbO)  氧化钡(BaO)  五氧化二磷(P2O5)  氧化锶(SrO)  \\\n0         1.74      3.87      0.04      0.04         1.17      0.04   \n1         1.86      0.26     47.43      0.04         3.57      0.19   \n2         0.04      0.78      0.25      0.04         0.66      0.04   \n3         2.16      5.09      1.41      2.86         0.70      0.10   \n4         2.06      2.18      0.04      0.04         0.79      0.04   \n..         ...       ...       ...       ...          ...       ...   \n64        0.04      1.34     58.46      0.04        14.13      1.12   \n65        0.04      0.86     32.92      7.95         0.35      0.04   \n66        0.04      0.79     41.25     15.45         2.54      0.04   \n67        0.04      1.16     45.10     17.30         0.04      0.04   \n68        0.86      3.13     39.35      7.66         8.99      0.24   \n\n    氧化锡(SnO2)  二氧化硫(SO2)  Unnamed: 15  \n0        0.04       0.39        97.61  \n1        0.04       0.04        99.89  \n2        0.04       0.04       100.00  \n3        0.04       0.04        98.88  \n4        0.04       0.36        96.06  \n..        ...        ...          ...  \n64       0.04       0.04        96.92  \n65       0.04       0.04        96.38  \n66       0.04       0.04        92.24  \n67       0.04       0.04        92.47  \n68       0.04       0.04        98.76  \n\n[69 rows x 16 columns]",
      "text/html": "<div>\n<style scoped>\n    .dataframe tbody tr th:only-of-type {\n        vertical-align: middle;\n    }\n\n    .dataframe tbody tr th {\n        vertical-align: top;\n    }\n\n    .dataframe thead th {\n        text-align: right;\n    }\n</style>\n<table border=\"1\" class=\"dataframe\">\n  <thead>\n    <tr style=\"text-align: right;\">\n      <th></th>\n      <th>文物采样点</th>\n      <th>二氧化硅(SiO2)</th>\n      <th>氧化钠(Na2O)</th>\n      <th>氧化钾(K2O)</th>\n      <th>氧化钙(CaO)</th>\n      <th>氧化镁(MgO)</th>\n      <th>氧化铝(Al2O3)</th>\n      <th>氧化铁(Fe2O3)</th>\n      <th>氧化铜(CuO)</th>\n      <th>氧化铅(PbO)</th>\n      <th>氧化钡(BaO)</th>\n      <th>五氧化二磷(P2O5)</th>\n      <th>氧化锶(SrO)</th>\n      <th>氧化锡(SnO2)</th>\n      <th>二氧化硫(SO2)</th>\n      <th>Unnamed: 15</th>\n    </tr>\n  </thead>\n  <tbody>\n    <tr>\n      <th>0</th>\n      <td>01</td>\n      <td>69.33</td>\n      <td>0.04</td>\n      <td>9.99</td>\n      <td>6.32</td>\n      <td>0.87</td>\n      <td>3.93</td>\n      <td>1.74</td>\n      <td>3.87</td>\n      <td>0.04</td>\n      <td>0.04</td>\n      <td>1.17</td>\n      <td>0.04</td>\n      <td>0.04</td>\n      <td>0.39</td>\n      <td>97.61</td>\n    </tr>\n    <tr>\n      <th>1</th>\n      <td>02</td>\n      <td>36.28</td>\n      <td>0.04</td>\n      <td>1.05</td>\n      <td>2.34</td>\n      <td>1.18</td>\n      <td>5.73</td>\n      <td>1.86</td>\n      <td>0.26</td>\n      <td>47.43</td>\n      <td>0.04</td>\n      <td>3.57</td>\n      <td>0.19</td>\n      <td>0.04</td>\n      <td>0.04</td>\n      <td>99.89</td>\n    </tr>\n    <tr>\n      <th>2</th>\n      <td>03部位1</td>\n      <td>87.05</td>\n      <td>0.04</td>\n      <td>5.19</td>\n      <td>2.01</td>\n      <td>0.04</td>\n      <td>4.06</td>\n      <td>0.04</td>\n      <td>0.78</td>\n      <td>0.25</td>\n      <td>0.04</td>\n      <td>0.66</td>\n      <td>0.04</td>\n      <td>0.04</td>\n      <td>0.04</td>\n      <td>100.00</td>\n    </tr>\n    <tr>\n      <th>3</th>\n      <td>03部位2</td>\n      <td>61.71</td>\n      <td>0.04</td>\n      <td>12.37</td>\n      <td>5.87</td>\n      <td>1.11</td>\n      <td>5.50</td>\n      <td>2.16</td>\n      <td>5.09</td>\n      <td>1.41</td>\n      <td>2.86</td>\n      <td>0.70</td>\n      <td>0.10</td>\n      <td>0.04</td>\n      <td>0.04</td>\n      <td>98.88</td>\n    </tr>\n    <tr>\n      <th>4</th>\n      <td>04</td>\n      <td>65.88</td>\n      <td>0.04</td>\n      <td>9.67</td>\n      <td>7.12</td>\n      <td>1.56</td>\n      <td>6.44</td>\n      <td>2.06</td>\n      <td>2.18</td>\n      <td>0.04</td>\n      <td>0.04</td>\n      <td>0.79</td>\n      <td>0.04</td>\n      <td>0.04</td>\n      <td>0.36</td>\n      <td>96.06</td>\n    </tr>\n    <tr>\n      <th>...</th>\n      <td>...</td>\n      <td>...</td>\n      <td>...</td>\n      <td>...</td>\n      <td>...</td>\n      <td>...</td>\n      <td>...</td>\n      <td>...</td>\n      <td>...</td>\n      <td>...</td>\n      <td>...</td>\n      <td>...</td>\n      <td>...</td>\n      <td>...</td>\n      <td>...</td>\n      <td>...</td>\n    </tr>\n    <tr>\n      <th>64</th>\n      <td>54严重风化点</td>\n      <td>17.11</td>\n      <td>0.04</td>\n      <td>0.04</td>\n      <td>0.04</td>\n      <td>1.11</td>\n      <td>3.65</td>\n      <td>0.04</td>\n      <td>1.34</td>\n      <td>58.46</td>\n      <td>0.04</td>\n      <td>14.13</td>\n      <td>1.12</td>\n      <td>0.04</td>\n      <td>0.04</td>\n      <td>96.92</td>\n    </tr>\n    <tr>\n      <th>65</th>\n      <td>55</td>\n      <td>49.01</td>\n      <td>2.71</td>\n      <td>0.04</td>\n      <td>1.13</td>\n      <td>0.04</td>\n      <td>1.45</td>\n      <td>0.04</td>\n      <td>0.86</td>\n      <td>32.92</td>\n      <td>7.95</td>\n      <td>0.35</td>\n      <td>0.04</td>\n      <td>0.04</td>\n      <td>0.04</td>\n      <td>96.38</td>\n    </tr>\n    <tr>\n      <th>66</th>\n      <td>56</td>\n      <td>29.15</td>\n      <td>0.04</td>\n      <td>0.04</td>\n      <td>1.21</td>\n      <td>0.04</td>\n      <td>1.85</td>\n      <td>0.04</td>\n      <td>0.79</td>\n      <td>41.25</td>\n      <td>15.45</td>\n      <td>2.54</td>\n      <td>0.04</td>\n      <td>0.04</td>\n      <td>0.04</td>\n      <td>92.24</td>\n    </tr>\n    <tr>\n      <th>67</th>\n      <td>57</td>\n      <td>25.42</td>\n      <td>0.04</td>\n      <td>0.04</td>\n      <td>1.31</td>\n      <td>0.04</td>\n      <td>2.18</td>\n      <td>0.04</td>\n      <td>1.16</td>\n      <td>45.10</td>\n      <td>17.30</td>\n      <td>0.04</td>\n      <td>0.04</td>\n      <td>0.04</td>\n      <td>0.04</td>\n      <td>92.47</td>\n    </tr>\n    <tr>\n      <th>68</th>\n      <td>58</td>\n      <td>30.39</td>\n      <td>0.04</td>\n      <td>0.34</td>\n      <td>3.49</td>\n      <td>0.79</td>\n      <td>3.52</td>\n      <td>0.86</td>\n      <td>3.13</td>\n      <td>39.35</td>\n      <td>7.66</td>\n      <td>8.99</td>\n      <td>0.24</td>\n      <td>0.04</td>\n      <td>0.04</td>\n      <td>98.76</td>\n    </tr>\n  </tbody>\n</table>\n<p>69 rows × 16 columns</p>\n</div>"
     },
     "execution_count": 53,
     "metadata": {},
     "output_type": "execute_result"
    }
   ],
   "source": [
    "df1"
   ],
   "metadata": {
    "collapsed": false,
    "ExecuteTime": {
     "end_time": "2024-07-31T05:27:06.456940400Z",
     "start_time": "2024-07-31T05:27:06.442801700Z"
    }
   },
   "id": "25218ac4757a3aad"
  },
  {
   "cell_type": "code",
   "execution_count": 83,
   "outputs": [
    {
     "name": "stdout",
     "output_type": "stream",
     "text": [
      "标准化后的数据：\n",
      "[ 1.91711321 -1.17647332  1.11349535  0.92356602  0.10099604  0.72649589\n",
      "  0.38852375  0.720114   -1.17647332 -1.17647332  0.22389148 -1.17647332\n",
      " -1.17647332 -0.23182915]\n",
      "标准化后的数据：\n",
      "[ 1.62788144 -1.2459103   0.13300234  0.47116619  0.18225847  0.84908283\n",
      "  0.37428875 -0.45603407  1.74096903 -1.2459103   0.6494197  -0.58839349\n",
      " -1.2459103  -1.2459103 ]\n",
      "标准化后的数据：\n",
      "[ 2.34800963 -0.85391862  1.17322593  0.77801394 -0.85391862  1.07092286\n",
      " -0.85391862  0.3836364  -0.0904156  -0.85391862  0.31403715 -0.85391862\n",
      " -0.85391862 -0.85391862]\n",
      "标准化后的数据：\n",
      "[ 1.78773424 -1.49208079  1.06971283  0.73668857 -0.00738919  0.70760152\n",
      "  0.29004103  0.67299084  0.09948927  0.41545279 -0.21336155 -1.08271798\n",
      " -1.49208079 -1.49208079]\n",
      "标准化后的数据：\n",
      "[ 1.87740189 -1.17621085  1.08632303  0.96011671  0.3341895   0.91873273\n",
      "  0.44881068  0.47215332 -1.17621085 -1.17621085  0.05367321 -1.17621085\n",
      " -1.17621085 -0.27034681]\n",
      "标准化后的数据：\n",
      "[ 1.79256513 -1.2294095   1.0814612   0.91731861  0.33109117  0.92563722\n",
      "  0.49258024  0.58383211 -1.2294095  -1.2294095   0.07050852 -1.06245628\n",
      " -1.2294095  -0.21489991]\n",
      "标准化后的数据：\n",
      "[ 1.88202335 -1.23453054  0.95252338 -1.23453054  0.4014634   1.12611177\n",
      "  0.48036923  0.50090918 -0.55973579  0.25010005  0.71475064 -0.81039303\n",
      " -1.23453054 -1.23453054]\n",
      "标准化后的数据：\n",
      "[ 1.74548543 -1.48023607  0.83975064  0.68514189  0.1820352   0.95843217\n",
      "  0.7337502   0.28405887 -0.52309291 -0.07327636  0.60387204 -0.99544898\n",
      " -1.48023607 -1.48023607]\n",
      "标准化后的数据：\n",
      "[ 2.61460714 -0.72323743 -0.72323743  0.69269764 -0.72323743  0.9578464\n",
      " -0.09986246  1.17001966 -0.72323743 -0.72323743  0.45059102 -0.72323743\n",
      " -0.72323743 -0.72323743]\n",
      "标准化后的数据：\n",
      "[ 1.22219774 -1.19326019 -1.19326019  0.20863693 -1.19326019  0.17005672\n",
      " -1.19326019  0.96598327  1.35943697  1.39250679  0.55265894 -0.32957582\n",
      " -1.19326019  0.4243994 ]\n",
      "标准化后的数据：\n",
      "[ 0.62717554 -1.2209648  -1.2209648   0.48382537 -1.2209648   0.07283593\n",
      " -1.2209648   0.47767486  1.38692199  1.36432314  0.81974986 -0.214964\n",
      " -1.2209648   1.08728132]\n",
      "标准化后的数据：\n",
      "[ 2.75893303 -0.80615237  0.42819175  0.45093949 -0.80615237  0.79752794\n",
      "  0.14758773  0.8711981  -0.80615237 -0.80615237  0.18868853 -0.80615237\n",
      " -0.80615237 -0.80615237]\n",
      "标准化后的数据：\n",
      "[ 2.93462389 -0.679565    0.77492848  0.08965407 -0.679565    0.71585826\n",
      "  0.18872685  0.73272848 -0.679565   -0.679565   -0.679565   -0.679565\n",
      " -0.679565   -0.679565  ]\n",
      "标准化后的数据：\n",
      "[ 1.43304663 -1.29797824 -0.62538177  0.51692736 -0.13128304  0.40900433\n",
      " -1.29797824  0.65472291  1.31952691  1.09536602  0.91562881 -0.39564522\n",
      " -1.29797824 -1.29797824]\n",
      "标准化后的数据：\n",
      "[ 2.71654714 -0.79049104  0.66775115  0.51489422 -0.79049104  0.83417138\n",
      "  0.10419322  0.88942356 -0.79049104 -0.79049104 -0.1935434  -0.79049104\n",
      " -0.79049104 -0.79049104]\n",
      "标准化后的数据：\n",
      "[ 1.68700781  0.53232235  1.09587909  0.95671544 -1.09646667  0.82501212\n",
      "  0.53498074  0.72424452 -1.09646667 -1.09646667  0.22263797 -1.09646667\n",
      " -1.09646667 -1.09646667]\n",
      "标准化后的数据：\n",
      "[ 1.85283603  0.62823105  1.16986998  1.0018544  -0.05753814  1.04999916\n",
      " -0.17410011 -0.20007812  0.31945709 -1.23451169 -0.65248456 -1.23451169\n",
      " -1.23451169 -1.23451169]\n",
      "标准化后的数据：\n",
      "[nan nan nan nan nan nan nan nan nan nan nan nan nan nan]\n",
      "标准化后的数据：\n",
      "[nan nan nan nan nan nan nan nan nan nan nan nan nan nan]\n",
      "标准化后的数据：\n",
      "[nan nan nan nan nan nan nan nan nan nan nan nan nan nan]\n",
      "标准化后的数据：\n",
      "[ 2.19658458 -0.83162037  1.34626978 -0.83162037  0.62150384  0.8965952\n",
      " -0.83162037 -0.83162037 -0.83162037 -0.83162037  0.57453715 -0.6084702\n",
      "  0.79432227 -0.83162037]\n",
      "标准化后的数据：\n",
      "[ 1.40491445 -1.32432441 -1.32432441  0.44913477 -0.2127862   0.53073238\n",
      "  0.12292158  0.52373187  1.55685658  0.69781191  0.90475926 -0.68077895\n",
      " -1.32432441 -1.32432441]\n",
      "标准化后的数据：\n",
      "[ 1.51767511 -1.08138631  0.01166558 -1.08138631 -1.08138631  0.78616382\n",
      "  0.29842022  0.73631614  0.98924008  1.34231062  0.8065263  -1.08138631\n",
      " -1.08138631 -1.08138631]\n",
      "标准化后的数据：\n",
      "[ 2.01397783 -1.20950095 -1.20950095  0.82414726  0.24805611  0.94067891\n",
      "  0.5312487   0.66983153  0.16325223  0.45241303  0.20389914 -1.20950095\n",
      " -1.20950095 -1.20950095]\n",
      "标准化后的数据：\n",
      "[ 2.60283366 -0.90972111  0.41365424  0.78009324  0.34780592  1.11842198\n",
      "  0.07406839  0.2790694  -0.90972111 -0.90972111 -0.15762015 -0.90972111\n",
      " -0.90972111 -0.90972111]\n",
      "标准化后的数据：\n",
      "[ 1.75280316  0.98497487 -1.13461001 -0.12227531  0.01827111  0.29609072\n",
      " -1.13461001  0.5945397   1.29064982  1.14681359 -1.13461001 -0.28881762\n",
      " -1.13461001 -1.13461001]\n",
      "标准化后的数据：\n",
      "[ 1.55516006 -0.95685959 -0.95685959 -0.03070469 -0.95685959  0.42742219\n",
      " -0.95685959  1.05577722  1.52067252  1.48112515 -0.48594982  0.2176549\n",
      " -0.95685959 -0.95685959]\n",
      "标准化后的数据：\n",
      "[ 1.83099824  0.51728998 -1.20889483 -0.03565242 -1.20889483  0.43413533\n",
      "  0.34748869  0.2092082   1.63457699  0.96727996 -0.54578739 -0.52395825\n",
      " -1.20889483 -1.20889483]\n",
      "标准化后的数据：\n",
      "[ 1.24532937 -1.17657187 -1.17657187  0.22234099 -1.17657187 -0.05924287\n",
      " -1.17657187  1.00050356  1.40156876  1.43596515  0.52542347 -0.23172292\n",
      " -1.17657187  0.34269385]\n",
      "标准化后的数据：\n",
      "[ 0.50890033 -1.3614936  -0.41132335  0.42150705 -1.3614936   0.03508755\n",
      " -1.3614936   0.49536949  1.3692022   1.43918665  0.70890547 -0.23047583\n",
      " -1.3614936   1.10961483]\n",
      "标准化后的数据：\n",
      "[ 2.67015389 -0.80400816 -0.80400816  0.61149002  0.36295479  1.05185838\n",
      " -0.08238759  0.83283042 -0.80400816 -0.80400816  0.18115718 -0.80400816\n",
      " -0.80400816 -0.80400816]\n",
      "标准化后的数据：\n",
      "[ 2.12808163 -1.43958738 -0.54195751  0.24438762  0.10403679  0.84617629\n",
      " -0.32353249 -0.4276266   1.46664814  0.77361125  0.12284523 -0.91274367\n",
      " -0.60075192 -1.43958738]\n",
      "标准化后的数据：\n",
      "[ 2.01285626 -0.07663415 -0.63000613  0.50375664  0.16146569  1.27961412\n",
      " -0.13951709 -0.18415068  1.20423677  0.31418475 -0.4757488  -0.72004042\n",
      " -1.62500847 -1.62500847]\n",
      "标准化后的数据：\n",
      "[ 1.51906499 -1.3107941   0.18158145  0.66679692  0.02918281  0.65352696\n",
      "  0.35242665 -1.3107941   1.57472892  1.01421268 -1.3107941  -0.40214174\n",
      " -0.34620324 -1.3107941 ]\n",
      "标准化后的数据：\n",
      "[ 1.55403596 -1.30785737 -1.30785737  0.6468088  -0.24090576  0.60745254\n",
      "  0.46380701 -1.30785737  1.5631299   1.02086526  0.18533911 -0.26631638\n",
      " -0.30278694 -1.30785737]\n",
      "标准化后的数据：\n",
      "[ 1.9225158  -1.30253426 -1.30253426  0.3035889   0.04821288  0.59296136\n",
      "  0.76244241 -0.25850038  1.32084036  0.63433174  0.30899762 -0.42525365\n",
      " -1.30253426 -1.30253426]\n",
      "标准化后的数据：\n",
      "[ 2.13715081 -0.9573754  -0.26981286  0.05531179 -0.9573754   0.73332207\n",
      "  0.37728928 -0.53792834  1.61442467  1.03454897 -0.3574294  -0.9573754\n",
      " -0.9573754  -0.9573754 ]\n",
      "标准化后的数据：\n",
      "[ 2.18385603 -0.99520838 -0.43815304  0.17330196  0.36139011  0.72148432\n",
      " -0.99520838  0.04318507  1.53409402  0.89534647 -0.49846303 -0.99520838\n",
      " -0.99520838 -0.99520838]\n",
      "标准化后的数据：\n",
      "[ 1.74647527 -1.15223206 -0.37060901  0.11469357 -1.15223206  0.42642788\n",
      " -0.10136227  0.39643686  1.85870748  1.20275254 -0.23946224 -0.42513183\n",
      " -1.15223206 -1.15223206]\n",
      "标准化后的数据：\n",
      "[ 2.16138743 -0.86725017 -0.86725017  0.05325667 -0.86725017  0.5979769\n",
      " -0.27563481 -0.30042297  1.71367365  1.15908543  0.09417873 -0.86725017\n",
      " -0.86725017 -0.86725017]\n",
      "标准化后的数据：\n",
      "[ 1.79005915  0.56135143 -0.61747368 -0.2029255  -1.15184108  0.42165443\n",
      " -0.26485305  0.05666913  1.81150156  1.23735507 -0.91313636 -0.42467894\n",
      " -1.15184108 -1.15184108]\n",
      "标准化后的数据：\n",
      "[ 1.80297426 -1.2784165  -0.54160073  0.02838358 -1.2784165   0.49896749\n",
      " -1.2784165   0.54164156  1.2768113   1.06147321  0.23687999 -0.41586647\n",
      " -1.2784165   0.62400178]\n",
      "标准化后的数据：\n",
      "[ 1.66833876  0.30682693 -1.21290861  0.00307119 -1.21290861  0.57370535\n",
      " -0.36268751  0.03352279  1.84162013  1.14772458 -0.14641769 -0.21407007\n",
      " -1.21290861 -1.21290861]\n",
      "标准化后的数据：\n",
      "[ 1.63833058 -0.98253897 -0.98253897  0.36020542 -0.98253897  0.03797481\n",
      " -0.98253897  0.26638831  1.97922509  1.1167819   0.37800774  0.11831996\n",
      " -0.98253897 -0.98253897]\n",
      "标准化后的数据：\n",
      "[ 1.48378261 -0.95435667 -0.95435667  0.59897791 -0.95435667  0.0234907\n",
      " -0.32485424 -0.95435667  2.06372897  1.1139566   0.57677409  0.19028335\n",
      " -0.95435667 -0.95435667]\n",
      "标准化后的数据：\n",
      "[ 1.20668756 -1.49699256 -0.44015651  0.62747359  0.36430898  0.45187008\n",
      "  0.17828097 -0.8102639   1.59070292  0.92580114  0.80735938 -0.41108653\n",
      " -1.49699256 -1.49699256]\n",
      "标准化后的数据：\n",
      "[ 1.72471556  0.79778149 -0.74520069 -0.04182539  0.09445536  0.59195847\n",
      " -1.304784    0.47374714  1.36429015  1.05224622 -1.01133071 -0.38648561\n",
      " -1.304784   -1.304784  ]\n",
      "标准化后的数据：\n",
      "[ 1.66524371  0.831479   -0.2240281  -1.04557018  0.22981329  0.830143\n",
      " -1.04557018  0.55259364  1.31051561  1.07766093 -1.04557018 -1.04557018\n",
      " -1.04557018 -1.04557018]\n",
      "标准化后的数据：\n",
      "[ 1.14978522 -1.19129879 -1.19129879  0.79798023  0.07458307  0.45302616\n",
      "  0.0101522   0.8064573   1.79177153  0.93270795 -1.19129879 -0.0599697\n",
      " -1.19129879 -1.19129879]\n",
      "标准化后的数据：\n",
      "[ 1.27250974 -1.37745828 -1.37745828  0.75860375 -0.04427187  0.49362088\n",
      "  0.11591553  0.15076725  1.57713718  0.47468735  1.05132395 -0.34046063\n",
      " -1.37745828 -1.37745828]\n",
      "标准化后的数据：\n",
      "[ 1.84071387  0.59143143 -0.54901194  0.44192449 -1.22187551  1.18609911\n",
      "  0.01458191 -0.22899001  1.21536031  0.81471724 -1.22187551 -0.43932436\n",
      " -1.22187551 -1.22187551]\n",
      "标准化后的数据：\n",
      "[ 1.88878671  0.58054689 -0.74790733  0.09985833  0.04700054  0.84373211\n",
      " -1.16976351 -0.09218901  1.32852667  1.17101414 -1.16976351 -0.44031501\n",
      " -1.16976351 -1.16976351]\n",
      "标准化后的数据：\n",
      "[ 1.86080162 -1.04927971 -0.3116661  -1.04927971  0.45272845  0.87684518\n",
      " -1.04927971  0.1411178   1.54591883  1.1755148  -0.40148133 -0.0933807\n",
      " -1.04927971 -1.04927971]\n",
      "标准化后的数据：\n",
      "[ 1.80598649  0.75029329 -0.46948431  0.01309251 -0.14285996  0.56554015\n",
      " -1.33965973 -0.11496104  1.4951619   1.05050297 -0.93716953  0.0028767\n",
      " -1.33965973 -1.33965973]\n",
      "标准化后的数据：\n",
      "[ 1.80709444 -0.24956944 -0.69829859  0.36742368  0.07116323  1.13971902\n",
      " -0.12581514 -1.71665009  1.20855355  0.8338885  -0.09361515 -0.81919179\n",
      " -0.00805214 -1.71665009]\n",
      "标准化后的数据：\n",
      "[ 1.34565527 -1.38766118 -1.38766118  0.58189048  0.10973875  0.64877622\n",
      "  0.36844809 -0.19851162  1.4169546   0.70095902  0.94968088 -0.37294697\n",
      " -1.38766118 -1.38766118]\n",
      "标准化后的数据：\n",
      "[ 1.79846317 -1.45851747 -0.54946972  0.3241337   0.07597367  0.83820319\n",
      "  0.10155246 -0.36653925  1.40872521  0.64009729  0.6538824  -0.54946972\n",
      " -1.45851747 -1.45851747]\n",
      "标准化后的数据：\n",
      "[ 1.28695316 -1.30113868 -1.30113868  0.5542534  -0.25717394  0.32795613\n",
      " -0.40701555  0.11452347  1.66614577  1.18694942  0.84528347 -0.11332061\n",
      " -1.30113868 -1.30113868]\n",
      "标准化后的数据：\n",
      "[ 1.65439753 -1.13355533 -1.13355533  0.59521336 -0.10079216  0.70936736\n",
      " -1.13355533  0.00218347  1.50131764  0.86898454  0.87656705 -0.43946214\n",
      " -1.13355533 -1.13355533]\n",
      "标准化后的数据：\n",
      "[ 1.32955659 -1.55640082 -1.55640082  0.46323844 -0.03171744  0.635292\n",
      " -0.03171744  0.03158164  1.55052263  0.87450252  0.8301611  -0.53303317\n",
      " -0.44918441 -1.55640082]\n",
      "标准化后的数据：\n",
      "[ 1.43333737 -1.02661554 -1.02661554  0.87477039  0.37981976  0.59476227\n",
      " -0.10554243  0.1215822   1.77703688 -1.02661554  1.08392678 -1.02661554\n",
      " -1.02661554 -1.02661554]\n",
      "标准化后的数据：\n",
      "[ 1.49493236  0.1136672  -1.43454019  0.39494389 -0.24722708  0.09082236\n",
      " -0.64216432 -0.13798228  1.77171032  1.00042508  0.81280269 -0.34830963\n",
      " -1.43454019 -1.43454019]\n",
      "标准化后的数据：\n",
      "[ 1.89537711  0.62226802 -0.76696141  0.05290387  0.21174     0.91100706\n",
      " -1.19036897 -0.10100806  1.25119022  1.07608523 -1.19036897 -0.39112618\n",
      " -1.19036897 -1.19036897]\n",
      "标准化后的数据：\n",
      "[ 1.34630616 -1.33556344 -0.45351781  0.52185196  0.13451262  0.63344688\n",
      " -1.33556344 -0.0492353   1.7331415   0.85762292  0.64254751 -0.02442271\n",
      " -1.33556344 -1.33556344]\n",
      "标准化后的数据：\n",
      "[ 1.3817343  -0.91960534 -0.91960534 -0.91960534  0.34272779  0.79488947\n",
      " -0.91960534  0.4142573   1.84844902 -0.91960534  1.30904499  0.34613454\n",
      " -0.91960534 -0.91960534]\n",
      "标准化后的数据：\n",
      "[ 1.80889639  0.66426047 -1.00256436  0.3184151  -1.00256436  0.41699985\n",
      " -1.00256436  0.21046214  1.65155993  1.08977053 -0.14497824 -1.00256436\n",
      " -1.00256436 -1.00256436]\n",
      "标准化后的数据：\n",
      "[ 1.58018432 -0.91606495 -0.91606495  0.37516935 -0.91606495  0.53595946\n",
      " -0.91606495  0.21370611  1.71167343  1.33975735  0.6560046  -0.91606495\n",
      " -0.91606495 -0.91606495]\n",
      "标准化后的数据：\n",
      "[ 1.59169521 -0.80721922 -0.80721922  0.48950302 -0.80721922  0.67879395\n",
      " -0.80721922  0.44430523  1.80479099  1.44866535 -0.80721922 -0.80721922\n",
      " -0.80721922 -0.80721922]\n",
      "标准化后的数据：\n",
      "[ 1.42431485 -1.49037697 -0.54998148  0.47330917 -0.17950905  0.47707031\n",
      " -0.14220223  0.42546968  1.53785415  0.81874453  0.88909662 -0.70303565\n",
      " -1.49037697 -1.49037697]\n"
     ]
    },
    {
     "name": "stderr",
     "output_type": "stream",
     "text": [
      "C:\\Users\\Asus\\AppData\\Local\\Temp\\ipykernel_29544\\1127316780.py:2: RuntimeWarning: divide by zero encountered in log\n",
      "  log_data = np.log(list(df1.iloc[i].values[1:-1].astype(float)))\n",
      "C:\\Users\\Asus\\AppData\\Local\\Temp\\ipykernel_29544\\1127316780.py:4: RuntimeWarning: invalid value encountered in subtract\n",
      "  centered_log_data = log_data - mean_log_data\n"
     ]
    }
   ],
   "source": [
    "for i in range(69):\n",
    "    log_data = np.log(list(df1.iloc[i].values[1:-1].astype(float)))\n",
    "    mean_log_data = np.mean(log_data, axis=0)\n",
    "    centered_log_data = log_data - mean_log_data\n",
    "    var_log_data = np.var(centered_log_data, axis=0)\n",
    "    normalized_log_data = centered_log_data / np.sqrt(var_log_data)\n",
    "    print(\"标准化后的数据：\")\n",
    "    print(normalized_log_data)"
   ],
   "metadata": {
    "collapsed": false,
    "ExecuteTime": {
     "end_time": "2024-07-31T05:37:09.375983600Z",
     "start_time": "2024-07-31T05:37:09.367457100Z"
    }
   },
   "id": "1ccffeb80e620d22"
  },
  {
   "cell_type": "code",
   "execution_count": 79,
   "outputs": [],
   "source": [
    "a = list(df1.iloc[0].values[1:-1].astype(float))"
   ],
   "metadata": {
    "collapsed": false,
    "ExecuteTime": {
     "end_time": "2024-07-31T05:35:56.487008800Z",
     "start_time": "2024-07-31T05:35:56.466279900Z"
    }
   },
   "id": "b786cc6c3ddd098b"
  },
  {
   "cell_type": "code",
   "execution_count": 82,
   "outputs": [
    {
     "data": {
      "text/plain": "-0.38273467305716896"
     },
     "execution_count": 82,
     "metadata": {},
     "output_type": "execute_result"
    }
   ],
   "source": [
    "np.mean(np.log(a))"
   ],
   "metadata": {
    "collapsed": false,
    "ExecuteTime": {
     "end_time": "2024-07-31T05:36:35.846758100Z",
     "start_time": "2024-07-31T05:36:35.826138500Z"
    }
   },
   "id": "38cc42c3e277d84e"
  },
  {
   "cell_type": "code",
   "execution_count": null,
   "outputs": [],
   "source": [],
   "metadata": {
    "collapsed": false
   },
   "id": "d6a6bd616fd508d8"
  }
 ],
 "metadata": {
  "kernelspec": {
   "display_name": "Python 3",
   "language": "python",
   "name": "python3"
  },
  "language_info": {
   "codemirror_mode": {
    "name": "ipython",
    "version": 2
   },
   "file_extension": ".py",
   "mimetype": "text/x-python",
   "name": "python",
   "nbconvert_exporter": "python",
   "pygments_lexer": "ipython2",
   "version": "2.7.6"
  }
 },
 "nbformat": 4,
 "nbformat_minor": 5
}
