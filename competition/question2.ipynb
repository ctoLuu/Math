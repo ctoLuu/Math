{
 "cells": [
  {
   "cell_type": "code",
   "execution_count": 20,
   "id": "initial_id",
   "metadata": {
    "collapsed": true,
    "ExecuteTime": {
     "end_time": "2024-05-31T06:35:23.103210700Z",
     "start_time": "2024-05-31T06:35:23.080489600Z"
    }
   },
   "outputs": [],
   "source": [
    "import pandas as pd\n",
    "import numpy as np"
   ]
  },
  {
   "cell_type": "code",
   "execution_count": 30,
   "outputs": [
    {
     "data": {
      "text/plain": "  Unnamed: 0  墨盒1  墨盒2  墨盒3  墨盒4  墨盒5  墨盒6  墨盒7  墨盒8  墨盒9  墨盒10\n0        墨盒1    0   10    3   15    9   10   10    3    7     8\n1        墨盒2   12    0   10   16    4   17   16   15   19     9\n2        墨盒3   12    9    0   15   10    7    8   15    9     9\n3        墨盒4   12    9    8    0   11   15    8   12   12    14\n4        墨盒5    8    7   11   23    0   18   18   11   15    16\n5        墨盒6    5    2    8    9    4    0    1    8    5     2\n6        墨盒7    4    1    7   14    3   14    0    7    4     7\n7        墨盒8   10    7   13   14    6   18   18    0    4     7\n8        墨盒9   10    9   13   10    2   14   14    9    0     3\n9       墨盒10   17   14   15    7   13   12   13   17   14     0",
      "text/html": "<div>\n<style scoped>\n    .dataframe tbody tr th:only-of-type {\n        vertical-align: middle;\n    }\n\n    .dataframe tbody tr th {\n        vertical-align: top;\n    }\n\n    .dataframe thead th {\n        text-align: right;\n    }\n</style>\n<table border=\"1\" class=\"dataframe\">\n  <thead>\n    <tr style=\"text-align: right;\">\n      <th></th>\n      <th>Unnamed: 0</th>\n      <th>墨盒1</th>\n      <th>墨盒2</th>\n      <th>墨盒3</th>\n      <th>墨盒4</th>\n      <th>墨盒5</th>\n      <th>墨盒6</th>\n      <th>墨盒7</th>\n      <th>墨盒8</th>\n      <th>墨盒9</th>\n      <th>墨盒10</th>\n    </tr>\n  </thead>\n  <tbody>\n    <tr>\n      <th>0</th>\n      <td>墨盒1</td>\n      <td>0</td>\n      <td>10</td>\n      <td>3</td>\n      <td>15</td>\n      <td>9</td>\n      <td>10</td>\n      <td>10</td>\n      <td>3</td>\n      <td>7</td>\n      <td>8</td>\n    </tr>\n    <tr>\n      <th>1</th>\n      <td>墨盒2</td>\n      <td>12</td>\n      <td>0</td>\n      <td>10</td>\n      <td>16</td>\n      <td>4</td>\n      <td>17</td>\n      <td>16</td>\n      <td>15</td>\n      <td>19</td>\n      <td>9</td>\n    </tr>\n    <tr>\n      <th>2</th>\n      <td>墨盒3</td>\n      <td>12</td>\n      <td>9</td>\n      <td>0</td>\n      <td>15</td>\n      <td>10</td>\n      <td>7</td>\n      <td>8</td>\n      <td>15</td>\n      <td>9</td>\n      <td>9</td>\n    </tr>\n    <tr>\n      <th>3</th>\n      <td>墨盒4</td>\n      <td>12</td>\n      <td>9</td>\n      <td>8</td>\n      <td>0</td>\n      <td>11</td>\n      <td>15</td>\n      <td>8</td>\n      <td>12</td>\n      <td>12</td>\n      <td>14</td>\n    </tr>\n    <tr>\n      <th>4</th>\n      <td>墨盒5</td>\n      <td>8</td>\n      <td>7</td>\n      <td>11</td>\n      <td>23</td>\n      <td>0</td>\n      <td>18</td>\n      <td>18</td>\n      <td>11</td>\n      <td>15</td>\n      <td>16</td>\n    </tr>\n    <tr>\n      <th>5</th>\n      <td>墨盒6</td>\n      <td>5</td>\n      <td>2</td>\n      <td>8</td>\n      <td>9</td>\n      <td>4</td>\n      <td>0</td>\n      <td>1</td>\n      <td>8</td>\n      <td>5</td>\n      <td>2</td>\n    </tr>\n    <tr>\n      <th>6</th>\n      <td>墨盒7</td>\n      <td>4</td>\n      <td>1</td>\n      <td>7</td>\n      <td>14</td>\n      <td>3</td>\n      <td>14</td>\n      <td>0</td>\n      <td>7</td>\n      <td>4</td>\n      <td>7</td>\n    </tr>\n    <tr>\n      <th>7</th>\n      <td>墨盒8</td>\n      <td>10</td>\n      <td>7</td>\n      <td>13</td>\n      <td>14</td>\n      <td>6</td>\n      <td>18</td>\n      <td>18</td>\n      <td>0</td>\n      <td>4</td>\n      <td>7</td>\n    </tr>\n    <tr>\n      <th>8</th>\n      <td>墨盒9</td>\n      <td>10</td>\n      <td>9</td>\n      <td>13</td>\n      <td>10</td>\n      <td>2</td>\n      <td>14</td>\n      <td>14</td>\n      <td>9</td>\n      <td>0</td>\n      <td>3</td>\n    </tr>\n    <tr>\n      <th>9</th>\n      <td>墨盒10</td>\n      <td>17</td>\n      <td>14</td>\n      <td>15</td>\n      <td>7</td>\n      <td>13</td>\n      <td>12</td>\n      <td>13</td>\n      <td>17</td>\n      <td>14</td>\n      <td>0</td>\n    </tr>\n  </tbody>\n</table>\n</div>"
     },
     "execution_count": 30,
     "metadata": {},
     "output_type": "execute_result"
    }
   ],
   "source": [
    "df = pd.read_excel('.\\附件2\\Ins1_5_10_3.xlsx', sheet_name=2)\n",
    "df"
   ],
   "metadata": {
    "collapsed": false,
    "ExecuteTime": {
     "end_time": "2024-05-31T07:02:01.814155700Z",
     "start_time": "2024-05-31T07:02:01.772117200Z"
    }
   },
   "id": "85c0c7b399529ea0"
  },
  {
   "cell_type": "code",
   "execution_count": 31,
   "outputs": [],
   "source": [
    "df.drop(columns=['Unnamed: 0'], inplace=True)"
   ],
   "metadata": {
    "collapsed": false,
    "ExecuteTime": {
     "end_time": "2024-05-31T07:02:02.246505700Z",
     "start_time": "2024-05-31T07:02:02.236004500Z"
    }
   },
   "id": "78fa4275279cc2f6"
  },
  {
   "cell_type": "code",
   "execution_count": 32,
   "outputs": [
    {
     "name": "stdout",
     "output_type": "stream",
     "text": [
      "0\n"
     ]
    }
   ],
   "source": [
    "array = df.values\n",
    "array = np.array(array)\n",
    "count = 0\n",
    "for i in range(array.shape[0]):           # 确定条件保证 墨盒i->墨盒j->墨盒k > 墨盒i->墨盒k\n",
    "    for j in range(array.shape[1]):\n",
    "        for k in range(array.shape[0]):\n",
    "            if array[i][j] > array[i][k] + array[k][j]:\n",
    "                count += 1\n",
    "print(count)"
   ],
   "metadata": {
    "collapsed": false,
    "ExecuteTime": {
     "end_time": "2024-05-31T07:02:05.181793100Z",
     "start_time": "2024-05-31T07:02:05.172597700Z"
    }
   },
   "id": "98e484c083b2a0e4"
  },
  {
   "cell_type": "code",
   "execution_count": 33,
   "outputs": [
    {
     "data": {
      "text/plain": "10"
     },
     "execution_count": 33,
     "metadata": {},
     "output_type": "execute_result"
    }
   ],
   "source": [
    "array.shape[0]"
   ],
   "metadata": {
    "collapsed": false,
    "ExecuteTime": {
     "end_time": "2024-05-31T07:02:05.731886100Z",
     "start_time": "2024-05-31T07:02:05.724652Z"
    }
   },
   "id": "90cbf3a9f4c2dceb"
  },
  {
   "cell_type": "code",
   "execution_count": 35,
   "outputs": [
    {
     "data": {
      "text/plain": "array([0, 1])"
     },
     "execution_count": 35,
     "metadata": {},
     "output_type": "execute_result"
    }
   ],
   "source": [
    "a = np.array([0, 1])\n",
    "a"
   ],
   "metadata": {
    "collapsed": false,
    "ExecuteTime": {
     "end_time": "2024-05-31T11:09:58.563558Z",
     "start_time": "2024-05-31T11:09:58.550264800Z"
    }
   },
   "id": "5e40356e835b310"
  },
  {
   "cell_type": "code",
   "execution_count": 36,
   "outputs": [
    {
     "data": {
      "text/plain": "1"
     },
     "execution_count": 36,
     "metadata": {},
     "output_type": "execute_result"
    }
   ],
   "source": [
    "list = [1, 2, 3]\n",
    "list[a[0]]"
   ],
   "metadata": {
    "collapsed": false,
    "ExecuteTime": {
     "end_time": "2024-05-31T11:10:19.159608600Z",
     "start_time": "2024-05-31T11:10:19.153600300Z"
    }
   },
   "id": "514cd4ba01baf983"
  },
  {
   "cell_type": "code",
   "execution_count": 40,
   "outputs": [],
   "source": [
    "list = np.array(range(27)).reshape(3, 3, 3)"
   ],
   "metadata": {
    "collapsed": false,
    "ExecuteTime": {
     "end_time": "2024-05-31T11:14:34.645506400Z",
     "start_time": "2024-05-31T11:14:34.635520500Z"
    }
   },
   "id": "e815b7ec887c42fc"
  },
  {
   "cell_type": "code",
   "execution_count": 41,
   "outputs": [
    {
     "data": {
      "text/plain": "array([[[ 0,  1,  2],\n        [ 3,  4,  5],\n        [ 6,  7,  8]],\n\n       [[ 9, 10, 11],\n        [12, 13, 14],\n        [15, 16, 17]],\n\n       [[18, 19, 20],\n        [21, 22, 23],\n        [24, 25, 26]]])"
     },
     "execution_count": 41,
     "metadata": {},
     "output_type": "execute_result"
    }
   ],
   "source": [
    "list"
   ],
   "metadata": {
    "collapsed": false,
    "ExecuteTime": {
     "end_time": "2024-05-31T11:14:35.941942100Z",
     "start_time": "2024-05-31T11:14:35.935403700Z"
    }
   },
   "id": "ae7ee8cc4dead34"
  },
  {
   "cell_type": "code",
   "execution_count": 42,
   "outputs": [
    {
     "data": {
      "text/plain": "0"
     },
     "execution_count": 42,
     "metadata": {},
     "output_type": "execute_result"
    }
   ],
   "source": [
    "list[0, 0, 0]"
   ],
   "metadata": {
    "collapsed": false,
    "ExecuteTime": {
     "end_time": "2024-05-31T11:20:32.653216Z",
     "start_time": "2024-05-31T11:20:32.647548400Z"
    }
   },
   "id": "b1394e7b5eff376c"
  },
  {
   "cell_type": "code",
   "execution_count": 43,
   "outputs": [
    {
     "data": {
      "text/plain": "array([[[ 0,  1,  2],\n        [ 3,  4,  5],\n        [ 6,  7,  8]],\n\n       [[ 9, 10, 11],\n        [12, 13, 14],\n        [15, 16, 17]],\n\n       [[18, 19, 20],\n        [21, 22, 23],\n        [24, 25, 26]]])"
     },
     "execution_count": 43,
     "metadata": {},
     "output_type": "execute_result"
    }
   ],
   "source": [
    "list"
   ],
   "metadata": {
    "collapsed": false,
    "ExecuteTime": {
     "end_time": "2024-05-31T12:15:41.643165700Z",
     "start_time": "2024-05-31T12:15:41.635652600Z"
    }
   },
   "id": "716e286d5bded6a2"
  },
  {
   "cell_type": "code",
   "execution_count": 44,
   "outputs": [
    {
     "data": {
      "text/plain": "array([[[ 0,  1,  2],\n        [ 3,  4,  5],\n        [ 6,  7,  8]],\n\n       [[ 9, 10, 11],\n        [12, 13, 14],\n        [15, 16, 17]]])"
     },
     "execution_count": 44,
     "metadata": {},
     "output_type": "execute_result"
    }
   ],
   "source": [
    "list[[0, 1], :]"
   ],
   "metadata": {
    "collapsed": false,
    "ExecuteTime": {
     "end_time": "2024-05-31T12:16:12.402946400Z",
     "start_time": "2024-05-31T12:16:12.395990400Z"
    }
   },
   "id": "2388f131e6460c51"
  },
  {
   "cell_type": "code",
   "execution_count": 45,
   "outputs": [
    {
     "data": {
      "text/plain": "array([[[ 0,  1,  2],\n        [ 3,  4,  5],\n        [ 6,  7,  8]],\n\n       [[ 9, 10, 11],\n        [12, 13, 14],\n        [15, 16, 17]]])"
     },
     "execution_count": 45,
     "metadata": {},
     "output_type": "execute_result"
    }
   ],
   "source": [
    "list[[0,1]]"
   ],
   "metadata": {
    "collapsed": false,
    "ExecuteTime": {
     "end_time": "2024-05-31T12:49:55.440012Z",
     "start_time": "2024-05-31T12:49:55.431088Z"
    }
   },
   "id": "6ef3beb4571e7102"
  },
  {
   "cell_type": "code",
   "execution_count": 46,
   "outputs": [],
   "source": [
    "list = [1, 2, 3]\n",
    "a = list.pop()"
   ],
   "metadata": {
    "collapsed": false,
    "ExecuteTime": {
     "end_time": "2024-05-31T13:11:46.567905Z",
     "start_time": "2024-05-31T13:11:46.559469400Z"
    }
   },
   "id": "58f0c2220c95b5e9"
  },
  {
   "cell_type": "code",
   "execution_count": 47,
   "outputs": [
    {
     "data": {
      "text/plain": "3"
     },
     "execution_count": 47,
     "metadata": {},
     "output_type": "execute_result"
    }
   ],
   "source": [
    "a"
   ],
   "metadata": {
    "collapsed": false,
    "ExecuteTime": {
     "end_time": "2024-05-31T13:11:47.934617900Z",
     "start_time": "2024-05-31T13:11:47.908796Z"
    }
   },
   "id": "9c7faae7b6bf2214"
  },
  {
   "cell_type": "code",
   "execution_count": 4,
   "outputs": [],
   "source": [
    "import random\n",
    "import numpy as np"
   ],
   "metadata": {
    "collapsed": false,
    "ExecuteTime": {
     "end_time": "2024-06-01T09:10:46.303802800Z",
     "start_time": "2024-06-01T09:10:46.228162100Z"
    }
   },
   "id": "6671672d3ee7cc7d"
  },
  {
   "cell_type": "code",
   "execution_count": 113,
   "outputs": [
    {
     "data": {
      "text/plain": "3"
     },
     "execution_count": 113,
     "metadata": {},
     "output_type": "execute_result"
    }
   ],
   "source": [
    "a = np.random.randint(5)\n",
    "a"
   ],
   "metadata": {
    "collapsed": false,
    "ExecuteTime": {
     "end_time": "2024-06-01T05:04:43.575384Z",
     "start_time": "2024-06-01T05:04:43.570461100Z"
    }
   },
   "id": "b7b13bc0b34867ac"
  },
  {
   "cell_type": "code",
   "execution_count": 2,
   "outputs": [
    {
     "data": {
      "text/plain": "2"
     },
     "execution_count": 2,
     "metadata": {},
     "output_type": "execute_result"
    }
   ],
   "source": [
    "a"
   ],
   "metadata": {
    "collapsed": false,
    "ExecuteTime": {
     "end_time": "2024-05-31T18:03:01.066598700Z",
     "start_time": "2024-05-31T18:03:01.042871200Z"
    }
   },
   "id": "bfaed430bf87b0b9"
  },
  {
   "cell_type": "code",
   "execution_count": 116,
   "outputs": [],
   "source": [
    "list = np.array([1, 2, 3, 4])\n",
    "list[[1, 2]] = list[[2, 1]]"
   ],
   "metadata": {
    "collapsed": false,
    "ExecuteTime": {
     "end_time": "2024-06-01T06:57:58.975367400Z",
     "start_time": "2024-06-01T06:57:58.965213300Z"
    }
   },
   "id": "297efcb3574ca913"
  },
  {
   "cell_type": "code",
   "execution_count": 118,
   "outputs": [],
   "source": [
    "list = np.array([[1, 2, 3], [2, 3, 4]])"
   ],
   "metadata": {
    "collapsed": false,
    "ExecuteTime": {
     "end_time": "2024-06-01T07:23:55.993797600Z",
     "start_time": "2024-06-01T07:23:55.981182100Z"
    }
   },
   "id": "23d6647ca7cf4adb"
  },
  {
   "cell_type": "code",
   "execution_count": 119,
   "outputs": [
    {
     "data": {
      "text/plain": "array([[1, 2, 3],\n       [2, 3, 4]])"
     },
     "execution_count": 119,
     "metadata": {},
     "output_type": "execute_result"
    }
   ],
   "source": [
    "list"
   ],
   "metadata": {
    "collapsed": false,
    "ExecuteTime": {
     "end_time": "2024-06-01T07:23:58.275642Z",
     "start_time": "2024-06-01T07:23:58.265598300Z"
    }
   },
   "id": "2b342d59d8b88c22"
  },
  {
   "cell_type": "code",
   "execution_count": 120,
   "outputs": [],
   "source": [
    "a = [4, 5, 6]"
   ],
   "metadata": {
    "collapsed": false,
    "ExecuteTime": {
     "end_time": "2024-06-01T07:24:25.061805400Z",
     "start_time": "2024-06-01T07:24:25.054831300Z"
    }
   },
   "id": "3142a9c188d4bdbf"
  },
  {
   "cell_type": "code",
   "execution_count": 121,
   "outputs": [],
   "source": [
    "list[0] = a"
   ],
   "metadata": {
    "collapsed": false,
    "ExecuteTime": {
     "end_time": "2024-06-01T07:24:31.932296800Z",
     "start_time": "2024-06-01T07:24:31.921193100Z"
    }
   },
   "id": "514089ad031e2f2e"
  },
  {
   "cell_type": "code",
   "execution_count": 122,
   "outputs": [
    {
     "data": {
      "text/plain": "array([[4, 5, 6],\n       [2, 3, 4]])"
     },
     "execution_count": 122,
     "metadata": {},
     "output_type": "execute_result"
    }
   ],
   "source": [
    "list"
   ],
   "metadata": {
    "collapsed": false,
    "ExecuteTime": {
     "end_time": "2024-06-01T07:24:34.946235800Z",
     "start_time": "2024-06-01T07:24:34.937585200Z"
    }
   },
   "id": "7de8eb8f5a2de3ac"
  },
  {
   "cell_type": "code",
   "execution_count": 1,
   "outputs": [
    {
     "name": "stdout",
     "output_type": "stream",
     "text": [
      "0\n"
     ]
    }
   ],
   "source": [
    "for i in range(1):\n",
    "    print(i)"
   ],
   "metadata": {
    "collapsed": false,
    "ExecuteTime": {
     "end_time": "2024-06-01T08:40:01.110510900Z",
     "start_time": "2024-06-01T08:40:01.104897900Z"
    }
   },
   "id": "da3ee390f1317bae"
  },
  {
   "cell_type": "code",
   "execution_count": 29,
   "outputs": [
    {
     "data": {
      "text/plain": "array([[[ 3,  4,  5],\n        [ 0,  1,  2],\n        [ 6,  7,  8]],\n\n       [[ 9, 10, 11],\n        [12, 13, 14],\n        [15, 16, 17]],\n\n       [[18, 19, 20],\n        [21, 22, 23],\n        [24, 25, 26]]])"
     },
     "execution_count": 29,
     "metadata": {},
     "output_type": "execute_result"
    }
   ],
   "source": [
    "list = np.array(range(27)).reshape(3, 3, 3)\n",
    "np.random.shuffle(list[0])\n",
    "list"
   ],
   "metadata": {
    "collapsed": false,
    "ExecuteTime": {
     "end_time": "2024-06-01T11:11:25.547563300Z",
     "start_time": "2024-06-01T11:11:25.535764700Z"
    }
   },
   "id": "7b6874654f6650bc"
  },
  {
   "cell_type": "code",
   "execution_count": 30,
   "outputs": [],
   "source": [
    "list[0,[0, 1]] = list[0, [1, 0]]"
   ],
   "metadata": {
    "collapsed": false,
    "ExecuteTime": {
     "end_time": "2024-06-01T11:45:07.424555600Z",
     "start_time": "2024-06-01T11:45:07.416012Z"
    }
   },
   "id": "93a010c5c3abed4"
  },
  {
   "cell_type": "code",
   "execution_count": 31,
   "outputs": [
    {
     "data": {
      "text/plain": "array([[[ 0,  1,  2],\n        [ 3,  4,  5],\n        [ 6,  7,  8]],\n\n       [[ 9, 10, 11],\n        [12, 13, 14],\n        [15, 16, 17]],\n\n       [[18, 19, 20],\n        [21, 22, 23],\n        [24, 25, 26]]])"
     },
     "execution_count": 31,
     "metadata": {},
     "output_type": "execute_result"
    }
   ],
   "source": [
    "list"
   ],
   "metadata": {
    "collapsed": false,
    "ExecuteTime": {
     "end_time": "2024-06-01T11:45:09.317155300Z",
     "start_time": "2024-06-01T11:45:09.307207500Z"
    }
   },
   "id": "6bd630b317e1d3f3"
  },
  {
   "cell_type": "code",
   "execution_count": 2,
   "outputs": [
    {
     "data": {
      "text/plain": "3"
     },
     "execution_count": 2,
     "metadata": {},
     "output_type": "execute_result"
    }
   ],
   "source": [
    "x = [1, 2, 3]\n",
    "a = x.pop()\n",
    "a"
   ],
   "metadata": {
    "collapsed": false,
    "ExecuteTime": {
     "end_time": "2024-06-03T04:10:38.544301300Z",
     "start_time": "2024-06-03T04:10:38.428450100Z"
    }
   },
   "id": "240d7e5ab35b356b"
  },
  {
   "cell_type": "code",
   "execution_count": 3,
   "outputs": [
    {
     "data": {
      "text/plain": "[1, 2]"
     },
     "execution_count": 3,
     "metadata": {},
     "output_type": "execute_result"
    }
   ],
   "source": [
    "x"
   ],
   "metadata": {
    "collapsed": false,
    "ExecuteTime": {
     "end_time": "2024-06-03T04:10:41.694415600Z",
     "start_time": "2024-06-03T04:10:41.607709400Z"
    }
   },
   "id": "3718e0bf59750fce"
  },
  {
   "cell_type": "code",
   "execution_count": null,
   "outputs": [],
   "source": [],
   "metadata": {
    "collapsed": false
   },
   "id": "e1f6c72b06913563"
  }
 ],
 "metadata": {
  "kernelspec": {
   "display_name": "Python 3",
   "language": "python",
   "name": "python3"
  },
  "language_info": {
   "codemirror_mode": {
    "name": "ipython",
    "version": 2
   },
   "file_extension": ".py",
   "mimetype": "text/x-python",
   "name": "python",
   "nbconvert_exporter": "python",
   "pygments_lexer": "ipython2",
   "version": "2.7.6"
  }
 },
 "nbformat": 4,
 "nbformat_minor": 5
}
