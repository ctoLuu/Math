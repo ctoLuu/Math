{
 "cells": [
  {
   "cell_type": "code",
   "execution_count": 1,
   "id": "64e81cce-1f2e-42d1-bbdb-566a56845e7a",
   "metadata": {
    "tags": []
   },
   "outputs": [],
   "source": [
    "import pandas as pd"
   ]
  },
  {
   "cell_type": "code",
   "execution_count": 2,
   "id": "cc2b5c98-9375-401f-8146-b684b23930aa",
   "metadata": {
    "tags": []
   },
   "outputs": [
    {
     "data": {
      "text/html": [
       "<div>\n",
       "<style scoped>\n",
       "    .dataframe tbody tr th:only-of-type {\n",
       "        vertical-align: middle;\n",
       "    }\n",
       "\n",
       "    .dataframe tbody tr th {\n",
       "        vertical-align: top;\n",
       "    }\n",
       "\n",
       "    .dataframe thead th {\n",
       "        text-align: right;\n",
       "    }\n",
       "</style>\n",
       "<table border=\"1\" class=\"dataframe\">\n",
       "  <thead>\n",
       "    <tr style=\"text-align: right;\">\n",
       "      <th></th>\n",
       "      <th>包装种类编号</th>\n",
       "      <th>所需墨盒编号</th>\n",
       "    </tr>\n",
       "  </thead>\n",
       "  <tbody>\n",
       "    <tr>\n",
       "      <th>0</th>\n",
       "      <td>1</td>\n",
       "      <td>[7, 5]</td>\n",
       "    </tr>\n",
       "    <tr>\n",
       "      <th>1</th>\n",
       "      <td>2</td>\n",
       "      <td>[2, 5]</td>\n",
       "    </tr>\n",
       "    <tr>\n",
       "      <th>2</th>\n",
       "      <td>3</td>\n",
       "      <td>[4, 2]</td>\n",
       "    </tr>\n",
       "    <tr>\n",
       "      <th>3</th>\n",
       "      <td>4</td>\n",
       "      <td>[8]</td>\n",
       "    </tr>\n",
       "    <tr>\n",
       "      <th>4</th>\n",
       "      <td>5</td>\n",
       "      <td>[7, 3]</td>\n",
       "    </tr>\n",
       "  </tbody>\n",
       "</table>\n",
       "</div>"
      ],
      "text/plain": [
       "   包装种类编号  所需墨盒编号\n",
       "0       1  [7, 5]\n",
       "1       2  [2, 5]\n",
       "2       3  [4, 2]\n",
       "3       4     [8]\n",
       "4       5  [7, 3]"
      ]
     },
     "execution_count": 2,
     "metadata": {},
     "output_type": "execute_result"
    }
   ],
   "source": [
    "df1 = pd.read_excel('./附件1/Ins1_5_10_2.xlsx', sheet_name=1)\n",
    "df1"
   ]
  },
  {
   "cell_type": "code",
   "execution_count": 3,
   "id": "32fd0584-6ab9-4b68-a296-731798a0e5b8",
   "metadata": {
    "tags": []
   },
   "outputs": [
    {
     "name": "stdout",
     "output_type": "stream",
     "text": [
      "[[7, 5], [2, 5], [4, 2], [8], [7, 3]]\n"
     ]
    }
   ],
   "source": [
    "lists = []\n",
    "df1['所需墨盒编号'] = df1['所需墨盒编号'].apply(lambda x: eval(x))\n",
    "for index, row in df1.iterrows():\n",
    "    lists.append(row['所需墨盒编号'])\n",
    "print(lists)"
   ]
  },
  {
   "cell_type": "code",
   "execution_count": 9,
   "id": "1c4e1694-bd5e-48ef-8199-73b89bcb2dec",
   "metadata": {
    "tags": []
   },
   "outputs": [
    {
     "name": "stdout",
     "output_type": "stream",
     "text": [
      "0\n"
     ]
    }
   ],
   "source": [
    "slot_count = 2\n",
    "slot_number = []\n",
    "leave_position = 0\n",
    "change_count = 0\n",
    "if len(lists[0]) < slot_count:\n",
    "    leave_position = slot_count - len(list)\n",
    "    for number in list:\n",
    "        slot_number.append(number)\n",
    "for index, list in enumerate(lists):\n",
    "    different = []\n",
    "    equal = []\n",
    "    different_num = 0\n",
    "    equal_num = 0\n",
    "    if index == 0:\n",
    "        continue\n",
    "    for number in list:\n",
    "        if number in slot_number:\n",
    "            equal.append(number)\n",
    "            equal_num += 1\n",
    "        else:\n",
    "            different.append(number)\n",
    "            different_num += 1\n",
    "    while (leave_position != 0) & (len(different) != 0):\n",
    "        x = different.pop()\n",
    "        while x in equal():\n",
    "            x = different.pop()\n",
    "        slot_num.append[x]\n",
    "        leave_position -= 1\n",
    "        different_num -= 1\n",
    "    flag = index + 1\n",
    "    if len(different) != 0:\n",
    "        while(different_num < len(slot_number) - equal_num):\n",
    "            for number in lists[flag]:\n",
    "                if number in slot_number:\n",
    "                    equal.append(number)\n",
    "                    equal_num += 1\n",
    "                else:\n",
    "                    different_num += 1\n",
    "                    if different_num >= len(slot_number) - equal_num:\n",
    "                        break\n",
    "            flag += 1\n",
    "    for slot_index, number in enumerate(slot_number):\n",
    "        if number in equal:\n",
    "            continue\n",
    "        else:\n",
    "            change_count += 1\n",
    "            x = different.pop()\n",
    "            while x in equal:\n",
    "                x = dirrerent.pop()\n",
    "            slot_number[slot_index] = x\n",
    "print(change_count)"
   ]
  },
  {
   "cell_type": "code",
   "execution_count": null,
   "id": "8bffff4d-0350-4037-8246-e8105ec899a6",
   "metadata": {
    "tags": []
   },
   "outputs": [],
   "source": [
    "for index, list in enumerate(lists):\n",
    "    print(index, list)"
   ]
  },
  {
   "cell_type": "code",
   "execution_count": null,
   "id": "7d7194ce-79fb-4e22-8dd2-d029b49ce869",
   "metadata": {
    "tags": []
   },
   "outputs": [],
   "source": [
    "a = [1, 2, 3]\n",
    "b = a.pop()"
   ]
  },
  {
   "cell_type": "code",
   "execution_count": null,
   "id": "d1c04747-3a5d-48df-8a88-22e086642e8a",
   "metadata": {
    "tags": []
   },
   "outputs": [],
   "source": [
    "b"
   ]
  },
  {
   "cell_type": "code",
   "execution_count": null,
   "id": "703d0e17-0176-408c-a7b7-a6176187ffb1",
   "metadata": {
    "tags": []
   },
   "outputs": [],
   "source": [
    "1 not in [1, 2]"
   ]
  },
  {
   "cell_type": "code",
   "execution_count": null,
   "id": "f66faf56-7f20-4107-96db-e8c0bb79ed25",
   "metadata": {},
   "outputs": [],
   "source": []
  }
 ],
 "metadata": {
  "kernelspec": {
   "display_name": "Python 3 (ipykernel)",
   "language": "python",
   "name": "python3"
  },
  "language_info": {
   "codemirror_mode": {
    "name": "ipython",
    "version": 3
   },
   "file_extension": ".py",
   "mimetype": "text/x-python",
   "name": "python",
   "nbconvert_exporter": "python",
   "pygments_lexer": "ipython3",
   "version": "3.11.7"
  }
 },
 "nbformat": 4,
 "nbformat_minor": 5
}
